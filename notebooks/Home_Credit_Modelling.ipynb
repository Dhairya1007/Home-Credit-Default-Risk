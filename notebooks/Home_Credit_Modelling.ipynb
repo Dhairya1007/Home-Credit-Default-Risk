{
  "nbformat": 4,
  "nbformat_minor": 0,
  "metadata": {
    "colab": {
      "provenance": [],
      "collapsed_sections": [
        "q3Uw17AGM7nO",
        "nw2foPw4_2D7",
        "QdpGb8a0RwoW",
        "sPwin1eKnr8U",
        "-HNDOBXH6uK6",
        "FV-Zwpp4KGxL"
      ],
      "machine_shape": "hm"
    },
    "kernelspec": {
      "display_name": "Python 3",
      "name": "python3"
    }
  },
  "cells": [
    {
      "cell_type": "markdown",
      "metadata": {
        "id": "hWXiaHVrcDy1"
      },
      "source": [
        "# Home Credit Risk : Pre-Processing, Feature Engineering and Data Modelling\n"
      ]
    },
    {
      "cell_type": "markdown",
      "metadata": {
        "id": "IxCo4n0ecLpl"
      },
      "source": [
        "The last notebook covered an in-depth EDA of the various data files for this problem.\n",
        "\n",
        "In this notebook, we will proceed on to do pre-processing on our Home credit Data. After we have the processed data, we will be creating new and improved features using the inferences we had made during our EDA.\n",
        "\n",
        "Finally, once we have the training and test data ready, we will be training various models and assess the performance of each using the AUC Score metric and also find out additional information like feature importance, the feasibility of deploying such a model, etc.\n",
        "\n",
        "So, let's get started.\n"
      ]
    },
    {
      "cell_type": "markdown",
      "metadata": {
        "id": "ozm5Pq6pcs3Y"
      },
      "source": [
        "## Importing libraries and downloading the Data"
      ]
    },
    {
      "cell_type": "code",
      "metadata": {
        "id": "Ks1AAOajbsCa"
      },
      "source": [
        "# Importing all the required libraries for the task\n",
        "import pandas as pd\n",
        "import numpy as np\n",
        "import matplotlib.pyplot as plt\n",
        "from time import time\n",
        "import gc\n",
        "from sklearn.impute import SimpleImputer\n",
        "from sklearn.preprocessing import PolynomialFeatures\n",
        "import itertools\n",
        "\n",
        "import warnings\n",
        "warnings.filterwarnings('ignore')"
      ],
      "execution_count": null,
      "outputs": []
    },
    {
      "cell_type": "code",
      "metadata": {
        "colab": {
          "base_uri": "https://localhost:8080/"
        },
        "id": "aJwCJsvQeGAt",
        "outputId": "b83eac7c-d2a3-4bb0-9132-beb67ce1f8ad"
      },
      "source": [
        "!wget --header=\"Host: storage.googleapis.com\" --header=\"User-Agent: Mozilla/5.0 (Windows NT 10.0; Win64; x64) AppleWebKit/537.36 (KHTML, like Gecko) Chrome/89.0.4389.82 Safari/537.36\" --header=\"Accept: text/html,application/xhtml+xml,application/xml;q=0.9,image/avif,image/webp,image/apng,*/*;q=0.8,application/signed-exchange;v=b3;q=0.9\" --header=\"Accept-Language: en-IN,en-GB;q=0.9,en-US;q=0.8,en;q=0.7,hi;q=0.6\" --header=\"Referer: https://www.kaggle.com/\" \"https://storage.googleapis.com/kaggle-competitions-data/kaggle-v2/9120/860599/bundle/archive.zip?GoogleAccessId=web-data@kaggle-161607.iam.gserviceaccount.com&Expires=1616213617&Signature=NJZK0lChWajtMo3H0gcwtVBQMbTvgUfdXbeGyUlSHO87MNPUZtx4%2FF4lLLpwO00M2tfsUMRoo1tiSHrZBVmEYq7OXK7Ixm6P6FZDzTcO45Vd2OfuIRnONLisTmW6KYIT5%2BC7afEecQjGeAlVm9b9K5zpQHlWVfrxqheP8Zoq7cTcR44JvT%2FSHLUTZHHRPRKnocoRoTFYm8D5MnHWAeizXZw6dZqvoi76EL0C77z1hik8QZz0%2BWZREanJl3etM10H%2FLiEZmVkoe2A6X8ReO49V0mFWHxW0VCgdEYbtrAycw%2FkzgeyIFGxgw46vFy%2FLcGvVGpo0yKHqqknweqVPKSENQ%3D%3D&response-content-disposition=attachment%3B+filename%3Dhome-credit-default-risk.zip\" -c -O 'home-credit-default-risk.zip'"
      ],
      "execution_count": null,
      "outputs": [
        {
          "output_type": "stream",
          "text": [
            "--2021-03-20 04:49:36--  https://storage.googleapis.com/kaggle-competitions-data/kaggle-v2/9120/860599/bundle/archive.zip?GoogleAccessId=web-data@kaggle-161607.iam.gserviceaccount.com&Expires=1616213617&Signature=NJZK0lChWajtMo3H0gcwtVBQMbTvgUfdXbeGyUlSHO87MNPUZtx4%2FF4lLLpwO00M2tfsUMRoo1tiSHrZBVmEYq7OXK7Ixm6P6FZDzTcO45Vd2OfuIRnONLisTmW6KYIT5%2BC7afEecQjGeAlVm9b9K5zpQHlWVfrxqheP8Zoq7cTcR44JvT%2FSHLUTZHHRPRKnocoRoTFYm8D5MnHWAeizXZw6dZqvoi76EL0C77z1hik8QZz0%2BWZREanJl3etM10H%2FLiEZmVkoe2A6X8ReO49V0mFWHxW0VCgdEYbtrAycw%2FkzgeyIFGxgw46vFy%2FLcGvVGpo0yKHqqknweqVPKSENQ%3D%3D&response-content-disposition=attachment%3B+filename%3Dhome-credit-default-risk.zip\n",
            "Resolving storage.googleapis.com (storage.googleapis.com)... 74.125.139.128, 74.125.141.128, 173.194.210.128, ...\n",
            "Connecting to storage.googleapis.com (storage.googleapis.com)|74.125.139.128|:443... connected.\n",
            "HTTP request sent, awaiting response... 400 Bad Request\n",
            "2021-03-20 04:49:36 ERROR 400: Bad Request.\n",
            "\n"
          ],
          "name": "stdout"
        }
      ]
    },
    {
      "cell_type": "code",
      "metadata": {
        "colab": {
          "base_uri": "https://localhost:8080/"
        },
        "id": "cNli0Vi5_8v7",
        "outputId": "3d5c7132-d2ef-4cd7-d89a-7b58806af45d"
      },
      "source": [
        "# Un-Zip the data\n",
        "!unzip 'home-credit-default-risk.zip' -d '/data'"
      ],
      "execution_count": null,
      "outputs": [
        {
          "output_type": "stream",
          "text": [
            "Archive:  home-credit-default-risk.zip\n",
            "  inflating: /data/HomeCredit_columns_description.csv  \n",
            "  inflating: /data/POS_CASH_balance.csv  \n",
            "  inflating: /data/application_test.csv  \n",
            "  inflating: /data/application_train.csv  \n",
            "  inflating: /data/bureau.csv        \n",
            "  inflating: /data/bureau_balance.csv  \n",
            "  inflating: /data/credit_card_balance.csv  \n",
            "  inflating: /data/installments_payments.csv  \n",
            "  inflating: /data/previous_application.csv  \n",
            "  inflating: /data/sample_submission.csv  \n"
          ],
          "name": "stdout"
        }
      ]
    },
    {
      "cell_type": "markdown",
      "metadata": {
        "id": "BHhZbKhjr_M2"
      },
      "source": [
        "## Helper Functions"
      ]
    },
    {
      "cell_type": "markdown",
      "metadata": {
        "id": "3M24i3kqsB6W"
      },
      "source": [
        "### 1. Reducing the memory Usage \n",
        "\n",
        "Reference : https://www.kaggle.com/aantonova/797-lgbm-and-bayesian-optimization\n"
      ]
    },
    {
      "cell_type": "code",
      "metadata": {
        "id": "oaoewcCisA2Q"
      },
      "source": [
        "# This function will help reduce memory usage while loading a data file into memory.\n",
        "def reduce_mem_usage(data, verbose = True):\n",
        "    start_mem = data.memory_usage().sum() / 1024**2\n",
        "    if verbose:\n",
        "        print('Memory usage of dataframe: {:.2f} MB'.format(start_mem))\n",
        "    \n",
        "    for col in data.columns:\n",
        "        col_type = data[col].dtype\n",
        "        \n",
        "        if col_type != object:\n",
        "            c_min = data[col].min()\n",
        "            c_max = data[col].max()\n",
        "            if str(col_type)[:3] == 'int':\n",
        "                if c_min > np.iinfo(np.int8).min and c_max < np.iinfo(np.int8).max:\n",
        "                    data[col] = data[col].astype(np.int8)\n",
        "                elif c_min > np.iinfo(np.int16).min and c_max < np.iinfo(np.int16).max:\n",
        "                    data[col] = data[col].astype(np.int16)\n",
        "                elif c_min > np.iinfo(np.int32).min and c_max < np.iinfo(np.int32).max:\n",
        "                    data[col] = data[col].astype(np.int32)\n",
        "                elif c_min > np.iinfo(np.int64).min and c_max < np.iinfo(np.int64).max:\n",
        "                    data[col] = data[col].astype(np.int64)  \n",
        "            else:\n",
        "                if c_min > np.finfo(np.float16).min and c_max < np.finfo(np.float16).max:\n",
        "                    data[col] = data[col].astype(np.float16)\n",
        "                elif c_min > np.finfo(np.float32).min and c_max < np.finfo(np.float32).max:\n",
        "                    data[col] = data[col].astype(np.float32)\n",
        "                else:\n",
        "                    data[col] = data[col].astype(np.float64)\n",
        "\n",
        "    end_mem = data.memory_usage().sum() / 1024**2\n",
        "    if verbose:\n",
        "        print('Memory usage after optimization: {:.2f} MB'.format(end_mem))\n",
        "        print('Decreased by {:.1f}%'.format(100 * (start_mem - end_mem) / start_mem))\n",
        "    \n",
        "    return data"
      ],
      "execution_count": null,
      "outputs": []
    },
    {
      "cell_type": "markdown",
      "metadata": {
        "id": "fFoJBZ9D1s1h"
      },
      "source": [
        "### 2. One Hot Encoding"
      ]
    },
    {
      "cell_type": "code",
      "metadata": {
        "id": "rH6TwheKsgox"
      },
      "source": [
        "def one_hot_encoder(df, nan_category = True):\n",
        "    # List of all original Columns in the dataframe\n",
        "    original_columns = list(df.columns)\n",
        "    # List of all categorical features\n",
        "    categorical_columns = list(df.select_dtypes('object').columns)\n",
        "    # Doing one-hot encoding for categorical features\n",
        "    df = pd.get_dummies(df, columns= categorical_columns, dummy_na= nan_category)\n",
        "    # Creating a list of new column names for better reference. \n",
        "    new_columns = [col for col in df.columns if col not in original_columns]\n",
        "    return df, new_columns"
      ],
      "execution_count": null,
      "outputs": []
    },
    {
      "cell_type": "markdown",
      "metadata": {
        "id": "JZ52r8av2eM3"
      },
      "source": [
        "### 3. Create Polynomial Features"
      ]
    },
    {
      "cell_type": "code",
      "metadata": {
        "id": "wHzJ6zX91ynV"
      },
      "source": [
        "# Creating some new features from the EXT_SOURCE features. \n",
        "def create_poly_features(df, degree = 3):\n",
        "  '''\n",
        "  The main aim of this function is to create polynomial features\n",
        "  for the given data frame columns. \n",
        "\n",
        "  Input :\n",
        "    1. df : The dataframe with the columns for which you want to create polynomial features.\n",
        "    2. degree : Degree of polynomials you want as features. (default : 3)\n",
        "  Output :\n",
        "    1. df : dataframe with all the polynomial features. \n",
        "  '''\n",
        "  print('Shape of the Dataframe before Polynomial Features : ',df.shape)\n",
        "  print('Featurization will be done for the following features:')\n",
        "  print(df.columns)\n",
        "  print('-'*100)\n",
        "\n",
        "  # Handling all the missing values.\n",
        "  mean_impute = SimpleImputer(missing_values=np.nan ,strategy = 'mean')\n",
        "  poly_fea = PolynomialFeatures(degree = degree)\n",
        "\n",
        "  # Performing fit on Train data\n",
        "  df_train = df[df['TARGET'].notnull()]\n",
        "  df_test = df[df['TARGET'].isnull()]\n",
        "\n",
        "  features_train = df_train.drop(columns = ['TARGET'])\n",
        "  features_test = df_test.drop(columns = ['TARGET'])\n",
        "\n",
        "  features_train = features_train.fillna(features_train.mean())\n",
        "  features_test = features_test.fillna(features_train.mean())\n",
        "\n",
        "  # Polynomial Featurization\n",
        "  print('Featurizing the data......')\n",
        "  poly_fea.fit(features_train)\n",
        "\n",
        "  poly_features_train = poly_fea.transform(features_train)\n",
        "  poly_features_test = poly_fea.transform(features_test)\n",
        "  print('Done!')\n",
        "  print('-'*100)\n",
        "  \n",
        "  poly_features = pd.DataFrame(poly_features_train, columns = poly_fea.get_feature_names(['EXT_SOURCE_1', 'EXT_SOURCE_2','EXT_SOURCE_3']))\n",
        "  poly_features_test = pd.DataFrame(poly_features_test, columns = poly_fea.get_feature_names(['EXT_SOURCE_1', 'EXT_SOURCE_2','EXT_SOURCE_3']))\n",
        "\n",
        "  merged_data = pd.concat([poly_features, poly_features_test], axis = 0, ignore_index = True)\n",
        "  print('Shape after featurization :', merged_data.shape)\n",
        "\n",
        "  return merged_data\n"
      ],
      "execution_count": null,
      "outputs": []
    },
    {
      "cell_type": "markdown",
      "metadata": {
        "id": "OFJn3aXg2mm7"
      },
      "source": [
        "### 4. Create Division based Features"
      ]
    },
    {
      "cell_type": "code",
      "metadata": {
        "id": "kCdrkpES18VQ"
      },
      "source": [
        "def create_div_features(df, div_features_list, data_file_name):\n",
        "  '''\n",
        "  This function will help us Division based features\n",
        "  from the primary features. \n",
        "\n",
        "  Input:\n",
        "    df: Dataframe all the features\n",
        "    div_features_list : list of all features you want division features for.\n",
        "    data_file_name : Name of the data file for which these features are created.\n",
        "\n",
        "  Output:\n",
        "    df : df with all the newly created features.\n",
        "  '''\n",
        "  # Now, we will move on to create the wanted features. We will create pair of all features\n",
        "  feature_pairs_div =  list(itertools.permutations(div_features_list,2))\n",
        "\n",
        "  # Creating new features\n",
        "  for f1,f2 in feature_pairs_div:\n",
        "    # new feature name\n",
        "    f_name = data_file_name + '_' + f1 + '_' + f2 + '_div' \n",
        "    df[f_name] = df[f1] / df[f2]\n",
        "\n",
        "  return df"
      ],
      "execution_count": null,
      "outputs": []
    },
    {
      "cell_type": "markdown",
      "metadata": {
        "id": "PW5igwLb2rR8"
      },
      "source": [
        "### 5. Create Subtraction Features"
      ]
    },
    {
      "cell_type": "code",
      "metadata": {
        "id": "Taiar7mI2C-a"
      },
      "source": [
        "def create_sub_features(df, sub_features_list, data_file_name):\n",
        "  '''\n",
        "  This function will help us Substraction based features\n",
        "  from the primary features. \n",
        "\n",
        "  Input:\n",
        "    df: Dataframe all the features\n",
        "    sub_features_list : list of all features you want substraction features for\n",
        "    data_file_name : Name of the data file\n",
        "\n",
        "  Output:\n",
        "    df : df with all the newly created features.\n",
        "  '''\n",
        "  # Now, we will move on to create the wanted features. We will create pair of all features\n",
        "  feature_pairs_div =  list(itertools.permutations(sub_features_list,2))\n",
        "\n",
        "  # Creating new features\n",
        "  for f1,f2 in feature_pairs_div:\n",
        "    # new feature name\n",
        "    f_name = data_file_name + '_' + f1 + '_' + f2 + '_sub' \n",
        "    df[f_name] = df[f1] - df[f2]\n",
        "\n",
        "  return df"
      ],
      "execution_count": null,
      "outputs": []
    },
    {
      "cell_type": "markdown",
      "metadata": {
        "id": "fZqvpzRgvnLK"
      },
      "source": [
        "## 1. Application_train and Application_test"
      ]
    },
    {
      "cell_type": "code",
      "metadata": {
        "colab": {
          "base_uri": "https://localhost:8080/"
        },
        "id": "VFAkk-MfvB1P",
        "outputId": "00da5780-f706-4058-af66-bd854a8d4844"
      },
      "source": [
        "# Loading the data files\n",
        "print('Loading Data Files.....')\n",
        "start = time()\n",
        "directory = '../data/'\n",
        "app_train = pd.read_csv(directory+'application_train.csv')\n",
        "app_test = pd.read_csv(directory+'application_test.csv')\n",
        "print('It took {} seconds to load the data.'.format(round(time() - start), 2))"
      ],
      "execution_count": null,
      "outputs": [
        {
          "output_type": "stream",
          "text": [
            "Loading Data Files.....\n",
            "It took 5 seconds to load the data.\n"
          ],
          "name": "stdout"
        }
      ]
    },
    {
      "cell_type": "markdown",
      "metadata": {
        "id": "_7dYIVoNwcSq"
      },
      "source": [
        "### Data Pre processing and Feature Engineering "
      ]
    },
    {
      "cell_type": "markdown",
      "metadata": {
        "id": "9ktMWeJnwgBf"
      },
      "source": [
        "In this step, we will do the following:\n",
        "\n",
        "1. Handle all the missing values in the data set.\n",
        "2. Remove outliers from data. We will do this according to the reference notebooks we refered. \n",
        "3. Remove all the columns who do not help us with our classification. \n",
        "4. Creating some new features."
      ]
    },
    {
      "cell_type": "code",
      "metadata": {
        "colab": {
          "base_uri": "https://localhost:8080/"
        },
        "id": "CllTZJvbwQGb",
        "outputId": "0161d4b5-5785-4515-b98e-fc0ca66301ef"
      },
      "source": [
        "# We will first merge the 2 data files so we have to perform these steps only once. \n",
        "merged_data = pd.concat([app_train, app_test], axis = 0, ignore_index = True)\n",
        "# Printing the shape of merged data\n",
        "print(merged_data.shape)\n",
        "# Please know that we will have null values for target of the test data. \n",
        "print('Number of null values in the TARGET column :',merged_data['TARGET'].isnull().sum())\n"
      ],
      "execution_count": null,
      "outputs": [
        {
          "output_type": "stream",
          "text": [
            "(356255, 122)\n",
            "Number of null values in the TARGET column : 48744\n"
          ],
          "name": "stdout"
        }
      ]
    },
    {
      "cell_type": "code",
      "metadata": {
        "id": "KVTgL9rjMm3_"
      },
      "source": [
        "# First, removing the XNA gender category. It only has 4 occurences. \n",
        "merged_data.drop(merged_data[merged_data['CODE_GENDER'] == 'XNA'].index, inplace = True)\n",
        "# Second, there is 'Maternity Leave' category in Income_type. We remove that.\n",
        "merged_data.drop(merged_data[merged_data['NAME_INCOME_TYPE'] == 'Maternity leave'].index, inplace = True)\n",
        "# Finally, there is a Unknown category in FAMILY_STATUS, which we do not want. \n",
        "merged_data.drop(merged_data[merged_data['NAME_FAMILY_STATUS'] == 'Unknown'].index, inplace = True)\n",
        "\n",
        "# After this, we will remove some redundant or useless data. For instance, from several discussion it is seen that most FLAG_DOCUEMENT features are not useful.\n",
        "# So, we will remove them. \n",
        "merged_data.drop(['FLAG_DOCUMENT_2', 'FLAG_DOCUMENT_10', 'FLAG_DOCUMENT_12', 'FLAG_DOCUMENT_13', 'FLAG_DOCUMENT_14', \n",
        "        'FLAG_DOCUMENT_15', 'FLAG_DOCUMENT_16', 'FLAG_DOCUMENT_17', 'FLAG_DOCUMENT_19', 'FLAG_DOCUMENT_20', \n",
        "        'FLAG_DOCUMENT_21'], axis = 1, inplace = True)\n",
        "\n",
        "# Next, we will replace some outliers from our data with NAN values.\n",
        "\n",
        "# 1. A specific value for days employed. (gives you around 1000 years, which is not possible)\n",
        "merged_data['DAYS_EMPLOYED'].replace(365243, np.nan, inplace = True)\n",
        "\n",
        "# 2. OWN_CAR_AGE is greater than 70 years will be replaced with Nan. Only 3 instances. 70 as max age of applicant is 70\n",
        "merged_data.loc[merged_data['OWN_CAR_AGE'] > 70, 'OWN_CAR_AGE'] = np.nan\n",
        "# 3. The only possible values for regoin rating are 1,2,3 according to feature description. But there is a -1 value too so we remove that.\n",
        "merged_data.loc[merged_data['REGION_RATING_CLIENT_W_CITY'] == -1, 'REGION_RATING_CLIENT_W_CITY'] = np.nan\n",
        "# 4. AMT_INCOME Total greater than 10,000,000 (10 million) is highly unlikely (to default or in general). So, replace it\n",
        "merged_data.loc[merged_data['AMT_INCOME_TOTAL'] > 1e7, 'AMT_INCOME_TOTAL'] = np.nan\n",
        "# Some more outliers based on discussions.\n",
        "merged_data.loc[merged_data['AMT_REQ_CREDIT_BUREAU_QRT'] > 10, 'AMT_REQ_CREDIT_BUREAU_QRT'] = np.nan\n",
        "merged_data.loc[merged_data['OBS_30_CNT_SOCIAL_CIRCLE'] > 40, 'OBS_30_CNT_SOCIAL_CIRCLE'] = np.nan\n",
        "\n",
        "# one hot encoding all the categorical features.\n",
        "merged_data, new_cat_columns = one_hot_encoder(merged_data, nan_category = True)"
      ],
      "execution_count": null,
      "outputs": []
    },
    {
      "cell_type": "markdown",
      "metadata": {
        "id": "6Y8HckOVappV"
      },
      "source": [
        "Now that we are done with the pre processing part, we will now move on to the most important process, <b> Feature Engineering!</b>\n",
        "\n",
        "We will focus on a lot of domain specific features we learn abour from kernels and blogs and also try to create some of our own features based on our knowledge and logic.\n",
        "\n",
        "We will focus largely on the EXT_SOURCE features as they have a high correlation to the TARGET variable. We will create Aggregate features for all these 3. "
      ]
    },
    {
      "cell_type": "code",
      "metadata": {
        "colab": {
          "base_uri": "https://localhost:8080/"
        },
        "id": "H-Rhmnxkl7Z1",
        "outputId": "0f7c76fa-147e-4b5d-df68-ad3eb9960af5"
      },
      "source": [
        "df_ext = merged_data[['EXT_SOURCE_1', 'EXT_SOURCE_2', 'EXT_SOURCE_3' , 'TARGET']]\n",
        "df_ext = create_poly_features(df_ext)\n",
        "\n",
        "# removing the primary column features from the data\n",
        "df_ext = df_ext.drop(['EXT_SOURCE_1', 'EXT_SOURCE_2', 'EXT_SOURCE_3', '1'], axis = 1)\n",
        "merged_data = pd.concat([merged_data, df_ext], axis = 1)"
      ],
      "execution_count": null,
      "outputs": [
        {
          "output_type": "stream",
          "text": [
            "Shape of the Dataframe before Polynomial Features :  (356244, 4)\n",
            "Featurization will be done for the following features:\n",
            "Index(['EXT_SOURCE_1', 'EXT_SOURCE_2', 'EXT_SOURCE_3', 'TARGET'], dtype='object')\n",
            "----------------------------------------------------------------------------------------------------\n",
            "Featurizing the data......\n",
            "Done!\n",
            "----------------------------------------------------------------------------------------------------\n",
            "Shape after featurization : (356244, 20)\n"
          ],
          "name": "stdout"
        }
      ]
    },
    {
      "cell_type": "code",
      "metadata": {
        "id": "b4GLC1__r5by"
      },
      "source": [
        "# These were some features used by the first place solution of the contest.\n",
        "merged_data['credit_downpayment'] =  merged_data['AMT_GOODS_PRICE'] - merged_data['AMT_CREDIT']\n",
        "merged_data['AGE_int'] =  pd.to_numeric((merged_data['DAYS_BIRTH'] / -365), downcast='integer')"
      ],
      "execution_count": null,
      "outputs": []
    },
    {
      "cell_type": "code",
      "metadata": {
        "colab": {
          "base_uri": "https://localhost:8080/"
        },
        "id": "7Td-eaxZttiF",
        "outputId": "bcccd03b-e908-4cd6-8bf9-0118014cafe3"
      },
      "source": [
        "# Creating Division based Features for AMT_ features of app_train/test data\n",
        "import itertools\n",
        "fea_list = ['AMT_INCOME_TOTAL','AMT_CREDIT','AMT_ANNUITY','AMT_GOODS_PRICE', 'DAYS_BIRTH', 'DAYS_EMPLOYED', 'OWN_CAR_AGE', 'EXT_SOURCE_1', 'EXT_SOURCE_2', 'EXT_SOURCE_3']\n",
        "print(merged_data.shape)\n",
        "merged_data = create_div_features(merged_data, fea_list, 'app_data')\n",
        "print('After Division Features')\n",
        "print(merged_data.shape)"
      ],
      "execution_count": null,
      "outputs": [
        {
          "output_type": "stream",
          "text": [
            "(356255, 266)\n",
            "After Division Features\n",
            "(356255, 356)\n"
          ],
          "name": "stdout"
        }
      ]
    },
    {
      "cell_type": "code",
      "metadata": {
        "colab": {
          "base_uri": "https://localhost:8080/"
        },
        "id": "Uf4sFWyjzR6a",
        "outputId": "87348fa9-200e-4a28-ee03-ba071ddd51d5"
      },
      "source": [
        "print('The final application data has {} rows and {} features.'.format(merged_data.shape[0], merged_data.shape[1]))"
      ],
      "execution_count": null,
      "outputs": [
        {
          "output_type": "stream",
          "text": [
            "The final application data has 356255 rows and 356 features.\n"
          ],
          "name": "stdout"
        }
      ]
    },
    {
      "cell_type": "markdown",
      "metadata": {
        "id": "tfHH5dk0yTls"
      },
      "source": [
        "This completes our Feature Engineering on application_train/test data! Next, we will look for some important features in Bureau Data"
      ]
    },
    {
      "cell_type": "markdown",
      "metadata": {
        "id": "qGW9r-hZWoOa"
      },
      "source": [
        "## 2. Bureau Data "
      ]
    },
    {
      "cell_type": "markdown",
      "metadata": {
        "id": "Hot-63Zn3gPA"
      },
      "source": [
        "Next, we will create features from the credit bureau data info. This information provides us with the previous loan applications of each applicant to institutions other than Home Credit, as reported to the Credit Bureau. \n",
        "\n",
        "We have 2 data sources for this:\n",
        "\n",
        "1. Bureau : This contains information about the applications. There are multiple loan applications for a single applicant, each identified by a unique SK_ID_BUREAU id. \n",
        "\n",
        "2. Bureau Balance : It contains monthly balance data about each of the previous loans.\n",
        "\n",
        "We will first load the data files are then move on to create various features. "
      ]
    },
    {
      "cell_type": "code",
      "metadata": {
        "colab": {
          "base_uri": "https://localhost:8080/"
        },
        "id": "xXt42rAu4LW4",
        "outputId": "1bde9f4b-1428-4863-d8aa-286bbe6089af"
      },
      "source": [
        "# Loading the data files\n",
        "print('Loading Data Files.....')\n",
        "start = time()\n",
        "directory = '../data/'\n",
        "bureau = reduce_mem_usage(pd.read_csv(directory+'bureau.csv'), verbose = False)\n",
        "bureau_balance = reduce_mem_usage(pd.read_csv(directory+'bureau_balance.csv'), verbose = False)\n",
        "print('It took {} seconds to load the data.'.format(round(time() - start), 2))"
      ],
      "execution_count": null,
      "outputs": [
        {
          "output_type": "stream",
          "text": [
            "Loading Data Files.....\n",
            "It took 8 seconds to load the data.\n"
          ],
          "name": "stdout"
        }
      ]
    },
    {
      "cell_type": "markdown",
      "metadata": {
        "id": "_FsoVk8U4qDT"
      },
      "source": [
        "First, we will start with the bureau data. Please note that most of the features created in this are the ideas I got from refering various discussions, kernels and blogs.\n",
        "\n",
        "But, I have tried to create my own logic by developing functions to generalize this process. For example, we will be creating mostly subtraction based features for this data, so I have created a function for this purpose. We will have some un- important features for now but e take care of them while feature selection which will only select the best features. \n",
        "\n",
        "First, we will start with a little pre processing to take care outliers and missing values from the data."
      ]
    },
    {
      "cell_type": "markdown",
      "metadata": {
        "id": "5QS3y7Ts57rg"
      },
      "source": [
        "Info about the different columns of the data:\n",
        "\n",
        "![image.png](data:image/png;base64,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)"
      ]
    },
    {
      "cell_type": "code",
      "metadata": {
        "id": "6D9Jlc7M4ZXp"
      },
      "source": [
        "# Taking care of outliers or missing values in the bureau data.\n",
        "bureau.loc[bureau['AMT_ANNUITY'] > 1e8, 'AMT_ANNUITY'] = np.nan\n",
        "bureau.loc[bureau['AMT_CREDIT_SUM'] > 1e8, 'AMT_CREDIT_SUM'] = np.nan\n",
        "bureau.loc[bureau['AMT_CREDIT_SUM_DEBT'] > 1e8, 'AMT_CREDIT_SUM_DEBT'] = np.nan\n",
        "bureau.loc[bureau['AMT_CREDIT_MAX_OVERDUE'] > .8e8, 'AMT_CREDIT_MAX_OVERDUE'] = np.nan\n",
        "bureau.loc[bureau['DAYS_ENDDATE_FACT'] < -10000, 'DAYS_ENDDATE_FACT'] = np.nan\n",
        "bureau.loc[(bureau['DAYS_CREDIT_UPDATE'] > 0) | (bureau['DAYS_CREDIT_UPDATE'] < -40000), 'DAYS_CREDIT_UPDATE'] = np.nan\n",
        "bureau.loc[bureau['DAYS_CREDIT_ENDDATE'] < -10000, 'DAYS_CREDIT_ENDDATE'] = np.nan\n",
        "\n",
        "# Lastly, we will remove all the rows where the the date for credit closing is at an earlier date compared to the application date, which is not possible.\n",
        "bureau.drop(bureau[bureau['DAYS_ENDDATE_FACT'] < bureau['DAYS_CREDIT']].index, inplace = True)\n"
      ],
      "execution_count": null,
      "outputs": []
    },
    {
      "cell_type": "markdown",
      "metadata": {
        "id": "w_KXgXAW6sf_"
      },
      "source": [
        "Next, we will create subtraction based features for our bureau dataset. "
      ]
    },
    {
      "cell_type": "code",
      "metadata": {
        "colab": {
          "base_uri": "https://localhost:8080/"
        },
        "id": "pwOJMtKL6o_c",
        "outputId": "aeee637e-7079-4e36-fc07-dbc07658a1e3"
      },
      "source": [
        "# Creating substraction based features for DAYS_ and AMT_ Columns one after the other. \n",
        "amt_features = ['AMT_CREDIT_SUM', 'AMT_CREDIT_SUM_DEBT', 'AMT_CREDIT_SUM_LIMIT', 'AMT_CREDIT_SUM_OVERDUE', 'AMT_ANNUITY', 'AMT_CREDIT_MAX_OVERDUE']\n",
        "print('-' * 100)\n",
        "print('Shape before the subtraction based features for AMT_ features : ',bureau.shape)\n",
        "bureau = create_sub_features(bureau, amt_features, 'bureau')\n",
        "print('Shape after the subtraction based features for AMT_ features : ',bureau.shape)\n",
        "\n",
        "day_features = ['DAYS_CREDIT', 'DAYS_CREDIT_ENDDATE', 'DAYS_ENDDATE_FACT', 'DAYS_CREDIT_UPDATE']\n",
        "print('-' * 100)\n",
        "print('Shape before the subtraction based features for DAYS_ features : ',bureau.shape)\n",
        "bureau = create_sub_features(bureau, day_features, 'bureau')\n",
        "print('Shape after the subtraction based features for DAYS_ features : ',bureau.shape)\n"
      ],
      "execution_count": null,
      "outputs": [
        {
          "output_type": "stream",
          "text": [
            "----------------------------------------------------------------------------------------------------\n",
            "Shape before the subtraction based features for AMT_ features :  (1716320, 17)\n",
            "Shape after the subtraction based features for AMT_ features :  (1716320, 47)\n",
            "----------------------------------------------------------------------------------------------------\n",
            "Shape before the subtraction based features for DAYS_ features :  (1716320, 47)\n",
            "Shape after the subtraction based features for DAYS_ features :  (1716320, 59)\n"
          ],
          "name": "stdout"
        }
      ]
    },
    {
      "cell_type": "markdown",
      "metadata": {
        "id": "7XsowOH28ZaV"
      },
      "source": [
        "Next, we will do one hot encoding for categorical features."
      ]
    },
    {
      "cell_type": "code",
      "metadata": {
        "colab": {
          "base_uri": "https://localhost:8080/"
        },
        "id": "34jo09z_8Xvi",
        "outputId": "a4012ed0-983b-4941-fb71-a42d2f15170b"
      },
      "source": [
        "# One hot encoding for all categorical features. The function uses pandas get_dummies logic.\n",
        "print('Shape before the one hot encoding : ',bureau.shape)\n",
        "bureau, bureau_cat_columns = one_hot_encoder(bureau, nan_category = True)\n",
        "print('Shape after the one hot encoding : ',bureau.shape)\n",
        "print('After one hot encoding, there are {} new features'.format(len(bureau_cat_columns)))"
      ],
      "execution_count": null,
      "outputs": [
        {
          "output_type": "stream",
          "text": [
            "Shape before the one hot encoding :  (1716320, 59)\n",
            "Shape after the one hot encoding :  (1716320, 82)\n",
            "After one hot encoding, there are 26 new features\n"
          ],
          "name": "stdout"
        }
      ]
    },
    {
      "cell_type": "markdown",
      "metadata": {
        "id": "7l9MzLS99SmY"
      },
      "source": [
        "This is all for the bureau data for now. We will come back to final feature engineering once we have created new features for the bureau balance data and then merged them to our bureau data by the SK_ID_CURR. \n",
        "\n",
        "Now, for the bureau balance data, we will mostly be creating aggregate features based on the SK_ID_BUREAU as we will get metrics for each loan of the applicant which will be very helpful to us.\n",
        "\n",
        "We will also create some features based on the literature survey we did.\n",
        "\n",
        "Here is what we know about this data file :\n",
        "\n",
        "It has 3 columns: SK_ID_BUREAU, MONTHS_BALANCE and STATUS. STATUS is a categorical variable giving you the status of the loan. \n",
        "\n",
        "We are interested in the following features:\n",
        "\n",
        "1. Aggregate features for monthly balance of each past loan (denoted by SK_ID_BUREAU)\n",
        "2. one hot encoding of the STATUS feature\n"
      ]
    },
    {
      "cell_type": "code",
      "metadata": {
        "id": "aWML5ZKo9J0K"
      },
      "source": [
        "# Creating Aggregate features and some features we have from our literature survey.\n",
        "\n",
        "# Feature 1 : the first status for a particular loan\n",
        "tmp = bureau_balance[['SK_ID_BUREAU', 'STATUS']].groupby('SK_ID_BUREAU')\n",
        "tmp_last = tmp.last()\n",
        "tmp_last.columns = ['First_status']\n",
        "bureau_balance = bureau_balance.join(tmp_last, how = 'left', on = 'SK_ID_BUREAU')\n",
        "\n",
        "# Feature 2 : The last status for a particular loan. \n",
        "tmp_first = tmp.first()\n",
        "tmp_first.columns = ['Last_status']\n",
        "bureau_balance = bureau_balance.join(tmp_first, how = 'left', on = 'SK_ID_BUREAU')\n",
        "\n",
        "# Deleting the variables to free up the RAM.\n",
        "del tmp, tmp_first, tmp_last"
      ],
      "execution_count": null,
      "outputs": []
    },
    {
      "cell_type": "code",
      "metadata": {
        "id": "z0EFKm5r_aWk"
      },
      "source": [
        "# one hot encoding of the categorical variables.\n",
        "bureau_balance, bureau_balance_cat = one_hot_encoder(bureau_balance, nan_category = True)\n",
        "\n",
        "# Bureau balance: Perform aggregations \n",
        "aggregations = {}\n",
        "for col in bureau_balance.columns:\n",
        "    aggregations[col] = ['mean'] if col in bureau_balance_cat else ['min', 'max', 'size', 'std', 'mean']\n",
        "    \n",
        "bureau_balance = bureau_balance.groupby('SK_ID_BUREAU').agg(aggregations)\n",
        "bureau_balance.columns = pd.Index([e[0] + \"_\" + e[1].upper() for e in bureau_balance.columns.tolist()])"
      ],
      "execution_count": null,
      "outputs": []
    },
    {
      "cell_type": "code",
      "metadata": {
        "colab": {
          "base_uri": "https://localhost:8080/"
        },
        "id": "1OXUI1cQA_fY",
        "outputId": "f2e0726e-16c3-4254-b920-f1731097e92e"
      },
      "source": [
        "# What are the number of features in bureau balance now\n",
        "print('The bureau balance data has {} features now.'.format(bureau_balance.shape[1]))"
      ],
      "execution_count": null,
      "outputs": [
        {
          "output_type": "stream",
          "text": [
            "The bureau balance data has 37 features now.\n"
          ],
          "name": "stdout"
        }
      ]
    },
    {
      "cell_type": "code",
      "metadata": {
        "id": "21ve_-MICWrg",
        "colab": {
          "base_uri": "https://localhost:8080/"
        },
        "outputId": "fb997604-4b40-4dda-e3e4-21a55c533041"
      },
      "source": [
        "# Bureau balance: merge with bureau.csv\n",
        "bureau = bureau.merge(bureau_balance, how = 'left', on = 'SK_ID_BUREAU')\n",
        "bureau.drop('SK_ID_BUREAU', axis = 1, inplace = True)\n",
        "\n",
        "# Delete the bureau_balance data to free up memory\n",
        "del bureau_balance\n",
        "\n",
        "print(bureau.shape)"
      ],
      "execution_count": null,
      "outputs": [
        {
          "output_type": "stream",
          "text": [
            "(1716320, 118)\n"
          ],
          "name": "stdout"
        }
      ]
    },
    {
      "cell_type": "code",
      "metadata": {
        "colab": {
          "base_uri": "https://localhost:8080/"
        },
        "id": "Y36WVcXvC_vq",
        "outputId": "16ac5a0f-fc7a-44f3-bca6-817dfe4c2a28"
      },
      "source": [
        "# Performing Aggregations on the overall data now. \n",
        "# Bureau and bureau_balance aggregations for bureau  dataset\n",
        "categorical = bureau_cat_columns + bureau_balance_cat\n",
        "aggregations = {}\n",
        "print('Shape of the data before aggregation features : ', bureau.shape)\n",
        "\n",
        "for col in bureau.columns:\n",
        "    aggregations[col] = ['mean'] if col in categorical else ['std', 'mean', 'min', 'max']\n",
        "bureau = bureau.groupby('SK_ID_CURR').agg(aggregations)\n",
        "bureau.columns = pd.Index(['BUREAU_' + e[0] + \"_\" + e[1].upper() for e in bureau.columns.tolist()])\n",
        "\n",
        "print('Shape of the data after aggregation features : ', bureau.shape)"
      ],
      "execution_count": null,
      "outputs": [
        {
          "output_type": "stream",
          "text": [
            "Shape of the data before aggregation features :  (1716320, 118)\n",
            "Shape of the data after aggregation features :  (305810, 394)\n"
          ],
          "name": "stdout"
        }
      ]
    },
    {
      "cell_type": "code",
      "metadata": {
        "id": "GEt_VVLu5x9E"
      },
      "source": [
        "# Store this data in a pickle file\n",
        "pd.to_pickle(bureau, 'final_bureau_data.pkl')"
      ],
      "execution_count": null,
      "outputs": []
    },
    {
      "cell_type": "markdown",
      "metadata": {
        "id": "mlEByFpcDwnX"
      },
      "source": [
        "This is all for the bureau data files. Next, we will move to the previous application data files. "
      ]
    },
    {
      "cell_type": "markdown",
      "metadata": {
        "id": "gRC1-lxrD7Py"
      },
      "source": [
        "## 3. Previous Application Files"
      ]
    },
    {
      "cell_type": "markdown",
      "metadata": {
        "id": "RF52jLYAGj9M"
      },
      "source": [
        "This data file contains all the information about the previous loan applications of the user with Home Credit. \n",
        "\n",
        "Each application is given a unique id SK_ID_PREV and there can be multiple SK_ID_PREV for a single SK_ID_CURR (the primary id). \n",
        "\n",
        "Let us start by loading the data."
      ]
    },
    {
      "cell_type": "code",
      "metadata": {
        "colab": {
          "base_uri": "https://localhost:8080/"
        },
        "id": "ZY6BRY9zD0zS",
        "outputId": "fa7db780-4d5d-4c64-c5ab-d8f3d734310f"
      },
      "source": [
        "print('Loading Data Files.....')\n",
        "start = time()\n",
        "prev_app = reduce_mem_usage(pd.read_csv(directory+'previous_application.csv'), verbose = False)\n",
        "print('It took {} seconds to load the data.'.format(round(time() - start), 2))"
      ],
      "execution_count": null,
      "outputs": [
        {
          "output_type": "stream",
          "text": [
            "Loading Data Files.....\n",
            "It took 9 seconds to load the data.\n"
          ],
          "name": "stdout"
        }
      ]
    },
    {
      "cell_type": "code",
      "metadata": {
        "id": "91b9WlJ0jdMQ"
      },
      "source": [
        "# Replace some outliers\n",
        "prev_app.loc[prev_app['AMT_CREDIT'] > 6000000, 'AMT_CREDIT'] = np.nan\n",
        "prev_app.loc[prev_app['SELLERPLACE_AREA'] > 3500000, 'SELLERPLACE_AREA'] = np.nan\n",
        "prev_app[['DAYS_FIRST_DRAWING', 'DAYS_FIRST_DUE', 'DAYS_LAST_DUE_1ST_VERSION', \n",
        "             'DAYS_LAST_DUE', 'DAYS_TERMINATION']].replace(-365243, np.nan, inplace = True)\n",
        "\n",
        "prev_app_id = prev_app[['SK_ID_CURR']]"
      ],
      "execution_count": null,
      "outputs": []
    },
    {
      "cell_type": "markdown",
      "metadata": {
        "id": "iP8SA4tsdCBB"
      },
      "source": [
        "Let us know a little more about the data. Like, the name of the features this data has and try to figure out how this information can be useful to us.\n"
      ]
    },
    {
      "cell_type": "markdown",
      "metadata": {
        "id": "HLlDO92wdcDu"
      },
      "source": [
        "First, we will use our functions to create division and subtraction based features for the AMT and DAYS features as we did for the previous datasets."
      ]
    },
    {
      "cell_type": "code",
      "metadata": {
        "colab": {
          "base_uri": "https://localhost:8080/"
        },
        "id": "rsKWAlmadU4g",
        "outputId": "dc4935f8-9ecd-46e0-fe26-c9507c98fb9a"
      },
      "source": [
        "# Part 1 : Create Div Feature for AMT and DAYS Features\n",
        "# i. AMT_ Features\n",
        "amt_features_pre = ['AMT_ANNUITY','AMT_APPLICATION','AMT_CREDIT','AMT_DOWN_PAYMENT','AMT_GOODS_PRICE']\n",
        "prev_app = create_div_features(prev_app, amt_features_pre, 'prev_app')\n",
        "print('Shape after featurization of AMT_ Features : ',prev_app.shape)\n",
        "print('-'*100)\n",
        "\n",
        "# ii. DAYS_ Features\n",
        "days_features_pre = ['DAYS_FIRST_DRAWING','DAYS_FIRST_DUE','DAYS_LAST_DUE_1ST_VERSION','DAYS_LAST_DUE','DAYS_TERMINATION', 'DAYS_DECISION']\n",
        "prev_app = create_div_features(prev_app, days_features_pre, 'prev_app')\n",
        "print('Shape after featurization of DAYS_ Features : ',prev_app.shape)"
      ],
      "execution_count": null,
      "outputs": [
        {
          "output_type": "stream",
          "text": [
            "Shape after featurization of AMT_ Features :  (1670214, 57)\n",
            "----------------------------------------------------------------------------------------------------\n",
            "Shape after featurization of DAYS_ Features :  (1670214, 87)\n"
          ],
          "name": "stdout"
        }
      ]
    },
    {
      "cell_type": "code",
      "metadata": {
        "colab": {
          "base_uri": "https://localhost:8080/"
        },
        "id": "9bU0rN9ue4lm",
        "outputId": "7291392c-0c82-4245-961b-e4fec02f071d"
      },
      "source": [
        "# Part 2 : Create subtraction Feature for AMT and DAYS Features\n",
        "# i. AMT_ Features\n",
        "amt_features_pre = ['AMT_ANNUITY','AMT_APPLICATION','AMT_CREDIT','AMT_DOWN_PAYMENT','AMT_GOODS_PRICE']\n",
        "prev_app = create_sub_features(prev_app, amt_features_pre, 'prev_app')\n",
        "print('Shape after featurization of AMT_ Features : ',prev_app.shape)\n",
        "print('-'*100)\n",
        "\n",
        "# ii. DAYS_ Features\n",
        "days_features_pre = ['DAYS_FIRST_DRAWING','DAYS_FIRST_DUE','DAYS_LAST_DUE_1ST_VERSION','DAYS_LAST_DUE','DAYS_TERMINATION', 'DAYS_DECISION']\n",
        "prev_app = create_sub_features(prev_app, days_features_pre, 'prev_app')\n",
        "print('Shape after featurization of DAYS_ Features : ',prev_app.shape)"
      ],
      "execution_count": null,
      "outputs": [
        {
          "output_type": "stream",
          "text": [
            "Shape after featurization of AMT_ Features :  (1670214, 107)\n",
            "----------------------------------------------------------------------------------------------------\n",
            "Shape after featurization of DAYS_ Features :  (1670214, 137)\n"
          ],
          "name": "stdout"
        }
      ]
    },
    {
      "cell_type": "code",
      "metadata": {
        "id": "FZIrT9oqfuoC"
      },
      "source": [
        "# One hot encoding the categorical variables\n",
        "prev_app, prev_app_cat_features = one_hot_encoder(prev_app, nan_category = True)"
      ],
      "execution_count": null,
      "outputs": []
    },
    {
      "cell_type": "code",
      "metadata": {
        "colab": {
          "base_uri": "https://localhost:8080/"
        },
        "id": "7Yf6NtAff43x",
        "outputId": "34602a0b-e573-46f8-d937-dc4117582c38"
      },
      "source": [
        "print('Shape after one hot Encoding :', prev_app.shape)"
      ],
      "execution_count": null,
      "outputs": [
        {
          "output_type": "stream",
          "text": [
            "Shape after one hot Encoding : (1670214, 280)\n"
          ],
          "name": "stdout"
        }
      ]
    },
    {
      "cell_type": "code",
      "metadata": {
        "colab": {
          "base_uri": "https://localhost:8080/"
        },
        "id": "bbVODBSkf-6H",
        "outputId": "9505f0d2-80a6-4adc-8c5a-93a2c029de11"
      },
      "source": [
        "# Performing Aggregations for all the data\n",
        "# Reference for idea : https://www.kaggle.com/aantonova/797-lgbm-and-bayesian-optimization\n",
        "# Aggregations for the Previous Application Data\n",
        "aggregations = {}\n",
        "for col in prev_app.columns:\n",
        "    aggregations[col] = ['mean'] if col in prev_app_cat_features else ['min', 'max', 'mean', 'std']\n",
        "\n",
        "prev_app = prev_app.groupby('SK_ID_CURR').agg(aggregations)\n",
        "prev_app.columns = pd.Index(['PREV_' + e[0] + \"_\" + e[1].upper() for e in prev_app.columns.tolist()])\n",
        "\n",
        "print('Final Shape of the Previous applications data after featurization :', prev_app.shape)"
      ],
      "execution_count": null,
      "outputs": [
        {
          "output_type": "stream",
          "text": [
            "Final Shape of the Previous applications data after featurization : (338857, 643)\n"
          ],
          "name": "stdout"
        }
      ]
    },
    {
      "cell_type": "markdown",
      "metadata": {
        "id": "wwMIf9P_ixv4"
      },
      "source": [
        "## POS_Cash_Balance"
      ]
    },
    {
      "cell_type": "markdown",
      "metadata": {
        "id": "OZ-zb5GLi2X8"
      },
      "source": [
        "This data is also related to the previous applications of the user, specifically for the cash loans and consumer credits. It has a monthly history for each of that specific loan application of a particular user. \n",
        "\n",
        "Hence, there will be multiple entries of balance info for a single SK_ID_PREV and there will be multiple SK_ID_PREV values for a single SK_ID_CURR.\n"
      ]
    },
    {
      "cell_type": "code",
      "metadata": {
        "colab": {
          "base_uri": "https://localhost:8080/"
        },
        "id": "IYvIE8VokIAJ",
        "outputId": "f0e9b8c2-9aa9-4359-879e-07a128f6cf1c"
      },
      "source": [
        "# Load the data\n",
        "print('Loading Data Files.....')\n",
        "start = time()\n",
        "pos_cash = reduce_mem_usage(pd.read_csv(directory+'POS_CASH_balance.csv'), verbose = False)\n",
        "print('It took {} seconds to load the data.'.format(round(time() - start), 2))"
      ],
      "execution_count": null,
      "outputs": [
        {
          "output_type": "stream",
          "text": [
            "Loading Data Files.....\n",
            "It took 6 seconds to load the data.\n"
          ],
          "name": "stdout"
        }
      ]
    },
    {
      "cell_type": "code",
      "metadata": {
        "colab": {
          "base_uri": "https://localhost:8080/"
        },
        "id": "cDO7NpeEi1EQ",
        "outputId": "0ab23d05-c715-401a-b574-2963285e4b46"
      },
      "source": [
        "# Reference : https://www.kaggle.com/aantonova/797-lgbm-and-bayesian-optimization\n",
        "# Replace some anamolies from the data with nan values.\n",
        "pos_cash.loc[pos_cash['CNT_INSTALMENT_FUTURE'] > 60, 'CNT_INSTALMENT_FUTURE'] = np.nan\n",
        "    \n",
        "# New features based on the domain knowledge\n",
        "pos_cash['pos CNT_INSTALMENT more CNT_INSTALMENT_FUTURE'] = (pos_cash['CNT_INSTALMENT'] > pos_cash['CNT_INSTALMENT_FUTURE']).astype(int)\n",
        "    \n",
        "# One hot Encoding of all the categorical features.\n",
        "pos_cash, pos_cash_cat_features = one_hot_encoder(pos_cash, nan_category = True)\n",
        "    \n",
        "# Aggregations for all the features based on the SK_ID_PREV. \n",
        "# mean agg for categorical (OHE) features\n",
        "# (min, max, mean, std, sum) agg for all the other features\n",
        "aggregations = {}\n",
        "for col in pos_cash.columns:\n",
        "    aggregations[col] = ['mean'] if col in pos_cash_cat_features else ['min', 'max', 'mean', 'std']\n",
        "pos_cash = pos_cash.groupby('SK_ID_CURR').agg(aggregations)\n",
        "pos_cash.columns = pd.Index(['POS_' + e[0] + \"_\" + e[1].upper() for e in pos_cash.columns.tolist()])\n",
        "\n",
        "# Count POS lines on the data for each SK_ID_CURR. (using groupby and size)\n",
        "pos_cash['POS_COUNT'] = pos_cash.groupby('SK_ID_CURR').size()\n",
        "\n",
        "# Print the final shape after featurization\n",
        "print('Shape of the data after featurization : ',pos_cash.shape)"
      ],
      "execution_count": null,
      "outputs": [
        {
          "output_type": "stream",
          "text": [
            "Shape of the data after featurization :  (337252, 43)\n"
          ],
          "name": "stdout"
        }
      ]
    },
    {
      "cell_type": "markdown",
      "metadata": {
        "id": "EEt7R_fAlGf7"
      },
      "source": [
        "## Installments_payment"
      ]
    },
    {
      "cell_type": "markdown",
      "metadata": {
        "id": "oJCdRh44ldJP"
      },
      "source": [
        "This data file contains the monthly payment history for each installment payed by the applicant. Here also, we will be creating Aggregate functions. But, from the survey done, Subtraction features would also be useful for our model. \n",
        "\n",
        "Hence, our featurization will include these 2 methods."
      ]
    },
    {
      "cell_type": "code",
      "metadata": {
        "colab": {
          "base_uri": "https://localhost:8080/"
        },
        "id": "FBuw25KgmIj2",
        "outputId": "28f0c522-90f3-4f5c-c740-ca42277d5938"
      },
      "source": [
        "# Load the data file\n",
        "print('Loading Data Files.....')\n",
        "start = time()\n",
        "ins_pay = reduce_mem_usage(pd.read_csv(directory+'installments_payments.csv'), verbose = False)\n",
        "print('It took {} seconds to load the data.'.format(round(time() - start), 2))"
      ],
      "execution_count": null,
      "outputs": [
        {
          "output_type": "stream",
          "text": [
            "Loading Data Files.....\n",
            "It took 12 seconds to load the data.\n"
          ],
          "name": "stdout"
        }
      ]
    },
    {
      "cell_type": "code",
      "metadata": {
        "colab": {
          "base_uri": "https://localhost:8080/"
        },
        "id": "kXnBU80bmgek",
        "outputId": "c70188e2-2ab6-436e-e257-8d97c41e33d8"
      },
      "source": [
        "ins_pay.dtypes.value_counts()"
      ],
      "execution_count": null,
      "outputs": [
        {
          "output_type": "execute_result",
          "data": {
            "text/plain": [
              "float16    3\n",
              "int32      2\n",
              "float32    2\n",
              "int16      1\n",
              "dtype: int64"
            ]
          },
          "metadata": {
            "tags": []
          },
          "execution_count": 36
        }
      ]
    },
    {
      "cell_type": "code",
      "metadata": {
        "colab": {
          "base_uri": "https://localhost:8080/"
        },
        "id": "_3nEUD2zlKHU",
        "outputId": "0209fa45-1988-4dc0-d0ba-952c029e38ac"
      },
      "source": [
        "# Creating Subtraction features for AMT and DAYS feature\n",
        "sub_features_list = ['NUM_INSTALMENT_VERSION','NUM_INSTALMENT_NUMBER','DAYS_INSTALMENT','DAYS_ENTRY_PAYMENT','AMT_INSTALMENT','AMT_PAYMENT']\n",
        "ins_pay = create_sub_features(ins_pay, sub_features_list, 'INS_PAY')\n",
        "print('Shape of the data after featurization : ',ins_pay.shape)"
      ],
      "execution_count": null,
      "outputs": [
        {
          "output_type": "stream",
          "text": [
            "Shape of the data after featurization :  (13605401, 38)\n"
          ],
          "name": "stdout"
        }
      ]
    },
    {
      "cell_type": "code",
      "metadata": {
        "id": "1w1HhQZxx8o4"
      },
      "source": [
        " ins_pay, ins_cat_features = one_hot_encoder(ins_pay, nan_category = True)"
      ],
      "execution_count": null,
      "outputs": []
    },
    {
      "cell_type": "code",
      "metadata": {
        "colab": {
          "base_uri": "https://localhost:8080/"
        },
        "id": "l5Bs28spn-Lm",
        "outputId": "aea1e9b7-801c-4ea7-e841-8cfed0c02316"
      },
      "source": [
        "# Next, we will create aggregate features\n",
        "aggregations = {}\n",
        "for col in ins_pay.columns:\n",
        "    aggregations[col] = ['mean'] if col in ins_cat_features else ['min', 'max', 'mean', 'std']\n",
        "\n",
        "ins_pay = ins_pay.groupby('SK_ID_CURR').agg(aggregations)\n",
        "ins_pay.columns = pd.Index(['PREV_' + e[0] + \"_\" + e[1].upper() for e in ins_pay.columns.tolist()])\n",
        "\n",
        "print('Final Shape of the Previous applications data after featurization :', ins_pay.shape)"
      ],
      "execution_count": null,
      "outputs": [
        {
          "output_type": "stream",
          "text": [
            "Final Shape of the Previous applications data after featurization : (339587, 152)\n"
          ],
          "name": "stdout"
        }
      ]
    },
    {
      "cell_type": "markdown",
      "metadata": {
        "id": "fZnvcUiipxgx"
      },
      "source": [
        "Now that this is complete too, we will move to our final data file, which deals with the monthly credit card related data for each applicant who has a Home Credit issued Credit Card."
      ]
    },
    {
      "cell_type": "markdown",
      "metadata": {
        "id": "Bd6H_gyXp-pa"
      },
      "source": [
        "## Credit_Card_Balance"
      ]
    },
    {
      "cell_type": "code",
      "metadata": {
        "colab": {
          "base_uri": "https://localhost:8080/"
        },
        "id": "0qsPAAGBpn3l",
        "outputId": "1406a9e2-fc8d-4d98-ef7c-651ba4893d27"
      },
      "source": [
        "# Loading the data\n",
        "print('Loading Data Files.....')\n",
        "start = time()\n",
        "credit_card = reduce_mem_usage(pd.read_csv(directory+'credit_card_balance.csv'), verbose = False)\n",
        "print('It took {} seconds to load the data.'.format(round(time() - start), 2))"
      ],
      "execution_count": null,
      "outputs": [
        {
          "output_type": "stream",
          "text": [
            "Loading Data Files.....\n",
            "It took 9 seconds to load the data.\n"
          ],
          "name": "stdout"
        }
      ]
    },
    {
      "cell_type": "code",
      "metadata": {
        "colab": {
          "base_uri": "https://localhost:8080/"
        },
        "id": "6l4Rq0vguG-K",
        "outputId": "cc1fe645-0766-4421-ebf9-63275b34cdbe"
      },
      "source": [
        "# Creating Subtraction based features for the AMT_ and DPD_ Features\n",
        "features_list = ['AMT_BALANCE','AMT_CREDIT_LIMIT_ACTUAL','AMT_DRAWINGS_ATM_CURRENT','AMT_DRAWINGS_CURRENT','AMT_DRAWINGS_OTHER_CURRENT','AMT_DRAWINGS_POS_CURRENT','AMT_INST_MIN_REGULARITY',\n",
        " 'AMT_PAYMENT_CURRENT','AMT_PAYMENT_TOTAL_CURRENT','AMT_RECEIVABLE_PRINCIPAL','AMT_RECIVABLE','AMT_TOTAL_RECEIVABLE','SK_DPD','SK_DPD_DEF']\n",
        "\n",
        "# passing these through our subtraction feature creation function\n",
        "credit_card = create_sub_features(credit_card, features_list, 'CREDIT_CARD')\n",
        "print('Shape after featurization : ', credit_card.shape)"
      ],
      "execution_count": null,
      "outputs": [
        {
          "output_type": "stream",
          "text": [
            "Shape after featurization :  (3840312, 205)\n"
          ],
          "name": "stdout"
        }
      ]
    },
    {
      "cell_type": "code",
      "metadata": {
        "colab": {
          "base_uri": "https://localhost:8080/"
        },
        "id": "CSsFiesfu75Q",
        "outputId": "5804124f-4fd2-4309-bcdd-da147bb8710a"
      },
      "source": [
        "# One hot encoding for all the categorical features\n",
        "credit_card, credit_card_cat_features = one_hot_encoder(credit_card, nan_category = True)\n",
        "print('Shape after one hot encoding the data : ', credit_card.shape)"
      ],
      "execution_count": null,
      "outputs": [
        {
          "output_type": "stream",
          "text": [
            "Shape after one hot encoding the data :  (3840312, 212)\n"
          ],
          "name": "stdout"
        }
      ]
    },
    {
      "cell_type": "code",
      "metadata": {
        "colab": {
          "base_uri": "https://localhost:8080/"
        },
        "id": "DgYXQSUTvMPw",
        "outputId": "a6484076-0d06-4cac-9b98-788253439c11"
      },
      "source": [
        "# Finally, performing the aggregation operations to get new features.\n",
        "aggregations = {}\n",
        "for col in credit_card.columns:\n",
        "    aggregations[col] = ['mean'] if col in credit_card_cat_features else ['min', 'max', 'mean']\n",
        "\n",
        "credit_card = credit_card.groupby('SK_ID_CURR').agg(aggregations)\n",
        "credit_card.columns = pd.Index(['PREV_' + e[0] + \"_\" + e[1].upper() for e in credit_card.columns.tolist()]) \n",
        "\n",
        "print('Final Shape of the credit card data after featurization :', credit_card.shape)"
      ],
      "execution_count": null,
      "outputs": [
        {
          "output_type": "stream",
          "text": [
            "Final Shape of the credit card data after featurization : (103558, 620)\n"
          ],
          "name": "stdout"
        }
      ]
    },
    {
      "cell_type": "markdown",
      "metadata": {
        "id": "rnoqAw7XwI8p"
      },
      "source": [
        "This completes the featurization of all the Data files! Now, for the last step in this notebook, we will merge them all into a single data file and divide them into train and test data."
      ]
    },
    {
      "cell_type": "markdown",
      "metadata": {
        "id": "yQa7TGg1yqdu"
      },
      "source": [
        "## Merging the data files"
      ]
    },
    {
      "cell_type": "code",
      "metadata": {
        "colab": {
          "base_uri": "https://localhost:8080/"
        },
        "id": "YcAOMG--v828",
        "outputId": "7965d69c-67aa-4a53-8f2b-d7b962d59431"
      },
      "source": [
        "# Merging all the data files\n",
        "df = merged_data.merge(bureau, how = 'left', on = 'SK_ID_CURR')\n",
        "df = df.merge(prev_app, how = 'left', on = 'SK_ID_CURR')\n",
        "df = df.merge(ins_pay, how = 'left', on = 'SK_ID_CURR')\n",
        "df = df.merge(credit_card, how = 'left', on = 'SK_ID_CURR')\n",
        "df = df.merge(pos_cash, how = 'left', on = 'SK_ID_CURR')\n",
        "\n",
        "# Printing the shape of the final data\n",
        "print('The final data shape : ', df.shape)"
      ],
      "execution_count": null,
      "outputs": [
        {
          "output_type": "stream",
          "text": [
            "The final data shape :  (305810, 1852)\n"
          ],
          "name": "stdout"
        }
      ]
    },
    {
      "cell_type": "markdown",
      "metadata": {
        "id": "2Gg2Xmhn1hDQ"
      },
      "source": [
        "Now that we are finished with the Feature Engineering part of this project, we have the following data:\n",
        "\n",
        "3,05,810 rows and 1,852 Features. \n",
        "\n",
        "Next step, using a very good clean data function I found while literature survey, I have used that to clean out our data by removing empty and correlated features before modelling the data."
      ]
    },
    {
      "cell_type": "code",
      "metadata": {
        "id": "w0spMAcQyP3g"
      },
      "source": [
        "from lightgbm import LGBMClassifier\n",
        "from scipy.stats import ranksums\n",
        "from sklearn.metrics import roc_auc_score, precision_score, recall_score\n",
        "from sklearn.model_selection import KFold, StratifiedKFold"
      ],
      "execution_count": null,
      "outputs": []
    },
    {
      "cell_type": "code",
      "metadata": {
        "id": "KD4dKoVryBJ2"
      },
      "source": [
        "# Reference : https://www.kaggle.com/aantonova/797-lgbm-and-bayesian-optimization\n",
        "\n",
        "# Getting correlation values with respect to target variable\n",
        "def corr_feature_with_target(feature, target):\n",
        "    # Drop all na values for target 0 and 1 values of the feature\n",
        "    c0 = feature[target == 0].dropna()\n",
        "    c1 = feature[target == 1].dropna()\n",
        "   \n",
        "    if set(feature.unique()) == set([0, 1]):\n",
        "        diff = abs(c0.mean(axis = 0) - c1.mean(axis = 0))\n",
        "    else:\n",
        "        diff = abs(c0.median(axis = 0) - c1.median(axis = 0))\n",
        "        \n",
        "    p = ranksums(c0, c1)[1] if ((len(c0) >= 20) & (len(c1) >= 20)) else 2\n",
        "        \n",
        "    return [diff, p]\n",
        "\n",
        "def clean_data(data):\n",
        "    warnings.simplefilter(action = 'ignore')\n",
        "    \n",
        "    # Removing empty features\n",
        "    nun = data.nunique()  # Gets all the columns number of unique values\n",
        "    empty = list(nun[nun <= 1].index)\n",
        "    \n",
        "    data.drop(empty, axis = 1, inplace = True)  # Dropping all features which are empty (0 unique values)\n",
        "    print('After removing empty features there are {0:d} features'.format(data.shape[1]))\n",
        "    \n",
        "    # Removing features with the same distribution on 0 and 1 classes\n",
        "    corr = pd.DataFrame(index = ['diff', 'p'])\n",
        "    ind = data[data['TARGET'].notnull()].index\n",
        "    \n",
        "    # Loop through all the features\n",
        "    for c in data.columns.drop('TARGET'):\n",
        "        # Get corr value using our corr with respect to target function\n",
        "        corr[c] = corr_feature_with_target(data.loc[ind, c], data.loc[ind, 'TARGET'])\n",
        "\n",
        "    corr = corr.T\n",
        "    corr['diff_norm'] = abs(corr['diff'] / data.mean(axis = 0))\n",
        "    \n",
        "    to_del_1 = corr[((corr['diff'] == 0) & (corr['p'] > .05))].index\n",
        "    to_del_2 = corr[((corr['diff_norm'] < .5) & (corr['p'] > .05))].drop(to_del_1).index\n",
        "    to_del = list(to_del_1) + list(to_del_2)\n",
        "    if 'SK_ID_CURR' in to_del:\n",
        "        to_del.remove('SK_ID_CURR')\n",
        "        \n",
        "    data.drop(to_del, axis = 1, inplace = True)\n",
        "    print('After removing features with the same distribution on 0 and 1 classes there are {0:d} features'.format(data.shape[1]))\n",
        "    \n",
        "    # Removing features with not the same distribution on train and test datasets\n",
        "    corr_test = pd.DataFrame(index = ['diff', 'p'])\n",
        "    target = data['TARGET'].notnull().astype(int)\n",
        "    \n",
        "    for c in data.columns.drop('TARGET'):\n",
        "        corr_test[c] = corr_feature_with_target(data[c], target)\n",
        "\n",
        "    corr_test = corr_test.T\n",
        "    corr_test['diff_norm'] = abs(corr_test['diff'] / data.mean(axis = 0))\n",
        "    \n",
        "    bad_features = corr_test[((corr_test['p'] < .05) & (corr_test['diff_norm'] > 1))].index\n",
        "    bad_features = corr.loc[bad_features][corr['diff_norm'] == 0].index\n",
        "    \n",
        "    data.drop(bad_features, axis = 1, inplace = True)\n",
        "    print('After removing features with not the same distribution on train and test datasets there are {0:d} features'.format(data.shape[1]))\n",
        "    \n",
        "    del corr, corr_test\n",
        "    gc.collect()\n",
        "    \n",
        "    return data"
      ],
      "execution_count": null,
      "outputs": []
    },
    {
      "cell_type": "code",
      "metadata": {
        "id": "34CjE-jyyjoX"
      },
      "source": [
        "df = clean_data(df)"
      ],
      "execution_count": null,
      "outputs": []
    },
    {
      "cell_type": "code",
      "metadata": {
        "id": "ucs7TxMvBEFg"
      },
      "source": [
        "pd.to_pickle(df, 'final_data_prev_bureau.pkl')"
      ],
      "execution_count": null,
      "outputs": []
    },
    {
      "cell_type": "markdown",
      "metadata": {
        "id": "cSbiPICN5LFX"
      },
      "source": [
        "Now, we will start with data modelling. "
      ]
    },
    {
      "cell_type": "markdown",
      "metadata": {
        "id": "dgzi_R3xcfMA"
      },
      "source": [
        "# Data Modelling"
      ]
    },
    {
      "cell_type": "markdown",
      "metadata": {
        "id": "RLZ4BaBZBp9-"
      },
      "source": [
        "Now that we have our data, we will move on to modelling. In this section, we will first split the data into train and test datasets and then test the performance of different models on this datasets. "
      ]
    },
    {
      "cell_type": "markdown",
      "metadata": {
        "id": "q3Uw17AGM7nO"
      },
      "source": [
        "### Importing the Required Libraries"
      ]
    },
    {
      "cell_type": "code",
      "metadata": {
        "colab": {
          "base_uri": "https://localhost:8080/"
        },
        "id": "DQEkWRZeVrTk",
        "outputId": "331abc26-6a20-4913-e630-2b92168666c0"
      },
      "source": [
        "!pip install bayesian-optimization"
      ],
      "execution_count": null,
      "outputs": [
        {
          "output_type": "stream",
          "text": [
            "Requirement already satisfied: bayesian-optimization in /usr/local/lib/python3.7/dist-packages (1.2.0)\n",
            "Requirement already satisfied: scipy>=0.14.0 in /usr/local/lib/python3.7/dist-packages (from bayesian-optimization) (1.4.1)\n",
            "Requirement already satisfied: scikit-learn>=0.18.0 in /usr/local/lib/python3.7/dist-packages (from bayesian-optimization) (0.22.2.post1)\n",
            "Requirement already satisfied: numpy>=1.9.0 in /usr/local/lib/python3.7/dist-packages (from bayesian-optimization) (1.19.5)\n",
            "Requirement already satisfied: joblib>=0.11 in /usr/local/lib/python3.7/dist-packages (from scikit-learn>=0.18.0->bayesian-optimization) (1.0.1)\n"
          ],
          "name": "stdout"
        }
      ]
    },
    {
      "cell_type": "code",
      "metadata": {
        "colab": {
          "base_uri": "https://localhost:8080/"
        },
        "id": "YX5LR7BNB6_I",
        "outputId": "c85e7557-f0d8-4f3b-b179-403874729cc1"
      },
      "source": [
        "# Installing the Catboost model library\n",
        "!pip install catboost"
      ],
      "execution_count": null,
      "outputs": [
        {
          "output_type": "stream",
          "text": [
            "Requirement already satisfied: catboost in /usr/local/lib/python3.7/dist-packages (0.24.4)\n",
            "Requirement already satisfied: graphviz in /usr/local/lib/python3.7/dist-packages (from catboost) (0.10.1)\n",
            "Requirement already satisfied: plotly in /usr/local/lib/python3.7/dist-packages (from catboost) (4.4.1)\n",
            "Requirement already satisfied: matplotlib in /usr/local/lib/python3.7/dist-packages (from catboost) (3.2.2)\n",
            "Requirement already satisfied: six in /usr/local/lib/python3.7/dist-packages (from catboost) (1.15.0)\n",
            "Requirement already satisfied: numpy>=1.16.0 in /usr/local/lib/python3.7/dist-packages (from catboost) (1.19.5)\n",
            "Requirement already satisfied: pandas>=0.24.0 in /usr/local/lib/python3.7/dist-packages (from catboost) (1.1.5)\n",
            "Requirement already satisfied: scipy in /usr/local/lib/python3.7/dist-packages (from catboost) (1.4.1)\n",
            "Requirement already satisfied: retrying>=1.3.3 in /usr/local/lib/python3.7/dist-packages (from plotly->catboost) (1.3.3)\n",
            "Requirement already satisfied: python-dateutil>=2.1 in /usr/local/lib/python3.7/dist-packages (from matplotlib->catboost) (2.8.1)\n",
            "Requirement already satisfied: kiwisolver>=1.0.1 in /usr/local/lib/python3.7/dist-packages (from matplotlib->catboost) (1.3.1)\n",
            "Requirement already satisfied: pyparsing!=2.0.4,!=2.1.2,!=2.1.6,>=2.0.1 in /usr/local/lib/python3.7/dist-packages (from matplotlib->catboost) (2.4.7)\n",
            "Requirement already satisfied: cycler>=0.10 in /usr/local/lib/python3.7/dist-packages (from matplotlib->catboost) (0.10.0)\n",
            "Requirement already satisfied: pytz>=2017.2 in /usr/local/lib/python3.7/dist-packages (from pandas>=0.24.0->catboost) (2018.9)\n"
          ],
          "name": "stdout"
        }
      ]
    },
    {
      "cell_type": "code",
      "metadata": {
        "id": "cxI6WjOBoNLr"
      },
      "source": [
        "# Libraries for processing the data and computing the performance.--\n",
        "from sklearn.model_selection import train_test_split\n",
        "from sklearn.preprocessing import StandardScaler\n",
        "from sklearn.metrics import roc_curve, auc\n",
        "from sklearn.metrics import roc_auc_score\n",
        "from sklearn.model_selection import StratifiedKFold\n",
        "from sklearn.model_selection import RandomizedSearchCV\n",
        "from sklearn.metrics import confusion_matrix\n",
        "from tqdm import tqdm\n",
        "import math\n",
        "from math import log\n",
        "import seaborn as sns\n",
        "import re\n",
        "# ------------------------------------------------------------------\n",
        "\n",
        "# The models we will use for this study and optimizations ----------\n",
        "from sklearn.dummy import DummyClassifier\n",
        "from sklearn.linear_model import LogisticRegression\n",
        "from sklearn.ensemble import RandomForestClassifier\n",
        "from lightgbm import LGBMClassifier\n",
        "from xgboost import XGBClassifier\n",
        "from catboost import CatBoostClassifier\n",
        "import lightgbm as lgb\n",
        "from bayes_opt import BayesianOptimization\n",
        "# ------------------------------------------------------------------"
      ],
      "execution_count": null,
      "outputs": []
    },
    {
      "cell_type": "markdown",
      "metadata": {
        "id": "-9Ez_3ugL_Zo"
      },
      "source": [
        "In this part of the notebook, we will test different models on our data and see how each of them perform.\n",
        "Before doing that, we need to get our data ready for the models. That processing will include:\n",
        "\n",
        "*   Handling the missing and infinity values.\n",
        "*   There are some overflowing values in the data.So, we will have to handle them too.\n",
        "* Splitting the data into train, test and validation data such that each have a similar percentage of target 1 and 0 values. (Stratified Splitting)\n",
        "\n",
        "\n"
      ]
    },
    {
      "cell_type": "markdown",
      "metadata": {
        "id": "nw2foPw4_2D7"
      },
      "source": [
        "### Getting the data ready for models"
      ]
    },
    {
      "cell_type": "code",
      "metadata": {
        "colab": {
          "base_uri": "https://localhost:8080/"
        },
        "id": "_x1J_LW7cb2Q",
        "outputId": "b29111eb-eb80-437b-e5eb-dc2bf118da63"
      },
      "source": [
        "# Splitting the data to train and test data and see the shapes\n",
        "train_df = df[df['TARGET'].notnull()]\n",
        "test_df = df[df['TARGET'].isnull()]\n",
        "\n",
        "print('Train Data : ', train_df.shape)\n",
        "print('Test Data : ', test_df.shape)"
      ],
      "execution_count": null,
      "outputs": [
        {
          "output_type": "stream",
          "text": [
            "Train Data :  (307500, 1664)\n",
            "Test Data :  (48755, 1664)\n"
          ],
          "name": "stdout"
        }
      ]
    },
    {
      "cell_type": "code",
      "metadata": {
        "colab": {
          "base_uri": "https://localhost:8080/"
        },
        "id": "aljHzSM0TR0t",
        "outputId": "ced79236-ed57-4d81-c172-aa5bdc97fe8e"
      },
      "source": [
        "test_df = test_df[test_df['SK_ID_CURR'].notnull()][:]\n",
        "test_df.shape"
      ],
      "execution_count": null,
      "outputs": [
        {
          "output_type": "execute_result",
          "data": {
            "text/plain": [
              "(48744, 1664)"
            ]
          },
          "metadata": {
            "tags": []
          },
          "execution_count": 51
        }
      ]
    },
    {
      "cell_type": "markdown",
      "metadata": {
        "id": "wXZ58vXgnRP0"
      },
      "source": [
        "Now that we have our data ready, we are ready to train some models. We will be trying various different models on this data. \n",
        "\n",
        "We are going to test for the following models :\n",
        "\n",
        "1. A baseline model (Dummy Classifer : strategy(Stratified))\n",
        "2. Logistic Regression \n",
        "3. Random Forest\n",
        "4. Light GBM \n",
        "5. XGBoost\n",
        "6. CatBoost\n",
        "7. Stacking Classifier\n",
        "\n"
      ]
    },
    {
      "cell_type": "markdown",
      "metadata": {
        "id": "4tZq96HqCJ6n"
      },
      "source": [
        "The next few steps are only for the simple Logistic Regression and Random Forest models. After experimenting with the data I found out that boosting based models perform better of raw data rather than standardised data. \n"
      ]
    },
    {
      "cell_type": "code",
      "metadata": {
        "id": "kSem_xH8lwnL"
      },
      "source": [
        "# Getting the X and Y data for training\n",
        "Y = train_df.pop('TARGET')\n",
        "X = train_df\n",
        "\n",
        "print(X.shape)\n",
        "print(Y.shape)"
      ],
      "execution_count": null,
      "outputs": []
    },
    {
      "cell_type": "code",
      "metadata": {
        "id": "TOt8f7p8VAIM"
      },
      "source": [
        "X_train, X_val, y_train, y_val = train_test_split(X, Y, test_size = 0.2, stratify = Y)\n",
        "\n",
        "# Cleaning the data for infinite and overflowing values of both train and val data\n",
        "X_train.replace([np.inf, -np.inf], np.nan, inplace=True) \n",
        "X_val.replace([np.inf, -np.inf], np.nan, inplace=True) \n",
        "X_train = X_train.where(X_train.values <= np.finfo(np.float64).max)\n",
        "X_val = X_val.where(X_val.values <= np.finfo(np.float64).max)\n",
        "X_train.fillna(X_train.median(), inplace = True)\n",
        "X_val.fillna(X_val.median(), inplace = True)\n",
        "\n",
        "# Cleaning the Test data\n",
        "#test_df = test_df[test_df['SK_ID_CURR'].notnull()][:]\n",
        "test_df.pop('TARGET')\n",
        "test_df = test_df[features_to_train]\n",
        "test_df.replace([np.inf, -np.inf], np.nan, inplace=True) \n",
        "test_df = test_df.where(test_df.values <= np.finfo(np.float64).max)\n",
        "test_df.fillna(test_df.median(), inplace = True)\n",
        "\n",
        "# Standardising the data\n",
        "scaler = StandardScaler()\n",
        "\n",
        "scaler.fit(X_train)\n",
        "scaler_train = scaler.transform(X_train)\n",
        "scaler_val = scaler.transform(X_val)\n",
        "scaler.fit(test_df)\n",
        "scaled_test = scaler.transform(test_df)\n",
        "\n",
        "# Delete the original data to free up some memory\n",
        "del X, Y"
      ],
      "execution_count": null,
      "outputs": []
    },
    {
      "cell_type": "markdown",
      "metadata": {
        "id": "QdpGb8a0RwoW"
      },
      "source": [
        "### Helper Functions"
      ]
    },
    {
      "cell_type": "code",
      "metadata": {
        "id": "sfG2K5nuRz5J"
      },
      "source": [
        "# Function 1 : Predicting the values in Batches\n",
        "\n",
        "def batch_predict(clf, data):\n",
        "  \n",
        "    y_data_pred = []\n",
        "    tr_loop = data.shape[0] - data.shape[0]%1000\n",
        "    # The %1000 removes the excess data points to make the shape divisible by 1000 so we can loop through.\n",
        "    # We will make a list of 1000 predictions each and store them in a parent list. (batch size = 1000)\n",
        "    for i in range(0, tr_loop, 1000):\n",
        "        y_data_pred.extend(clf.predict_proba(data[i:i+1000])[:,1])\n",
        "    # Predicting and storing the values of the daata points we excluded for the looping. (this will have less than 1000 points)\n",
        "    if data.shape[0]%1000 != 0:\n",
        "      y_data_pred.extend(clf.predict_proba(data[tr_loop:])[:,1])\n",
        "    \n",
        "    return y_data_pred"
      ],
      "execution_count": null,
      "outputs": []
    },
    {
      "cell_type": "code",
      "metadata": {
        "id": "nHYNjVp0m4HG"
      },
      "source": [
        "# Function 2 : Convert probablity to actual predictions for a given threshold\n",
        "def predict(proba, threshold, fpr, tpr):\n",
        "    \n",
        "    t = threshold[np.argmax(tpr*(1-fpr))]\n",
        "    \n",
        "    # (tpr*(1-fpr)) will be maximum if your fpr is very low and tpr is very high\n",
        "    \n",
        "    # print(\"the maximum value of tpr*(1-fpr)\", max(tpr*(1-fpr)), \"for threshold\", np.round(t,3))\n",
        "    predictions = []\n",
        "    for i in proba:\n",
        "        if i>=t:\n",
        "            predictions.append(1)\n",
        "        else:\n",
        "            predictions.append(0)\n",
        "    return predictions"
      ],
      "execution_count": null,
      "outputs": []
    },
    {
      "cell_type": "code",
      "metadata": {
        "id": "fUCl3YG7DEf7"
      },
      "source": [
        "# Function 3 : Plot AUC Curve\n",
        "\n",
        "def plot_roc_curve(y_true_train, y_pred_train, y_true_val, y_pred_val, model_name):\n",
        "  '''\n",
        "  This function let's you plot the ROC AUC curve.\n",
        "\n",
        "  Inputs:\n",
        "    y_true_train : True labels (groung truth) for train data\n",
        "    y_pred_train : the predictions for train data (probablity predictions)\n",
        "    y_true_val : True labels (groung truth) for validation data\n",
        "    y_pred_val : the predictions for validation data (probablity predictions)\n",
        "    model_name : Name of the model\n",
        "  \n",
        "  Output:\n",
        "    Returns :\n",
        "      train thresholds, fpr and tpr (train_params : type is dictionary)\n",
        "      val thresholds, fpr and tpr (val_params : type is dictionary)\n",
        "  '''\n",
        "  # Getting the roc curve parameters\n",
        "  train_fpr, train_tpr, train_thresholds = roc_curve(y_true_train, y_pred_train)\n",
        "  val_fpr, val_tpr, val_thresholds = roc_curve(y_true_val, y_pred_val)\n",
        "\n",
        "  # Plotting the actual ROC Curve\n",
        "  plt.plot(train_fpr, train_tpr, label=\"train AUC = \"+str(round(auc(train_fpr, train_tpr),3)))\n",
        "  plt.plot(val_fpr, val_tpr, label=\"val AUC = \"+str(round(auc(val_fpr, val_tpr),3)))\n",
        "  plt.legend()\n",
        "  plt.xlabel(\"FPR Values\")\n",
        "  plt.ylabel(\"TPR Values\")\n",
        "  plt.title(\"ROC Curve for Train and Validation Data for \" + model_name)\n",
        "  plt.show()\n",
        "\n",
        "  train_params = dict(threshold = train_thresholds, tpr = train_tpr, fpr = train_fpr)\n",
        "  val_params = dict(threshold = val_thresholds, tpr = val_tpr, fpr = val_fpr)\n",
        "  \n",
        "  return train_params, val_params\n",
        "\n",
        "\n"
      ],
      "execution_count": null,
      "outputs": []
    },
    {
      "cell_type": "code",
      "metadata": {
        "id": "ktpmkSFDGUMy"
      },
      "source": [
        "# Function 4 - Plotting the Confusion matrix\n",
        "\n",
        "def plot_conf_matrix(y_true_train, y_pred_train, y_true_val, y_pred_val, show_train = True):\n",
        "  '''\n",
        "  Description : This function helps you plot the confusion matrix for train and test data.\n",
        "  Inputs:\n",
        "    y_true_train : True labels (groung truth) for train data \n",
        "    y_pred_train : the predictions for train data (absoulute or binary predictions)\n",
        "    y_true_val : True labels (groung truth) for validation data\n",
        "    y_pred_val : the predictions for validation data (absoulute or binary predictions)\n",
        "    show_train : Flag to show the Confusion matrix for train data (default : True)\n",
        "    \n",
        "  Note : All train related data is only needed if show_train is True.\n",
        "\n",
        "  Outputs:\n",
        "    None\n",
        "  '''\n",
        "  # If Show train is true:\n",
        "  if show_train:\n",
        "    plt.figure(figsize = (10,4))\n",
        "    # Subplot 1 for the train Confusion matrix\n",
        "    plt.subplot(1,2,1)\n",
        "    cf_matrix = confusion_matrix(y_true_train, y_pred_train)\n",
        "    # Using the SNS Heatmap to show the Conf Matrix\n",
        "    ax = sns.heatmap(cf_matrix, annot=True, fmt='')\n",
        "    bottom, top = ax.get_ylim()\n",
        "    ax.set_ylim(bottom + 0.5, top - 0.5)\n",
        "    # Setting the Labels and title for the figure\n",
        "    plt.xlabel(\"Predicted\")\n",
        "    plt.ylabel(\"Actual\")\n",
        "    plt.title('Train Confusion Matrix for Logistic Regression')\n",
        "\n",
        "    # Subplot 2 for the validation Confusion Matrix\n",
        "    plt.subplot(1,2,2)\n",
        "    cf_matrix = confusion_matrix(y_true_val, y_pred_val)\n",
        "    # Using the seaborn heatmap to show the confusion matrix\n",
        "    ax = sns.heatmap(cf_matrix, annot=True, fmt='')\n",
        "    bottom, top = ax.get_ylim()\n",
        "    ax.set_ylim(bottom + 0.5, top - 0.5)\n",
        "    # setting labels and titles\n",
        "    plt.xlabel(\"Predicted\")\n",
        "    plt.ylabel(\"Actual\")\n",
        "    plt.title('Validation Confusion Matrix for Logistic Regression')\n",
        "    \n",
        "    # Showing a tight layout to keep distance between the 2 plots.\n",
        "    plt.tight_layout()\n",
        "    plt.show()\n",
        "  \n",
        "  # If show_train is False, only show the validation confusion matrix.\n",
        "  else:\n",
        "    cf_matrix = confusion_matrix(y_true_val, y_pred_val)\n",
        "    ax = sns.heatmap(cf_matrix, annot=True, fmt='')\n",
        "    bottom, top = ax.get_ylim()\n",
        "    ax.set_ylim(bottom + 0.5, top - 0.5)\n",
        "    plt.xlabel(\"Predicted\")\n",
        "    plt.ylabel(\"Actual\")\n",
        "    plt.title('Validation Confusion Matrix for Logistic Regression')\n",
        "    plt.show()\n"
      ],
      "execution_count": null,
      "outputs": []
    },
    {
      "cell_type": "markdown",
      "metadata": {
        "id": "sPwin1eKnr8U"
      },
      "source": [
        "### 1. Dummy Classifier"
      ]
    },
    {
      "cell_type": "code",
      "metadata": {
        "colab": {
          "base_uri": "https://localhost:8080/"
        },
        "id": "nSnMHjKjnQk2",
        "outputId": "2edb5550-7438-4827-d18d-772d83f037f3"
      },
      "source": [
        "# First creating a baseline model using the sklearn's Dummy Classifier\n",
        "dummy_clf = DummyClassifier(strategy=\"stratified\")\n",
        "\n",
        "# Fitting on train data\n",
        "dummy_clf.fit(scaler_train, y_train)\n",
        "\n",
        "# predict probablities for the target value on validation data\n",
        "y_pred_dummy_train = dummy_clf.predict_proba(scaler_train)\n",
        "y_pred_dummy_val = dummy_clf.predict_proba(scaler_val)\n",
        "\n",
        "# What is the train and test roc auc score for our baseline model\n",
        "print('Train AUC Score of the baseline model : ', round(roc_auc_score(y_train,y_pred_dummy_train[:,1]), 3))\n",
        "print('Validation AUC Score of the baseline model : ', round(roc_auc_score(y_val,y_pred_dummy_val[:,1]), 3))"
      ],
      "execution_count": null,
      "outputs": [
        {
          "output_type": "stream",
          "text": [
            "Train AUC Score of the baseline model :  0.501\n",
            "Validation AUC Score of the baseline model :  0.499\n"
          ],
          "name": "stdout"
        }
      ]
    },
    {
      "cell_type": "markdown",
      "metadata": {
        "id": "55T74Zkd6l8u"
      },
      "source": [
        "Hence, we got a baseline AUC score of 0.499 for both train and validation set. "
      ]
    },
    {
      "cell_type": "markdown",
      "metadata": {
        "id": "-HNDOBXH6uK6"
      },
      "source": [
        "### 2. Logistic Regression"
      ]
    },
    {
      "cell_type": "markdown",
      "metadata": {
        "id": "Jc8og-iXKvnh"
      },
      "source": [
        "After the base model, we will try the next best model, which is the Logistic regression model. We will also plot the feature importance for Logistic Regression (which are esentially the weight values). \n"
      ]
    },
    {
      "cell_type": "code",
      "metadata": {
        "colab": {
          "base_uri": "https://localhost:8080/"
        },
        "id": "xnVRgYuntjVl",
        "outputId": "39b1acd5-0eac-440f-b3c3-ca9c0f81b631"
      },
      "source": [
        "# Instead of going for a grid search approach, we will go for a simple loop method as there is just\n",
        "# 1 hyperparameter : C.\n",
        "\n",
        "train_auc = {}\n",
        "val_auc = {}\n",
        "\n",
        "C_val = [1e-7,1e-6,1e-5,1e-4,1e-3,1e-2]\n",
        "for i in tqdm(C_val):\n",
        "    model = LogisticRegression(C = i)\n",
        "    model.fit(scaler_train, y_train)\n",
        "\n",
        "    y_pred_train = model.predict_proba(scaler_train)   \n",
        "    y_pred_val = model.predict_proba(scaler_val)\n",
        "     \n",
        "    train_auc.update({i : round(roc_auc_score(y_train,y_pred_train[:,1]), 3)})\n",
        "    val_auc.update({i : round(roc_auc_score(y_val, y_pred_val[:,1]), 3)})\n",
        "\n",
        "# Print out the best AUC train and val score\n",
        "max_train_key = max(train_auc, key=train_auc.get)\n",
        "max_val_key = max(val_auc, key=val_auc.get)\n",
        "\n",
        "print('The maximum train AUC score was '+str(train_auc[max_train_key]) + ' for C value : ', max_train_key)\n",
        "print('The maximum validation AUC score was '+str(val_auc[max_val_key]) + ' for C value : ', max_val_key)"
      ],
      "execution_count": null,
      "outputs": [
        {
          "output_type": "stream",
          "text": [
            "100%|██████████| 6/6 [03:22<00:00, 33.78s/it]"
          ],
          "name": "stderr"
        },
        {
          "output_type": "stream",
          "text": [
            "The maximum train AUC score was 0.784 for C value :  0.01\n",
            "The maximum validation AUC score was 0.776 for C value :  0.001\n"
          ],
          "name": "stdout"
        },
        {
          "output_type": "stream",
          "text": [
            "\n"
          ],
          "name": "stderr"
        }
      ]
    },
    {
      "cell_type": "markdown",
      "metadata": {
        "id": "jptCQBX6W0Pn"
      },
      "source": [
        "ROC Curve and Confusion Matrix"
      ]
    },
    {
      "cell_type": "code",
      "metadata": {
        "colab": {
          "base_uri": "https://localhost:8080/",
          "height": 295
        },
        "id": "XxFu1YgWWznF",
        "outputId": "c04456bd-7b6c-49d2-ce47-aee6651a2bf8"
      },
      "source": [
        "# Plotting the ROC Curve\n",
        "y_pred_train = batch_predict(model, scaler_train)\n",
        "y_pred_val = batch_predict(model, scaler_val)\n",
        "\n",
        "train_parameters , val_parameters = plot_roc_curve(y_train, y_pred_train, y_val, y_pred_val, 'Logistic Regression')"
      ],
      "execution_count": null,
      "outputs": [
        {
          "output_type": "display_data",
          "data": {
            "image/png": "[encoded data removed]",
            "text/plain": [
              "<Figure size 432x288 with 1 Axes>"
            ]
          },
          "metadata": {
            "tags": []
          }
        }
      ]
    },
    {
      "cell_type": "code",
      "metadata": {
        "colab": {
          "base_uri": "https://localhost:8080/",
          "height": 297
        },
        "id": "PMT4N8ltVWWQ",
        "outputId": "3e9efb66-e871-40a7-d4a9-1ed9ae685bcd"
      },
      "source": [
        "# Plot the Confusion Matrix for both train and validation data\n",
        "\n",
        "y_pred_abs_train = predict(y_pred_train, train_parameters['threshold'], train_parameters['fpr'], train_parameters['tpr'])\n",
        "y_pred_abs_val = predict(y_pred_val, val_parameters['threshold'], val_parameters['fpr'], val_parameters['tpr'])\n",
        "\n",
        "plot_conf_matrix(y_train, y_pred_abs_train, y_val, y_pred_abs_val)"
      ],
      "execution_count": null,
      "outputs": [
        {
          "output_type": "display_data",
          "data": {
            "image/png": "[encoded data removed]",
            "text/plain": [
              "<Figure size 720x288 with 4 Axes>"
            ]
          },
          "metadata": {
            "tags": []
          }
        }
      ]
    },
    {
      "cell_type": "code",
      "metadata": {
        "id": "AZShJ1wL9eIe"
      },
      "source": [
        "# Creating and storing the submission file for test data\n",
        "y_pred_lr = model.predict_proba(scaled_test)[:, 1]\n",
        "submit_lr = pd.read_csv(directory + 'sample_submission.csv')\n",
        "submit_lr['TARGET'] = y_pred_lr\n",
        "submit_lr.to_csv('logistic_regression_submission.csv', index = False)"
      ],
      "execution_count": null,
      "outputs": []
    },
    {
      "cell_type": "markdown",
      "metadata": {
        "id": "6lk22yq3TdGs"
      },
      "source": [
        "After submitting this to Kaggle, I got a Leaderboard score of 0.767 which is pretty impressive for a simple Logistic Regression model.\n",
        "\n",
        "![image.png](data:image/png;base64,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)"
      ]
    },
    {
      "cell_type": "code",
      "metadata": {
        "id": "EAF0JEl-KmLK"
      },
      "source": [
        "# Now that we have completed everything, we will delete the model and variables to free memory\n",
        "del model, submit_lr, train_parameters, val_parameters, y_pred_abs_train, y_pred_abs_val, y_pred_train, y_pred_val"
      ],
      "execution_count": null,
      "outputs": []
    },
    {
      "cell_type": "markdown",
      "metadata": {
        "id": "FV-Zwpp4KGxL"
      },
      "source": [
        "### 3. Random Forest"
      ]
    },
    {
      "cell_type": "markdown",
      "metadata": {
        "id": "gGLL1HLCYBm6"
      },
      "source": [
        "For Random Forest, we will tune the model using a given set of parameters that I found while surfing through the discussions and online blogs for my research. \n",
        "\n",
        "We will be using Randomized Search CV for hyper parameter tuning but after testing it on colab, the system tends to run out of ram when doing so. I even tried to select the best features but that also faces the same RAM overflow issue.\n",
        "\n",
        "So, I have used a Random Forest model I got from a public kernel of the competition."
      ]
    },
    {
      "cell_type": "code",
      "metadata": {
        "colab": {
          "base_uri": "https://localhost:8080/"
        },
        "id": "0p0T3-SJXx1x",
        "outputId": "a450f6a2-0876-43e9-b30a-8349588b6899"
      },
      "source": [
        "# Reference : https://www.kaggle.com/hamzaben/eda-random-forest-lightgbm-0-758\n",
        "# The reference is for taking the tunes model parameters only.\n",
        "\n",
        "model = RandomForestClassifier(n_estimators=200, \n",
        "                                      min_samples_split=10, \n",
        "                                      min_samples_leaf=5, \n",
        "                                      n_jobs=-1,\n",
        "                                      verbose = 1, \n",
        "                                      random_state=42) \n",
        "\n",
        "model.fit(scaler_train, y_train)"
      ],
      "execution_count": null,
      "outputs": [
        {
          "output_type": "stream",
          "text": [
            "[Parallel(n_jobs=-1)]: Using backend ThreadingBackend with 4 concurrent workers.\n",
            "[Parallel(n_jobs=-1)]: Done  42 tasks      | elapsed:  4.1min\n",
            "[Parallel(n_jobs=-1)]: Done 192 tasks      | elapsed: 16.8min\n",
            "[Parallel(n_jobs=-1)]: Done 200 out of 200 | elapsed: 17.4min finished\n"
          ],
          "name": "stderr"
        },
        {
          "output_type": "execute_result",
          "data": {
            "text/plain": [
              "RandomForestClassifier(bootstrap=True, ccp_alpha=0.0, class_weight=None,\n",
              "                       criterion='gini', max_depth=None, max_features='auto',\n",
              "                       max_leaf_nodes=None, max_samples=None,\n",
              "                       min_impurity_decrease=0.0, min_impurity_split=None,\n",
              "                       min_samples_leaf=5, min_samples_split=10,\n",
              "                       min_weight_fraction_leaf=0.0, n_estimators=200,\n",
              "                       n_jobs=-1, oob_score=False, random_state=42, verbose=1,\n",
              "                       warm_start=False)"
            ]
          },
          "metadata": {
            "tags": []
          },
          "execution_count": 106
        }
      ]
    },
    {
      "cell_type": "code",
      "metadata": {
        "colab": {
          "base_uri": "https://localhost:8080/",
          "height": 1000
        },
        "id": "F-exYk_AsmrS",
        "outputId": "7a8e11ec-51cb-4a88-fd9c-5f932bf69565"
      },
      "source": [
        "# Getting the probablity predictions and plotting the ROC AUC Curve\n",
        "y_pred_train = batch_predict(model, scaler_train)\n",
        "y_pred_val = batch_predict(model, scaler_val)\n",
        "\n",
        "train_parameters , val_parameters = plot_roc_curve(y_train, y_pred_train, y_val, y_pred_val, 'Random Forest')"
      ],
      "execution_count": null,
      "outputs": [
        {
          "output_type": "stream",
          "text": [
            "[Parallel(n_jobs=4)]: Using backend ThreadingBackend with 4 concurrent workers.\n",
            "[Parallel(n_jobs=4)]: Done  42 tasks      | elapsed:    0.0s\n",
            "[Parallel(n_jobs=4)]: Done 192 tasks      | elapsed:    0.1s\n",
            "[Parallel(n_jobs=4)]: Done 200 out of 200 | elapsed:    0.2s finished\n",
            "[Parallel(n_jobs=4)]: Using backend ThreadingBackend with 4 concurrent workers.\n",
            "[Parallel(n_jobs=4)]: Done  42 tasks      | elapsed:    0.0s\n",
            "[Parallel(n_jobs=4)]: Done 192 tasks      | elapsed:    0.1s\n",
            "[Parallel(n_jobs=4)]: Done 200 out of 200 | elapsed:    0.1s finished\n",
            "[Parallel(n_jobs=4)]: Using backend ThreadingBackend with 4 concurrent workers.\n",
            "[Parallel(n_jobs=4)]: Done  42 tasks      | elapsed:    0.0s\n",
            "[Parallel(n_jobs=4)]: Done 192 tasks      | elapsed:    0.1s\n",
            "[Parallel(n_jobs=4)]: Done 200 out of 200 | elapsed:    0.1s finished\n",
            "[Parallel(n_jobs=4)]: Using backend ThreadingBackend with 4 concurrent workers.\n",
            "[Parallel(n_jobs=4)]: Done  42 tasks      | elapsed:    0.0s\n",
            "[Parallel(n_jobs=4)]: Done 192 tasks      | elapsed:    0.1s\n",
            "[Parallel(n_jobs=4)]: Done 200 out of 200 | elapsed:    0.1s finished\n",
            "[Parallel(n_jobs=4)]: Using backend ThreadingBackend with 4 concurrent workers.\n",
            "[Parallel(n_jobs=4)]: Done  42 tasks      | elapsed:    0.0s\n",
            "[Parallel(n_jobs=4)]: Done 192 tasks      | elapsed:    0.1s\n",
            "[Parallel(n_jobs=4)]: Done 200 out of 200 | elapsed:    0.1s finished\n",
            "[Parallel(n_jobs=4)]: Using backend ThreadingBackend with 4 concurrent workers.\n",
            "[Parallel(n_jobs=4)]: Done  42 tasks      | elapsed:    0.0s\n",
            "[Parallel(n_jobs=4)]: Done 192 tasks      | elapsed:    0.1s\n",
            "[Parallel(n_jobs=4)]: Done 200 out of 200 | elapsed:    0.1s finished\n",
            "[Parallel(n_jobs=4)]: Using backend ThreadingBackend with 4 concurrent workers.\n",
            "[Parallel(n_jobs=4)]: Done  42 tasks      | elapsed:    0.0s\n",
            "[Parallel(n_jobs=4)]: Done 192 tasks      | elapsed:    0.2s\n",
            "[Parallel(n_jobs=4)]: Done 200 out of 200 | elapsed:    0.2s finished\n",
            "[Parallel(n_jobs=4)]: Using backend ThreadingBackend with 4 concurrent workers.\n",
            "[Parallel(n_jobs=4)]: Done  42 tasks      | elapsed:    0.0s\n",
            "[Parallel(n_jobs=4)]: Done 192 tasks      | elapsed:    0.1s\n",
            "[Parallel(n_jobs=4)]: Done 200 out of 200 | elapsed:    0.1s finished\n",
            "[Parallel(n_jobs=4)]: Using backend ThreadingBackend with 4 concurrent workers.\n",
            "[Parallel(n_jobs=4)]: Done  42 tasks      | elapsed:    0.0s\n",
            "[Parallel(n_jobs=4)]: Done 192 tasks      | elapsed:    0.1s\n",
            "[Parallel(n_jobs=4)]: Done 200 out of 200 | elapsed:    0.1s finished\n",
            "[Parallel(n_jobs=4)]: Using backend ThreadingBackend with 4 concurrent workers.\n",
            "[Parallel(n_jobs=4)]: Done  42 tasks      | elapsed:    0.0s\n",
            "[Parallel(n_jobs=4)]: Done 192 tasks      | elapsed:    0.1s\n",
            "[Parallel(n_jobs=4)]: Done 200 out of 200 | elapsed:    0.2s finished\n",
            "[Parallel(n_jobs=4)]: Using backend ThreadingBackend with 4 concurrent workers.\n",
            "[Parallel(n_jobs=4)]: Done  42 tasks      | elapsed:    0.0s\n",
            "[Parallel(n_jobs=4)]: Done 192 tasks      | elapsed:    0.1s\n",
            "[Parallel(n_jobs=4)]: Done 200 out of 200 | elapsed:    0.1s finished\n",
            "[Parallel(n_jobs=4)]: Using backend ThreadingBackend with 4 concurrent workers.\n",
            "[Parallel(n_jobs=4)]: Done  42 tasks      | elapsed:    0.0s\n",
            "[Parallel(n_jobs=4)]: Done 192 tasks      | elapsed:    0.1s\n",
            "[Parallel(n_jobs=4)]: Done 200 out of 200 | elapsed:    0.1s finished\n",
            "[Parallel(n_jobs=4)]: Using backend ThreadingBackend with 4 concurrent workers.\n",
            "[Parallel(n_jobs=4)]: Done  42 tasks      | elapsed:    0.0s\n",
            "[Parallel(n_jobs=4)]: Done 192 tasks      | elapsed:    0.2s\n",
            "[Parallel(n_jobs=4)]: Done 200 out of 200 | elapsed:    0.2s finished\n",
            "[Parallel(n_jobs=4)]: Using backend ThreadingBackend with 4 concurrent workers.\n",
            "[Parallel(n_jobs=4)]: Done  42 tasks      | elapsed:    0.0s\n",
            "[Parallel(n_jobs=4)]: Done 192 tasks      | elapsed:    0.1s\n",
            "[Parallel(n_jobs=4)]: Done 200 out of 200 | elapsed:    0.1s finished\n",
            "[Parallel(n_jobs=4)]: Using backend ThreadingBackend with 4 concurrent workers.\n",
            "[Parallel(n_jobs=4)]: Done  42 tasks      | elapsed:    0.0s\n",
            "[Parallel(n_jobs=4)]: Done 192 tasks      | elapsed:    0.2s\n",
            "[Parallel(n_jobs=4)]: Done 200 out of 200 | elapsed:    0.2s finished\n",
            "[Parallel(n_jobs=4)]: Using backend ThreadingBackend with 4 concurrent workers.\n",
            "[Parallel(n_jobs=4)]: Done  42 tasks      | elapsed:    0.0s\n",
            "[Parallel(n_jobs=4)]: Done 192 tasks      | elapsed:    0.1s\n",
            "[Parallel(n_jobs=4)]: Done 200 out of 200 | elapsed:    0.1s finished\n",
            "[Parallel(n_jobs=4)]: Using backend ThreadingBackend with 4 concurrent workers.\n",
            "[Parallel(n_jobs=4)]: Done  42 tasks      | elapsed:    0.0s\n",
            "[Parallel(n_jobs=4)]: Done 192 tasks      | elapsed:    0.1s\n",
            "[Parallel(n_jobs=4)]: Done 200 out of 200 | elapsed:    0.1s finished\n",
            "[Parallel(n_jobs=4)]: Using backend ThreadingBackend with 4 concurrent workers.\n",
            "[Parallel(n_jobs=4)]: Done  42 tasks      | elapsed:    0.0s\n",
            "[Parallel(n_jobs=4)]: Done 192 tasks      | elapsed:    0.1s\n",
            "[Parallel(n_jobs=4)]: Done 200 out of 200 | elapsed:    0.1s finished\n",
            "[Parallel(n_jobs=4)]: Using backend ThreadingBackend with 4 concurrent workers.\n",
            "[Parallel(n_jobs=4)]: Done  42 tasks      | elapsed:    0.0s\n",
            "[Parallel(n_jobs=4)]: Done 192 tasks      | elapsed:    0.2s\n",
            "[Parallel(n_jobs=4)]: Done 200 out of 200 | elapsed:    0.2s finished\n",
            "[Parallel(n_jobs=4)]: Using backend ThreadingBackend with 4 concurrent workers.\n",
            "[Parallel(n_jobs=4)]: Done  42 tasks      | elapsed:    0.0s\n",
            "[Parallel(n_jobs=4)]: Done 192 tasks      | elapsed:    0.1s\n",
            "[Parallel(n_jobs=4)]: Done 200 out of 200 | elapsed:    0.1s finished\n",
            "[Parallel(n_jobs=4)]: Using backend ThreadingBackend with 4 concurrent workers.\n",
            "[Parallel(n_jobs=4)]: Done  42 tasks      | elapsed:    0.0s\n",
            "[Parallel(n_jobs=4)]: Done 192 tasks      | elapsed:    0.1s\n",
            "[Parallel(n_jobs=4)]: Done 200 out of 200 | elapsed:    0.1s finished\n",
            "[Parallel(n_jobs=4)]: Using backend ThreadingBackend with 4 concurrent workers.\n",
            "[Parallel(n_jobs=4)]: Done  42 tasks      | elapsed:    0.0s\n",
            "[Parallel(n_jobs=4)]: Done 192 tasks      | elapsed:    0.1s\n",
            "[Parallel(n_jobs=4)]: Done 200 out of 200 | elapsed:    0.1s finished\n",
            "[Parallel(n_jobs=4)]: Using backend ThreadingBackend with 4 concurrent workers.\n",
            "[Parallel(n_jobs=4)]: Done  42 tasks      | elapsed:    0.0s\n",
            "[Parallel(n_jobs=4)]: Done 192 tasks      | elapsed:    0.1s\n",
            "[Parallel(n_jobs=4)]: Done 200 out of 200 | elapsed:    0.1s finished\n",
            "[Parallel(n_jobs=4)]: Using backend ThreadingBackend with 4 concurrent workers.\n",
            "[Parallel(n_jobs=4)]: Done  42 tasks      | elapsed:    0.0s\n",
            "[Parallel(n_jobs=4)]: Done 192 tasks      | elapsed:    0.2s\n",
            "[Parallel(n_jobs=4)]: Done 200 out of 200 | elapsed:    0.2s finished\n",
            "[Parallel(n_jobs=4)]: Using backend ThreadingBackend with 4 concurrent workers.\n",
            "[Parallel(n_jobs=4)]: Done  42 tasks      | elapsed:    0.0s\n",
            "[Parallel(n_jobs=4)]: Done 192 tasks      | elapsed:    0.1s\n",
            "[Parallel(n_jobs=4)]: Done 200 out of 200 | elapsed:    0.1s finished\n",
            "[Parallel(n_jobs=4)]: Using backend ThreadingBackend with 4 concurrent workers.\n",
            "[Parallel(n_jobs=4)]: Done  42 tasks      | elapsed:    0.0s\n",
            "[Parallel(n_jobs=4)]: Done 192 tasks      | elapsed:    0.1s\n",
            "[Parallel(n_jobs=4)]: Done 200 out of 200 | elapsed:    0.1s finished\n",
            "[Parallel(n_jobs=4)]: Using backend ThreadingBackend with 4 concurrent workers.\n",
            "[Parallel(n_jobs=4)]: Done  42 tasks      | elapsed:    0.0s\n",
            "[Parallel(n_jobs=4)]: Done 192 tasks      | elapsed:    0.1s\n",
            "[Parallel(n_jobs=4)]: Done 200 out of 200 | elapsed:    0.1s finished\n",
            "[Parallel(n_jobs=4)]: Using backend ThreadingBackend with 4 concurrent workers.\n",
            "[Parallel(n_jobs=4)]: Done  42 tasks      | elapsed:    0.0s\n",
            "[Parallel(n_jobs=4)]: Done 192 tasks      | elapsed:    0.1s\n",
            "[Parallel(n_jobs=4)]: Done 200 out of 200 | elapsed:    0.1s finished\n",
            "[Parallel(n_jobs=4)]: Using backend ThreadingBackend with 4 concurrent workers.\n",
            "[Parallel(n_jobs=4)]: Done  42 tasks      | elapsed:    0.0s\n",
            "[Parallel(n_jobs=4)]: Done 192 tasks      | elapsed:    0.1s\n",
            "[Parallel(n_jobs=4)]: Done 200 out of 200 | elapsed:    0.1s finished\n",
            "[Parallel(n_jobs=4)]: Using backend ThreadingBackend with 4 concurrent workers.\n",
            "[Parallel(n_jobs=4)]: Done  42 tasks      | elapsed:    0.0s\n",
            "[Parallel(n_jobs=4)]: Done 192 tasks      | elapsed:    0.1s\n",
            "[Parallel(n_jobs=4)]: Done 200 out of 200 | elapsed:    0.1s finished\n",
            "[Parallel(n_jobs=4)]: Using backend ThreadingBackend with 4 concurrent workers.\n",
            "[Parallel(n_jobs=4)]: Done  42 tasks      | elapsed:    0.0s\n",
            "[Parallel(n_jobs=4)]: Done 192 tasks      | elapsed:    0.1s\n",
            "[Parallel(n_jobs=4)]: Done 200 out of 200 | elapsed:    0.1s finished\n",
            "[Parallel(n_jobs=4)]: Using backend ThreadingBackend with 4 concurrent workers.\n",
            "[Parallel(n_jobs=4)]: Done  42 tasks      | elapsed:    0.0s\n",
            "[Parallel(n_jobs=4)]: Done 192 tasks      | elapsed:    0.1s\n",
            "[Parallel(n_jobs=4)]: Done 200 out of 200 | elapsed:    0.1s finished\n",
            "[Parallel(n_jobs=4)]: Using backend ThreadingBackend with 4 concurrent workers.\n",
            "[Parallel(n_jobs=4)]: Done  42 tasks      | elapsed:    0.0s\n",
            "[Parallel(n_jobs=4)]: Done 192 tasks      | elapsed:    0.1s\n",
            "[Parallel(n_jobs=4)]: Done 200 out of 200 | elapsed:    0.1s finished\n",
            "[Parallel(n_jobs=4)]: Using backend ThreadingBackend with 4 concurrent workers.\n",
            "[Parallel(n_jobs=4)]: Done  42 tasks      | elapsed:    0.0s\n",
            "[Parallel(n_jobs=4)]: Done 192 tasks      | elapsed:    0.1s\n",
            "[Parallel(n_jobs=4)]: Done 200 out of 200 | elapsed:    0.1s finished\n",
            "[Parallel(n_jobs=4)]: Using backend ThreadingBackend with 4 concurrent workers.\n",
            "[Parallel(n_jobs=4)]: Done  42 tasks      | elapsed:    0.0s\n",
            "[Parallel(n_jobs=4)]: Done 192 tasks      | elapsed:    0.1s\n",
            "[Parallel(n_jobs=4)]: Done 200 out of 200 | elapsed:    0.1s finished\n",
            "[Parallel(n_jobs=4)]: Using backend ThreadingBackend with 4 concurrent workers.\n",
            "[Parallel(n_jobs=4)]: Done  42 tasks      | elapsed:    0.0s\n",
            "[Parallel(n_jobs=4)]: Done 192 tasks      | elapsed:    0.1s\n",
            "[Parallel(n_jobs=4)]: Done 200 out of 200 | elapsed:    0.1s finished\n",
            "[Parallel(n_jobs=4)]: Using backend ThreadingBackend with 4 concurrent workers.\n",
            "[Parallel(n_jobs=4)]: Done  42 tasks      | elapsed:    0.0s\n",
            "[Parallel(n_jobs=4)]: Done 192 tasks      | elapsed:    0.1s\n",
            "[Parallel(n_jobs=4)]: Done 200 out of 200 | elapsed:    0.1s finished\n",
            "[Parallel(n_jobs=4)]: Using backend ThreadingBackend with 4 concurrent workers.\n",
            "[Parallel(n_jobs=4)]: Done  42 tasks      | elapsed:    0.0s\n",
            "[Parallel(n_jobs=4)]: Done 192 tasks      | elapsed:    0.1s\n",
            "[Parallel(n_jobs=4)]: Done 200 out of 200 | elapsed:    0.1s finished\n",
            "[Parallel(n_jobs=4)]: Using backend ThreadingBackend with 4 concurrent workers.\n",
            "[Parallel(n_jobs=4)]: Done  42 tasks      | elapsed:    0.0s\n",
            "[Parallel(n_jobs=4)]: Done 192 tasks      | elapsed:    0.1s\n",
            "[Parallel(n_jobs=4)]: Done 200 out of 200 | elapsed:    0.1s finished\n",
            "[Parallel(n_jobs=4)]: Using backend ThreadingBackend with 4 concurrent workers.\n",
            "[Parallel(n_jobs=4)]: Done  42 tasks      | elapsed:    0.0s\n",
            "[Parallel(n_jobs=4)]: Done 192 tasks      | elapsed:    0.1s\n",
            "[Parallel(n_jobs=4)]: Done 200 out of 200 | elapsed:    0.1s finished\n",
            "[Parallel(n_jobs=4)]: Using backend ThreadingBackend with 4 concurrent workers.\n",
            "[Parallel(n_jobs=4)]: Done  42 tasks      | elapsed:    0.0s\n",
            "[Parallel(n_jobs=4)]: Done 192 tasks      | elapsed:    0.1s\n",
            "[Parallel(n_jobs=4)]: Done 200 out of 200 | elapsed:    0.1s finished\n",
            "[Parallel(n_jobs=4)]: Using backend ThreadingBackend with 4 concurrent workers.\n",
            "[Parallel(n_jobs=4)]: Done  42 tasks      | elapsed:    0.0s\n",
            "[Parallel(n_jobs=4)]: Done 192 tasks      | elapsed:    0.1s\n",
            "[Parallel(n_jobs=4)]: Done 200 out of 200 | elapsed:    0.1s finished\n",
            "[Parallel(n_jobs=4)]: Using backend ThreadingBackend with 4 concurrent workers.\n",
            "[Parallel(n_jobs=4)]: Done  42 tasks      | elapsed:    0.0s\n",
            "[Parallel(n_jobs=4)]: Done 192 tasks      | elapsed:    0.2s\n",
            "[Parallel(n_jobs=4)]: Done 200 out of 200 | elapsed:    0.2s finished\n",
            "[Parallel(n_jobs=4)]: Using backend ThreadingBackend with 4 concurrent workers.\n",
            "[Parallel(n_jobs=4)]: Done  42 tasks      | elapsed:    0.0s\n",
            "[Parallel(n_jobs=4)]: Done 192 tasks      | elapsed:    0.1s\n",
            "[Parallel(n_jobs=4)]: Done 200 out of 200 | elapsed:    0.1s finished\n",
            "[Parallel(n_jobs=4)]: Using backend ThreadingBackend with 4 concurrent workers.\n",
            "[Parallel(n_jobs=4)]: Done  42 tasks      | elapsed:    0.0s\n",
            "[Parallel(n_jobs=4)]: Done 192 tasks      | elapsed:    0.1s\n",
            "[Parallel(n_jobs=4)]: Done 200 out of 200 | elapsed:    0.1s finished\n",
            "[Parallel(n_jobs=4)]: Using backend ThreadingBackend with 4 concurrent workers.\n",
            "[Parallel(n_jobs=4)]: Done  42 tasks      | elapsed:    0.0s\n",
            "[Parallel(n_jobs=4)]: Done 192 tasks      | elapsed:    0.1s\n",
            "[Parallel(n_jobs=4)]: Done 200 out of 200 | elapsed:    0.2s finished\n",
            "[Parallel(n_jobs=4)]: Using backend ThreadingBackend with 4 concurrent workers.\n",
            "[Parallel(n_jobs=4)]: Done  42 tasks      | elapsed:    0.0s\n",
            "[Parallel(n_jobs=4)]: Done 192 tasks      | elapsed:    0.1s\n",
            "[Parallel(n_jobs=4)]: Done 200 out of 200 | elapsed:    0.1s finished\n",
            "[Parallel(n_jobs=4)]: Using backend ThreadingBackend with 4 concurrent workers.\n",
            "[Parallel(n_jobs=4)]: Done  42 tasks      | elapsed:    0.0s\n",
            "[Parallel(n_jobs=4)]: Done 192 tasks      | elapsed:    0.1s\n",
            "[Parallel(n_jobs=4)]: Done 200 out of 200 | elapsed:    0.1s finished\n",
            "[Parallel(n_jobs=4)]: Using backend ThreadingBackend with 4 concurrent workers.\n",
            "[Parallel(n_jobs=4)]: Done  42 tasks      | elapsed:    0.0s\n",
            "[Parallel(n_jobs=4)]: Done 192 tasks      | elapsed:    0.1s\n",
            "[Parallel(n_jobs=4)]: Done 200 out of 200 | elapsed:    0.1s finished\n",
            "[Parallel(n_jobs=4)]: Using backend ThreadingBackend with 4 concurrent workers.\n",
            "[Parallel(n_jobs=4)]: Done  42 tasks      | elapsed:    0.0s\n",
            "[Parallel(n_jobs=4)]: Done 192 tasks      | elapsed:    0.1s\n",
            "[Parallel(n_jobs=4)]: Done 200 out of 200 | elapsed:    0.1s finished\n",
            "[Parallel(n_jobs=4)]: Using backend ThreadingBackend with 4 concurrent workers.\n",
            "[Parallel(n_jobs=4)]: Done  42 tasks      | elapsed:    0.0s\n",
            "[Parallel(n_jobs=4)]: Done 192 tasks      | elapsed:    0.1s\n",
            "[Parallel(n_jobs=4)]: Done 200 out of 200 | elapsed:    0.1s finished\n",
            "[Parallel(n_jobs=4)]: Using backend ThreadingBackend with 4 concurrent workers.\n",
            "[Parallel(n_jobs=4)]: Done  42 tasks      | elapsed:    0.0s\n",
            "[Parallel(n_jobs=4)]: Done 192 tasks      | elapsed:    0.1s\n",
            "[Parallel(n_jobs=4)]: Done 200 out of 200 | elapsed:    0.1s finished\n",
            "[Parallel(n_jobs=4)]: Using backend ThreadingBackend with 4 concurrent workers.\n",
            "[Parallel(n_jobs=4)]: Done  42 tasks      | elapsed:    0.0s\n",
            "[Parallel(n_jobs=4)]: Done 192 tasks      | elapsed:    0.1s\n",
            "[Parallel(n_jobs=4)]: Done 200 out of 200 | elapsed:    0.1s finished\n",
            "[Parallel(n_jobs=4)]: Using backend ThreadingBackend with 4 concurrent workers.\n",
            "[Parallel(n_jobs=4)]: Done  42 tasks      | elapsed:    0.0s\n",
            "[Parallel(n_jobs=4)]: Done 192 tasks      | elapsed:    0.1s\n",
            "[Parallel(n_jobs=4)]: Done 200 out of 200 | elapsed:    0.1s finished\n",
            "[Parallel(n_jobs=4)]: Using backend ThreadingBackend with 4 concurrent workers.\n",
            "[Parallel(n_jobs=4)]: Done  42 tasks      | elapsed:    0.0s\n",
            "[Parallel(n_jobs=4)]: Done 192 tasks      | elapsed:    0.1s\n",
            "[Parallel(n_jobs=4)]: Done 200 out of 200 | elapsed:    0.1s finished\n",
            "[Parallel(n_jobs=4)]: Using backend ThreadingBackend with 4 concurrent workers.\n",
            "[Parallel(n_jobs=4)]: Done  42 tasks      | elapsed:    0.0s\n",
            "[Parallel(n_jobs=4)]: Done 192 tasks      | elapsed:    0.1s\n",
            "[Parallel(n_jobs=4)]: Done 200 out of 200 | elapsed:    0.1s finished\n",
            "[Parallel(n_jobs=4)]: Using backend ThreadingBackend with 4 concurrent workers.\n",
            "[Parallel(n_jobs=4)]: Done  42 tasks      | elapsed:    0.0s\n",
            "[Parallel(n_jobs=4)]: Done 192 tasks      | elapsed:    0.1s\n",
            "[Parallel(n_jobs=4)]: Done 200 out of 200 | elapsed:    0.1s finished\n",
            "[Parallel(n_jobs=4)]: Using backend ThreadingBackend with 4 concurrent workers.\n",
            "[Parallel(n_jobs=4)]: Done  42 tasks      | elapsed:    0.0s\n",
            "[Parallel(n_jobs=4)]: Done 192 tasks      | elapsed:    0.1s\n",
            "[Parallel(n_jobs=4)]: Done 200 out of 200 | elapsed:    0.2s finished\n",
            "[Parallel(n_jobs=4)]: Using backend ThreadingBackend with 4 concurrent workers.\n",
            "[Parallel(n_jobs=4)]: Done  42 tasks      | elapsed:    0.0s\n",
            "[Parallel(n_jobs=4)]: Done 192 tasks      | elapsed:    0.1s\n",
            "[Parallel(n_jobs=4)]: Done 200 out of 200 | elapsed:    0.2s finished\n",
            "[Parallel(n_jobs=4)]: Using backend ThreadingBackend with 4 concurrent workers.\n",
            "[Parallel(n_jobs=4)]: Done  42 tasks      | elapsed:    0.0s\n",
            "[Parallel(n_jobs=4)]: Done 192 tasks      | elapsed:    0.1s\n",
            "[Parallel(n_jobs=4)]: Done 200 out of 200 | elapsed:    0.1s finished\n",
            "[Parallel(n_jobs=4)]: Using backend ThreadingBackend with 4 concurrent workers.\n",
            "[Parallel(n_jobs=4)]: Done  42 tasks      | elapsed:    0.0s\n",
            "[Parallel(n_jobs=4)]: Done 192 tasks      | elapsed:    0.1s\n",
            "[Parallel(n_jobs=4)]: Done 200 out of 200 | elapsed:    0.1s finished\n",
            "[Parallel(n_jobs=4)]: Using backend ThreadingBackend with 4 concurrent workers.\n",
            "[Parallel(n_jobs=4)]: Done  42 tasks      | elapsed:    0.1s\n",
            "[Parallel(n_jobs=4)]: Done 192 tasks      | elapsed:    0.2s\n",
            "[Parallel(n_jobs=4)]: Done 200 out of 200 | elapsed:    0.2s finished\n",
            "[Parallel(n_jobs=4)]: Using backend ThreadingBackend with 4 concurrent workers.\n",
            "[Parallel(n_jobs=4)]: Done  42 tasks      | elapsed:    0.0s\n",
            "[Parallel(n_jobs=4)]: Done 192 tasks      | elapsed:    0.1s\n",
            "[Parallel(n_jobs=4)]: Done 200 out of 200 | elapsed:    0.2s finished\n",
            "[Parallel(n_jobs=4)]: Using backend ThreadingBackend with 4 concurrent workers.\n",
            "[Parallel(n_jobs=4)]: Done  42 tasks      | elapsed:    0.0s\n",
            "[Parallel(n_jobs=4)]: Done 192 tasks      | elapsed:    0.1s\n",
            "[Parallel(n_jobs=4)]: Done 200 out of 200 | elapsed:    0.2s finished\n",
            "[Parallel(n_jobs=4)]: Using backend ThreadingBackend with 4 concurrent workers.\n",
            "[Parallel(n_jobs=4)]: Done  42 tasks      | elapsed:    0.0s\n",
            "[Parallel(n_jobs=4)]: Done 192 tasks      | elapsed:    0.1s\n",
            "[Parallel(n_jobs=4)]: Done 200 out of 200 | elapsed:    0.1s finished\n",
            "[Parallel(n_jobs=4)]: Using backend ThreadingBackend with 4 concurrent workers.\n",
            "[Parallel(n_jobs=4)]: Done  42 tasks      | elapsed:    0.0s\n",
            "[Parallel(n_jobs=4)]: Done 192 tasks      | elapsed:    0.1s\n",
            "[Parallel(n_jobs=4)]: Done 200 out of 200 | elapsed:    0.1s finished\n",
            "[Parallel(n_jobs=4)]: Using backend ThreadingBackend with 4 concurrent workers.\n",
            "[Parallel(n_jobs=4)]: Done  42 tasks      | elapsed:    0.0s\n",
            "[Parallel(n_jobs=4)]: Done 192 tasks      | elapsed:    0.1s\n",
            "[Parallel(n_jobs=4)]: Done 200 out of 200 | elapsed:    0.1s finished\n",
            "[Parallel(n_jobs=4)]: Using backend ThreadingBackend with 4 concurrent workers.\n",
            "[Parallel(n_jobs=4)]: Done  42 tasks      | elapsed:    0.0s\n",
            "[Parallel(n_jobs=4)]: Done 192 tasks      | elapsed:    0.1s\n",
            "[Parallel(n_jobs=4)]: Done 200 out of 200 | elapsed:    0.2s finished\n",
            "[Parallel(n_jobs=4)]: Using backend ThreadingBackend with 4 concurrent workers.\n",
            "[Parallel(n_jobs=4)]: Done  42 tasks      | elapsed:    0.0s\n",
            "[Parallel(n_jobs=4)]: Done 192 tasks      | elapsed:    0.1s\n",
            "[Parallel(n_jobs=4)]: Done 200 out of 200 | elapsed:    0.1s finished\n",
            "[Parallel(n_jobs=4)]: Using backend ThreadingBackend with 4 concurrent workers.\n",
            "[Parallel(n_jobs=4)]: Done  42 tasks      | elapsed:    0.0s\n",
            "[Parallel(n_jobs=4)]: Done 192 tasks      | elapsed:    0.1s\n",
            "[Parallel(n_jobs=4)]: Done 200 out of 200 | elapsed:    0.1s finished\n",
            "[Parallel(n_jobs=4)]: Using backend ThreadingBackend with 4 concurrent workers.\n",
            "[Parallel(n_jobs=4)]: Done  42 tasks      | elapsed:    0.0s\n",
            "[Parallel(n_jobs=4)]: Done 192 tasks      | elapsed:    0.1s\n",
            "[Parallel(n_jobs=4)]: Done 200 out of 200 | elapsed:    0.1s finished\n",
            "[Parallel(n_jobs=4)]: Using backend ThreadingBackend with 4 concurrent workers.\n",
            "[Parallel(n_jobs=4)]: Done  42 tasks      | elapsed:    0.0s\n",
            "[Parallel(n_jobs=4)]: Done 192 tasks      | elapsed:    0.1s\n",
            "[Parallel(n_jobs=4)]: Done 200 out of 200 | elapsed:    0.1s finished\n",
            "[Parallel(n_jobs=4)]: Using backend ThreadingBackend with 4 concurrent workers.\n",
            "[Parallel(n_jobs=4)]: Done  42 tasks      | elapsed:    0.0s\n",
            "[Parallel(n_jobs=4)]: Done 192 tasks      | elapsed:    0.1s\n",
            "[Parallel(n_jobs=4)]: Done 200 out of 200 | elapsed:    0.1s finished\n",
            "[Parallel(n_jobs=4)]: Using backend ThreadingBackend with 4 concurrent workers.\n",
            "[Parallel(n_jobs=4)]: Done  42 tasks      | elapsed:    0.0s\n",
            "[Parallel(n_jobs=4)]: Done 192 tasks      | elapsed:    0.1s\n",
            "[Parallel(n_jobs=4)]: Done 200 out of 200 | elapsed:    0.1s finished\n",
            "[Parallel(n_jobs=4)]: Using backend ThreadingBackend with 4 concurrent workers.\n",
            "[Parallel(n_jobs=4)]: Done  42 tasks      | elapsed:    0.0s\n",
            "[Parallel(n_jobs=4)]: Done 192 tasks      | elapsed:    0.2s\n",
            "[Parallel(n_jobs=4)]: Done 200 out of 200 | elapsed:    0.2s finished\n",
            "[Parallel(n_jobs=4)]: Using backend ThreadingBackend with 4 concurrent workers.\n",
            "[Parallel(n_jobs=4)]: Done  42 tasks      | elapsed:    0.0s\n",
            "[Parallel(n_jobs=4)]: Done 192 tasks      | elapsed:    0.1s\n",
            "[Parallel(n_jobs=4)]: Done 200 out of 200 | elapsed:    0.1s finished\n",
            "[Parallel(n_jobs=4)]: Using backend ThreadingBackend with 4 concurrent workers.\n",
            "[Parallel(n_jobs=4)]: Done  42 tasks      | elapsed:    0.0s\n",
            "[Parallel(n_jobs=4)]: Done 192 tasks      | elapsed:    0.1s\n",
            "[Parallel(n_jobs=4)]: Done 200 out of 200 | elapsed:    0.1s finished\n",
            "[Parallel(n_jobs=4)]: Using backend ThreadingBackend with 4 concurrent workers.\n",
            "[Parallel(n_jobs=4)]: Done  42 tasks      | elapsed:    0.0s\n",
            "[Parallel(n_jobs=4)]: Done 192 tasks      | elapsed:    0.1s\n",
            "[Parallel(n_jobs=4)]: Done 200 out of 200 | elapsed:    0.1s finished\n",
            "[Parallel(n_jobs=4)]: Using backend ThreadingBackend with 4 concurrent workers.\n",
            "[Parallel(n_jobs=4)]: Done  42 tasks      | elapsed:    0.0s\n",
            "[Parallel(n_jobs=4)]: Done 192 tasks      | elapsed:    0.1s\n",
            "[Parallel(n_jobs=4)]: Done 200 out of 200 | elapsed:    0.1s finished\n",
            "[Parallel(n_jobs=4)]: Using backend ThreadingBackend with 4 concurrent workers.\n",
            "[Parallel(n_jobs=4)]: Done  42 tasks      | elapsed:    0.0s\n",
            "[Parallel(n_jobs=4)]: Done 192 tasks      | elapsed:    0.1s\n",
            "[Parallel(n_jobs=4)]: Done 200 out of 200 | elapsed:    0.1s finished\n",
            "[Parallel(n_jobs=4)]: Using backend ThreadingBackend with 4 concurrent workers.\n",
            "[Parallel(n_jobs=4)]: Done  42 tasks      | elapsed:    0.0s\n",
            "[Parallel(n_jobs=4)]: Done 192 tasks      | elapsed:    0.1s\n",
            "[Parallel(n_jobs=4)]: Done 200 out of 200 | elapsed:    0.1s finished\n",
            "[Parallel(n_jobs=4)]: Using backend ThreadingBackend with 4 concurrent workers.\n",
            "[Parallel(n_jobs=4)]: Done  42 tasks      | elapsed:    0.0s\n",
            "[Parallel(n_jobs=4)]: Done 192 tasks      | elapsed:    0.1s\n",
            "[Parallel(n_jobs=4)]: Done 200 out of 200 | elapsed:    0.1s finished\n",
            "[Parallel(n_jobs=4)]: Using backend ThreadingBackend with 4 concurrent workers.\n",
            "[Parallel(n_jobs=4)]: Done  42 tasks      | elapsed:    0.0s\n",
            "[Parallel(n_jobs=4)]: Done 192 tasks      | elapsed:    0.1s\n",
            "[Parallel(n_jobs=4)]: Done 200 out of 200 | elapsed:    0.1s finished\n",
            "[Parallel(n_jobs=4)]: Using backend ThreadingBackend with 4 concurrent workers.\n",
            "[Parallel(n_jobs=4)]: Done  42 tasks      | elapsed:    0.0s\n",
            "[Parallel(n_jobs=4)]: Done 192 tasks      | elapsed:    0.1s\n",
            "[Parallel(n_jobs=4)]: Done 200 out of 200 | elapsed:    0.1s finished\n",
            "[Parallel(n_jobs=4)]: Using backend ThreadingBackend with 4 concurrent workers.\n",
            "[Parallel(n_jobs=4)]: Done  42 tasks      | elapsed:    0.0s\n",
            "[Parallel(n_jobs=4)]: Done 192 tasks      | elapsed:    0.1s\n",
            "[Parallel(n_jobs=4)]: Done 200 out of 200 | elapsed:    0.1s finished\n",
            "[Parallel(n_jobs=4)]: Using backend ThreadingBackend with 4 concurrent workers.\n",
            "[Parallel(n_jobs=4)]: Done  42 tasks      | elapsed:    0.0s\n",
            "[Parallel(n_jobs=4)]: Done 192 tasks      | elapsed:    0.1s\n",
            "[Parallel(n_jobs=4)]: Done 200 out of 200 | elapsed:    0.1s finished\n",
            "[Parallel(n_jobs=4)]: Using backend ThreadingBackend with 4 concurrent workers.\n",
            "[Parallel(n_jobs=4)]: Done  42 tasks      | elapsed:    0.0s\n",
            "[Parallel(n_jobs=4)]: Done 192 tasks      | elapsed:    0.1s\n",
            "[Parallel(n_jobs=4)]: Done 200 out of 200 | elapsed:    0.1s finished\n",
            "[Parallel(n_jobs=4)]: Using backend ThreadingBackend with 4 concurrent workers.\n",
            "[Parallel(n_jobs=4)]: Done  42 tasks      | elapsed:    0.0s\n",
            "[Parallel(n_jobs=4)]: Done 192 tasks      | elapsed:    0.1s\n",
            "[Parallel(n_jobs=4)]: Done 200 out of 200 | elapsed:    0.1s finished\n",
            "[Parallel(n_jobs=4)]: Using backend ThreadingBackend with 4 concurrent workers.\n",
            "[Parallel(n_jobs=4)]: Done  42 tasks      | elapsed:    0.0s\n",
            "[Parallel(n_jobs=4)]: Done 192 tasks      | elapsed:    0.1s\n",
            "[Parallel(n_jobs=4)]: Done 200 out of 200 | elapsed:    0.1s finished\n",
            "[Parallel(n_jobs=4)]: Using backend ThreadingBackend with 4 concurrent workers.\n",
            "[Parallel(n_jobs=4)]: Done  42 tasks      | elapsed:    0.0s\n",
            "[Parallel(n_jobs=4)]: Done 192 tasks      | elapsed:    0.1s\n",
            "[Parallel(n_jobs=4)]: Done 200 out of 200 | elapsed:    0.1s finished\n",
            "[Parallel(n_jobs=4)]: Using backend ThreadingBackend with 4 concurrent workers.\n",
            "[Parallel(n_jobs=4)]: Done  42 tasks      | elapsed:    0.0s\n",
            "[Parallel(n_jobs=4)]: Done 192 tasks      | elapsed:    0.1s\n",
            "[Parallel(n_jobs=4)]: Done 200 out of 200 | elapsed:    0.1s finished\n",
            "[Parallel(n_jobs=4)]: Using backend ThreadingBackend with 4 concurrent workers.\n",
            "[Parallel(n_jobs=4)]: Done  42 tasks      | elapsed:    0.0s\n",
            "[Parallel(n_jobs=4)]: Done 192 tasks      | elapsed:    0.1s\n",
            "[Parallel(n_jobs=4)]: Done 200 out of 200 | elapsed:    0.1s finished\n",
            "[Parallel(n_jobs=4)]: Using backend ThreadingBackend with 4 concurrent workers.\n",
            "[Parallel(n_jobs=4)]: Done  42 tasks      | elapsed:    0.0s\n",
            "[Parallel(n_jobs=4)]: Done 192 tasks      | elapsed:    0.1s\n",
            "[Parallel(n_jobs=4)]: Done 200 out of 200 | elapsed:    0.1s finished\n",
            "[Parallel(n_jobs=4)]: Using backend ThreadingBackend with 4 concurrent workers.\n",
            "[Parallel(n_jobs=4)]: Done  42 tasks      | elapsed:    0.0s\n",
            "[Parallel(n_jobs=4)]: Done 192 tasks      | elapsed:    0.1s\n",
            "[Parallel(n_jobs=4)]: Done 200 out of 200 | elapsed:    0.1s finished\n",
            "[Parallel(n_jobs=4)]: Using backend ThreadingBackend with 4 concurrent workers.\n",
            "[Parallel(n_jobs=4)]: Done  42 tasks      | elapsed:    0.0s\n",
            "[Parallel(n_jobs=4)]: Done 192 tasks      | elapsed:    0.1s\n",
            "[Parallel(n_jobs=4)]: Done 200 out of 200 | elapsed:    0.1s finished\n",
            "[Parallel(n_jobs=4)]: Using backend ThreadingBackend with 4 concurrent workers.\n",
            "[Parallel(n_jobs=4)]: Done  42 tasks      | elapsed:    0.0s\n",
            "[Parallel(n_jobs=4)]: Done 192 tasks      | elapsed:    0.1s\n",
            "[Parallel(n_jobs=4)]: Done 200 out of 200 | elapsed:    0.1s finished\n",
            "[Parallel(n_jobs=4)]: Using backend ThreadingBackend with 4 concurrent workers.\n",
            "[Parallel(n_jobs=4)]: Done  42 tasks      | elapsed:    0.0s\n",
            "[Parallel(n_jobs=4)]: Done 192 tasks      | elapsed:    0.1s\n",
            "[Parallel(n_jobs=4)]: Done 200 out of 200 | elapsed:    0.1s finished\n",
            "[Parallel(n_jobs=4)]: Using backend ThreadingBackend with 4 concurrent workers.\n",
            "[Parallel(n_jobs=4)]: Done  42 tasks      | elapsed:    0.0s\n",
            "[Parallel(n_jobs=4)]: Done 192 tasks      | elapsed:    0.1s\n",
            "[Parallel(n_jobs=4)]: Done 200 out of 200 | elapsed:    0.1s finished\n",
            "[Parallel(n_jobs=4)]: Using backend ThreadingBackend with 4 concurrent workers.\n",
            "[Parallel(n_jobs=4)]: Done  42 tasks      | elapsed:    0.0s\n",
            "[Parallel(n_jobs=4)]: Done 192 tasks      | elapsed:    0.1s\n",
            "[Parallel(n_jobs=4)]: Done 200 out of 200 | elapsed:    0.1s finished\n",
            "[Parallel(n_jobs=4)]: Using backend ThreadingBackend with 4 concurrent workers.\n",
            "[Parallel(n_jobs=4)]: Done  42 tasks      | elapsed:    0.0s\n",
            "[Parallel(n_jobs=4)]: Done 192 tasks      | elapsed:    0.1s\n",
            "[Parallel(n_jobs=4)]: Done 200 out of 200 | elapsed:    0.1s finished\n",
            "[Parallel(n_jobs=4)]: Using backend ThreadingBackend with 4 concurrent workers.\n",
            "[Parallel(n_jobs=4)]: Done  42 tasks      | elapsed:    0.0s\n",
            "[Parallel(n_jobs=4)]: Done 192 tasks      | elapsed:    0.1s\n",
            "[Parallel(n_jobs=4)]: Done 200 out of 200 | elapsed:    0.1s finished\n",
            "[Parallel(n_jobs=4)]: Using backend ThreadingBackend with 4 concurrent workers.\n",
            "[Parallel(n_jobs=4)]: Done  42 tasks      | elapsed:    0.0s\n",
            "[Parallel(n_jobs=4)]: Done 192 tasks      | elapsed:    0.1s\n",
            "[Parallel(n_jobs=4)]: Done 200 out of 200 | elapsed:    0.1s finished\n",
            "[Parallel(n_jobs=4)]: Using backend ThreadingBackend with 4 concurrent workers.\n",
            "[Parallel(n_jobs=4)]: Done  42 tasks      | elapsed:    0.0s\n",
            "[Parallel(n_jobs=4)]: Done 192 tasks      | elapsed:    0.1s\n",
            "[Parallel(n_jobs=4)]: Done 200 out of 200 | elapsed:    0.1s finished\n",
            "[Parallel(n_jobs=4)]: Using backend ThreadingBackend with 4 concurrent workers.\n",
            "[Parallel(n_jobs=4)]: Done  42 tasks      | elapsed:    0.0s\n",
            "[Parallel(n_jobs=4)]: Done 192 tasks      | elapsed:    0.1s\n",
            "[Parallel(n_jobs=4)]: Done 200 out of 200 | elapsed:    0.1s finished\n",
            "[Parallel(n_jobs=4)]: Using backend ThreadingBackend with 4 concurrent workers.\n",
            "[Parallel(n_jobs=4)]: Done  42 tasks      | elapsed:    0.0s\n",
            "[Parallel(n_jobs=4)]: Done 192 tasks      | elapsed:    0.1s\n",
            "[Parallel(n_jobs=4)]: Done 200 out of 200 | elapsed:    0.1s finished\n",
            "[Parallel(n_jobs=4)]: Using backend ThreadingBackend with 4 concurrent workers.\n",
            "[Parallel(n_jobs=4)]: Done  42 tasks      | elapsed:    0.0s\n",
            "[Parallel(n_jobs=4)]: Done 192 tasks      | elapsed:    0.1s\n",
            "[Parallel(n_jobs=4)]: Done 200 out of 200 | elapsed:    0.1s finished\n",
            "[Parallel(n_jobs=4)]: Using backend ThreadingBackend with 4 concurrent workers.\n",
            "[Parallel(n_jobs=4)]: Done  42 tasks      | elapsed:    0.0s\n",
            "[Parallel(n_jobs=4)]: Done 192 tasks      | elapsed:    0.1s\n",
            "[Parallel(n_jobs=4)]: Done 200 out of 200 | elapsed:    0.1s finished\n",
            "[Parallel(n_jobs=4)]: Using backend ThreadingBackend with 4 concurrent workers.\n",
            "[Parallel(n_jobs=4)]: Done  42 tasks      | elapsed:    0.0s\n",
            "[Parallel(n_jobs=4)]: Done 192 tasks      | elapsed:    0.1s\n",
            "[Parallel(n_jobs=4)]: Done 200 out of 200 | elapsed:    0.1s finished\n",
            "[Parallel(n_jobs=4)]: Using backend ThreadingBackend with 4 concurrent workers.\n",
            "[Parallel(n_jobs=4)]: Done  42 tasks      | elapsed:    0.0s\n",
            "[Parallel(n_jobs=4)]: Done 192 tasks      | elapsed:    0.1s\n",
            "[Parallel(n_jobs=4)]: Done 200 out of 200 | elapsed:    0.1s finished\n",
            "[Parallel(n_jobs=4)]: Using backend ThreadingBackend with 4 concurrent workers.\n",
            "[Parallel(n_jobs=4)]: Done  42 tasks      | elapsed:    0.0s\n",
            "[Parallel(n_jobs=4)]: Done 192 tasks      | elapsed:    0.1s\n",
            "[Parallel(n_jobs=4)]: Done 200 out of 200 | elapsed:    0.2s finished\n",
            "[Parallel(n_jobs=4)]: Using backend ThreadingBackend with 4 concurrent workers.\n",
            "[Parallel(n_jobs=4)]: Done  42 tasks      | elapsed:    0.0s\n",
            "[Parallel(n_jobs=4)]: Done 192 tasks      | elapsed:    0.1s\n",
            "[Parallel(n_jobs=4)]: Done 200 out of 200 | elapsed:    0.1s finished\n",
            "[Parallel(n_jobs=4)]: Using backend ThreadingBackend with 4 concurrent workers.\n",
            "[Parallel(n_jobs=4)]: Done  42 tasks      | elapsed:    0.0s\n",
            "[Parallel(n_jobs=4)]: Done 192 tasks      | elapsed:    0.1s\n",
            "[Parallel(n_jobs=4)]: Done 200 out of 200 | elapsed:    0.1s finished\n",
            "[Parallel(n_jobs=4)]: Using backend ThreadingBackend with 4 concurrent workers.\n",
            "[Parallel(n_jobs=4)]: Done  42 tasks      | elapsed:    0.0s\n",
            "[Parallel(n_jobs=4)]: Done 192 tasks      | elapsed:    0.1s\n",
            "[Parallel(n_jobs=4)]: Done 200 out of 200 | elapsed:    0.1s finished\n",
            "[Parallel(n_jobs=4)]: Using backend ThreadingBackend with 4 concurrent workers.\n",
            "[Parallel(n_jobs=4)]: Done  42 tasks      | elapsed:    0.0s\n",
            "[Parallel(n_jobs=4)]: Done 192 tasks      | elapsed:    0.1s\n",
            "[Parallel(n_jobs=4)]: Done 200 out of 200 | elapsed:    0.1s finished\n",
            "[Parallel(n_jobs=4)]: Using backend ThreadingBackend with 4 concurrent workers.\n",
            "[Parallel(n_jobs=4)]: Done  42 tasks      | elapsed:    0.0s\n",
            "[Parallel(n_jobs=4)]: Done 192 tasks      | elapsed:    0.1s\n",
            "[Parallel(n_jobs=4)]: Done 200 out of 200 | elapsed:    0.1s finished\n",
            "[Parallel(n_jobs=4)]: Using backend ThreadingBackend with 4 concurrent workers.\n",
            "[Parallel(n_jobs=4)]: Done  42 tasks      | elapsed:    0.0s\n",
            "[Parallel(n_jobs=4)]: Done 192 tasks      | elapsed:    0.1s\n",
            "[Parallel(n_jobs=4)]: Done 200 out of 200 | elapsed:    0.1s finished\n",
            "[Parallel(n_jobs=4)]: Using backend ThreadingBackend with 4 concurrent workers.\n",
            "[Parallel(n_jobs=4)]: Done  42 tasks      | elapsed:    0.0s\n",
            "[Parallel(n_jobs=4)]: Done 192 tasks      | elapsed:    0.1s\n",
            "[Parallel(n_jobs=4)]: Done 200 out of 200 | elapsed:    0.1s finished\n",
            "[Parallel(n_jobs=4)]: Using backend ThreadingBackend with 4 concurrent workers.\n",
            "[Parallel(n_jobs=4)]: Done  42 tasks      | elapsed:    0.0s\n",
            "[Parallel(n_jobs=4)]: Done 192 tasks      | elapsed:    0.1s\n",
            "[Parallel(n_jobs=4)]: Done 200 out of 200 | elapsed:    0.1s finished\n",
            "[Parallel(n_jobs=4)]: Using backend ThreadingBackend with 4 concurrent workers.\n",
            "[Parallel(n_jobs=4)]: Done  42 tasks      | elapsed:    0.0s\n",
            "[Parallel(n_jobs=4)]: Done 192 tasks      | elapsed:    0.1s\n",
            "[Parallel(n_jobs=4)]: Done 200 out of 200 | elapsed:    0.1s finished\n",
            "[Parallel(n_jobs=4)]: Using backend ThreadingBackend with 4 concurrent workers.\n",
            "[Parallel(n_jobs=4)]: Done  42 tasks      | elapsed:    0.0s\n",
            "[Parallel(n_jobs=4)]: Done 192 tasks      | elapsed:    0.1s\n",
            "[Parallel(n_jobs=4)]: Done 200 out of 200 | elapsed:    0.1s finished\n",
            "[Parallel(n_jobs=4)]: Using backend ThreadingBackend with 4 concurrent workers.\n",
            "[Parallel(n_jobs=4)]: Done  42 tasks      | elapsed:    0.0s\n",
            "[Parallel(n_jobs=4)]: Done 192 tasks      | elapsed:    0.1s\n",
            "[Parallel(n_jobs=4)]: Done 200 out of 200 | elapsed:    0.1s finished\n",
            "[Parallel(n_jobs=4)]: Using backend ThreadingBackend with 4 concurrent workers.\n",
            "[Parallel(n_jobs=4)]: Done  42 tasks      | elapsed:    0.0s\n",
            "[Parallel(n_jobs=4)]: Done 192 tasks      | elapsed:    0.1s\n",
            "[Parallel(n_jobs=4)]: Done 200 out of 200 | elapsed:    0.1s finished\n",
            "[Parallel(n_jobs=4)]: Using backend ThreadingBackend with 4 concurrent workers.\n",
            "[Parallel(n_jobs=4)]: Done  42 tasks      | elapsed:    0.0s\n",
            "[Parallel(n_jobs=4)]: Done 192 tasks      | elapsed:    0.1s\n",
            "[Parallel(n_jobs=4)]: Done 200 out of 200 | elapsed:    0.1s finished\n",
            "[Parallel(n_jobs=4)]: Using backend ThreadingBackend with 4 concurrent workers.\n",
            "[Parallel(n_jobs=4)]: Done  42 tasks      | elapsed:    0.0s\n",
            "[Parallel(n_jobs=4)]: Done 192 tasks      | elapsed:    0.1s\n",
            "[Parallel(n_jobs=4)]: Done 200 out of 200 | elapsed:    0.1s finished\n",
            "[Parallel(n_jobs=4)]: Using backend ThreadingBackend with 4 concurrent workers.\n",
            "[Parallel(n_jobs=4)]: Done  42 tasks      | elapsed:    0.0s\n",
            "[Parallel(n_jobs=4)]: Done 192 tasks      | elapsed:    0.1s\n",
            "[Parallel(n_jobs=4)]: Done 200 out of 200 | elapsed:    0.1s finished\n",
            "[Parallel(n_jobs=4)]: Using backend ThreadingBackend with 4 concurrent workers.\n",
            "[Parallel(n_jobs=4)]: Done  42 tasks      | elapsed:    0.0s\n",
            "[Parallel(n_jobs=4)]: Done 192 tasks      | elapsed:    0.1s\n",
            "[Parallel(n_jobs=4)]: Done 200 out of 200 | elapsed:    0.1s finished\n",
            "[Parallel(n_jobs=4)]: Using backend ThreadingBackend with 4 concurrent workers.\n",
            "[Parallel(n_jobs=4)]: Done  42 tasks      | elapsed:    0.0s\n",
            "[Parallel(n_jobs=4)]: Done 192 tasks      | elapsed:    0.1s\n",
            "[Parallel(n_jobs=4)]: Done 200 out of 200 | elapsed:    0.1s finished\n",
            "[Parallel(n_jobs=4)]: Using backend ThreadingBackend with 4 concurrent workers.\n",
            "[Parallel(n_jobs=4)]: Done  42 tasks      | elapsed:    0.0s\n",
            "[Parallel(n_jobs=4)]: Done 192 tasks      | elapsed:    0.1s\n",
            "[Parallel(n_jobs=4)]: Done 200 out of 200 | elapsed:    0.1s finished\n",
            "[Parallel(n_jobs=4)]: Using backend ThreadingBackend with 4 concurrent workers.\n",
            "[Parallel(n_jobs=4)]: Done  42 tasks      | elapsed:    0.0s\n",
            "[Parallel(n_jobs=4)]: Done 192 tasks      | elapsed:    0.1s\n",
            "[Parallel(n_jobs=4)]: Done 200 out of 200 | elapsed:    0.1s finished\n",
            "[Parallel(n_jobs=4)]: Using backend ThreadingBackend with 4 concurrent workers.\n",
            "[Parallel(n_jobs=4)]: Done  42 tasks      | elapsed:    0.0s\n",
            "[Parallel(n_jobs=4)]: Done 192 tasks      | elapsed:    0.1s\n",
            "[Parallel(n_jobs=4)]: Done 200 out of 200 | elapsed:    0.1s finished\n",
            "[Parallel(n_jobs=4)]: Using backend ThreadingBackend with 4 concurrent workers.\n",
            "[Parallel(n_jobs=4)]: Done  42 tasks      | elapsed:    0.0s\n",
            "[Parallel(n_jobs=4)]: Done 192 tasks      | elapsed:    0.1s\n",
            "[Parallel(n_jobs=4)]: Done 200 out of 200 | elapsed:    0.1s finished\n",
            "[Parallel(n_jobs=4)]: Using backend ThreadingBackend with 4 concurrent workers.\n",
            "[Parallel(n_jobs=4)]: Done  42 tasks      | elapsed:    0.0s\n",
            "[Parallel(n_jobs=4)]: Done 192 tasks      | elapsed:    0.1s\n",
            "[Parallel(n_jobs=4)]: Done 200 out of 200 | elapsed:    0.1s finished\n",
            "[Parallel(n_jobs=4)]: Using backend ThreadingBackend with 4 concurrent workers.\n",
            "[Parallel(n_jobs=4)]: Done  42 tasks      | elapsed:    0.0s\n",
            "[Parallel(n_jobs=4)]: Done 192 tasks      | elapsed:    0.1s\n",
            "[Parallel(n_jobs=4)]: Done 200 out of 200 | elapsed:    0.1s finished\n",
            "[Parallel(n_jobs=4)]: Using backend ThreadingBackend with 4 concurrent workers.\n",
            "[Parallel(n_jobs=4)]: Done  42 tasks      | elapsed:    0.0s\n",
            "[Parallel(n_jobs=4)]: Done 192 tasks      | elapsed:    0.1s\n",
            "[Parallel(n_jobs=4)]: Done 200 out of 200 | elapsed:    0.1s finished\n",
            "[Parallel(n_jobs=4)]: Using backend ThreadingBackend with 4 concurrent workers.\n",
            "[Parallel(n_jobs=4)]: Done  42 tasks      | elapsed:    0.0s\n",
            "[Parallel(n_jobs=4)]: Done 192 tasks      | elapsed:    0.1s\n",
            "[Parallel(n_jobs=4)]: Done 200 out of 200 | elapsed:    0.1s finished\n",
            "[Parallel(n_jobs=4)]: Using backend ThreadingBackend with 4 concurrent workers.\n",
            "[Parallel(n_jobs=4)]: Done  42 tasks      | elapsed:    0.0s\n",
            "[Parallel(n_jobs=4)]: Done 192 tasks      | elapsed:    0.1s\n",
            "[Parallel(n_jobs=4)]: Done 200 out of 200 | elapsed:    0.1s finished\n",
            "[Parallel(n_jobs=4)]: Using backend ThreadingBackend with 4 concurrent workers.\n",
            "[Parallel(n_jobs=4)]: Done  42 tasks      | elapsed:    0.0s\n",
            "[Parallel(n_jobs=4)]: Done 192 tasks      | elapsed:    0.1s\n",
            "[Parallel(n_jobs=4)]: Done 200 out of 200 | elapsed:    0.1s finished\n",
            "[Parallel(n_jobs=4)]: Using backend ThreadingBackend with 4 concurrent workers.\n",
            "[Parallel(n_jobs=4)]: Done  42 tasks      | elapsed:    0.0s\n",
            "[Parallel(n_jobs=4)]: Done 192 tasks      | elapsed:    0.1s\n",
            "[Parallel(n_jobs=4)]: Done 200 out of 200 | elapsed:    0.1s finished\n",
            "[Parallel(n_jobs=4)]: Using backend ThreadingBackend with 4 concurrent workers.\n",
            "[Parallel(n_jobs=4)]: Done  42 tasks      | elapsed:    0.0s\n",
            "[Parallel(n_jobs=4)]: Done 192 tasks      | elapsed:    0.1s\n",
            "[Parallel(n_jobs=4)]: Done 200 out of 200 | elapsed:    0.1s finished\n",
            "[Parallel(n_jobs=4)]: Using backend ThreadingBackend with 4 concurrent workers.\n",
            "[Parallel(n_jobs=4)]: Done  42 tasks      | elapsed:    0.0s\n",
            "[Parallel(n_jobs=4)]: Done 192 tasks      | elapsed:    0.1s\n",
            "[Parallel(n_jobs=4)]: Done 200 out of 200 | elapsed:    0.1s finished\n",
            "[Parallel(n_jobs=4)]: Using backend ThreadingBackend with 4 concurrent workers.\n",
            "[Parallel(n_jobs=4)]: Done  42 tasks      | elapsed:    0.0s\n",
            "[Parallel(n_jobs=4)]: Done 192 tasks      | elapsed:    0.1s\n",
            "[Parallel(n_jobs=4)]: Done 200 out of 200 | elapsed:    0.1s finished\n",
            "[Parallel(n_jobs=4)]: Using backend ThreadingBackend with 4 concurrent workers.\n",
            "[Parallel(n_jobs=4)]: Done  42 tasks      | elapsed:    0.0s\n",
            "[Parallel(n_jobs=4)]: Done 192 tasks      | elapsed:    0.1s\n",
            "[Parallel(n_jobs=4)]: Done 200 out of 200 | elapsed:    0.1s finished\n",
            "[Parallel(n_jobs=4)]: Using backend ThreadingBackend with 4 concurrent workers.\n",
            "[Parallel(n_jobs=4)]: Done  42 tasks      | elapsed:    0.0s\n",
            "[Parallel(n_jobs=4)]: Done 192 tasks      | elapsed:    0.1s\n",
            "[Parallel(n_jobs=4)]: Done 200 out of 200 | elapsed:    0.1s finished\n",
            "[Parallel(n_jobs=4)]: Using backend ThreadingBackend with 4 concurrent workers.\n",
            "[Parallel(n_jobs=4)]: Done  42 tasks      | elapsed:    0.0s\n",
            "[Parallel(n_jobs=4)]: Done 192 tasks      | elapsed:    0.1s\n",
            "[Parallel(n_jobs=4)]: Done 200 out of 200 | elapsed:    0.1s finished\n",
            "[Parallel(n_jobs=4)]: Using backend ThreadingBackend with 4 concurrent workers.\n",
            "[Parallel(n_jobs=4)]: Done  42 tasks      | elapsed:    0.0s\n",
            "[Parallel(n_jobs=4)]: Done 192 tasks      | elapsed:    0.1s\n",
            "[Parallel(n_jobs=4)]: Done 200 out of 200 | elapsed:    0.1s finished\n",
            "[Parallel(n_jobs=4)]: Using backend ThreadingBackend with 4 concurrent workers.\n",
            "[Parallel(n_jobs=4)]: Done  42 tasks      | elapsed:    0.0s\n",
            "[Parallel(n_jobs=4)]: Done 192 tasks      | elapsed:    0.1s\n",
            "[Parallel(n_jobs=4)]: Done 200 out of 200 | elapsed:    0.1s finished\n",
            "[Parallel(n_jobs=4)]: Using backend ThreadingBackend with 4 concurrent workers.\n",
            "[Parallel(n_jobs=4)]: Done  42 tasks      | elapsed:    0.0s\n",
            "[Parallel(n_jobs=4)]: Done 192 tasks      | elapsed:    0.1s\n",
            "[Parallel(n_jobs=4)]: Done 200 out of 200 | elapsed:    0.1s finished\n",
            "[Parallel(n_jobs=4)]: Using backend ThreadingBackend with 4 concurrent workers.\n",
            "[Parallel(n_jobs=4)]: Done  42 tasks      | elapsed:    0.0s\n",
            "[Parallel(n_jobs=4)]: Done 192 tasks      | elapsed:    0.1s\n",
            "[Parallel(n_jobs=4)]: Done 200 out of 200 | elapsed:    0.1s finished\n",
            "[Parallel(n_jobs=4)]: Using backend ThreadingBackend with 4 concurrent workers.\n",
            "[Parallel(n_jobs=4)]: Done  42 tasks      | elapsed:    0.0s\n",
            "[Parallel(n_jobs=4)]: Done 192 tasks      | elapsed:    0.1s\n",
            "[Parallel(n_jobs=4)]: Done 200 out of 200 | elapsed:    0.1s finished\n",
            "[Parallel(n_jobs=4)]: Using backend ThreadingBackend with 4 concurrent workers.\n",
            "[Parallel(n_jobs=4)]: Done  42 tasks      | elapsed:    0.0s\n",
            "[Parallel(n_jobs=4)]: Done 192 tasks      | elapsed:    0.1s\n",
            "[Parallel(n_jobs=4)]: Done 200 out of 200 | elapsed:    0.1s finished\n",
            "[Parallel(n_jobs=4)]: Using backend ThreadingBackend with 4 concurrent workers.\n",
            "[Parallel(n_jobs=4)]: Done  42 tasks      | elapsed:    0.0s\n",
            "[Parallel(n_jobs=4)]: Done 192 tasks      | elapsed:    0.1s\n",
            "[Parallel(n_jobs=4)]: Done 200 out of 200 | elapsed:    0.1s finished\n",
            "[Parallel(n_jobs=4)]: Using backend ThreadingBackend with 4 concurrent workers.\n",
            "[Parallel(n_jobs=4)]: Done  42 tasks      | elapsed:    0.0s\n",
            "[Parallel(n_jobs=4)]: Done 192 tasks      | elapsed:    0.1s\n",
            "[Parallel(n_jobs=4)]: Done 200 out of 200 | elapsed:    0.1s finished\n",
            "[Parallel(n_jobs=4)]: Using backend ThreadingBackend with 4 concurrent workers.\n",
            "[Parallel(n_jobs=4)]: Done  42 tasks      | elapsed:    0.0s\n",
            "[Parallel(n_jobs=4)]: Done 192 tasks      | elapsed:    0.1s\n",
            "[Parallel(n_jobs=4)]: Done 200 out of 200 | elapsed:    0.1s finished\n",
            "[Parallel(n_jobs=4)]: Using backend ThreadingBackend with 4 concurrent workers.\n",
            "[Parallel(n_jobs=4)]: Done  42 tasks      | elapsed:    0.0s\n",
            "[Parallel(n_jobs=4)]: Done 192 tasks      | elapsed:    0.1s\n",
            "[Parallel(n_jobs=4)]: Done 200 out of 200 | elapsed:    0.1s finished\n",
            "[Parallel(n_jobs=4)]: Using backend ThreadingBackend with 4 concurrent workers.\n",
            "[Parallel(n_jobs=4)]: Done  42 tasks      | elapsed:    0.0s\n",
            "[Parallel(n_jobs=4)]: Done 192 tasks      | elapsed:    0.1s\n",
            "[Parallel(n_jobs=4)]: Done 200 out of 200 | elapsed:    0.1s finished\n",
            "[Parallel(n_jobs=4)]: Using backend ThreadingBackend with 4 concurrent workers.\n",
            "[Parallel(n_jobs=4)]: Done  42 tasks      | elapsed:    0.0s\n",
            "[Parallel(n_jobs=4)]: Done 192 tasks      | elapsed:    0.1s\n",
            "[Parallel(n_jobs=4)]: Done 200 out of 200 | elapsed:    0.2s finished\n",
            "[Parallel(n_jobs=4)]: Using backend ThreadingBackend with 4 concurrent workers.\n",
            "[Parallel(n_jobs=4)]: Done  42 tasks      | elapsed:    0.0s\n",
            "[Parallel(n_jobs=4)]: Done 192 tasks      | elapsed:    0.1s\n",
            "[Parallel(n_jobs=4)]: Done 200 out of 200 | elapsed:    0.1s finished\n",
            "[Parallel(n_jobs=4)]: Using backend ThreadingBackend with 4 concurrent workers.\n",
            "[Parallel(n_jobs=4)]: Done  42 tasks      | elapsed:    0.0s\n",
            "[Parallel(n_jobs=4)]: Done 192 tasks      | elapsed:    0.1s\n",
            "[Parallel(n_jobs=4)]: Done 200 out of 200 | elapsed:    0.1s finished\n",
            "[Parallel(n_jobs=4)]: Using backend ThreadingBackend with 4 concurrent workers.\n",
            "[Parallel(n_jobs=4)]: Done  42 tasks      | elapsed:    0.0s\n",
            "[Parallel(n_jobs=4)]: Done 192 tasks      | elapsed:    0.1s\n",
            "[Parallel(n_jobs=4)]: Done 200 out of 200 | elapsed:    0.1s finished\n",
            "[Parallel(n_jobs=4)]: Using backend ThreadingBackend with 4 concurrent workers.\n",
            "[Parallel(n_jobs=4)]: Done  42 tasks      | elapsed:    0.0s\n",
            "[Parallel(n_jobs=4)]: Done 192 tasks      | elapsed:    0.1s\n",
            "[Parallel(n_jobs=4)]: Done 200 out of 200 | elapsed:    0.1s finished\n",
            "[Parallel(n_jobs=4)]: Using backend ThreadingBackend with 4 concurrent workers.\n",
            "[Parallel(n_jobs=4)]: Done  42 tasks      | elapsed:    0.0s\n",
            "[Parallel(n_jobs=4)]: Done 192 tasks      | elapsed:    0.1s\n",
            "[Parallel(n_jobs=4)]: Done 200 out of 200 | elapsed:    0.1s finished\n",
            "[Parallel(n_jobs=4)]: Using backend ThreadingBackend with 4 concurrent workers.\n",
            "[Parallel(n_jobs=4)]: Done  42 tasks      | elapsed:    0.0s\n",
            "[Parallel(n_jobs=4)]: Done 192 tasks      | elapsed:    0.1s\n",
            "[Parallel(n_jobs=4)]: Done 200 out of 200 | elapsed:    0.1s finished\n",
            "[Parallel(n_jobs=4)]: Using backend ThreadingBackend with 4 concurrent workers.\n",
            "[Parallel(n_jobs=4)]: Done  42 tasks      | elapsed:    0.0s\n",
            "[Parallel(n_jobs=4)]: Done 192 tasks      | elapsed:    0.1s\n",
            "[Parallel(n_jobs=4)]: Done 200 out of 200 | elapsed:    0.1s finished\n",
            "[Parallel(n_jobs=4)]: Using backend ThreadingBackend with 4 concurrent workers.\n",
            "[Parallel(n_jobs=4)]: Done  42 tasks      | elapsed:    0.0s\n",
            "[Parallel(n_jobs=4)]: Done 192 tasks      | elapsed:    0.1s\n",
            "[Parallel(n_jobs=4)]: Done 200 out of 200 | elapsed:    0.1s finished\n",
            "[Parallel(n_jobs=4)]: Using backend ThreadingBackend with 4 concurrent workers.\n",
            "[Parallel(n_jobs=4)]: Done  42 tasks      | elapsed:    0.0s\n",
            "[Parallel(n_jobs=4)]: Done 192 tasks      | elapsed:    0.1s\n",
            "[Parallel(n_jobs=4)]: Done 200 out of 200 | elapsed:    0.1s finished\n",
            "[Parallel(n_jobs=4)]: Using backend ThreadingBackend with 4 concurrent workers.\n",
            "[Parallel(n_jobs=4)]: Done  42 tasks      | elapsed:    0.0s\n",
            "[Parallel(n_jobs=4)]: Done 192 tasks      | elapsed:    0.1s\n",
            "[Parallel(n_jobs=4)]: Done 200 out of 200 | elapsed:    0.1s finished\n",
            "[Parallel(n_jobs=4)]: Using backend ThreadingBackend with 4 concurrent workers.\n",
            "[Parallel(n_jobs=4)]: Done  42 tasks      | elapsed:    0.0s\n",
            "[Parallel(n_jobs=4)]: Done 192 tasks      | elapsed:    0.1s\n",
            "[Parallel(n_jobs=4)]: Done 200 out of 200 | elapsed:    0.1s finished\n",
            "[Parallel(n_jobs=4)]: Using backend ThreadingBackend with 4 concurrent workers.\n",
            "[Parallel(n_jobs=4)]: Done  42 tasks      | elapsed:    0.0s\n",
            "[Parallel(n_jobs=4)]: Done 192 tasks      | elapsed:    0.1s\n",
            "[Parallel(n_jobs=4)]: Done 200 out of 200 | elapsed:    0.1s finished\n",
            "[Parallel(n_jobs=4)]: Using backend ThreadingBackend with 4 concurrent workers.\n",
            "[Parallel(n_jobs=4)]: Done  42 tasks      | elapsed:    0.0s\n",
            "[Parallel(n_jobs=4)]: Done 192 tasks      | elapsed:    0.1s\n",
            "[Parallel(n_jobs=4)]: Done 200 out of 200 | elapsed:    0.1s finished\n",
            "[Parallel(n_jobs=4)]: Using backend ThreadingBackend with 4 concurrent workers.\n",
            "[Parallel(n_jobs=4)]: Done  42 tasks      | elapsed:    0.0s\n",
            "[Parallel(n_jobs=4)]: Done 192 tasks      | elapsed:    0.1s\n",
            "[Parallel(n_jobs=4)]: Done 200 out of 200 | elapsed:    0.1s finished\n",
            "[Parallel(n_jobs=4)]: Using backend ThreadingBackend with 4 concurrent workers.\n",
            "[Parallel(n_jobs=4)]: Done  42 tasks      | elapsed:    0.0s\n",
            "[Parallel(n_jobs=4)]: Done 192 tasks      | elapsed:    0.1s\n",
            "[Parallel(n_jobs=4)]: Done 200 out of 200 | elapsed:    0.1s finished\n",
            "[Parallel(n_jobs=4)]: Using backend ThreadingBackend with 4 concurrent workers.\n",
            "[Parallel(n_jobs=4)]: Done  42 tasks      | elapsed:    0.0s\n",
            "[Parallel(n_jobs=4)]: Done 192 tasks      | elapsed:    0.1s\n",
            "[Parallel(n_jobs=4)]: Done 200 out of 200 | elapsed:    0.1s finished\n",
            "[Parallel(n_jobs=4)]: Using backend ThreadingBackend with 4 concurrent workers.\n",
            "[Parallel(n_jobs=4)]: Done  42 tasks      | elapsed:    0.0s\n",
            "[Parallel(n_jobs=4)]: Done 192 tasks      | elapsed:    0.1s\n",
            "[Parallel(n_jobs=4)]: Done 200 out of 200 | elapsed:    0.1s finished\n",
            "[Parallel(n_jobs=4)]: Using backend ThreadingBackend with 4 concurrent workers.\n",
            "[Parallel(n_jobs=4)]: Done  42 tasks      | elapsed:    0.0s\n",
            "[Parallel(n_jobs=4)]: Done 192 tasks      | elapsed:    0.1s\n",
            "[Parallel(n_jobs=4)]: Done 200 out of 200 | elapsed:    0.1s finished\n",
            "[Parallel(n_jobs=4)]: Using backend ThreadingBackend with 4 concurrent workers.\n",
            "[Parallel(n_jobs=4)]: Done  42 tasks      | elapsed:    0.0s\n",
            "[Parallel(n_jobs=4)]: Done 192 tasks      | elapsed:    0.2s\n",
            "[Parallel(n_jobs=4)]: Done 200 out of 200 | elapsed:    0.2s finished\n",
            "[Parallel(n_jobs=4)]: Using backend ThreadingBackend with 4 concurrent workers.\n",
            "[Parallel(n_jobs=4)]: Done  42 tasks      | elapsed:    0.0s\n",
            "[Parallel(n_jobs=4)]: Done 192 tasks      | elapsed:    0.1s\n",
            "[Parallel(n_jobs=4)]: Done 200 out of 200 | elapsed:    0.1s finished\n",
            "[Parallel(n_jobs=4)]: Using backend ThreadingBackend with 4 concurrent workers.\n",
            "[Parallel(n_jobs=4)]: Done  42 tasks      | elapsed:    0.0s\n",
            "[Parallel(n_jobs=4)]: Done 192 tasks      | elapsed:    0.1s\n",
            "[Parallel(n_jobs=4)]: Done 200 out of 200 | elapsed:    0.1s finished\n",
            "[Parallel(n_jobs=4)]: Using backend ThreadingBackend with 4 concurrent workers.\n",
            "[Parallel(n_jobs=4)]: Done  42 tasks      | elapsed:    0.0s\n",
            "[Parallel(n_jobs=4)]: Done 192 tasks      | elapsed:    0.1s\n",
            "[Parallel(n_jobs=4)]: Done 200 out of 200 | elapsed:    0.1s finished\n",
            "[Parallel(n_jobs=4)]: Using backend ThreadingBackend with 4 concurrent workers.\n",
            "[Parallel(n_jobs=4)]: Done  42 tasks      | elapsed:    0.0s\n",
            "[Parallel(n_jobs=4)]: Done 192 tasks      | elapsed:    0.1s\n",
            "[Parallel(n_jobs=4)]: Done 200 out of 200 | elapsed:    0.1s finished\n",
            "[Parallel(n_jobs=4)]: Using backend ThreadingBackend with 4 concurrent workers.\n",
            "[Parallel(n_jobs=4)]: Done  42 tasks      | elapsed:    0.0s\n",
            "[Parallel(n_jobs=4)]: Done 192 tasks      | elapsed:    0.1s\n",
            "[Parallel(n_jobs=4)]: Done 200 out of 200 | elapsed:    0.1s finished\n",
            "[Parallel(n_jobs=4)]: Using backend ThreadingBackend with 4 concurrent workers.\n",
            "[Parallel(n_jobs=4)]: Done  42 tasks      | elapsed:    0.0s\n",
            "[Parallel(n_jobs=4)]: Done 192 tasks      | elapsed:    0.1s\n",
            "[Parallel(n_jobs=4)]: Done 200 out of 200 | elapsed:    0.1s finished\n",
            "[Parallel(n_jobs=4)]: Using backend ThreadingBackend with 4 concurrent workers.\n",
            "[Parallel(n_jobs=4)]: Done  42 tasks      | elapsed:    0.0s\n",
            "[Parallel(n_jobs=4)]: Done 192 tasks      | elapsed:    0.1s\n",
            "[Parallel(n_jobs=4)]: Done 200 out of 200 | elapsed:    0.1s finished\n",
            "[Parallel(n_jobs=4)]: Using backend ThreadingBackend with 4 concurrent workers.\n",
            "[Parallel(n_jobs=4)]: Done  42 tasks      | elapsed:    0.0s\n",
            "[Parallel(n_jobs=4)]: Done 192 tasks      | elapsed:    0.1s\n",
            "[Parallel(n_jobs=4)]: Done 200 out of 200 | elapsed:    0.1s finished\n",
            "[Parallel(n_jobs=4)]: Using backend ThreadingBackend with 4 concurrent workers.\n",
            "[Parallel(n_jobs=4)]: Done  42 tasks      | elapsed:    0.0s\n",
            "[Parallel(n_jobs=4)]: Done 192 tasks      | elapsed:    0.1s\n",
            "[Parallel(n_jobs=4)]: Done 200 out of 200 | elapsed:    0.1s finished\n",
            "[Parallel(n_jobs=4)]: Using backend ThreadingBackend with 4 concurrent workers.\n",
            "[Parallel(n_jobs=4)]: Done  42 tasks      | elapsed:    0.0s\n",
            "[Parallel(n_jobs=4)]: Done 192 tasks      | elapsed:    0.1s\n",
            "[Parallel(n_jobs=4)]: Done 200 out of 200 | elapsed:    0.1s finished\n",
            "[Parallel(n_jobs=4)]: Using backend ThreadingBackend with 4 concurrent workers.\n",
            "[Parallel(n_jobs=4)]: Done  42 tasks      | elapsed:    0.0s\n",
            "[Parallel(n_jobs=4)]: Done 192 tasks      | elapsed:    0.1s\n",
            "[Parallel(n_jobs=4)]: Done 200 out of 200 | elapsed:    0.1s finished\n",
            "[Parallel(n_jobs=4)]: Using backend ThreadingBackend with 4 concurrent workers.\n",
            "[Parallel(n_jobs=4)]: Done  42 tasks      | elapsed:    0.0s\n",
            "[Parallel(n_jobs=4)]: Done 192 tasks      | elapsed:    0.1s\n",
            "[Parallel(n_jobs=4)]: Done 200 out of 200 | elapsed:    0.1s finished\n",
            "[Parallel(n_jobs=4)]: Using backend ThreadingBackend with 4 concurrent workers.\n",
            "[Parallel(n_jobs=4)]: Done  42 tasks      | elapsed:    0.0s\n",
            "[Parallel(n_jobs=4)]: Done 192 tasks      | elapsed:    0.1s\n",
            "[Parallel(n_jobs=4)]: Done 200 out of 200 | elapsed:    0.1s finished\n",
            "[Parallel(n_jobs=4)]: Using backend ThreadingBackend with 4 concurrent workers.\n",
            "[Parallel(n_jobs=4)]: Done  42 tasks      | elapsed:    0.0s\n",
            "[Parallel(n_jobs=4)]: Done 192 tasks      | elapsed:    0.1s\n",
            "[Parallel(n_jobs=4)]: Done 200 out of 200 | elapsed:    0.1s finished\n",
            "[Parallel(n_jobs=4)]: Using backend ThreadingBackend with 4 concurrent workers.\n",
            "[Parallel(n_jobs=4)]: Done  42 tasks      | elapsed:    0.0s\n",
            "[Parallel(n_jobs=4)]: Done 192 tasks      | elapsed:    0.1s\n",
            "[Parallel(n_jobs=4)]: Done 200 out of 200 | elapsed:    0.1s finished\n",
            "[Parallel(n_jobs=4)]: Using backend ThreadingBackend with 4 concurrent workers.\n",
            "[Parallel(n_jobs=4)]: Done  42 tasks      | elapsed:    0.0s\n",
            "[Parallel(n_jobs=4)]: Done 192 tasks      | elapsed:    0.1s\n",
            "[Parallel(n_jobs=4)]: Done 200 out of 200 | elapsed:    0.1s finished\n",
            "[Parallel(n_jobs=4)]: Using backend ThreadingBackend with 4 concurrent workers.\n",
            "[Parallel(n_jobs=4)]: Done  42 tasks      | elapsed:    0.0s\n",
            "[Parallel(n_jobs=4)]: Done 192 tasks      | elapsed:    0.1s\n",
            "[Parallel(n_jobs=4)]: Done 200 out of 200 | elapsed:    0.1s finished\n",
            "[Parallel(n_jobs=4)]: Using backend ThreadingBackend with 4 concurrent workers.\n",
            "[Parallel(n_jobs=4)]: Done  42 tasks      | elapsed:    0.0s\n",
            "[Parallel(n_jobs=4)]: Done 192 tasks      | elapsed:    0.1s\n",
            "[Parallel(n_jobs=4)]: Done 200 out of 200 | elapsed:    0.1s finished\n",
            "[Parallel(n_jobs=4)]: Using backend ThreadingBackend with 4 concurrent workers.\n",
            "[Parallel(n_jobs=4)]: Done  42 tasks      | elapsed:    0.0s\n",
            "[Parallel(n_jobs=4)]: Done 192 tasks      | elapsed:    0.1s\n",
            "[Parallel(n_jobs=4)]: Done 200 out of 200 | elapsed:    0.1s finished\n",
            "[Parallel(n_jobs=4)]: Using backend ThreadingBackend with 4 concurrent workers.\n",
            "[Parallel(n_jobs=4)]: Done  42 tasks      | elapsed:    0.0s\n",
            "[Parallel(n_jobs=4)]: Done 192 tasks      | elapsed:    0.1s\n",
            "[Parallel(n_jobs=4)]: Done 200 out of 200 | elapsed:    0.1s finished\n",
            "[Parallel(n_jobs=4)]: Using backend ThreadingBackend with 4 concurrent workers.\n",
            "[Parallel(n_jobs=4)]: Done  42 tasks      | elapsed:    0.0s\n",
            "[Parallel(n_jobs=4)]: Done 192 tasks      | elapsed:    0.1s\n",
            "[Parallel(n_jobs=4)]: Done 200 out of 200 | elapsed:    0.1s finished\n",
            "[Parallel(n_jobs=4)]: Using backend ThreadingBackend with 4 concurrent workers.\n",
            "[Parallel(n_jobs=4)]: Done  42 tasks      | elapsed:    0.0s\n",
            "[Parallel(n_jobs=4)]: Done 192 tasks      | elapsed:    0.1s\n",
            "[Parallel(n_jobs=4)]: Done 200 out of 200 | elapsed:    0.1s finished\n",
            "[Parallel(n_jobs=4)]: Using backend ThreadingBackend with 4 concurrent workers.\n",
            "[Parallel(n_jobs=4)]: Done  42 tasks      | elapsed:    0.0s\n",
            "[Parallel(n_jobs=4)]: Done 192 tasks      | elapsed:    0.1s\n",
            "[Parallel(n_jobs=4)]: Done 200 out of 200 | elapsed:    0.1s finished\n",
            "[Parallel(n_jobs=4)]: Using backend ThreadingBackend with 4 concurrent workers.\n",
            "[Parallel(n_jobs=4)]: Done  42 tasks      | elapsed:    0.0s\n",
            "[Parallel(n_jobs=4)]: Done 192 tasks      | elapsed:    0.1s\n",
            "[Parallel(n_jobs=4)]: Done 200 out of 200 | elapsed:    0.1s finished\n",
            "[Parallel(n_jobs=4)]: Using backend ThreadingBackend with 4 concurrent workers.\n",
            "[Parallel(n_jobs=4)]: Done  42 tasks      | elapsed:    0.0s\n",
            "[Parallel(n_jobs=4)]: Done 192 tasks      | elapsed:    0.1s\n",
            "[Parallel(n_jobs=4)]: Done 200 out of 200 | elapsed:    0.2s finished\n",
            "[Parallel(n_jobs=4)]: Using backend ThreadingBackend with 4 concurrent workers.\n",
            "[Parallel(n_jobs=4)]: Done  42 tasks      | elapsed:    0.0s\n",
            "[Parallel(n_jobs=4)]: Done 192 tasks      | elapsed:    0.1s\n",
            "[Parallel(n_jobs=4)]: Done 200 out of 200 | elapsed:    0.1s finished\n",
            "[Parallel(n_jobs=4)]: Using backend ThreadingBackend with 4 concurrent workers.\n",
            "[Parallel(n_jobs=4)]: Done  42 tasks      | elapsed:    0.0s\n",
            "[Parallel(n_jobs=4)]: Done 192 tasks      | elapsed:    0.2s\n",
            "[Parallel(n_jobs=4)]: Done 200 out of 200 | elapsed:    0.2s finished\n",
            "[Parallel(n_jobs=4)]: Using backend ThreadingBackend with 4 concurrent workers.\n",
            "[Parallel(n_jobs=4)]: Done  42 tasks      | elapsed:    0.0s\n",
            "[Parallel(n_jobs=4)]: Done 192 tasks      | elapsed:    0.1s\n",
            "[Parallel(n_jobs=4)]: Done 200 out of 200 | elapsed:    0.1s finished\n",
            "[Parallel(n_jobs=4)]: Using backend ThreadingBackend with 4 concurrent workers.\n",
            "[Parallel(n_jobs=4)]: Done  42 tasks      | elapsed:    0.0s\n",
            "[Parallel(n_jobs=4)]: Done 192 tasks      | elapsed:    0.1s\n",
            "[Parallel(n_jobs=4)]: Done 200 out of 200 | elapsed:    0.1s finished\n",
            "[Parallel(n_jobs=4)]: Using backend ThreadingBackend with 4 concurrent workers.\n",
            "[Parallel(n_jobs=4)]: Done  42 tasks      | elapsed:    0.0s\n",
            "[Parallel(n_jobs=4)]: Done 192 tasks      | elapsed:    0.1s\n",
            "[Parallel(n_jobs=4)]: Done 200 out of 200 | elapsed:    0.1s finished\n",
            "[Parallel(n_jobs=4)]: Using backend ThreadingBackend with 4 concurrent workers.\n",
            "[Parallel(n_jobs=4)]: Done  42 tasks      | elapsed:    0.0s\n",
            "[Parallel(n_jobs=4)]: Done 192 tasks      | elapsed:    0.1s\n",
            "[Parallel(n_jobs=4)]: Done 200 out of 200 | elapsed:    0.1s finished\n",
            "[Parallel(n_jobs=4)]: Using backend ThreadingBackend with 4 concurrent workers.\n",
            "[Parallel(n_jobs=4)]: Done  42 tasks      | elapsed:    0.0s\n",
            "[Parallel(n_jobs=4)]: Done 192 tasks      | elapsed:    0.1s\n",
            "[Parallel(n_jobs=4)]: Done 200 out of 200 | elapsed:    0.1s finished\n",
            "[Parallel(n_jobs=4)]: Using backend ThreadingBackend with 4 concurrent workers.\n",
            "[Parallel(n_jobs=4)]: Done  42 tasks      | elapsed:    0.0s\n",
            "[Parallel(n_jobs=4)]: Done 192 tasks      | elapsed:    0.1s\n",
            "[Parallel(n_jobs=4)]: Done 200 out of 200 | elapsed:    0.1s finished\n",
            "[Parallel(n_jobs=4)]: Using backend ThreadingBackend with 4 concurrent workers.\n",
            "[Parallel(n_jobs=4)]: Done  42 tasks      | elapsed:    0.0s\n",
            "[Parallel(n_jobs=4)]: Done 192 tasks      | elapsed:    0.1s\n",
            "[Parallel(n_jobs=4)]: Done 200 out of 200 | elapsed:    0.1s finished\n",
            "[Parallel(n_jobs=4)]: Using backend ThreadingBackend with 4 concurrent workers.\n",
            "[Parallel(n_jobs=4)]: Done  42 tasks      | elapsed:    0.0s\n",
            "[Parallel(n_jobs=4)]: Done 192 tasks      | elapsed:    0.1s\n",
            "[Parallel(n_jobs=4)]: Done 200 out of 200 | elapsed:    0.1s finished\n",
            "[Parallel(n_jobs=4)]: Using backend ThreadingBackend with 4 concurrent workers.\n",
            "[Parallel(n_jobs=4)]: Done  42 tasks      | elapsed:    0.0s\n",
            "[Parallel(n_jobs=4)]: Done 192 tasks      | elapsed:    0.1s\n",
            "[Parallel(n_jobs=4)]: Done 200 out of 200 | elapsed:    0.1s finished\n",
            "[Parallel(n_jobs=4)]: Using backend ThreadingBackend with 4 concurrent workers.\n",
            "[Parallel(n_jobs=4)]: Done  42 tasks      | elapsed:    0.0s\n",
            "[Parallel(n_jobs=4)]: Done 192 tasks      | elapsed:    0.1s\n",
            "[Parallel(n_jobs=4)]: Done 200 out of 200 | elapsed:    0.1s finished\n",
            "[Parallel(n_jobs=4)]: Using backend ThreadingBackend with 4 concurrent workers.\n",
            "[Parallel(n_jobs=4)]: Done  42 tasks      | elapsed:    0.0s\n",
            "[Parallel(n_jobs=4)]: Done 192 tasks      | elapsed:    0.1s\n",
            "[Parallel(n_jobs=4)]: Done 200 out of 200 | elapsed:    0.1s finished\n",
            "[Parallel(n_jobs=4)]: Using backend ThreadingBackend with 4 concurrent workers.\n",
            "[Parallel(n_jobs=4)]: Done  42 tasks      | elapsed:    0.0s\n",
            "[Parallel(n_jobs=4)]: Done 192 tasks      | elapsed:    0.1s\n",
            "[Parallel(n_jobs=4)]: Done 200 out of 200 | elapsed:    0.1s finished\n",
            "[Parallel(n_jobs=4)]: Using backend ThreadingBackend with 4 concurrent workers.\n",
            "[Parallel(n_jobs=4)]: Done  42 tasks      | elapsed:    0.0s\n",
            "[Parallel(n_jobs=4)]: Done 192 tasks      | elapsed:    0.1s\n",
            "[Parallel(n_jobs=4)]: Done 200 out of 200 | elapsed:    0.1s finished\n",
            "[Parallel(n_jobs=4)]: Using backend ThreadingBackend with 4 concurrent workers.\n",
            "[Parallel(n_jobs=4)]: Done  42 tasks      | elapsed:    0.0s\n",
            "[Parallel(n_jobs=4)]: Done 192 tasks      | elapsed:    0.1s\n",
            "[Parallel(n_jobs=4)]: Done 200 out of 200 | elapsed:    0.1s finished\n",
            "[Parallel(n_jobs=4)]: Using backend ThreadingBackend with 4 concurrent workers.\n",
            "[Parallel(n_jobs=4)]: Done  42 tasks      | elapsed:    0.0s\n",
            "[Parallel(n_jobs=4)]: Done 192 tasks      | elapsed:    0.1s\n",
            "[Parallel(n_jobs=4)]: Done 200 out of 200 | elapsed:    0.1s finished\n",
            "[Parallel(n_jobs=4)]: Using backend ThreadingBackend with 4 concurrent workers.\n",
            "[Parallel(n_jobs=4)]: Done  42 tasks      | elapsed:    0.0s\n",
            "[Parallel(n_jobs=4)]: Done 192 tasks      | elapsed:    0.1s\n",
            "[Parallel(n_jobs=4)]: Done 200 out of 200 | elapsed:    0.1s finished\n",
            "[Parallel(n_jobs=4)]: Using backend ThreadingBackend with 4 concurrent workers.\n",
            "[Parallel(n_jobs=4)]: Done  42 tasks      | elapsed:    0.0s\n",
            "[Parallel(n_jobs=4)]: Done 192 tasks      | elapsed:    0.1s\n",
            "[Parallel(n_jobs=4)]: Done 200 out of 200 | elapsed:    0.1s finished\n",
            "[Parallel(n_jobs=4)]: Using backend ThreadingBackend with 4 concurrent workers.\n",
            "[Parallel(n_jobs=4)]: Done  42 tasks      | elapsed:    0.0s\n",
            "[Parallel(n_jobs=4)]: Done 192 tasks      | elapsed:    0.1s\n",
            "[Parallel(n_jobs=4)]: Done 200 out of 200 | elapsed:    0.1s finished\n",
            "[Parallel(n_jobs=4)]: Using backend ThreadingBackend with 4 concurrent workers.\n",
            "[Parallel(n_jobs=4)]: Done  42 tasks      | elapsed:    0.0s\n",
            "[Parallel(n_jobs=4)]: Done 192 tasks      | elapsed:    0.1s\n",
            "[Parallel(n_jobs=4)]: Done 200 out of 200 | elapsed:    0.1s finished\n",
            "[Parallel(n_jobs=4)]: Using backend ThreadingBackend with 4 concurrent workers.\n",
            "[Parallel(n_jobs=4)]: Done  42 tasks      | elapsed:    0.0s\n",
            "[Parallel(n_jobs=4)]: Done 192 tasks      | elapsed:    0.1s\n",
            "[Parallel(n_jobs=4)]: Done 200 out of 200 | elapsed:    0.1s finished\n",
            "[Parallel(n_jobs=4)]: Using backend ThreadingBackend with 4 concurrent workers.\n",
            "[Parallel(n_jobs=4)]: Done  42 tasks      | elapsed:    0.0s\n",
            "[Parallel(n_jobs=4)]: Done 192 tasks      | elapsed:    0.1s\n",
            "[Parallel(n_jobs=4)]: Done 200 out of 200 | elapsed:    0.2s finished\n",
            "[Parallel(n_jobs=4)]: Using backend ThreadingBackend with 4 concurrent workers.\n",
            "[Parallel(n_jobs=4)]: Done  42 tasks      | elapsed:    0.0s\n",
            "[Parallel(n_jobs=4)]: Done 192 tasks      | elapsed:    0.1s\n",
            "[Parallel(n_jobs=4)]: Done 200 out of 200 | elapsed:    0.1s finished\n",
            "[Parallel(n_jobs=4)]: Using backend ThreadingBackend with 4 concurrent workers.\n",
            "[Parallel(n_jobs=4)]: Done  42 tasks      | elapsed:    0.0s\n",
            "[Parallel(n_jobs=4)]: Done 192 tasks      | elapsed:    0.1s\n",
            "[Parallel(n_jobs=4)]: Done 200 out of 200 | elapsed:    0.1s finished\n",
            "[Parallel(n_jobs=4)]: Using backend ThreadingBackend with 4 concurrent workers.\n",
            "[Parallel(n_jobs=4)]: Done  42 tasks      | elapsed:    0.0s\n",
            "[Parallel(n_jobs=4)]: Done 192 tasks      | elapsed:    0.1s\n",
            "[Parallel(n_jobs=4)]: Done 200 out of 200 | elapsed:    0.1s finished\n",
            "[Parallel(n_jobs=4)]: Using backend ThreadingBackend with 4 concurrent workers.\n",
            "[Parallel(n_jobs=4)]: Done  42 tasks      | elapsed:    0.0s\n",
            "[Parallel(n_jobs=4)]: Done 192 tasks      | elapsed:    0.1s\n",
            "[Parallel(n_jobs=4)]: Done 200 out of 200 | elapsed:    0.1s finished\n",
            "[Parallel(n_jobs=4)]: Using backend ThreadingBackend with 4 concurrent workers.\n",
            "[Parallel(n_jobs=4)]: Done  42 tasks      | elapsed:    0.0s\n",
            "[Parallel(n_jobs=4)]: Done 192 tasks      | elapsed:    0.1s\n",
            "[Parallel(n_jobs=4)]: Done 200 out of 200 | elapsed:    0.1s finished\n",
            "[Parallel(n_jobs=4)]: Using backend ThreadingBackend with 4 concurrent workers.\n",
            "[Parallel(n_jobs=4)]: Done  42 tasks      | elapsed:    0.0s\n",
            "[Parallel(n_jobs=4)]: Done 192 tasks      | elapsed:    0.1s\n",
            "[Parallel(n_jobs=4)]: Done 200 out of 200 | elapsed:    0.1s finished\n",
            "[Parallel(n_jobs=4)]: Using backend ThreadingBackend with 4 concurrent workers.\n",
            "[Parallel(n_jobs=4)]: Done  42 tasks      | elapsed:    0.0s\n",
            "[Parallel(n_jobs=4)]: Done 192 tasks      | elapsed:    0.1s\n",
            "[Parallel(n_jobs=4)]: Done 200 out of 200 | elapsed:    0.1s finished\n",
            "[Parallel(n_jobs=4)]: Using backend ThreadingBackend with 4 concurrent workers.\n",
            "[Parallel(n_jobs=4)]: Done  42 tasks      | elapsed:    0.0s\n",
            "[Parallel(n_jobs=4)]: Done 192 tasks      | elapsed:    0.1s\n",
            "[Parallel(n_jobs=4)]: Done 200 out of 200 | elapsed:    0.1s finished\n",
            "[Parallel(n_jobs=4)]: Using backend ThreadingBackend with 4 concurrent workers.\n",
            "[Parallel(n_jobs=4)]: Done  42 tasks      | elapsed:    0.0s\n",
            "[Parallel(n_jobs=4)]: Done 192 tasks      | elapsed:    0.1s\n",
            "[Parallel(n_jobs=4)]: Done 200 out of 200 | elapsed:    0.1s finished\n",
            "[Parallel(n_jobs=4)]: Using backend ThreadingBackend with 4 concurrent workers.\n",
            "[Parallel(n_jobs=4)]: Done  42 tasks      | elapsed:    0.0s\n",
            "[Parallel(n_jobs=4)]: Done 192 tasks      | elapsed:    0.1s\n",
            "[Parallel(n_jobs=4)]: Done 200 out of 200 | elapsed:    0.1s finished\n",
            "[Parallel(n_jobs=4)]: Using backend ThreadingBackend with 4 concurrent workers.\n",
            "[Parallel(n_jobs=4)]: Done  42 tasks      | elapsed:    0.0s\n",
            "[Parallel(n_jobs=4)]: Done 192 tasks      | elapsed:    0.1s\n",
            "[Parallel(n_jobs=4)]: Done 200 out of 200 | elapsed:    0.1s finished\n",
            "[Parallel(n_jobs=4)]: Using backend ThreadingBackend with 4 concurrent workers.\n",
            "[Parallel(n_jobs=4)]: Done  42 tasks      | elapsed:    0.0s\n",
            "[Parallel(n_jobs=4)]: Done 192 tasks      | elapsed:    0.1s\n",
            "[Parallel(n_jobs=4)]: Done 200 out of 200 | elapsed:    0.1s finished\n",
            "[Parallel(n_jobs=4)]: Using backend ThreadingBackend with 4 concurrent workers.\n",
            "[Parallel(n_jobs=4)]: Done  42 tasks      | elapsed:    0.0s\n",
            "[Parallel(n_jobs=4)]: Done 192 tasks      | elapsed:    0.1s\n",
            "[Parallel(n_jobs=4)]: Done 200 out of 200 | elapsed:    0.1s finished\n",
            "[Parallel(n_jobs=4)]: Using backend ThreadingBackend with 4 concurrent workers.\n",
            "[Parallel(n_jobs=4)]: Done  42 tasks      | elapsed:    0.0s\n",
            "[Parallel(n_jobs=4)]: Done 192 tasks      | elapsed:    0.1s\n",
            "[Parallel(n_jobs=4)]: Done 200 out of 200 | elapsed:    0.1s finished\n",
            "[Parallel(n_jobs=4)]: Using backend ThreadingBackend with 4 concurrent workers.\n",
            "[Parallel(n_jobs=4)]: Done  42 tasks      | elapsed:    0.0s\n",
            "[Parallel(n_jobs=4)]: Done 192 tasks      | elapsed:    0.1s\n",
            "[Parallel(n_jobs=4)]: Done 200 out of 200 | elapsed:    0.1s finished\n",
            "[Parallel(n_jobs=4)]: Using backend ThreadingBackend with 4 concurrent workers.\n",
            "[Parallel(n_jobs=4)]: Done  42 tasks      | elapsed:    0.0s\n",
            "[Parallel(n_jobs=4)]: Done 192 tasks      | elapsed:    0.1s\n",
            "[Parallel(n_jobs=4)]: Done 200 out of 200 | elapsed:    0.1s finished\n",
            "[Parallel(n_jobs=4)]: Using backend ThreadingBackend with 4 concurrent workers.\n",
            "[Parallel(n_jobs=4)]: Done  42 tasks      | elapsed:    0.0s\n",
            "[Parallel(n_jobs=4)]: Done 192 tasks      | elapsed:    0.1s\n",
            "[Parallel(n_jobs=4)]: Done 200 out of 200 | elapsed:    0.1s finished\n",
            "[Parallel(n_jobs=4)]: Using backend ThreadingBackend with 4 concurrent workers.\n",
            "[Parallel(n_jobs=4)]: Done  42 tasks      | elapsed:    0.0s\n",
            "[Parallel(n_jobs=4)]: Done 192 tasks      | elapsed:    0.2s\n",
            "[Parallel(n_jobs=4)]: Done 200 out of 200 | elapsed:    0.2s finished\n",
            "[Parallel(n_jobs=4)]: Using backend ThreadingBackend with 4 concurrent workers.\n",
            "[Parallel(n_jobs=4)]: Done  42 tasks      | elapsed:    0.0s\n",
            "[Parallel(n_jobs=4)]: Done 192 tasks      | elapsed:    0.1s\n",
            "[Parallel(n_jobs=4)]: Done 200 out of 200 | elapsed:    0.1s finished\n",
            "[Parallel(n_jobs=4)]: Using backend ThreadingBackend with 4 concurrent workers.\n",
            "[Parallel(n_jobs=4)]: Done  42 tasks      | elapsed:    0.0s\n",
            "[Parallel(n_jobs=4)]: Done 192 tasks      | elapsed:    0.1s\n",
            "[Parallel(n_jobs=4)]: Done 200 out of 200 | elapsed:    0.1s finished\n",
            "[Parallel(n_jobs=4)]: Using backend ThreadingBackend with 4 concurrent workers.\n",
            "[Parallel(n_jobs=4)]: Done  42 tasks      | elapsed:    0.0s\n",
            "[Parallel(n_jobs=4)]: Done 192 tasks      | elapsed:    0.1s\n",
            "[Parallel(n_jobs=4)]: Done 200 out of 200 | elapsed:    0.1s finished\n",
            "[Parallel(n_jobs=4)]: Using backend ThreadingBackend with 4 concurrent workers.\n",
            "[Parallel(n_jobs=4)]: Done  42 tasks      | elapsed:    0.0s\n",
            "[Parallel(n_jobs=4)]: Done 192 tasks      | elapsed:    0.1s\n",
            "[Parallel(n_jobs=4)]: Done 200 out of 200 | elapsed:    0.1s finished\n",
            "[Parallel(n_jobs=4)]: Using backend ThreadingBackend with 4 concurrent workers.\n",
            "[Parallel(n_jobs=4)]: Done  42 tasks      | elapsed:    0.0s\n",
            "[Parallel(n_jobs=4)]: Done 192 tasks      | elapsed:    0.1s\n",
            "[Parallel(n_jobs=4)]: Done 200 out of 200 | elapsed:    0.1s finished\n",
            "[Parallel(n_jobs=4)]: Using backend ThreadingBackend with 4 concurrent workers.\n",
            "[Parallel(n_jobs=4)]: Done  42 tasks      | elapsed:    0.0s\n",
            "[Parallel(n_jobs=4)]: Done 192 tasks      | elapsed:    0.1s\n",
            "[Parallel(n_jobs=4)]: Done 200 out of 200 | elapsed:    0.1s finished\n",
            "[Parallel(n_jobs=4)]: Using backend ThreadingBackend with 4 concurrent workers.\n",
            "[Parallel(n_jobs=4)]: Done  42 tasks      | elapsed:    0.0s\n",
            "[Parallel(n_jobs=4)]: Done 192 tasks      | elapsed:    0.1s\n",
            "[Parallel(n_jobs=4)]: Done 200 out of 200 | elapsed:    0.1s finished\n",
            "[Parallel(n_jobs=4)]: Using backend ThreadingBackend with 4 concurrent workers.\n",
            "[Parallel(n_jobs=4)]: Done  42 tasks      | elapsed:    0.0s\n",
            "[Parallel(n_jobs=4)]: Done 192 tasks      | elapsed:    0.1s\n",
            "[Parallel(n_jobs=4)]: Done 200 out of 200 | elapsed:    0.1s finished\n",
            "[Parallel(n_jobs=4)]: Using backend ThreadingBackend with 4 concurrent workers.\n",
            "[Parallel(n_jobs=4)]: Done  42 tasks      | elapsed:    0.0s\n",
            "[Parallel(n_jobs=4)]: Done 192 tasks      | elapsed:    0.1s\n",
            "[Parallel(n_jobs=4)]: Done 200 out of 200 | elapsed:    0.1s finished\n",
            "[Parallel(n_jobs=4)]: Using backend ThreadingBackend with 4 concurrent workers.\n",
            "[Parallel(n_jobs=4)]: Done  42 tasks      | elapsed:    0.0s\n",
            "[Parallel(n_jobs=4)]: Done 192 tasks      | elapsed:    0.1s\n",
            "[Parallel(n_jobs=4)]: Done 200 out of 200 | elapsed:    0.1s finished\n",
            "[Parallel(n_jobs=4)]: Using backend ThreadingBackend with 4 concurrent workers.\n",
            "[Parallel(n_jobs=4)]: Done  42 tasks      | elapsed:    0.0s\n",
            "[Parallel(n_jobs=4)]: Done 192 tasks      | elapsed:    0.1s\n",
            "[Parallel(n_jobs=4)]: Done 200 out of 200 | elapsed:    0.1s finished\n",
            "[Parallel(n_jobs=4)]: Using backend ThreadingBackend with 4 concurrent workers.\n",
            "[Parallel(n_jobs=4)]: Done  42 tasks      | elapsed:    0.0s\n",
            "[Parallel(n_jobs=4)]: Done 192 tasks      | elapsed:    0.1s\n",
            "[Parallel(n_jobs=4)]: Done 200 out of 200 | elapsed:    0.1s finished\n",
            "[Parallel(n_jobs=4)]: Using backend ThreadingBackend with 4 concurrent workers.\n",
            "[Parallel(n_jobs=4)]: Done  42 tasks      | elapsed:    0.0s\n",
            "[Parallel(n_jobs=4)]: Done 192 tasks      | elapsed:    0.1s\n",
            "[Parallel(n_jobs=4)]: Done 200 out of 200 | elapsed:    0.1s finished\n",
            "[Parallel(n_jobs=4)]: Using backend ThreadingBackend with 4 concurrent workers.\n",
            "[Parallel(n_jobs=4)]: Done  42 tasks      | elapsed:    0.0s\n",
            "[Parallel(n_jobs=4)]: Done 192 tasks      | elapsed:    0.1s\n",
            "[Parallel(n_jobs=4)]: Done 200 out of 200 | elapsed:    0.1s finished\n",
            "[Parallel(n_jobs=4)]: Using backend ThreadingBackend with 4 concurrent workers.\n",
            "[Parallel(n_jobs=4)]: Done  42 tasks      | elapsed:    0.0s\n",
            "[Parallel(n_jobs=4)]: Done 192 tasks      | elapsed:    0.1s\n",
            "[Parallel(n_jobs=4)]: Done 200 out of 200 | elapsed:    0.1s finished\n",
            "[Parallel(n_jobs=4)]: Using backend ThreadingBackend with 4 concurrent workers.\n",
            "[Parallel(n_jobs=4)]: Done  42 tasks      | elapsed:    0.0s\n",
            "[Parallel(n_jobs=4)]: Done 192 tasks      | elapsed:    0.1s\n",
            "[Parallel(n_jobs=4)]: Done 200 out of 200 | elapsed:    0.1s finished\n",
            "[Parallel(n_jobs=4)]: Using backend ThreadingBackend with 4 concurrent workers.\n",
            "[Parallel(n_jobs=4)]: Done  42 tasks      | elapsed:    0.0s\n",
            "[Parallel(n_jobs=4)]: Done 192 tasks      | elapsed:    0.1s\n",
            "[Parallel(n_jobs=4)]: Done 200 out of 200 | elapsed:    0.1s finished\n",
            "[Parallel(n_jobs=4)]: Using backend ThreadingBackend with 4 concurrent workers.\n",
            "[Parallel(n_jobs=4)]: Done  42 tasks      | elapsed:    0.0s\n",
            "[Parallel(n_jobs=4)]: Done 192 tasks      | elapsed:    0.1s\n",
            "[Parallel(n_jobs=4)]: Done 200 out of 200 | elapsed:    0.1s finished\n",
            "[Parallel(n_jobs=4)]: Using backend ThreadingBackend with 4 concurrent workers.\n",
            "[Parallel(n_jobs=4)]: Done  42 tasks      | elapsed:    0.0s\n",
            "[Parallel(n_jobs=4)]: Done 192 tasks      | elapsed:    0.1s\n",
            "[Parallel(n_jobs=4)]: Done 200 out of 200 | elapsed:    0.1s finished\n",
            "[Parallel(n_jobs=4)]: Using backend ThreadingBackend with 4 concurrent workers.\n",
            "[Parallel(n_jobs=4)]: Done  42 tasks      | elapsed:    0.0s\n",
            "[Parallel(n_jobs=4)]: Done 192 tasks      | elapsed:    0.1s\n",
            "[Parallel(n_jobs=4)]: Done 200 out of 200 | elapsed:    0.1s finished\n",
            "[Parallel(n_jobs=4)]: Using backend ThreadingBackend with 4 concurrent workers.\n",
            "[Parallel(n_jobs=4)]: Done  42 tasks      | elapsed:    0.0s\n",
            "[Parallel(n_jobs=4)]: Done 192 tasks      | elapsed:    0.1s\n",
            "[Parallel(n_jobs=4)]: Done 200 out of 200 | elapsed:    0.1s finished\n",
            "[Parallel(n_jobs=4)]: Using backend ThreadingBackend with 4 concurrent workers.\n",
            "[Parallel(n_jobs=4)]: Done  42 tasks      | elapsed:    0.0s\n",
            "[Parallel(n_jobs=4)]: Done 192 tasks      | elapsed:    0.1s\n",
            "[Parallel(n_jobs=4)]: Done 200 out of 200 | elapsed:    0.2s finished\n",
            "[Parallel(n_jobs=4)]: Using backend ThreadingBackend with 4 concurrent workers.\n",
            "[Parallel(n_jobs=4)]: Done  42 tasks      | elapsed:    0.0s\n",
            "[Parallel(n_jobs=4)]: Done 192 tasks      | elapsed:    0.1s\n",
            "[Parallel(n_jobs=4)]: Done 200 out of 200 | elapsed:    0.1s finished\n",
            "[Parallel(n_jobs=4)]: Using backend ThreadingBackend with 4 concurrent workers.\n",
            "[Parallel(n_jobs=4)]: Done  42 tasks      | elapsed:    0.0s\n",
            "[Parallel(n_jobs=4)]: Done 192 tasks      | elapsed:    0.1s\n",
            "[Parallel(n_jobs=4)]: Done 200 out of 200 | elapsed:    0.2s finished\n",
            "[Parallel(n_jobs=4)]: Using backend ThreadingBackend with 4 concurrent workers.\n",
            "[Parallel(n_jobs=4)]: Done  42 tasks      | elapsed:    0.0s\n",
            "[Parallel(n_jobs=4)]: Done 192 tasks      | elapsed:    0.1s\n",
            "[Parallel(n_jobs=4)]: Done 200 out of 200 | elapsed:    0.1s finished\n",
            "[Parallel(n_jobs=4)]: Using backend ThreadingBackend with 4 concurrent workers.\n",
            "[Parallel(n_jobs=4)]: Done  42 tasks      | elapsed:    0.0s\n",
            "[Parallel(n_jobs=4)]: Done 192 tasks      | elapsed:    0.1s\n",
            "[Parallel(n_jobs=4)]: Done 200 out of 200 | elapsed:    0.1s finished\n",
            "[Parallel(n_jobs=4)]: Using backend ThreadingBackend with 4 concurrent workers.\n",
            "[Parallel(n_jobs=4)]: Done  42 tasks      | elapsed:    0.0s\n",
            "[Parallel(n_jobs=4)]: Done 192 tasks      | elapsed:    0.1s\n",
            "[Parallel(n_jobs=4)]: Done 200 out of 200 | elapsed:    0.1s finished\n",
            "[Parallel(n_jobs=4)]: Using backend ThreadingBackend with 4 concurrent workers.\n",
            "[Parallel(n_jobs=4)]: Done  42 tasks      | elapsed:    0.0s\n",
            "[Parallel(n_jobs=4)]: Done 192 tasks      | elapsed:    0.1s\n",
            "[Parallel(n_jobs=4)]: Done 200 out of 200 | elapsed:    0.1s finished\n",
            "[Parallel(n_jobs=4)]: Using backend ThreadingBackend with 4 concurrent workers.\n",
            "[Parallel(n_jobs=4)]: Done  42 tasks      | elapsed:    0.0s\n",
            "[Parallel(n_jobs=4)]: Done 192 tasks      | elapsed:    0.1s\n",
            "[Parallel(n_jobs=4)]: Done 200 out of 200 | elapsed:    0.1s finished\n",
            "[Parallel(n_jobs=4)]: Using backend ThreadingBackend with 4 concurrent workers.\n",
            "[Parallel(n_jobs=4)]: Done  42 tasks      | elapsed:    0.0s\n",
            "[Parallel(n_jobs=4)]: Done 192 tasks      | elapsed:    0.1s\n",
            "[Parallel(n_jobs=4)]: Done 200 out of 200 | elapsed:    0.1s finished\n",
            "[Parallel(n_jobs=4)]: Using backend ThreadingBackend with 4 concurrent workers.\n",
            "[Parallel(n_jobs=4)]: Done  42 tasks      | elapsed:    0.0s\n",
            "[Parallel(n_jobs=4)]: Done 192 tasks      | elapsed:    0.1s\n",
            "[Parallel(n_jobs=4)]: Done 200 out of 200 | elapsed:    0.1s finished\n",
            "[Parallel(n_jobs=4)]: Using backend ThreadingBackend with 4 concurrent workers.\n",
            "[Parallel(n_jobs=4)]: Done  42 tasks      | elapsed:    0.0s\n",
            "[Parallel(n_jobs=4)]: Done 192 tasks      | elapsed:    0.1s\n",
            "[Parallel(n_jobs=4)]: Done 200 out of 200 | elapsed:    0.1s finished\n",
            "[Parallel(n_jobs=4)]: Using backend ThreadingBackend with 4 concurrent workers.\n",
            "[Parallel(n_jobs=4)]: Done  42 tasks      | elapsed:    0.0s\n",
            "[Parallel(n_jobs=4)]: Done 192 tasks      | elapsed:    0.1s\n",
            "[Parallel(n_jobs=4)]: Done 200 out of 200 | elapsed:    0.1s finished\n",
            "[Parallel(n_jobs=4)]: Using backend ThreadingBackend with 4 concurrent workers.\n",
            "[Parallel(n_jobs=4)]: Done  42 tasks      | elapsed:    0.0s\n",
            "[Parallel(n_jobs=4)]: Done 192 tasks      | elapsed:    0.1s\n",
            "[Parallel(n_jobs=4)]: Done 200 out of 200 | elapsed:    0.1s finished\n",
            "[Parallel(n_jobs=4)]: Using backend ThreadingBackend with 4 concurrent workers.\n",
            "[Parallel(n_jobs=4)]: Done  42 tasks      | elapsed:    0.0s\n",
            "[Parallel(n_jobs=4)]: Done 192 tasks      | elapsed:    0.1s\n",
            "[Parallel(n_jobs=4)]: Done 200 out of 200 | elapsed:    0.1s finished\n",
            "[Parallel(n_jobs=4)]: Using backend ThreadingBackend with 4 concurrent workers.\n",
            "[Parallel(n_jobs=4)]: Done  42 tasks      | elapsed:    0.0s\n",
            "[Parallel(n_jobs=4)]: Done 192 tasks      | elapsed:    0.1s\n",
            "[Parallel(n_jobs=4)]: Done 200 out of 200 | elapsed:    0.1s finished\n",
            "[Parallel(n_jobs=4)]: Using backend ThreadingBackend with 4 concurrent workers.\n",
            "[Parallel(n_jobs=4)]: Done  42 tasks      | elapsed:    0.0s\n",
            "[Parallel(n_jobs=4)]: Done 192 tasks      | elapsed:    0.1s\n",
            "[Parallel(n_jobs=4)]: Done 200 out of 200 | elapsed:    0.2s finished\n",
            "[Parallel(n_jobs=4)]: Using backend ThreadingBackend with 4 concurrent workers.\n",
            "[Parallel(n_jobs=4)]: Done  42 tasks      | elapsed:    0.0s\n",
            "[Parallel(n_jobs=4)]: Done 192 tasks      | elapsed:    0.1s\n",
            "[Parallel(n_jobs=4)]: Done 200 out of 200 | elapsed:    0.1s finished\n",
            "[Parallel(n_jobs=4)]: Using backend ThreadingBackend with 4 concurrent workers.\n",
            "[Parallel(n_jobs=4)]: Done  42 tasks      | elapsed:    0.0s\n",
            "[Parallel(n_jobs=4)]: Done 192 tasks      | elapsed:    0.1s\n",
            "[Parallel(n_jobs=4)]: Done 200 out of 200 | elapsed:    0.1s finished\n",
            "[Parallel(n_jobs=4)]: Using backend ThreadingBackend with 4 concurrent workers.\n",
            "[Parallel(n_jobs=4)]: Done  42 tasks      | elapsed:    0.0s\n",
            "[Parallel(n_jobs=4)]: Done 192 tasks      | elapsed:    0.1s\n",
            "[Parallel(n_jobs=4)]: Done 200 out of 200 | elapsed:    0.1s finished\n",
            "[Parallel(n_jobs=4)]: Using backend ThreadingBackend with 4 concurrent workers.\n",
            "[Parallel(n_jobs=4)]: Done  42 tasks      | elapsed:    0.0s\n",
            "[Parallel(n_jobs=4)]: Done 192 tasks      | elapsed:    0.1s\n",
            "[Parallel(n_jobs=4)]: Done 200 out of 200 | elapsed:    0.1s finished\n",
            "[Parallel(n_jobs=4)]: Using backend ThreadingBackend with 4 concurrent workers.\n",
            "[Parallel(n_jobs=4)]: Done  42 tasks      | elapsed:    0.0s\n",
            "[Parallel(n_jobs=4)]: Done 192 tasks      | elapsed:    0.1s\n",
            "[Parallel(n_jobs=4)]: Done 200 out of 200 | elapsed:    0.1s finished\n",
            "[Parallel(n_jobs=4)]: Using backend ThreadingBackend with 4 concurrent workers.\n",
            "[Parallel(n_jobs=4)]: Done  42 tasks      | elapsed:    0.0s\n",
            "[Parallel(n_jobs=4)]: Done 192 tasks      | elapsed:    0.1s\n",
            "[Parallel(n_jobs=4)]: Done 200 out of 200 | elapsed:    0.1s finished\n",
            "[Parallel(n_jobs=4)]: Using backend ThreadingBackend with 4 concurrent workers.\n",
            "[Parallel(n_jobs=4)]: Done  42 tasks      | elapsed:    0.0s\n",
            "[Parallel(n_jobs=4)]: Done 192 tasks      | elapsed:    0.1s\n",
            "[Parallel(n_jobs=4)]: Done 200 out of 200 | elapsed:    0.1s finished\n",
            "[Parallel(n_jobs=4)]: Using backend ThreadingBackend with 4 concurrent workers.\n",
            "[Parallel(n_jobs=4)]: Done  42 tasks      | elapsed:    0.0s\n",
            "[Parallel(n_jobs=4)]: Done 192 tasks      | elapsed:    0.1s\n",
            "[Parallel(n_jobs=4)]: Done 200 out of 200 | elapsed:    0.1s finished\n",
            "[Parallel(n_jobs=4)]: Using backend ThreadingBackend with 4 concurrent workers.\n",
            "[Parallel(n_jobs=4)]: Done  42 tasks      | elapsed:    0.0s\n",
            "[Parallel(n_jobs=4)]: Done 192 tasks      | elapsed:    0.1s\n",
            "[Parallel(n_jobs=4)]: Done 200 out of 200 | elapsed:    0.1s finished\n",
            "[Parallel(n_jobs=4)]: Using backend ThreadingBackend with 4 concurrent workers.\n",
            "[Parallel(n_jobs=4)]: Done  42 tasks      | elapsed:    0.0s\n",
            "[Parallel(n_jobs=4)]: Done 192 tasks      | elapsed:    0.1s\n",
            "[Parallel(n_jobs=4)]: Done 200 out of 200 | elapsed:    0.1s finished\n",
            "[Parallel(n_jobs=4)]: Using backend ThreadingBackend with 4 concurrent workers.\n",
            "[Parallel(n_jobs=4)]: Done  42 tasks      | elapsed:    0.0s\n",
            "[Parallel(n_jobs=4)]: Done 192 tasks      | elapsed:    0.1s\n",
            "[Parallel(n_jobs=4)]: Done 200 out of 200 | elapsed:    0.1s finished\n",
            "[Parallel(n_jobs=4)]: Using backend ThreadingBackend with 4 concurrent workers.\n",
            "[Parallel(n_jobs=4)]: Done  42 tasks      | elapsed:    0.0s\n",
            "[Parallel(n_jobs=4)]: Done 192 tasks      | elapsed:    0.1s\n",
            "[Parallel(n_jobs=4)]: Done 200 out of 200 | elapsed:    0.1s finished\n",
            "[Parallel(n_jobs=4)]: Using backend ThreadingBackend with 4 concurrent workers.\n",
            "[Parallel(n_jobs=4)]: Done  42 tasks      | elapsed:    0.0s\n",
            "[Parallel(n_jobs=4)]: Done 192 tasks      | elapsed:    0.1s\n",
            "[Parallel(n_jobs=4)]: Done 200 out of 200 | elapsed:    0.1s finished\n",
            "[Parallel(n_jobs=4)]: Using backend ThreadingBackend with 4 concurrent workers.\n",
            "[Parallel(n_jobs=4)]: Done  42 tasks      | elapsed:    0.0s\n",
            "[Parallel(n_jobs=4)]: Done 192 tasks      | elapsed:    0.1s\n",
            "[Parallel(n_jobs=4)]: Done 200 out of 200 | elapsed:    0.1s finished\n",
            "[Parallel(n_jobs=4)]: Using backend ThreadingBackend with 4 concurrent workers.\n",
            "[Parallel(n_jobs=4)]: Done  42 tasks      | elapsed:    0.0s\n",
            "[Parallel(n_jobs=4)]: Done 192 tasks      | elapsed:    0.1s\n",
            "[Parallel(n_jobs=4)]: Done 200 out of 200 | elapsed:    0.1s finished\n",
            "[Parallel(n_jobs=4)]: Using backend ThreadingBackend with 4 concurrent workers.\n",
            "[Parallel(n_jobs=4)]: Done  42 tasks      | elapsed:    0.0s\n",
            "[Parallel(n_jobs=4)]: Done 192 tasks      | elapsed:    0.1s\n",
            "[Parallel(n_jobs=4)]: Done 200 out of 200 | elapsed:    0.1s finished\n",
            "[Parallel(n_jobs=4)]: Using backend ThreadingBackend with 4 concurrent workers.\n",
            "[Parallel(n_jobs=4)]: Done  42 tasks      | elapsed:    0.0s\n",
            "[Parallel(n_jobs=4)]: Done 192 tasks      | elapsed:    0.1s\n",
            "[Parallel(n_jobs=4)]: Done 200 out of 200 | elapsed:    0.1s finished\n",
            "[Parallel(n_jobs=4)]: Using backend ThreadingBackend with 4 concurrent workers.\n",
            "[Parallel(n_jobs=4)]: Done  42 tasks      | elapsed:    0.0s\n",
            "[Parallel(n_jobs=4)]: Done 192 tasks      | elapsed:    0.1s\n",
            "[Parallel(n_jobs=4)]: Done 200 out of 200 | elapsed:    0.1s finished\n",
            "[Parallel(n_jobs=4)]: Using backend ThreadingBackend with 4 concurrent workers.\n",
            "[Parallel(n_jobs=4)]: Done  42 tasks      | elapsed:    0.0s\n",
            "[Parallel(n_jobs=4)]: Done 192 tasks      | elapsed:    0.1s\n",
            "[Parallel(n_jobs=4)]: Done 200 out of 200 | elapsed:    0.1s finished\n",
            "[Parallel(n_jobs=4)]: Using backend ThreadingBackend with 4 concurrent workers.\n",
            "[Parallel(n_jobs=4)]: Done  42 tasks      | elapsed:    0.0s\n",
            "[Parallel(n_jobs=4)]: Done 192 tasks      | elapsed:    0.1s\n",
            "[Parallel(n_jobs=4)]: Done 200 out of 200 | elapsed:    0.1s finished\n",
            "[Parallel(n_jobs=4)]: Using backend ThreadingBackend with 4 concurrent workers.\n",
            "[Parallel(n_jobs=4)]: Done  42 tasks      | elapsed:    0.0s\n",
            "[Parallel(n_jobs=4)]: Done 192 tasks      | elapsed:    0.1s\n",
            "[Parallel(n_jobs=4)]: Done 200 out of 200 | elapsed:    0.1s finished\n",
            "[Parallel(n_jobs=4)]: Using backend ThreadingBackend with 4 concurrent workers.\n",
            "[Parallel(n_jobs=4)]: Done  42 tasks      | elapsed:    0.0s\n",
            "[Parallel(n_jobs=4)]: Done 192 tasks      | elapsed:    0.1s\n",
            "[Parallel(n_jobs=4)]: Done 200 out of 200 | elapsed:    0.1s finished\n",
            "[Parallel(n_jobs=4)]: Using backend ThreadingBackend with 4 concurrent workers.\n",
            "[Parallel(n_jobs=4)]: Done  42 tasks      | elapsed:    0.0s\n",
            "[Parallel(n_jobs=4)]: Done 192 tasks      | elapsed:    0.1s\n",
            "[Parallel(n_jobs=4)]: Done 200 out of 200 | elapsed:    0.1s finished\n",
            "[Parallel(n_jobs=4)]: Using backend ThreadingBackend with 4 concurrent workers.\n",
            "[Parallel(n_jobs=4)]: Done  42 tasks      | elapsed:    0.0s\n",
            "[Parallel(n_jobs=4)]: Done 192 tasks      | elapsed:    0.1s\n",
            "[Parallel(n_jobs=4)]: Done 200 out of 200 | elapsed:    0.1s finished\n",
            "[Parallel(n_jobs=4)]: Using backend ThreadingBackend with 4 concurrent workers.\n",
            "[Parallel(n_jobs=4)]: Done  42 tasks      | elapsed:    0.0s\n",
            "[Parallel(n_jobs=4)]: Done 192 tasks      | elapsed:    0.1s\n",
            "[Parallel(n_jobs=4)]: Done 200 out of 200 | elapsed:    0.1s finished\n",
            "[Parallel(n_jobs=4)]: Using backend ThreadingBackend with 4 concurrent workers.\n",
            "[Parallel(n_jobs=4)]: Done  42 tasks      | elapsed:    0.0s\n",
            "[Parallel(n_jobs=4)]: Done 192 tasks      | elapsed:    0.1s\n",
            "[Parallel(n_jobs=4)]: Done 200 out of 200 | elapsed:    0.1s finished\n",
            "[Parallel(n_jobs=4)]: Using backend ThreadingBackend with 4 concurrent workers.\n",
            "[Parallel(n_jobs=4)]: Done  42 tasks      | elapsed:    0.0s\n",
            "[Parallel(n_jobs=4)]: Done 192 tasks      | elapsed:    0.1s\n",
            "[Parallel(n_jobs=4)]: Done 200 out of 200 | elapsed:    0.1s finished\n",
            "[Parallel(n_jobs=4)]: Using backend ThreadingBackend with 4 concurrent workers.\n",
            "[Parallel(n_jobs=4)]: Done  42 tasks      | elapsed:    0.0s\n",
            "[Parallel(n_jobs=4)]: Done 192 tasks      | elapsed:    0.1s\n",
            "[Parallel(n_jobs=4)]: Done 200 out of 200 | elapsed:    0.1s finished\n",
            "[Parallel(n_jobs=4)]: Using backend ThreadingBackend with 4 concurrent workers.\n",
            "[Parallel(n_jobs=4)]: Done  42 tasks      | elapsed:    0.0s\n",
            "[Parallel(n_jobs=4)]: Done 192 tasks      | elapsed:    0.1s\n",
            "[Parallel(n_jobs=4)]: Done 200 out of 200 | elapsed:    0.1s finished\n",
            "[Parallel(n_jobs=4)]: Using backend ThreadingBackend with 4 concurrent workers.\n",
            "[Parallel(n_jobs=4)]: Done  42 tasks      | elapsed:    0.0s\n",
            "[Parallel(n_jobs=4)]: Done 192 tasks      | elapsed:    0.1s\n",
            "[Parallel(n_jobs=4)]: Done 200 out of 200 | elapsed:    0.1s finished\n"
          ],
          "name": "stderr"
        },
        {
          "output_type": "display_data",
          "data": {
            "image/png": "[encoded data removed]",
            "text/plain": [
              "<Figure size 432x288 with 1 Axes>"
            ]
          },
          "metadata": {
            "tags": []
          }
        }
      ]
    },
    {
      "cell_type": "code",
      "metadata": {
        "colab": {
          "base_uri": "https://localhost:8080/",
          "height": 297
        },
        "id": "hc3gmg4qQtDe",
        "outputId": "3f3654fa-6155-44e5-8f3d-405de21e5639"
      },
      "source": [
        "# Plotting the train and val confusion matrix\n",
        "y_pred_abs_train = predict(y_pred_train, train_parameters['threshold'], train_parameters['fpr'], train_parameters['tpr'])\n",
        "y_pred_abs_val = predict(y_pred_val, val_parameters['threshold'], val_parameters['fpr'], val_parameters['tpr'])\n",
        "\n",
        "plot_conf_matrix(y_train, y_pred_abs_train, y_val, y_pred_abs_val)"
      ],
      "execution_count": null,
      "outputs": [
        {
          "output_type": "display_data",
          "data": {
            "image/png": "[encoded data removed]",
            "text/plain": [
              "<Figure size 720x288 with 4 Axes>"
            ]
          },
          "metadata": {
            "tags": []
          }
        }
      ]
    },
    {
      "cell_type": "code",
      "metadata": {
        "colab": {
          "base_uri": "https://localhost:8080/"
        },
        "id": "9xgofDkQiIDC",
        "outputId": "5e6f06c4-3286-4874-a2de-7502829af2ea"
      },
      "source": [
        "# Creating and storing the submission file for test data\n",
        "y_pred_lr = model.predict_proba(scaled_test)[:, 1]\n",
        "submit_lr = pd.read_csv(directory + 'sample_submission.csv')\n",
        "submit_lr['TARGET'] = y_pred_lr\n",
        "submit_lr.to_csv('random_forest_submission.csv', index = False)"
      ],
      "execution_count": null,
      "outputs": [
        {
          "output_type": "stream",
          "text": [
            "[Parallel(n_jobs=4)]: Using backend ThreadingBackend with 4 concurrent workers.\n",
            "[Parallel(n_jobs=4)]: Done  42 tasks      | elapsed:    0.5s\n",
            "[Parallel(n_jobs=4)]: Done 192 tasks      | elapsed:    2.2s\n",
            "[Parallel(n_jobs=4)]: Done 200 out of 200 | elapsed:    2.3s finished\n"
          ],
          "name": "stderr"
        }
      ]
    },
    {
      "cell_type": "markdown",
      "metadata": {
        "id": "XCUnsp0liqCV"
      },
      "source": [
        "After submitting the predictions on the Kaggle competition page, I got a Leaderboard score of 0.693 which is very less compared to simple logistic regression.\n",
        "![image.png](data:image/png;base64,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)\n",
        "\n",
        "Hence, our best performing model is still Logistic Regression for C = 0.01"
      ]
    },
    {
      "cell_type": "code",
      "metadata": {
        "id": "RNfpK90UUFiV"
      },
      "source": [
        "# Now that we have completed everything, we will delete the model and variables to free memory\n",
        "del model, submit_lr, train_parameters, val_parameters, y_pred_abs_train, y_pred_abs_val, y_pred_train, y_pred_val"
      ],
      "execution_count": null,
      "outputs": []
    },
    {
      "cell_type": "markdown",
      "metadata": {
        "id": "ScZ7IFQ1i5DQ"
      },
      "source": [
        "### 4. LightGBM\n",
        "\n",
        "For this model too, we will use an already tuned model because of the computational limitation we are facing. For that reason, I have not run the included Bayesian Optimization code as it takes over 12 hours for one full run. \n",
        "\n",
        "I ran it once and got the results, which are used in all the code related to LightGBM after that."
      ]
    },
    {
      "cell_type": "code",
      "metadata": {
        "id": "gFSSfmQnnbH0"
      },
      "source": [
        "# Reference : https://www.kaggle.com/returnofsputnik/bayes-opt-again/code\n",
        "# Reference : https://www.dlology.com/blog/how-to-do-hyperparameter-search-with-baysian-optimization-for-keras-mode\n",
        "\n",
        "# Please note that I could not run this as it would overflow the memory of the colab notebook so I have included this for reference.\n",
        "# This will help you find the best parameters for your model.\n",
        "\n",
        "data = lgb.Dataset(data=scaler_train, label=y_train)\n",
        "\n",
        "def parameters(num_iterations,num_leaves, feature_fraction, max_depth, min_split_gain, min_child_weight,learning_rate):\n",
        "  params = {'application':'binary','early_stopping_round':100, 'metric':'auc'}\n",
        "  params['num_iterations']=int(round(num_iterations))\n",
        "  params[\"num_leaves\"] = int(round(num_leaves))\n",
        "  params[\"learning_rate\"] = learning_rate\n",
        "  params['feature_fraction'] = max(min(feature_fraction, 1), 0)\n",
        "  params['max_depth'] = int(round(max_depth))\n",
        "  params['min_split_gain'] = min_split_gain\n",
        "  params['min_child_weight'] = min_child_weight\n",
        "  \n",
        "  cv_result = lgb.cv(params, data, nfold=5,seed=6, stratified=True, metrics=['auc'])\n",
        "  return max(cv_result['auc-mean'])\n",
        "\n",
        "optimizer = BayesianOptimization(parameters, {'num_iterations':(9800,11000),\n",
        "                                            'num_leaves':(16,48),\n",
        "                                            'feature_fraction':(0.1,0.5),\n",
        "                                            'max_depth': (6,12),\n",
        "                                            'min_split_gain':(0.001,0.1),\n",
        "                                            'min_child_weight': (20,60),\n",
        "                                            'learning_rate':(0.01,0.07)                                   \n",
        "                                            })\n",
        "    \n",
        "optimizer.maximize(init_points=30, n_iter=30)\n",
        "    \n",
        "print(optimizer.max) \n"
      ],
      "execution_count": null,
      "outputs": []
    },
    {
      "cell_type": "code",
      "metadata": {
        "id": "ADVdDnlWWB4R"
      },
      "source": [
        "# Parameters for our LGBM Classifier\n",
        "lgbm_params = {\n",
        "            'njobs': -1,\n",
        "            'n_estimators': 10000,\n",
        "            'learning_rate': .02,\n",
        "            'num_leaves': 34,\n",
        "            'colsample_bytree': .9497036,\n",
        "            'subsample': .8715623,\n",
        "            'max_depth': 7,\n",
        "            'reg_alpha': .041545473,\n",
        "            'reg_lambda': .0735294,\n",
        "            'min_split_gain': .0222415,\n",
        "            'min_child_weight': 39.3259775,\n",
        "            'silent': -1,\n",
        "            'verbose': -1,\n",
        "            'device_type' : 'gpu'\n",
        "}"
      ],
      "execution_count": null,
      "outputs": []
    },
    {
      "cell_type": "code",
      "metadata": {
        "id": "RP5CmCp09Mlw"
      },
      "source": [
        "# After we get the tuned LGBM Model, we will do a 5 fold cross validation to get the best performance.\n",
        "fold = StratifiedKFold(n_splits = 3, shuffle = True)\n",
        "a = 0\n",
        "\n",
        "importances = pd.DataFrame()\n",
        "y = train_df['TARGET']\n",
        "\n",
        "# Getting only the features. Excluding the ids and target column.\n",
        "features = [f for f in train_df.columns if f not in ['TARGET','SK_ID_CURR','SK_ID_BUREAU','SK_ID_PREV','index']]\n",
        "importances['features'] = features\n",
        "\n",
        "# Getting the train and test data ready\n",
        "X = train_df[features]\n",
        "X_test = test_df[features]\n",
        "\n",
        "X = X.rename(columns = lambda x:re.sub('[^A-Za-z0-9_]+', '', x))\n",
        "X_test = X_test.rename(columns = lambda x:re.sub('[^A-Za-z0-9_]+', '', x))\n",
        "\n",
        "train_predict = np.zeros(train_df.shape[0])\n",
        "cv_predict = np.zeros(train_df.shape[0])\n",
        "test_predict = np.zeros(test_df.shape[0])\n",
        "\n",
        "for i,(train, cv) in enumerate(fold.split(X,y)):\n",
        "  X_train, Y_train = X.iloc[train], y.iloc[train]\n",
        "  X_valid, Y_valid = X.iloc[cv], y.iloc[cv]\n",
        "\n",
        "  model = LGBMClassifier(**lgbm_params)\n",
        "  \n",
        "  model.fit(X_train, Y_train, eval_set=[(X_train, Y_train), (X_valid, Y_valid)], \n",
        "            eval_metric= 'auc', verbose= 200, early_stopping_rounds= 200)\n",
        "  \n",
        "  a=a+1\n",
        "\n",
        "  train_predict[train] = model.predict_proba(X_train, num_iteration=model.best_iteration_)[:, 1]\n",
        "  cv_predict[cv]=model.predict_proba(X_valid, num_iteration=model.best_iteration_)[:, 1]\n",
        "  test_predict += model.predict_proba(X_test, num_iteration=model.best_iteration_)[:, 1] / 5\n",
        "  \n",
        "  importances[\"imp\"] = model.feature_importances_\n",
        "  importances[\"fold\"] = i + 1\n",
        "  print('Fold ',i + 1,' TRAIN AUC : ',roc_auc_score(Y_train, train_predict[train]))\n",
        "  print('Fold ',i + 1,' CV AUC : ',roc_auc_score(Y_valid, cv_predict[cv]))\n",
        "        \n",
        "  del X_train, Y_train, X_valid, Y_valid\n",
        "  gc.collect()  "
      ],
      "execution_count": null,
      "outputs": []
    },
    {
      "cell_type": "code",
      "metadata": {
        "colab": {
          "base_uri": "https://localhost:8080/",
          "height": 330
        },
        "id": "AM0IvX18W_aQ",
        "outputId": "4d8ca911-b582-4ed6-e055-ae6866b87b00"
      },
      "source": [
        "print('Full TRAIN AUC score ',roc_auc_score(y, train_predict))\n",
        "print('Full CV AUC score ',roc_auc_score(y, cv_predict))\n",
        "    \n",
        "train_fpr, train_tpr, tr_thresholds = roc_curve(y, train_predict)\n",
        "test_fpr, test_tpr, te_thresholds = roc_curve(y, cv_predict)\n",
        "\n",
        "#plot auc curve\n",
        "plt.plot(train_fpr, train_tpr, label=\"train AUC =\"+str(auc(train_fpr, train_tpr)))\n",
        "plt.plot(test_fpr, test_tpr, label=\"test AUC =\"+str(auc(test_fpr, test_tpr)))\n",
        "plt.legend()\n",
        "plt.xlabel(\"K: hyperparameter\")\n",
        "plt.ylabel(\"AUC\")\n",
        "plt.title(\"ERROR PLOTS\")\n",
        "plt.grid()\n",
        "plt.show()"
      ],
      "execution_count": null,
      "outputs": [
        {
          "output_type": "stream",
          "text": [
            "Full TRAIN AUC score  0.8803514245069372\n",
            "Full CV AUC score  0.7916800427173107\n"
          ],
          "name": "stdout"
        },
        {
          "output_type": "display_data",
          "data": {
            "image/png": "[encoded data removed]",
            "text/plain": [
              "<Figure size 432x288 with 1 Axes>"
            ]
          },
          "metadata": {
            "tags": []
          }
        }
      ]
    },
    {
      "cell_type": "code",
      "metadata": {
        "colab": {
          "base_uri": "https://localhost:8080/",
          "height": 701
        },
        "id": "KpKeCS0swX0t",
        "outputId": "67cce552-3df5-409e-b194-d0cc9e10b5c4"
      },
      "source": [
        "#plot imp features\n",
        "features = importances[\"features\"]\n",
        "importances = importances[\"imp\"]\n",
        "indices = (np.argsort(importances))[-25:]\n",
        "plt.figure(figsize=(10,12))\n",
        "plt.title('Feature Importances')\n",
        "plt.barh(range(len(indices)), importances[indices], color='r', align='center')\n",
        "plt.yticks(range(len(indices)), [features[i] for i in indices])\n",
        "plt.xlabel('Relative Importance')\n",
        "plt.show()"
      ],
      "execution_count": null,
      "outputs": [
        {
          "output_type": "display_data",
          "data": {
            "image/png": "[encoded data removed]",
            "text/plain": [
              "<Figure size 720x864 with 1 Axes>"
            ]
          },
          "metadata": {
            "tags": []
          }
        }
      ]
    },
    {
      "cell_type": "code",
      "metadata": {
        "id": "uGgzPe6U31K5"
      },
      "source": [
        "# Trying to select the top 300 features using the feature importance. \n",
        "top_300_imp_values = (np.argsort(importances))[-300:]\n",
        "final_features = [features[i] for i in top_300_imp_values]"
      ],
      "execution_count": null,
      "outputs": []
    },
    {
      "cell_type": "code",
      "metadata": {
        "colab": {
          "base_uri": "https://localhost:8080/"
        },
        "id": "WD5xk7Ls4kNH",
        "outputId": "a72ad7e8-b411-41bc-cf9b-3963f8be7b6b"
      },
      "source": [
        "# Training a LGBM Model for the top features only. \n",
        "model = LGBMClassifier(**lgbm_params)\n",
        "\n",
        "X_train, X_val, y_train, y_val = train_test_split(train_df[final_features], y, test_size = 0.2, stratify = y)\n",
        "\n",
        "model.fit(X_train, y_train, eval_set=[(X_train, y_train), (X_val, y_val)], \n",
        "            eval_metric= 'auc', verbose= 200, early_stopping_rounds= 200)"
      ],
      "execution_count": null,
      "outputs": [
        {
          "output_type": "stream",
          "text": [
            "Training until validation scores don't improve for 200 rounds.\n",
            "[200]\ttraining's binary_logloss: 0.233109\ttraining's auc: 0.803324\tvalid_1's binary_logloss: 0.241608\tvalid_1's auc: 0.777057\n",
            "[400]\ttraining's binary_logloss: 0.222972\ttraining's auc: 0.826455\tvalid_1's binary_logloss: 0.237659\tvalid_1's auc: 0.787325\n",
            "[600]\ttraining's binary_logloss: 0.216177\ttraining's auc: 0.842766\tvalid_1's binary_logloss: 0.236418\tvalid_1's auc: 0.790794\n",
            "[800]\ttraining's binary_logloss: 0.210511\ttraining's auc: 0.856062\tvalid_1's binary_logloss: 0.235869\tvalid_1's auc: 0.792223\n",
            "[1000]\ttraining's binary_logloss: 0.205566\ttraining's auc: 0.867394\tvalid_1's binary_logloss: 0.235586\tvalid_1's auc: 0.792945\n",
            "[1200]\ttraining's binary_logloss: 0.200842\ttraining's auc: 0.877708\tvalid_1's binary_logloss: 0.235455\tvalid_1's auc: 0.793232\n",
            "[1400]\ttraining's binary_logloss: 0.196439\ttraining's auc: 0.88699\tvalid_1's binary_logloss: 0.23528\tvalid_1's auc: 0.793776\n",
            "[1600]\ttraining's binary_logloss: 0.192156\ttraining's auc: 0.895906\tvalid_1's binary_logloss: 0.235267\tvalid_1's auc: 0.793863\n",
            "Early stopping, best iteration is:\n",
            "[1440]\ttraining's binary_logloss: 0.195542\ttraining's auc: 0.888893\tvalid_1's binary_logloss: 0.235233\tvalid_1's auc: 0.793959\n"
          ],
          "name": "stdout"
        },
        {
          "output_type": "execute_result",
          "data": {
            "text/plain": [
              "LGBMClassifier(boosting_type='gbdt', class_weight=None,\n",
              "               colsample_bytree=0.9497036, importance_type='split',\n",
              "               learning_rate=0.02, max_depth=8, min_child_samples=20,\n",
              "               min_child_weight=39.3259775, min_split_gain=0.0222415,\n",
              "               n_estimators=10000, n_jobs=-1, nthread=4, num_leaves=34,\n",
              "               objective=None, random_state=None, reg_alpha=0.041545473,\n",
              "               reg_lambda=0.0735294, silent=-1, subsample=0.8715623,\n",
              "               subsample_for_bin=200000, subsample_freq=0, verbose=-1)"
            ]
          },
          "metadata": {
            "tags": []
          },
          "execution_count": 70
        }
      ]
    },
    {
      "cell_type": "code",
      "metadata": {
        "id": "u2T63dwH4put"
      },
      "source": [
        "# Creating and storing the submission file for test data for all the features\n",
        "y_pred_lgb = model.predict_proba(test_df[features])[:, 1]\n",
        "submit_lgb = pd.read_csv(directory + 'sample_submission.csv')\n",
        "submit_lgb['TARGET'] = y_pred_lgb\n",
        "submit_lgb.to_csv('lgb_submission.csv', index = False)"
      ],
      "execution_count": null,
      "outputs": []
    },
    {
      "cell_type": "code",
      "metadata": {
        "id": "p_ccZ3vW-FSH"
      },
      "source": [
        "# Creating and storing the submission file for test data on top 300 features.\n",
        "y_pred_lgb = model.predict_proba(test_df[final_features])[:, 1]\n",
        "submit_lgb = pd.read_csv(directory + 'sample_submission.csv')\n",
        "submit_lgb['TARGET'] = y_pred_lgb\n",
        "submit_lgb.to_csv('lgb_submission_top300.csv', index = False)"
      ],
      "execution_count": null,
      "outputs": []
    },
    {
      "cell_type": "markdown",
      "metadata": {
        "id": "PG-08pRxxFc_"
      },
      "source": [
        "We got a Leader Board Score of **0.79115** for the submission with all the features, which is a really good score! \n",
        "\n",
        "Then, the submission with the top 300 features also yields a score of **0.79008** which is note at all bad but still less than the previous score. \n",
        "\n",
        "Note that this is the only model which is trained on the original and not the normalized data. For some reason, the performance on the scaled data is not that good.\n",
        "\n",
        "Next, we will try a stacking classifier which allows us to stack different models and see the performance by running a simple classifier on top of the perdictions of all the base models of stacking classifier. \n",
        "\n",
        "![image.png](data:image/png;base64,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)"
      ]
    },
    {
      "cell_type": "code",
      "metadata": {
        "id": "WyihcyyaOAQ7"
      },
      "source": [
        "# Freeing up the memory\n",
        "del model, X_train, X_val, y_train, y_val"
      ],
      "execution_count": null,
      "outputs": []
    },
    {
      "cell_type": "markdown",
      "metadata": {
        "id": "-3i_g0wAX8hX"
      },
      "source": [
        "### 5. XGBoost\n",
        "\n",
        "Next, we will test the XGBoost model for both the raw data and scaled or normalized data."
      ]
    },
    {
      "cell_type": "code",
      "metadata": {
        "id": "ttZzzwr-2AZC"
      },
      "source": [
        "#Initializing the XGBoost Model with GPU usage capability for faster training\n",
        "model = XGBClassifier(learning_rate =0.01, n_estimators=10000, max_depth=4, min_child_weight=5, subsample=0.8, colsample_bytree=0.8, objective= 'binary:logistic', \n",
        "            nthread=4, scale_pos_weight=2.5, seed=27, reg_lambda = 1.2, verbose = 5, gpu_hist = 0, tree_method = 'gpu_hist')"
      ],
      "execution_count": null,
      "outputs": []
    },
    {
      "cell_type": "code",
      "metadata": {
        "id": "uBfAdyjg3g9s"
      },
      "source": [
        "importances = pd.DataFrame()\n",
        "\n",
        "# Getting only the features. Excluding the ids and target column.\n",
        "features = [f for f in train_df.columns if f not in ['TARGET','SK_ID_CURR','SK_ID_BUREAU','SK_ID_PREV','index']]\n",
        "importances['features'] = features\n",
        "X = train_df[features]\n",
        "Y = train_df['TARGET']\n",
        "\n",
        "X_train, X_val, y_train, y_val = train_test_split(X, Y, test_size = 0.2, stratify = Y)\n",
        "\n",
        "model.fit(X_train, y_train, eval_set=[(X_train, y_train), (X_val, y_val)], \n",
        "            eval_metric= 'auc', verbose= 200, early_stopping_rounds= 200)\n",
        "\n",
        "importances[\"imp\"] = model.feature_importances_\n"
      ],
      "execution_count": null,
      "outputs": []
    },
    {
      "cell_type": "code",
      "metadata": {
        "id": "XBa1qvWc2lwP"
      },
      "source": [
        "# Plot the ROC Curve\n",
        "train_predict = model.predict_proba(X_train)[:, 1]\n",
        "cv_predict=model.predict_proba(X_val)[:, 1]\n",
        "\n",
        "print('Full TRAIN AUC score ',roc_auc_score(y, train_predict))\n",
        "print('Full CV AUC score ',roc_auc_score(y, cv_predict))\n",
        "    \n",
        "train_fpr, train_tpr, tr_thresholds = roc_curve(y, train_predict)\n",
        "test_fpr, test_tpr, te_thresholds = roc_curve(y, cv_predict)\n",
        "\n",
        "#plot auc curve\n",
        "plt.plot(train_fpr, train_tpr, label=\"train AUC =\"+str(auc(train_fpr, train_tpr)))\n",
        "plt.plot(test_fpr, test_tpr, label=\"test AUC =\"+str(auc(test_fpr, test_tpr)))\n",
        "plt.legend()\n",
        "plt.xlabel(\"K: hyperparameter\")\n",
        "plt.ylabel(\"AUC\")\n",
        "plt.title(\"ERROR PLOTS : XGBoost\")\n",
        "plt.grid()\n",
        "plt.show()"
      ],
      "execution_count": null,
      "outputs": []
    },
    {
      "cell_type": "code",
      "metadata": {
        "id": "OKtiOjCJ28za"
      },
      "source": [
        "# Plot the Feature Importances\n",
        "features = importances[\"features\"]\n",
        "importances = importances[\"imp\"]\n",
        "indices = (np.argsort(importances))[-25:]\n",
        "plt.figure(figsize=(10,12))\n",
        "plt.title('Feature Importances')\n",
        "plt.barh(range(len(indices)), importances[indices], color='r', align='center')\n",
        "plt.yticks(range(len(indices)), [features[i] for i in indices])\n",
        "plt.xlabel('Relative Importance')\n",
        "plt.show()"
      ],
      "execution_count": null,
      "outputs": []
    },
    {
      "cell_type": "code",
      "metadata": {
        "id": "BGUFCMtU2cBf"
      },
      "source": [
        "# Creating a submission file for xgboost\n",
        "y_pred_xgb = model_2.predict_proba(test_df[features])[:, 1]\n",
        "submit_xgb = pd.read_csv(directory + 'sample_submission.csv')\n",
        "submit_xgb['TARGET'] = y_pred_xgb\n",
        "submit_xgb.to_csv('xgb_submission.csv', index = False)"
      ],
      "execution_count": null,
      "outputs": []
    },
    {
      "cell_type": "markdown",
      "metadata": {
        "id": "riuPZ3myb9Sy"
      },
      "source": [
        "Here are the Leaderboard stats for this model. We got our best performing model till now:\n",
        "\n",
        "![image.png](data:image/png;base64,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)"
      ]
    },
    {
      "cell_type": "markdown",
      "metadata": {
        "id": "6Ndv61U2bF6J"
      },
      "source": [
        "### 6. CatBoost"
      ]
    },
    {
      "cell_type": "code",
      "metadata": {
        "id": "vT_K6O8JbQ7c"
      },
      "source": [
        "# Model 3 : Cat_Boost Model\n",
        "catboost_params = {\n",
        "    'iterations': 1000,\n",
        "    'learning_rate': 0.01,\n",
        "    'depth': 7,\n",
        "    'l2_leaf_reg': 40,\n",
        "    'bootstrap_type': 'Bernoulli',\n",
        "    'subsample': 0.8,\n",
        "    'scale_pos_weight': 5,\n",
        "    'eval_metric': 'AUC',\n",
        "    'od_type': 'Iter',\n",
        "    'allow_writing_files': False,\n",
        "    'task_type' : 'GPU',\n",
        "     'devices' : '0:1'\n",
        "}\n",
        "\n",
        "model = CatBoostClassifier(**catboost_params)"
      ],
      "execution_count": null,
      "outputs": []
    },
    {
      "cell_type": "code",
      "metadata": {
        "colab": {
          "base_uri": "https://localhost:8080/"
        },
        "id": "EnKjWBFfcP8u",
        "outputId": "d22a0cc1-6af7-4565-e3d3-3d385c47ce30"
      },
      "source": [
        "# Training the XGBoost Model\n",
        "features = [f for f in train_df.columns if f not in ['TARGET','SK_ID_CURR','SK_ID_BUREAU','SK_ID_PREV','index']]\n",
        "X = train_df[features]\n",
        "Y = train_df['TARGET']\n",
        "\n",
        "X_train, X_val, y_train, y_val = train_test_split(X, Y, test_size = 0.2, stratify = Y)\n",
        "\n",
        "model.fit(X_train, y_train, eval_set=[(X_val, y_val)])"
      ],
      "execution_count": null,
      "outputs": [
        {
          "output_type": "stream",
          "text": [
            "Warning: less than 75% gpu memory available for training. Free: 12131.75 Total: 16280.875\n"
          ],
          "name": "stderr"
        },
        {
          "output_type": "stream",
          "text": [
            "0:\tlearn: 0.7218671\ttest: 0.7142603\tbest: 0.7142603 (0)\ttotal: 71.4ms\tremaining: 1m 11s\n",
            "1:\tlearn: 0.7252747\ttest: 0.7181757\tbest: 0.7181757 (1)\ttotal: 122ms\tremaining: 1m\n",
            "2:\tlearn: 0.7292701\ttest: 0.7227969\tbest: 0.7227969 (2)\ttotal: 169ms\tremaining: 56.1s\n",
            "3:\tlearn: 0.7291995\ttest: 0.7223633\tbest: 0.7227969 (2)\ttotal: 215ms\tremaining: 53.4s\n",
            "4:\tlearn: 0.7315197\ttest: 0.7246935\tbest: 0.7246935 (4)\ttotal: 259ms\tremaining: 51.6s\n",
            "5:\tlearn: 0.7312879\ttest: 0.7244496\tbest: 0.7246935 (4)\ttotal: 305ms\tremaining: 50.6s\n",
            "6:\tlearn: 0.7314565\ttest: 0.7244051\tbest: 0.7246935 (4)\ttotal: 350ms\tremaining: 49.7s\n",
            "7:\tlearn: 0.7313959\ttest: 0.7244447\tbest: 0.7246935 (4)\ttotal: 395ms\tremaining: 48.9s\n",
            "8:\tlearn: 0.7322168\ttest: 0.7254866\tbest: 0.7254866 (8)\ttotal: 440ms\tremaining: 48.4s\n",
            "9:\tlearn: 0.7323209\ttest: 0.7256375\tbest: 0.7256375 (9)\ttotal: 486ms\tremaining: 48.1s\n",
            "10:\tlearn: 0.7331740\ttest: 0.7264168\tbest: 0.7264168 (10)\ttotal: 532ms\tremaining: 47.8s\n",
            "11:\tlearn: 0.7334189\ttest: 0.7268691\tbest: 0.7268691 (11)\ttotal: 580ms\tremaining: 47.8s\n",
            "12:\tlearn: 0.7338330\ttest: 0.7270539\tbest: 0.7270539 (12)\ttotal: 630ms\tremaining: 47.8s\n",
            "13:\tlearn: 0.7344171\ttest: 0.7276012\tbest: 0.7276012 (13)\ttotal: 677ms\tremaining: 47.7s\n",
            "14:\tlearn: 0.7348052\ttest: 0.7279385\tbest: 0.7279385 (14)\ttotal: 723ms\tremaining: 47.4s\n",
            "15:\tlearn: 0.7349541\ttest: 0.7280565\tbest: 0.7280565 (15)\ttotal: 767ms\tremaining: 47.1s\n",
            "16:\tlearn: 0.7351148\ttest: 0.7280945\tbest: 0.7280945 (16)\ttotal: 811ms\tremaining: 46.9s\n",
            "17:\tlearn: 0.7353303\ttest: 0.7284675\tbest: 0.7284675 (17)\ttotal: 854ms\tremaining: 46.6s\n",
            "18:\tlearn: 0.7361308\ttest: 0.7291355\tbest: 0.7291355 (18)\ttotal: 901ms\tremaining: 46.5s\n",
            "19:\tlearn: 0.7368984\ttest: 0.7298666\tbest: 0.7298666 (19)\ttotal: 944ms\tremaining: 46.3s\n",
            "20:\tlearn: 0.7370189\ttest: 0.7298984\tbest: 0.7298984 (20)\ttotal: 992ms\tremaining: 46.2s\n",
            "21:\tlearn: 0.7373744\ttest: 0.7302645\tbest: 0.7302645 (21)\ttotal: 1.04s\tremaining: 46.2s\n",
            "22:\tlearn: 0.7378269\ttest: 0.7307685\tbest: 0.7307685 (22)\ttotal: 1.09s\tremaining: 46.2s\n",
            "23:\tlearn: 0.7382020\ttest: 0.7310761\tbest: 0.7310761 (23)\ttotal: 1.13s\tremaining: 46.1s\n",
            "24:\tlearn: 0.7385021\ttest: 0.7313401\tbest: 0.7313401 (24)\ttotal: 1.18s\tremaining: 46.1s\n",
            "25:\tlearn: 0.7387685\ttest: 0.7316956\tbest: 0.7316956 (25)\ttotal: 1.23s\tremaining: 46s\n",
            "26:\tlearn: 0.7389223\ttest: 0.7318916\tbest: 0.7318916 (26)\ttotal: 1.27s\tremaining: 45.9s\n",
            "27:\tlearn: 0.7393669\ttest: 0.7323762\tbest: 0.7323762 (27)\ttotal: 1.32s\tremaining: 45.8s\n",
            "28:\tlearn: 0.7399709\ttest: 0.7330169\tbest: 0.7330169 (28)\ttotal: 1.36s\tremaining: 45.6s\n",
            "29:\tlearn: 0.7405738\ttest: 0.7335822\tbest: 0.7335822 (29)\ttotal: 1.41s\tremaining: 45.5s\n",
            "30:\tlearn: 0.7410157\ttest: 0.7340428\tbest: 0.7340428 (30)\ttotal: 1.45s\tremaining: 45.5s\n",
            "31:\tlearn: 0.7414674\ttest: 0.7345165\tbest: 0.7345165 (31)\ttotal: 1.5s\tremaining: 45.4s\n",
            "32:\tlearn: 0.7419441\ttest: 0.7349586\tbest: 0.7349586 (32)\ttotal: 1.55s\tremaining: 45.4s\n",
            "33:\tlearn: 0.7421613\ttest: 0.7352520\tbest: 0.7352520 (33)\ttotal: 1.59s\tremaining: 45.2s\n",
            "34:\tlearn: 0.7423232\ttest: 0.7354198\tbest: 0.7354198 (34)\ttotal: 1.64s\tremaining: 45.1s\n",
            "35:\tlearn: 0.7426767\ttest: 0.7357897\tbest: 0.7357897 (35)\ttotal: 1.68s\tremaining: 45s\n",
            "36:\tlearn: 0.7426906\ttest: 0.7357903\tbest: 0.7357903 (36)\ttotal: 1.73s\tremaining: 45s\n",
            "37:\tlearn: 0.7428301\ttest: 0.7358833\tbest: 0.7358833 (37)\ttotal: 1.77s\tremaining: 44.9s\n",
            "38:\tlearn: 0.7431074\ttest: 0.7361340\tbest: 0.7361340 (38)\ttotal: 1.82s\tremaining: 44.9s\n",
            "39:\tlearn: 0.7433009\ttest: 0.7363367\tbest: 0.7363367 (39)\ttotal: 1.87s\tremaining: 44.8s\n",
            "40:\tlearn: 0.7436547\ttest: 0.7366620\tbest: 0.7366620 (40)\ttotal: 1.91s\tremaining: 44.8s\n",
            "41:\tlearn: 0.7439351\ttest: 0.7369556\tbest: 0.7369556 (41)\ttotal: 1.96s\tremaining: 44.8s\n",
            "42:\tlearn: 0.7441193\ttest: 0.7371320\tbest: 0.7371320 (42)\ttotal: 2.01s\tremaining: 44.7s\n",
            "43:\tlearn: 0.7444393\ttest: 0.7374540\tbest: 0.7374540 (43)\ttotal: 2.05s\tremaining: 44.6s\n",
            "44:\tlearn: 0.7448238\ttest: 0.7379037\tbest: 0.7379037 (44)\ttotal: 2.1s\tremaining: 44.6s\n",
            "45:\tlearn: 0.7452030\ttest: 0.7382728\tbest: 0.7382728 (45)\ttotal: 2.14s\tremaining: 44.5s\n",
            "46:\tlearn: 0.7454657\ttest: 0.7385311\tbest: 0.7385311 (46)\ttotal: 2.19s\tremaining: 44.4s\n",
            "47:\tlearn: 0.7458257\ttest: 0.7389401\tbest: 0.7389401 (47)\ttotal: 2.23s\tremaining: 44.3s\n",
            "48:\tlearn: 0.7462426\ttest: 0.7393027\tbest: 0.7393027 (48)\ttotal: 2.28s\tremaining: 44.2s\n",
            "49:\tlearn: 0.7464337\ttest: 0.7394435\tbest: 0.7394435 (49)\ttotal: 2.32s\tremaining: 44.1s\n",
            "50:\tlearn: 0.7467716\ttest: 0.7397273\tbest: 0.7397273 (50)\ttotal: 2.37s\tremaining: 44.1s\n",
            "51:\tlearn: 0.7468812\ttest: 0.7398394\tbest: 0.7398394 (51)\ttotal: 2.42s\tremaining: 44s\n",
            "52:\tlearn: 0.7471076\ttest: 0.7400633\tbest: 0.7400633 (52)\ttotal: 2.46s\tremaining: 44s\n",
            "53:\tlearn: 0.7473547\ttest: 0.7403612\tbest: 0.7403612 (53)\ttotal: 2.51s\tremaining: 44s\n",
            "54:\tlearn: 0.7475821\ttest: 0.7405306\tbest: 0.7405306 (54)\ttotal: 2.56s\tremaining: 43.9s\n",
            "55:\tlearn: 0.7478019\ttest: 0.7407727\tbest: 0.7407727 (55)\ttotal: 2.6s\tremaining: 43.8s\n",
            "56:\tlearn: 0.7480392\ttest: 0.7411263\tbest: 0.7411263 (56)\ttotal: 2.65s\tremaining: 43.8s\n",
            "57:\tlearn: 0.7481400\ttest: 0.7412902\tbest: 0.7412902 (57)\ttotal: 2.69s\tremaining: 43.7s\n",
            "58:\tlearn: 0.7481530\ttest: 0.7413079\tbest: 0.7413079 (58)\ttotal: 2.73s\tremaining: 43.6s\n",
            "59:\tlearn: 0.7484825\ttest: 0.7416761\tbest: 0.7416761 (59)\ttotal: 2.77s\tremaining: 43.5s\n",
            "60:\tlearn: 0.7489070\ttest: 0.7420670\tbest: 0.7420670 (60)\ttotal: 2.82s\tremaining: 43.4s\n",
            "61:\tlearn: 0.7490699\ttest: 0.7422733\tbest: 0.7422733 (61)\ttotal: 2.86s\tremaining: 43.3s\n",
            "62:\tlearn: 0.7493872\ttest: 0.7426037\tbest: 0.7426037 (62)\ttotal: 2.91s\tremaining: 43.3s\n",
            "63:\tlearn: 0.7496273\ttest: 0.7428424\tbest: 0.7428424 (63)\ttotal: 2.95s\tremaining: 43.2s\n",
            "64:\tlearn: 0.7498629\ttest: 0.7431302\tbest: 0.7431302 (64)\ttotal: 3s\tremaining: 43.1s\n",
            "65:\tlearn: 0.7501346\ttest: 0.7434098\tbest: 0.7434098 (65)\ttotal: 3.04s\tremaining: 43.1s\n",
            "66:\tlearn: 0.7502841\ttest: 0.7435991\tbest: 0.7435991 (66)\ttotal: 3.09s\tremaining: 43s\n",
            "67:\tlearn: 0.7503943\ttest: 0.7436789\tbest: 0.7436789 (67)\ttotal: 3.13s\tremaining: 42.9s\n",
            "68:\tlearn: 0.7505463\ttest: 0.7438208\tbest: 0.7438208 (68)\ttotal: 3.18s\tremaining: 42.9s\n",
            "69:\tlearn: 0.7508138\ttest: 0.7441174\tbest: 0.7441174 (69)\ttotal: 3.22s\tremaining: 42.8s\n",
            "70:\tlearn: 0.7510112\ttest: 0.7443745\tbest: 0.7443745 (70)\ttotal: 3.27s\tremaining: 42.7s\n",
            "71:\tlearn: 0.7512803\ttest: 0.7446754\tbest: 0.7446754 (71)\ttotal: 3.31s\tremaining: 42.7s\n",
            "72:\tlearn: 0.7514200\ttest: 0.7448129\tbest: 0.7448129 (72)\ttotal: 3.36s\tremaining: 42.7s\n",
            "73:\tlearn: 0.7516245\ttest: 0.7449925\tbest: 0.7449925 (73)\ttotal: 3.41s\tremaining: 42.6s\n",
            "74:\tlearn: 0.7517745\ttest: 0.7451549\tbest: 0.7451549 (74)\ttotal: 3.45s\tremaining: 42.5s\n",
            "75:\tlearn: 0.7518938\ttest: 0.7452304\tbest: 0.7452304 (75)\ttotal: 3.49s\tremaining: 42.5s\n",
            "76:\tlearn: 0.7520309\ttest: 0.7453845\tbest: 0.7453845 (76)\ttotal: 3.54s\tremaining: 42.4s\n",
            "77:\tlearn: 0.7521082\ttest: 0.7454507\tbest: 0.7454507 (77)\ttotal: 3.58s\tremaining: 42.3s\n",
            "78:\tlearn: 0.7522735\ttest: 0.7456296\tbest: 0.7456296 (78)\ttotal: 3.63s\tremaining: 42.3s\n",
            "79:\tlearn: 0.7523033\ttest: 0.7456571\tbest: 0.7456571 (79)\ttotal: 3.67s\tremaining: 42.2s\n",
            "80:\tlearn: 0.7525215\ttest: 0.7459125\tbest: 0.7459125 (80)\ttotal: 3.72s\tremaining: 42.2s\n",
            "81:\tlearn: 0.7526339\ttest: 0.7460635\tbest: 0.7460635 (81)\ttotal: 3.76s\tremaining: 42.1s\n",
            "82:\tlearn: 0.7529607\ttest: 0.7463995\tbest: 0.7463995 (82)\ttotal: 3.81s\tremaining: 42.1s\n",
            "83:\tlearn: 0.7531859\ttest: 0.7466393\tbest: 0.7466393 (83)\ttotal: 3.85s\tremaining: 42s\n",
            "84:\tlearn: 0.7533734\ttest: 0.7468242\tbest: 0.7468242 (84)\ttotal: 3.9s\tremaining: 41.9s\n",
            "85:\tlearn: 0.7535461\ttest: 0.7469855\tbest: 0.7469855 (85)\ttotal: 3.94s\tremaining: 41.9s\n",
            "86:\tlearn: 0.7537483\ttest: 0.7472064\tbest: 0.7472064 (86)\ttotal: 3.99s\tremaining: 41.9s\n",
            "87:\tlearn: 0.7538555\ttest: 0.7472956\tbest: 0.7472956 (87)\ttotal: 4.04s\tremaining: 41.9s\n",
            "88:\tlearn: 0.7539255\ttest: 0.7473630\tbest: 0.7473630 (88)\ttotal: 4.08s\tremaining: 41.8s\n",
            "89:\tlearn: 0.7541194\ttest: 0.7475946\tbest: 0.7475946 (89)\ttotal: 4.13s\tremaining: 41.8s\n",
            "90:\tlearn: 0.7543525\ttest: 0.7478191\tbest: 0.7478191 (90)\ttotal: 4.18s\tremaining: 41.8s\n",
            "91:\tlearn: 0.7545549\ttest: 0.7480260\tbest: 0.7480260 (91)\ttotal: 4.22s\tremaining: 41.7s\n",
            "92:\tlearn: 0.7548156\ttest: 0.7483338\tbest: 0.7483338 (92)\ttotal: 4.27s\tremaining: 41.6s\n",
            "93:\tlearn: 0.7550283\ttest: 0.7485229\tbest: 0.7485229 (93)\ttotal: 4.32s\tremaining: 41.6s\n",
            "94:\tlearn: 0.7553305\ttest: 0.7487891\tbest: 0.7487891 (94)\ttotal: 4.36s\tremaining: 41.6s\n",
            "95:\tlearn: 0.7555209\ttest: 0.7489924\tbest: 0.7489924 (95)\ttotal: 4.4s\tremaining: 41.5s\n",
            "96:\tlearn: 0.7555944\ttest: 0.7490703\tbest: 0.7490703 (96)\ttotal: 4.45s\tremaining: 41.4s\n",
            "97:\tlearn: 0.7558475\ttest: 0.7493402\tbest: 0.7493402 (97)\ttotal: 4.49s\tremaining: 41.4s\n",
            "98:\tlearn: 0.7560593\ttest: 0.7495319\tbest: 0.7495319 (98)\ttotal: 4.54s\tremaining: 41.3s\n",
            "99:\tlearn: 0.7562539\ttest: 0.7497613\tbest: 0.7497613 (99)\ttotal: 4.58s\tremaining: 41.2s\n",
            "100:\tlearn: 0.7564649\ttest: 0.7499937\tbest: 0.7499937 (100)\ttotal: 4.63s\tremaining: 41.2s\n",
            "101:\tlearn: 0.7566561\ttest: 0.7502259\tbest: 0.7502259 (101)\ttotal: 4.67s\tremaining: 41.1s\n",
            "102:\tlearn: 0.7567097\ttest: 0.7502731\tbest: 0.7502731 (102)\ttotal: 4.71s\tremaining: 41.1s\n",
            "103:\tlearn: 0.7568711\ttest: 0.7504351\tbest: 0.7504351 (103)\ttotal: 4.76s\tremaining: 41s\n",
            "104:\tlearn: 0.7570215\ttest: 0.7505976\tbest: 0.7505976 (104)\ttotal: 4.81s\tremaining: 41s\n",
            "105:\tlearn: 0.7572300\ttest: 0.7508330\tbest: 0.7508330 (105)\ttotal: 4.85s\tremaining: 40.9s\n",
            "106:\tlearn: 0.7573301\ttest: 0.7509111\tbest: 0.7509111 (106)\ttotal: 4.9s\tremaining: 40.9s\n",
            "107:\tlearn: 0.7574899\ttest: 0.7510545\tbest: 0.7510545 (107)\ttotal: 4.94s\tremaining: 40.8s\n",
            "108:\tlearn: 0.7576740\ttest: 0.7511972\tbest: 0.7511972 (108)\ttotal: 4.98s\tremaining: 40.7s\n",
            "109:\tlearn: 0.7578294\ttest: 0.7513522\tbest: 0.7513522 (109)\ttotal: 5.03s\tremaining: 40.7s\n",
            "110:\tlearn: 0.7580316\ttest: 0.7515624\tbest: 0.7515624 (110)\ttotal: 5.08s\tremaining: 40.7s\n",
            "111:\tlearn: 0.7582017\ttest: 0.7517527\tbest: 0.7517527 (111)\ttotal: 5.12s\tremaining: 40.6s\n",
            "112:\tlearn: 0.7583576\ttest: 0.7519091\tbest: 0.7519091 (112)\ttotal: 5.16s\tremaining: 40.5s\n",
            "113:\tlearn: 0.7584545\ttest: 0.7520517\tbest: 0.7520517 (113)\ttotal: 5.21s\tremaining: 40.5s\n",
            "114:\tlearn: 0.7586423\ttest: 0.7521924\tbest: 0.7521924 (114)\ttotal: 5.25s\tremaining: 40.4s\n",
            "115:\tlearn: 0.7587644\ttest: 0.7523343\tbest: 0.7523343 (115)\ttotal: 5.3s\tremaining: 40.4s\n",
            "116:\tlearn: 0.7589472\ttest: 0.7525459\tbest: 0.7525459 (116)\ttotal: 5.34s\tremaining: 40.3s\n",
            "117:\tlearn: 0.7591066\ttest: 0.7526652\tbest: 0.7526652 (117)\ttotal: 5.39s\tremaining: 40.3s\n",
            "118:\tlearn: 0.7592200\ttest: 0.7527272\tbest: 0.7527272 (118)\ttotal: 5.44s\tremaining: 40.3s\n",
            "119:\tlearn: 0.7593973\ttest: 0.7528637\tbest: 0.7528637 (119)\ttotal: 5.49s\tremaining: 40.3s\n",
            "120:\tlearn: 0.7595416\ttest: 0.7530059\tbest: 0.7530059 (120)\ttotal: 5.54s\tremaining: 40.2s\n",
            "121:\tlearn: 0.7596814\ttest: 0.7531369\tbest: 0.7531369 (121)\ttotal: 5.59s\tremaining: 40.2s\n",
            "122:\tlearn: 0.7597738\ttest: 0.7532295\tbest: 0.7532295 (122)\ttotal: 5.63s\tremaining: 40.1s\n",
            "123:\tlearn: 0.7598991\ttest: 0.7533748\tbest: 0.7533748 (123)\ttotal: 5.67s\tremaining: 40.1s\n",
            "124:\tlearn: 0.7600514\ttest: 0.7535360\tbest: 0.7535360 (124)\ttotal: 5.72s\tremaining: 40s\n",
            "125:\tlearn: 0.7602746\ttest: 0.7537326\tbest: 0.7537326 (125)\ttotal: 5.76s\tremaining: 40s\n",
            "126:\tlearn: 0.7603925\ttest: 0.7538657\tbest: 0.7538657 (126)\ttotal: 5.81s\tremaining: 39.9s\n",
            "127:\tlearn: 0.7605520\ttest: 0.7540501\tbest: 0.7540501 (127)\ttotal: 5.85s\tremaining: 39.9s\n",
            "128:\tlearn: 0.7607054\ttest: 0.7541814\tbest: 0.7541814 (128)\ttotal: 5.9s\tremaining: 39.8s\n",
            "129:\tlearn: 0.7609072\ttest: 0.7544074\tbest: 0.7544074 (129)\ttotal: 5.94s\tremaining: 39.8s\n",
            "130:\tlearn: 0.7610556\ttest: 0.7545474\tbest: 0.7545474 (130)\ttotal: 5.99s\tremaining: 39.7s\n",
            "131:\tlearn: 0.7612739\ttest: 0.7547468\tbest: 0.7547468 (131)\ttotal: 6.03s\tremaining: 39.7s\n",
            "132:\tlearn: 0.7614291\ttest: 0.7549201\tbest: 0.7549201 (132)\ttotal: 6.08s\tremaining: 39.7s\n",
            "133:\tlearn: 0.7615445\ttest: 0.7550268\tbest: 0.7550268 (133)\ttotal: 6.13s\tremaining: 39.6s\n",
            "134:\tlearn: 0.7617106\ttest: 0.7551742\tbest: 0.7551742 (134)\ttotal: 6.17s\tremaining: 39.6s\n",
            "135:\tlearn: 0.7618760\ttest: 0.7553347\tbest: 0.7553347 (135)\ttotal: 6.22s\tremaining: 39.5s\n",
            "136:\tlearn: 0.7620801\ttest: 0.7555454\tbest: 0.7555454 (136)\ttotal: 6.26s\tremaining: 39.4s\n",
            "137:\tlearn: 0.7622099\ttest: 0.7557003\tbest: 0.7557003 (137)\ttotal: 6.3s\tremaining: 39.3s\n",
            "138:\tlearn: 0.7622794\ttest: 0.7557230\tbest: 0.7557230 (138)\ttotal: 6.35s\tremaining: 39.3s\n",
            "139:\tlearn: 0.7623985\ttest: 0.7558369\tbest: 0.7558369 (139)\ttotal: 6.39s\tremaining: 39.3s\n",
            "140:\tlearn: 0.7624883\ttest: 0.7559283\tbest: 0.7559283 (140)\ttotal: 6.44s\tremaining: 39.2s\n",
            "141:\tlearn: 0.7626924\ttest: 0.7561436\tbest: 0.7561436 (141)\ttotal: 6.48s\tremaining: 39.2s\n",
            "142:\tlearn: 0.7628511\ttest: 0.7562863\tbest: 0.7562863 (142)\ttotal: 6.53s\tremaining: 39.1s\n",
            "143:\tlearn: 0.7630545\ttest: 0.7564982\tbest: 0.7564982 (143)\ttotal: 6.57s\tremaining: 39s\n",
            "144:\tlearn: 0.7632319\ttest: 0.7566986\tbest: 0.7566986 (144)\ttotal: 6.61s\tremaining: 39s\n",
            "145:\tlearn: 0.7634209\ttest: 0.7568665\tbest: 0.7568665 (145)\ttotal: 6.66s\tremaining: 38.9s\n",
            "146:\tlearn: 0.7635282\ttest: 0.7569292\tbest: 0.7569292 (146)\ttotal: 6.7s\tremaining: 38.9s\n",
            "147:\tlearn: 0.7636700\ttest: 0.7570785\tbest: 0.7570785 (147)\ttotal: 6.74s\tremaining: 38.8s\n",
            "148:\tlearn: 0.7637595\ttest: 0.7571612\tbest: 0.7571612 (148)\ttotal: 6.79s\tremaining: 38.8s\n",
            "149:\tlearn: 0.7638600\ttest: 0.7572245\tbest: 0.7572245 (149)\ttotal: 6.83s\tremaining: 38.7s\n",
            "150:\tlearn: 0.7639286\ttest: 0.7572924\tbest: 0.7572924 (150)\ttotal: 6.88s\tremaining: 38.7s\n",
            "151:\tlearn: 0.7640375\ttest: 0.7574080\tbest: 0.7574080 (151)\ttotal: 6.92s\tremaining: 38.6s\n",
            "152:\tlearn: 0.7641602\ttest: 0.7575632\tbest: 0.7575632 (152)\ttotal: 6.96s\tremaining: 38.5s\n",
            "153:\tlearn: 0.7643089\ttest: 0.7577194\tbest: 0.7577194 (153)\ttotal: 7s\tremaining: 38.5s\n",
            "154:\tlearn: 0.7644570\ttest: 0.7578473\tbest: 0.7578473 (154)\ttotal: 7.05s\tremaining: 38.4s\n",
            "155:\tlearn: 0.7646028\ttest: 0.7579809\tbest: 0.7579809 (155)\ttotal: 7.09s\tremaining: 38.4s\n",
            "156:\tlearn: 0.7647126\ttest: 0.7581089\tbest: 0.7581089 (156)\ttotal: 7.13s\tremaining: 38.3s\n",
            "157:\tlearn: 0.7649089\ttest: 0.7583224\tbest: 0.7583224 (157)\ttotal: 7.18s\tremaining: 38.3s\n",
            "158:\tlearn: 0.7650344\ttest: 0.7584211\tbest: 0.7584211 (158)\ttotal: 7.22s\tremaining: 38.2s\n",
            "159:\tlearn: 0.7651071\ttest: 0.7584904\tbest: 0.7584904 (159)\ttotal: 7.27s\tremaining: 38.2s\n",
            "160:\tlearn: 0.7652434\ttest: 0.7585991\tbest: 0.7585991 (160)\ttotal: 7.31s\tremaining: 38.1s\n",
            "161:\tlearn: 0.7653788\ttest: 0.7586915\tbest: 0.7586915 (161)\ttotal: 7.36s\tremaining: 38.1s\n",
            "162:\tlearn: 0.7655180\ttest: 0.7588253\tbest: 0.7588253 (162)\ttotal: 7.41s\tremaining: 38s\n",
            "163:\tlearn: 0.7656867\ttest: 0.7589958\tbest: 0.7589958 (163)\ttotal: 7.46s\tremaining: 38s\n",
            "164:\tlearn: 0.7658352\ttest: 0.7590978\tbest: 0.7590978 (164)\ttotal: 7.5s\tremaining: 38s\n",
            "165:\tlearn: 0.7659045\ttest: 0.7591570\tbest: 0.7591570 (165)\ttotal: 7.55s\tremaining: 37.9s\n",
            "166:\tlearn: 0.7660324\ttest: 0.7592599\tbest: 0.7592599 (166)\ttotal: 7.59s\tremaining: 37.9s\n",
            "167:\tlearn: 0.7661431\ttest: 0.7593735\tbest: 0.7593735 (167)\ttotal: 7.64s\tremaining: 37.9s\n",
            "168:\tlearn: 0.7662563\ttest: 0.7595041\tbest: 0.7595041 (168)\ttotal: 7.69s\tremaining: 37.8s\n",
            "169:\tlearn: 0.7664310\ttest: 0.7596632\tbest: 0.7596632 (169)\ttotal: 7.73s\tremaining: 37.7s\n",
            "170:\tlearn: 0.7665927\ttest: 0.7598387\tbest: 0.7598387 (170)\ttotal: 7.77s\tremaining: 37.7s\n",
            "171:\tlearn: 0.7666916\ttest: 0.7599242\tbest: 0.7599242 (171)\ttotal: 7.82s\tremaining: 37.6s\n",
            "172:\tlearn: 0.7668086\ttest: 0.7600156\tbest: 0.7600156 (172)\ttotal: 7.86s\tremaining: 37.6s\n",
            "173:\tlearn: 0.7669763\ttest: 0.7602088\tbest: 0.7602088 (173)\ttotal: 7.91s\tremaining: 37.5s\n",
            "174:\tlearn: 0.7670735\ttest: 0.7602847\tbest: 0.7602847 (174)\ttotal: 7.95s\tremaining: 37.5s\n",
            "175:\tlearn: 0.7671837\ttest: 0.7603745\tbest: 0.7603745 (175)\ttotal: 8s\tremaining: 37.4s\n",
            "176:\tlearn: 0.7673089\ttest: 0.7605014\tbest: 0.7605014 (176)\ttotal: 8.04s\tremaining: 37.4s\n",
            "177:\tlearn: 0.7674581\ttest: 0.7606295\tbest: 0.7606295 (177)\ttotal: 8.09s\tremaining: 37.3s\n",
            "178:\tlearn: 0.7675920\ttest: 0.7607467\tbest: 0.7607467 (178)\ttotal: 8.13s\tremaining: 37.3s\n",
            "179:\tlearn: 0.7677234\ttest: 0.7608982\tbest: 0.7608982 (179)\ttotal: 8.18s\tremaining: 37.2s\n",
            "180:\tlearn: 0.7678668\ttest: 0.7610283\tbest: 0.7610283 (180)\ttotal: 8.22s\tremaining: 37.2s\n",
            "181:\tlearn: 0.7680010\ttest: 0.7611266\tbest: 0.7611266 (181)\ttotal: 8.27s\tremaining: 37.2s\n",
            "182:\tlearn: 0.7681453\ttest: 0.7612670\tbest: 0.7612670 (182)\ttotal: 8.31s\tremaining: 37.1s\n",
            "183:\tlearn: 0.7682762\ttest: 0.7613921\tbest: 0.7613921 (183)\ttotal: 8.35s\tremaining: 37s\n",
            "184:\tlearn: 0.7684075\ttest: 0.7615335\tbest: 0.7615335 (184)\ttotal: 8.4s\tremaining: 37s\n",
            "185:\tlearn: 0.7685326\ttest: 0.7616563\tbest: 0.7616563 (185)\ttotal: 8.44s\tremaining: 36.9s\n",
            "186:\tlearn: 0.7686564\ttest: 0.7617851\tbest: 0.7617851 (186)\ttotal: 8.49s\tremaining: 36.9s\n",
            "187:\tlearn: 0.7687773\ttest: 0.7618775\tbest: 0.7618775 (187)\ttotal: 8.53s\tremaining: 36.8s\n",
            "188:\tlearn: 0.7689155\ttest: 0.7620056\tbest: 0.7620056 (188)\ttotal: 8.57s\tremaining: 36.8s\n",
            "189:\tlearn: 0.7690055\ttest: 0.7621026\tbest: 0.7621026 (189)\ttotal: 8.61s\tremaining: 36.7s\n",
            "190:\tlearn: 0.7690924\ttest: 0.7621867\tbest: 0.7621867 (190)\ttotal: 8.65s\tremaining: 36.7s\n",
            "191:\tlearn: 0.7692128\ttest: 0.7623083\tbest: 0.7623083 (191)\ttotal: 8.7s\tremaining: 36.6s\n",
            "192:\tlearn: 0.7693256\ttest: 0.7624203\tbest: 0.7624203 (192)\ttotal: 8.74s\tremaining: 36.6s\n",
            "193:\tlearn: 0.7694421\ttest: 0.7625081\tbest: 0.7625081 (193)\ttotal: 8.79s\tremaining: 36.5s\n",
            "194:\tlearn: 0.7695672\ttest: 0.7626407\tbest: 0.7626407 (194)\ttotal: 8.83s\tremaining: 36.4s\n",
            "195:\tlearn: 0.7697146\ttest: 0.7627994\tbest: 0.7627994 (195)\ttotal: 8.87s\tremaining: 36.4s\n",
            "196:\tlearn: 0.7698234\ttest: 0.7629126\tbest: 0.7629126 (196)\ttotal: 8.91s\tremaining: 36.3s\n",
            "197:\tlearn: 0.7699792\ttest: 0.7630646\tbest: 0.7630646 (197)\ttotal: 8.96s\tremaining: 36.3s\n",
            "198:\tlearn: 0.7700764\ttest: 0.7631813\tbest: 0.7631813 (198)\ttotal: 9s\tremaining: 36.2s\n",
            "199:\tlearn: 0.7701896\ttest: 0.7632650\tbest: 0.7632650 (199)\ttotal: 9.04s\tremaining: 36.2s\n",
            "200:\tlearn: 0.7703104\ttest: 0.7633905\tbest: 0.7633905 (200)\ttotal: 9.08s\tremaining: 36.1s\n",
            "201:\tlearn: 0.7704268\ttest: 0.7635162\tbest: 0.7635162 (201)\ttotal: 9.13s\tremaining: 36.1s\n",
            "202:\tlearn: 0.7705489\ttest: 0.7636588\tbest: 0.7636588 (202)\ttotal: 9.17s\tremaining: 36s\n",
            "203:\tlearn: 0.7706525\ttest: 0.7637754\tbest: 0.7637754 (203)\ttotal: 9.21s\tremaining: 35.9s\n",
            "204:\tlearn: 0.7707436\ttest: 0.7638652\tbest: 0.7638652 (204)\ttotal: 9.26s\tremaining: 35.9s\n",
            "205:\tlearn: 0.7708522\ttest: 0.7639964\tbest: 0.7639964 (205)\ttotal: 9.3s\tremaining: 35.8s\n",
            "206:\tlearn: 0.7709800\ttest: 0.7641274\tbest: 0.7641274 (206)\ttotal: 9.34s\tremaining: 35.8s\n",
            "207:\tlearn: 0.7710692\ttest: 0.7642051\tbest: 0.7642051 (207)\ttotal: 9.39s\tremaining: 35.7s\n",
            "208:\tlearn: 0.7711969\ttest: 0.7642885\tbest: 0.7642885 (208)\ttotal: 9.43s\tremaining: 35.7s\n",
            "209:\tlearn: 0.7713150\ttest: 0.7643817\tbest: 0.7643817 (209)\ttotal: 9.47s\tremaining: 35.6s\n",
            "210:\tlearn: 0.7713991\ttest: 0.7644846\tbest: 0.7644846 (210)\ttotal: 9.51s\tremaining: 35.6s\n",
            "211:\tlearn: 0.7714975\ttest: 0.7645825\tbest: 0.7645825 (211)\ttotal: 9.55s\tremaining: 35.5s\n",
            "212:\tlearn: 0.7715661\ttest: 0.7646525\tbest: 0.7646525 (212)\ttotal: 9.6s\tremaining: 35.5s\n",
            "213:\tlearn: 0.7716501\ttest: 0.7647555\tbest: 0.7647555 (213)\ttotal: 9.64s\tremaining: 35.4s\n",
            "214:\tlearn: 0.7717761\ttest: 0.7648409\tbest: 0.7648409 (214)\ttotal: 9.69s\tremaining: 35.4s\n",
            "215:\tlearn: 0.7718644\ttest: 0.7649141\tbest: 0.7649141 (215)\ttotal: 9.73s\tremaining: 35.3s\n",
            "216:\tlearn: 0.7719455\ttest: 0.7649906\tbest: 0.7649906 (216)\ttotal: 9.78s\tremaining: 35.3s\n",
            "217:\tlearn: 0.7720626\ttest: 0.7650868\tbest: 0.7650868 (217)\ttotal: 9.82s\tremaining: 35.2s\n",
            "218:\tlearn: 0.7721323\ttest: 0.7651455\tbest: 0.7651455 (218)\ttotal: 9.86s\tremaining: 35.2s\n",
            "219:\tlearn: 0.7722664\ttest: 0.7652448\tbest: 0.7652448 (219)\ttotal: 9.9s\tremaining: 35.1s\n",
            "220:\tlearn: 0.7723521\ttest: 0.7653191\tbest: 0.7653191 (220)\ttotal: 9.95s\tremaining: 35.1s\n",
            "221:\tlearn: 0.7724839\ttest: 0.7654306\tbest: 0.7654306 (221)\ttotal: 9.99s\tremaining: 35s\n",
            "222:\tlearn: 0.7725970\ttest: 0.7655300\tbest: 0.7655300 (222)\ttotal: 10s\tremaining: 35s\n",
            "223:\tlearn: 0.7726912\ttest: 0.7656203\tbest: 0.7656203 (223)\ttotal: 10.1s\tremaining: 34.9s\n",
            "224:\tlearn: 0.7727752\ttest: 0.7657220\tbest: 0.7657220 (224)\ttotal: 10.1s\tremaining: 34.8s\n",
            "225:\tlearn: 0.7728792\ttest: 0.7658457\tbest: 0.7658457 (225)\ttotal: 10.2s\tremaining: 34.8s\n",
            "226:\tlearn: 0.7729915\ttest: 0.7659419\tbest: 0.7659419 (226)\ttotal: 10.2s\tremaining: 34.7s\n",
            "227:\tlearn: 0.7730550\ttest: 0.7660044\tbest: 0.7660044 (227)\ttotal: 10.2s\tremaining: 34.7s\n",
            "228:\tlearn: 0.7731420\ttest: 0.7660515\tbest: 0.7660515 (228)\ttotal: 10.3s\tremaining: 34.7s\n",
            "229:\tlearn: 0.7732346\ttest: 0.7661364\tbest: 0.7661364 (229)\ttotal: 10.3s\tremaining: 34.6s\n",
            "230:\tlearn: 0.7733017\ttest: 0.7661906\tbest: 0.7661906 (230)\ttotal: 10.4s\tremaining: 34.6s\n",
            "231:\tlearn: 0.7733915\ttest: 0.7662836\tbest: 0.7662836 (231)\ttotal: 10.4s\tremaining: 34.5s\n",
            "232:\tlearn: 0.7734824\ttest: 0.7663559\tbest: 0.7663559 (232)\ttotal: 10.5s\tremaining: 34.5s\n",
            "233:\tlearn: 0.7735938\ttest: 0.7664419\tbest: 0.7664419 (233)\ttotal: 10.5s\tremaining: 34.4s\n",
            "234:\tlearn: 0.7736591\ttest: 0.7665151\tbest: 0.7665151 (234)\ttotal: 10.6s\tremaining: 34.3s\n",
            "235:\tlearn: 0.7737451\ttest: 0.7666124\tbest: 0.7666124 (235)\ttotal: 10.6s\tremaining: 34.3s\n",
            "236:\tlearn: 0.7738517\ttest: 0.7666906\tbest: 0.7666906 (236)\ttotal: 10.6s\tremaining: 34.3s\n",
            "237:\tlearn: 0.7739190\ttest: 0.7667610\tbest: 0.7667610 (237)\ttotal: 10.7s\tremaining: 34.2s\n",
            "238:\tlearn: 0.7739992\ttest: 0.7668405\tbest: 0.7668405 (238)\ttotal: 10.7s\tremaining: 34.2s\n",
            "239:\tlearn: 0.7740984\ttest: 0.7669653\tbest: 0.7669653 (239)\ttotal: 10.8s\tremaining: 34.1s\n",
            "240:\tlearn: 0.7742301\ttest: 0.7670668\tbest: 0.7670668 (240)\ttotal: 10.8s\tremaining: 34.1s\n",
            "241:\tlearn: 0.7743262\ttest: 0.7671509\tbest: 0.7671509 (241)\ttotal: 10.9s\tremaining: 34s\n",
            "242:\tlearn: 0.7744088\ttest: 0.7672147\tbest: 0.7672147 (242)\ttotal: 10.9s\tremaining: 34s\n",
            "243:\tlearn: 0.7745026\ttest: 0.7672800\tbest: 0.7672800 (243)\ttotal: 10.9s\tremaining: 33.9s\n",
            "244:\tlearn: 0.7745811\ttest: 0.7673714\tbest: 0.7673714 (244)\ttotal: 11s\tremaining: 33.9s\n",
            "245:\tlearn: 0.7746768\ttest: 0.7674387\tbest: 0.7674387 (245)\ttotal: 11s\tremaining: 33.8s\n",
            "246:\tlearn: 0.7747629\ttest: 0.7675215\tbest: 0.7675215 (246)\ttotal: 11.1s\tremaining: 33.8s\n",
            "247:\tlearn: 0.7748441\ttest: 0.7675905\tbest: 0.7675905 (247)\ttotal: 11.1s\tremaining: 33.7s\n",
            "248:\tlearn: 0.7749434\ttest: 0.7676643\tbest: 0.7676643 (248)\ttotal: 11.2s\tremaining: 33.7s\n",
            "249:\tlearn: 0.7750006\ttest: 0.7677183\tbest: 0.7677183 (249)\ttotal: 11.2s\tremaining: 33.6s\n",
            "250:\tlearn: 0.7751117\ttest: 0.7678048\tbest: 0.7678048 (250)\ttotal: 11.2s\tremaining: 33.6s\n",
            "251:\tlearn: 0.7752009\ttest: 0.7678734\tbest: 0.7678734 (251)\ttotal: 11.3s\tremaining: 33.5s\n",
            "252:\tlearn: 0.7752860\ttest: 0.7679493\tbest: 0.7679493 (252)\ttotal: 11.3s\tremaining: 33.4s\n",
            "253:\tlearn: 0.7753177\ttest: 0.7679927\tbest: 0.7679927 (253)\ttotal: 11.4s\tremaining: 33.4s\n",
            "254:\tlearn: 0.7754056\ttest: 0.7680773\tbest: 0.7680773 (254)\ttotal: 11.4s\tremaining: 33.3s\n",
            "255:\tlearn: 0.7754852\ttest: 0.7681473\tbest: 0.7681473 (255)\ttotal: 11.4s\tremaining: 33.3s\n",
            "256:\tlearn: 0.7755662\ttest: 0.7682234\tbest: 0.7682234 (256)\ttotal: 11.5s\tremaining: 33.2s\n",
            "257:\tlearn: 0.7756469\ttest: 0.7682930\tbest: 0.7682930 (257)\ttotal: 11.5s\tremaining: 33.2s\n",
            "258:\tlearn: 0.7757171\ttest: 0.7683488\tbest: 0.7683488 (258)\ttotal: 11.6s\tremaining: 33.1s\n",
            "259:\tlearn: 0.7757758\ttest: 0.7683984\tbest: 0.7683984 (259)\ttotal: 11.6s\tremaining: 33.1s\n",
            "260:\tlearn: 0.7758400\ttest: 0.7684585\tbest: 0.7684585 (260)\ttotal: 11.7s\tremaining: 33s\n",
            "261:\tlearn: 0.7759537\ttest: 0.7685627\tbest: 0.7685627 (261)\ttotal: 11.7s\tremaining: 33s\n",
            "262:\tlearn: 0.7760225\ttest: 0.7686062\tbest: 0.7686062 (262)\ttotal: 11.7s\tremaining: 32.9s\n",
            "263:\tlearn: 0.7760899\ttest: 0.7686740\tbest: 0.7686740 (263)\ttotal: 11.8s\tremaining: 32.9s\n",
            "264:\tlearn: 0.7761672\ttest: 0.7687415\tbest: 0.7687415 (264)\ttotal: 11.8s\tremaining: 32.8s\n",
            "265:\tlearn: 0.7762783\ttest: 0.7688203\tbest: 0.7688203 (265)\ttotal: 11.9s\tremaining: 32.8s\n",
            "266:\tlearn: 0.7763821\ttest: 0.7689154\tbest: 0.7689154 (266)\ttotal: 11.9s\tremaining: 32.7s\n",
            "267:\tlearn: 0.7764530\ttest: 0.7689742\tbest: 0.7689742 (267)\ttotal: 12s\tremaining: 32.7s\n",
            "268:\tlearn: 0.7765160\ttest: 0.7690298\tbest: 0.7690298 (268)\ttotal: 12s\tremaining: 32.6s\n",
            "269:\tlearn: 0.7765770\ttest: 0.7690909\tbest: 0.7690909 (269)\ttotal: 12.1s\tremaining: 32.6s\n",
            "270:\tlearn: 0.7766796\ttest: 0.7691683\tbest: 0.7691683 (270)\ttotal: 12.1s\tremaining: 32.5s\n",
            "271:\tlearn: 0.7767309\ttest: 0.7692154\tbest: 0.7692154 (271)\ttotal: 12.1s\tremaining: 32.5s\n",
            "272:\tlearn: 0.7768058\ttest: 0.7692764\tbest: 0.7692764 (272)\ttotal: 12.2s\tremaining: 32.4s\n",
            "273:\tlearn: 0.7768877\ttest: 0.7693608\tbest: 0.7693608 (273)\ttotal: 12.2s\tremaining: 32.4s\n",
            "274:\tlearn: 0.7769640\ttest: 0.7694316\tbest: 0.7694316 (274)\ttotal: 12.3s\tremaining: 32.3s\n",
            "275:\tlearn: 0.7770748\ttest: 0.7694936\tbest: 0.7694936 (275)\ttotal: 12.3s\tremaining: 32.3s\n",
            "276:\tlearn: 0.7771558\ttest: 0.7695466\tbest: 0.7695466 (276)\ttotal: 12.4s\tremaining: 32.3s\n",
            "277:\tlearn: 0.7772161\ttest: 0.7696153\tbest: 0.7696153 (277)\ttotal: 12.4s\tremaining: 32.2s\n",
            "278:\tlearn: 0.7773079\ttest: 0.7696779\tbest: 0.7696779 (278)\ttotal: 12.4s\tremaining: 32.2s\n",
            "279:\tlearn: 0.7773654\ttest: 0.7697392\tbest: 0.7697392 (279)\ttotal: 12.5s\tremaining: 32.1s\n",
            "280:\tlearn: 0.7774368\ttest: 0.7698143\tbest: 0.7698143 (280)\ttotal: 12.5s\tremaining: 32.1s\n",
            "281:\tlearn: 0.7774886\ttest: 0.7698579\tbest: 0.7698579 (281)\ttotal: 12.6s\tremaining: 32s\n",
            "282:\tlearn: 0.7775674\ttest: 0.7699274\tbest: 0.7699274 (282)\ttotal: 12.6s\tremaining: 32s\n",
            "283:\tlearn: 0.7776433\ttest: 0.7699786\tbest: 0.7699786 (283)\ttotal: 12.7s\tremaining: 31.9s\n",
            "284:\tlearn: 0.7777338\ttest: 0.7700378\tbest: 0.7700378 (284)\ttotal: 12.7s\tremaining: 31.9s\n",
            "285:\tlearn: 0.7778275\ttest: 0.7701201\tbest: 0.7701201 (285)\ttotal: 12.7s\tremaining: 31.8s\n",
            "286:\tlearn: 0.7778858\ttest: 0.7701671\tbest: 0.7701671 (286)\ttotal: 12.8s\tremaining: 31.8s\n",
            "287:\tlearn: 0.7779584\ttest: 0.7702365\tbest: 0.7702365 (287)\ttotal: 12.8s\tremaining: 31.7s\n",
            "288:\tlearn: 0.7780479\ttest: 0.7702911\tbest: 0.7702911 (288)\ttotal: 12.9s\tremaining: 31.7s\n",
            "289:\tlearn: 0.7781243\ttest: 0.7703403\tbest: 0.7703403 (289)\ttotal: 12.9s\tremaining: 31.6s\n",
            "290:\tlearn: 0.7782077\ttest: 0.7704073\tbest: 0.7704073 (290)\ttotal: 13s\tremaining: 31.6s\n",
            "291:\tlearn: 0.7782928\ttest: 0.7704734\tbest: 0.7704734 (291)\ttotal: 13s\tremaining: 31.5s\n",
            "292:\tlearn: 0.7783742\ttest: 0.7705483\tbest: 0.7705483 (292)\ttotal: 13.1s\tremaining: 31.5s\n",
            "293:\tlearn: 0.7784511\ttest: 0.7706102\tbest: 0.7706102 (293)\ttotal: 13.1s\tremaining: 31.5s\n",
            "294:\tlearn: 0.7785246\ttest: 0.7706757\tbest: 0.7706757 (294)\ttotal: 13.1s\tremaining: 31.4s\n",
            "295:\tlearn: 0.7785643\ttest: 0.7707003\tbest: 0.7707003 (295)\ttotal: 13.2s\tremaining: 31.4s\n",
            "296:\tlearn: 0.7786750\ttest: 0.7707865\tbest: 0.7707865 (296)\ttotal: 13.2s\tremaining: 31.3s\n",
            "297:\tlearn: 0.7787487\ttest: 0.7708501\tbest: 0.7708501 (297)\ttotal: 13.3s\tremaining: 31.3s\n",
            "298:\tlearn: 0.7788090\ttest: 0.7708911\tbest: 0.7708911 (298)\ttotal: 13.3s\tremaining: 31.2s\n",
            "299:\tlearn: 0.7788986\ttest: 0.7709684\tbest: 0.7709684 (299)\ttotal: 13.4s\tremaining: 31.2s\n",
            "300:\tlearn: 0.7789725\ttest: 0.7710495\tbest: 0.7710495 (300)\ttotal: 13.4s\tremaining: 31.1s\n",
            "301:\tlearn: 0.7790511\ttest: 0.7711060\tbest: 0.7711060 (301)\ttotal: 13.4s\tremaining: 31.1s\n",
            "302:\tlearn: 0.7791178\ttest: 0.7711573\tbest: 0.7711573 (302)\ttotal: 13.5s\tremaining: 31s\n",
            "303:\tlearn: 0.7791768\ttest: 0.7712085\tbest: 0.7712085 (303)\ttotal: 13.5s\tremaining: 31s\n",
            "304:\tlearn: 0.7792556\ttest: 0.7712693\tbest: 0.7712693 (304)\ttotal: 13.6s\tremaining: 30.9s\n",
            "305:\tlearn: 0.7793207\ttest: 0.7713116\tbest: 0.7713116 (305)\ttotal: 13.6s\tremaining: 30.9s\n",
            "306:\tlearn: 0.7793886\ttest: 0.7713497\tbest: 0.7713497 (306)\ttotal: 13.7s\tremaining: 30.9s\n",
            "307:\tlearn: 0.7794759\ttest: 0.7714193\tbest: 0.7714193 (307)\ttotal: 13.7s\tremaining: 30.8s\n",
            "308:\tlearn: 0.7795263\ttest: 0.7714606\tbest: 0.7714606 (308)\ttotal: 13.8s\tremaining: 30.8s\n",
            "309:\tlearn: 0.7796006\ttest: 0.7715281\tbest: 0.7715281 (309)\ttotal: 13.8s\tremaining: 30.7s\n",
            "310:\tlearn: 0.7796676\ttest: 0.7716017\tbest: 0.7716017 (310)\ttotal: 13.8s\tremaining: 30.7s\n",
            "311:\tlearn: 0.7797271\ttest: 0.7716669\tbest: 0.7716669 (311)\ttotal: 13.9s\tremaining: 30.6s\n",
            "312:\tlearn: 0.7797946\ttest: 0.7717052\tbest: 0.7717052 (312)\ttotal: 13.9s\tremaining: 30.6s\n",
            "313:\tlearn: 0.7798640\ttest: 0.7717806\tbest: 0.7717806 (313)\ttotal: 14s\tremaining: 30.5s\n",
            "314:\tlearn: 0.7799333\ttest: 0.7718501\tbest: 0.7718501 (314)\ttotal: 14s\tremaining: 30.5s\n",
            "315:\tlearn: 0.7800090\ttest: 0.7719165\tbest: 0.7719165 (315)\ttotal: 14.1s\tremaining: 30.4s\n",
            "316:\tlearn: 0.7800887\ttest: 0.7719772\tbest: 0.7719772 (316)\ttotal: 14.1s\tremaining: 30.4s\n",
            "317:\tlearn: 0.7801334\ttest: 0.7720213\tbest: 0.7720213 (317)\ttotal: 14.1s\tremaining: 30.3s\n",
            "318:\tlearn: 0.7802030\ttest: 0.7720629\tbest: 0.7720629 (318)\ttotal: 14.2s\tremaining: 30.3s\n",
            "319:\tlearn: 0.7802796\ttest: 0.7721059\tbest: 0.7721059 (319)\ttotal: 14.2s\tremaining: 30.2s\n",
            "320:\tlearn: 0.7803466\ttest: 0.7721484\tbest: 0.7721484 (320)\ttotal: 14.3s\tremaining: 30.2s\n",
            "321:\tlearn: 0.7804039\ttest: 0.7721866\tbest: 0.7721866 (321)\ttotal: 14.3s\tremaining: 30.2s\n",
            "322:\tlearn: 0.7804776\ttest: 0.7722468\tbest: 0.7722468 (322)\ttotal: 14.4s\tremaining: 30.1s\n",
            "323:\tlearn: 0.7805534\ttest: 0.7723048\tbest: 0.7723048 (323)\ttotal: 14.4s\tremaining: 30.1s\n",
            "324:\tlearn: 0.7805889\ttest: 0.7723315\tbest: 0.7723315 (324)\ttotal: 14.5s\tremaining: 30s\n",
            "325:\tlearn: 0.7806683\ttest: 0.7723875\tbest: 0.7723875 (325)\ttotal: 14.5s\tremaining: 30s\n",
            "326:\tlearn: 0.7807346\ttest: 0.7724398\tbest: 0.7724398 (326)\ttotal: 14.5s\tremaining: 29.9s\n",
            "327:\tlearn: 0.7808094\ttest: 0.7724963\tbest: 0.7724963 (327)\ttotal: 14.6s\tremaining: 29.9s\n",
            "328:\tlearn: 0.7808779\ttest: 0.7725428\tbest: 0.7725428 (328)\ttotal: 14.6s\tremaining: 29.8s\n",
            "329:\tlearn: 0.7809695\ttest: 0.7725974\tbest: 0.7725974 (329)\ttotal: 14.7s\tremaining: 29.8s\n",
            "330:\tlearn: 0.7810363\ttest: 0.7726519\tbest: 0.7726519 (330)\ttotal: 14.7s\tremaining: 29.7s\n",
            "331:\tlearn: 0.7810923\ttest: 0.7726936\tbest: 0.7726936 (331)\ttotal: 14.8s\tremaining: 29.7s\n",
            "332:\tlearn: 0.7811619\ttest: 0.7727662\tbest: 0.7727662 (332)\ttotal: 14.8s\tremaining: 29.6s\n",
            "333:\tlearn: 0.7812228\ttest: 0.7728248\tbest: 0.7728248 (333)\ttotal: 14.8s\tremaining: 29.6s\n",
            "334:\tlearn: 0.7812729\ttest: 0.7728688\tbest: 0.7728688 (334)\ttotal: 14.9s\tremaining: 29.5s\n",
            "335:\tlearn: 0.7813262\ttest: 0.7728967\tbest: 0.7728967 (335)\ttotal: 14.9s\tremaining: 29.5s\n",
            "336:\tlearn: 0.7813776\ttest: 0.7729347\tbest: 0.7729347 (336)\ttotal: 15s\tremaining: 29.4s\n",
            "337:\tlearn: 0.7814222\ttest: 0.7729581\tbest: 0.7729581 (337)\ttotal: 15s\tremaining: 29.4s\n",
            "338:\tlearn: 0.7814984\ttest: 0.7730141\tbest: 0.7730141 (338)\ttotal: 15s\tremaining: 29.3s\n",
            "339:\tlearn: 0.7815819\ttest: 0.7730814\tbest: 0.7730814 (339)\ttotal: 15.1s\tremaining: 29.3s\n",
            "340:\tlearn: 0.7816585\ttest: 0.7731242\tbest: 0.7731242 (340)\ttotal: 15.1s\tremaining: 29.2s\n",
            "341:\tlearn: 0.7817482\ttest: 0.7731838\tbest: 0.7731838 (341)\ttotal: 15.2s\tremaining: 29.2s\n",
            "342:\tlearn: 0.7818014\ttest: 0.7732264\tbest: 0.7732264 (342)\ttotal: 15.2s\tremaining: 29.2s\n",
            "343:\tlearn: 0.7818663\ttest: 0.7732768\tbest: 0.7732768 (343)\ttotal: 15.3s\tremaining: 29.1s\n",
            "344:\tlearn: 0.7819119\ttest: 0.7733244\tbest: 0.7733244 (344)\ttotal: 15.3s\tremaining: 29.1s\n",
            "345:\tlearn: 0.7819612\ttest: 0.7733728\tbest: 0.7733728 (345)\ttotal: 15.3s\tremaining: 29s\n",
            "346:\tlearn: 0.7820438\ttest: 0.7734496\tbest: 0.7734496 (346)\ttotal: 15.4s\tremaining: 29s\n",
            "347:\tlearn: 0.7821202\ttest: 0.7735018\tbest: 0.7735018 (347)\ttotal: 15.4s\tremaining: 28.9s\n",
            "348:\tlearn: 0.7821727\ttest: 0.7735407\tbest: 0.7735407 (348)\ttotal: 15.5s\tremaining: 28.9s\n",
            "349:\tlearn: 0.7822291\ttest: 0.7735879\tbest: 0.7735879 (349)\ttotal: 15.5s\tremaining: 28.8s\n",
            "350:\tlearn: 0.7822977\ttest: 0.7736619\tbest: 0.7736619 (350)\ttotal: 15.6s\tremaining: 28.8s\n",
            "351:\tlearn: 0.7823434\ttest: 0.7736943\tbest: 0.7736943 (351)\ttotal: 15.6s\tremaining: 28.7s\n",
            "352:\tlearn: 0.7824389\ttest: 0.7737486\tbest: 0.7737486 (352)\ttotal: 15.6s\tremaining: 28.7s\n",
            "353:\tlearn: 0.7824911\ttest: 0.7737913\tbest: 0.7737913 (353)\ttotal: 15.7s\tremaining: 28.6s\n",
            "354:\tlearn: 0.7825515\ttest: 0.7738248\tbest: 0.7738248 (354)\ttotal: 15.7s\tremaining: 28.6s\n",
            "355:\tlearn: 0.7826059\ttest: 0.7738667\tbest: 0.7738667 (355)\ttotal: 15.8s\tremaining: 28.5s\n",
            "356:\tlearn: 0.7826578\ttest: 0.7738900\tbest: 0.7738900 (356)\ttotal: 15.8s\tremaining: 28.5s\n",
            "357:\tlearn: 0.7827129\ttest: 0.7739497\tbest: 0.7739497 (357)\ttotal: 15.9s\tremaining: 28.4s\n",
            "358:\tlearn: 0.7827888\ttest: 0.7739984\tbest: 0.7739984 (358)\ttotal: 15.9s\tremaining: 28.4s\n",
            "359:\tlearn: 0.7828323\ttest: 0.7740279\tbest: 0.7740279 (359)\ttotal: 15.9s\tremaining: 28.3s\n",
            "360:\tlearn: 0.7828906\ttest: 0.7740733\tbest: 0.7740733 (360)\ttotal: 16s\tremaining: 28.3s\n",
            "361:\tlearn: 0.7829501\ttest: 0.7741210\tbest: 0.7741210 (361)\ttotal: 16s\tremaining: 28.3s\n",
            "362:\tlearn: 0.7830150\ttest: 0.7741683\tbest: 0.7741683 (362)\ttotal: 16.1s\tremaining: 28.2s\n",
            "363:\tlearn: 0.7830830\ttest: 0.7742245\tbest: 0.7742245 (363)\ttotal: 16.1s\tremaining: 28.2s\n",
            "364:\tlearn: 0.7831368\ttest: 0.7742682\tbest: 0.7742682 (364)\ttotal: 16.2s\tremaining: 28.1s\n",
            "365:\tlearn: 0.7831792\ttest: 0.7743017\tbest: 0.7743017 (365)\ttotal: 16.2s\tremaining: 28.1s\n",
            "366:\tlearn: 0.7832172\ttest: 0.7743382\tbest: 0.7743382 (366)\ttotal: 16.2s\tremaining: 28s\n",
            "367:\tlearn: 0.7832486\ttest: 0.7743748\tbest: 0.7743748 (367)\ttotal: 16.3s\tremaining: 28s\n",
            "368:\tlearn: 0.7833135\ttest: 0.7744211\tbest: 0.7744211 (368)\ttotal: 16.3s\tremaining: 27.9s\n",
            "369:\tlearn: 0.7833670\ttest: 0.7744671\tbest: 0.7744671 (369)\ttotal: 16.4s\tremaining: 27.9s\n",
            "370:\tlearn: 0.7834098\ttest: 0.7745111\tbest: 0.7745111 (370)\ttotal: 16.4s\tremaining: 27.8s\n",
            "371:\tlearn: 0.7834590\ttest: 0.7745556\tbest: 0.7745556 (371)\ttotal: 16.5s\tremaining: 27.8s\n",
            "372:\tlearn: 0.7835277\ttest: 0.7746169\tbest: 0.7746169 (372)\ttotal: 16.5s\tremaining: 27.7s\n",
            "373:\tlearn: 0.7835855\ttest: 0.7746591\tbest: 0.7746591 (373)\ttotal: 16.5s\tremaining: 27.7s\n",
            "374:\tlearn: 0.7836381\ttest: 0.7746903\tbest: 0.7746903 (374)\ttotal: 16.6s\tremaining: 27.6s\n",
            "375:\tlearn: 0.7836811\ttest: 0.7747318\tbest: 0.7747318 (375)\ttotal: 16.6s\tremaining: 27.6s\n",
            "376:\tlearn: 0.7837291\ttest: 0.7747762\tbest: 0.7747762 (376)\ttotal: 16.7s\tremaining: 27.5s\n",
            "377:\tlearn: 0.7837616\ttest: 0.7747986\tbest: 0.7747986 (377)\ttotal: 16.7s\tremaining: 27.5s\n",
            "378:\tlearn: 0.7838353\ttest: 0.7748437\tbest: 0.7748437 (378)\ttotal: 16.8s\tremaining: 27.4s\n",
            "379:\tlearn: 0.7838917\ttest: 0.7748895\tbest: 0.7748895 (379)\ttotal: 16.8s\tremaining: 27.4s\n",
            "380:\tlearn: 0.7839387\ttest: 0.7749340\tbest: 0.7749340 (380)\ttotal: 16.8s\tremaining: 27.4s\n",
            "381:\tlearn: 0.7839882\ttest: 0.7749774\tbest: 0.7749774 (381)\ttotal: 16.9s\tremaining: 27.3s\n",
            "382:\tlearn: 0.7840296\ttest: 0.7750139\tbest: 0.7750139 (382)\ttotal: 16.9s\tremaining: 27.3s\n",
            "383:\tlearn: 0.7840960\ttest: 0.7750616\tbest: 0.7750616 (383)\ttotal: 17s\tremaining: 27.2s\n",
            "384:\tlearn: 0.7841634\ttest: 0.7751227\tbest: 0.7751227 (384)\ttotal: 17s\tremaining: 27.2s\n",
            "385:\tlearn: 0.7842217\ttest: 0.7751810\tbest: 0.7751810 (385)\ttotal: 17s\tremaining: 27.1s\n",
            "386:\tlearn: 0.7842711\ttest: 0.7752146\tbest: 0.7752146 (386)\ttotal: 17.1s\tremaining: 27.1s\n",
            "387:\tlearn: 0.7843250\ttest: 0.7752484\tbest: 0.7752484 (387)\ttotal: 17.1s\tremaining: 27s\n",
            "388:\tlearn: 0.7843636\ttest: 0.7752778\tbest: 0.7752778 (388)\ttotal: 17.2s\tremaining: 27s\n",
            "389:\tlearn: 0.7844211\ttest: 0.7753392\tbest: 0.7753392 (389)\ttotal: 17.2s\tremaining: 26.9s\n",
            "390:\tlearn: 0.7844634\ttest: 0.7753686\tbest: 0.7753686 (390)\ttotal: 17.3s\tremaining: 26.9s\n",
            "391:\tlearn: 0.7845306\ttest: 0.7754122\tbest: 0.7754122 (391)\ttotal: 17.3s\tremaining: 26.8s\n",
            "392:\tlearn: 0.7845617\ttest: 0.7754273\tbest: 0.7754273 (392)\ttotal: 17.3s\tremaining: 26.8s\n",
            "393:\tlearn: 0.7846208\ttest: 0.7754740\tbest: 0.7754740 (393)\ttotal: 17.4s\tremaining: 26.8s\n",
            "394:\tlearn: 0.7846843\ttest: 0.7755034\tbest: 0.7755034 (394)\ttotal: 17.4s\tremaining: 26.7s\n",
            "395:\tlearn: 0.7847353\ttest: 0.7755314\tbest: 0.7755314 (395)\ttotal: 17.5s\tremaining: 26.7s\n",
            "396:\tlearn: 0.7847794\ttest: 0.7755574\tbest: 0.7755574 (396)\ttotal: 17.5s\tremaining: 26.6s\n",
            "397:\tlearn: 0.7848174\ttest: 0.7755852\tbest: 0.7755852 (397)\ttotal: 17.6s\tremaining: 26.6s\n",
            "398:\tlearn: 0.7848686\ttest: 0.7756191\tbest: 0.7756191 (398)\ttotal: 17.6s\tremaining: 26.5s\n",
            "399:\tlearn: 0.7849055\ttest: 0.7756457\tbest: 0.7756457 (399)\ttotal: 17.6s\tremaining: 26.5s\n",
            "400:\tlearn: 0.7849613\ttest: 0.7756748\tbest: 0.7756748 (400)\ttotal: 17.7s\tremaining: 26.4s\n",
            "401:\tlearn: 0.7850093\ttest: 0.7757183\tbest: 0.7757183 (401)\ttotal: 17.7s\tremaining: 26.4s\n",
            "402:\tlearn: 0.7850589\ttest: 0.7757626\tbest: 0.7757626 (402)\ttotal: 17.8s\tremaining: 26.3s\n",
            "403:\tlearn: 0.7851093\ttest: 0.7757972\tbest: 0.7757972 (403)\ttotal: 17.8s\tremaining: 26.3s\n",
            "404:\tlearn: 0.7851625\ttest: 0.7758490\tbest: 0.7758490 (404)\ttotal: 17.9s\tremaining: 26.2s\n",
            "405:\tlearn: 0.7852052\ttest: 0.7758793\tbest: 0.7758793 (405)\ttotal: 17.9s\tremaining: 26.2s\n",
            "406:\tlearn: 0.7852681\ttest: 0.7759278\tbest: 0.7759278 (406)\ttotal: 17.9s\tremaining: 26.1s\n",
            "407:\tlearn: 0.7853317\ttest: 0.7759597\tbest: 0.7759597 (407)\ttotal: 18s\tremaining: 26.1s\n",
            "408:\tlearn: 0.7853605\ttest: 0.7759733\tbest: 0.7759733 (408)\ttotal: 18s\tremaining: 26.1s\n",
            "409:\tlearn: 0.7854055\ttest: 0.7760238\tbest: 0.7760238 (409)\ttotal: 18.1s\tremaining: 26s\n",
            "410:\tlearn: 0.7854567\ttest: 0.7760679\tbest: 0.7760679 (410)\ttotal: 18.1s\tremaining: 26s\n",
            "411:\tlearn: 0.7855133\ttest: 0.7760905\tbest: 0.7760905 (411)\ttotal: 18.2s\tremaining: 25.9s\n",
            "412:\tlearn: 0.7855585\ttest: 0.7761311\tbest: 0.7761311 (412)\ttotal: 18.2s\tremaining: 25.9s\n",
            "413:\tlearn: 0.7855960\ttest: 0.7761574\tbest: 0.7761574 (413)\ttotal: 18.2s\tremaining: 25.8s\n",
            "414:\tlearn: 0.7856535\ttest: 0.7761995\tbest: 0.7761995 (414)\ttotal: 18.3s\tremaining: 25.8s\n",
            "415:\tlearn: 0.7857092\ttest: 0.7762369\tbest: 0.7762369 (415)\ttotal: 18.3s\tremaining: 25.7s\n",
            "416:\tlearn: 0.7857670\ttest: 0.7762720\tbest: 0.7762720 (416)\ttotal: 18.4s\tremaining: 25.7s\n",
            "417:\tlearn: 0.7858198\ttest: 0.7763063\tbest: 0.7763063 (417)\ttotal: 18.4s\tremaining: 25.6s\n",
            "418:\tlearn: 0.7858648\ttest: 0.7763408\tbest: 0.7763408 (418)\ttotal: 18.5s\tremaining: 25.6s\n",
            "419:\tlearn: 0.7859112\ttest: 0.7763819\tbest: 0.7763819 (419)\ttotal: 18.5s\tremaining: 25.6s\n",
            "420:\tlearn: 0.7859694\ttest: 0.7764310\tbest: 0.7764310 (420)\ttotal: 18.5s\tremaining: 25.5s\n",
            "421:\tlearn: 0.7860285\ttest: 0.7764606\tbest: 0.7764606 (421)\ttotal: 18.6s\tremaining: 25.5s\n",
            "422:\tlearn: 0.7860699\ttest: 0.7764922\tbest: 0.7764922 (422)\ttotal: 18.6s\tremaining: 25.4s\n",
            "423:\tlearn: 0.7861142\ttest: 0.7765139\tbest: 0.7765139 (423)\ttotal: 18.7s\tremaining: 25.4s\n",
            "424:\tlearn: 0.7861663\ttest: 0.7765447\tbest: 0.7765447 (424)\ttotal: 18.7s\tremaining: 25.3s\n",
            "425:\tlearn: 0.7862219\ttest: 0.7765870\tbest: 0.7765870 (425)\ttotal: 18.8s\tremaining: 25.3s\n",
            "426:\tlearn: 0.7862716\ttest: 0.7766320\tbest: 0.7766320 (426)\ttotal: 18.8s\tremaining: 25.2s\n",
            "427:\tlearn: 0.7863179\ttest: 0.7766638\tbest: 0.7766638 (427)\ttotal: 18.8s\tremaining: 25.2s\n",
            "428:\tlearn: 0.7863533\ttest: 0.7766947\tbest: 0.7766947 (428)\ttotal: 18.9s\tremaining: 25.1s\n",
            "429:\tlearn: 0.7864073\ttest: 0.7767363\tbest: 0.7767363 (429)\ttotal: 18.9s\tremaining: 25.1s\n",
            "430:\tlearn: 0.7864572\ttest: 0.7767772\tbest: 0.7767772 (430)\ttotal: 19s\tremaining: 25s\n",
            "431:\tlearn: 0.7864948\ttest: 0.7768057\tbest: 0.7768057 (431)\ttotal: 19s\tremaining: 25s\n",
            "432:\tlearn: 0.7865530\ttest: 0.7768481\tbest: 0.7768481 (432)\ttotal: 19.1s\tremaining: 24.9s\n",
            "433:\tlearn: 0.7865893\ttest: 0.7768730\tbest: 0.7768730 (433)\ttotal: 19.1s\tremaining: 24.9s\n",
            "434:\tlearn: 0.7866358\ttest: 0.7769071\tbest: 0.7769071 (434)\ttotal: 19.1s\tremaining: 24.9s\n",
            "435:\tlearn: 0.7866815\ttest: 0.7769238\tbest: 0.7769238 (435)\ttotal: 19.2s\tremaining: 24.8s\n",
            "436:\tlearn: 0.7867479\ttest: 0.7769675\tbest: 0.7769675 (436)\ttotal: 19.2s\tremaining: 24.8s\n",
            "437:\tlearn: 0.7867891\ttest: 0.7769822\tbest: 0.7769822 (437)\ttotal: 19.3s\tremaining: 24.7s\n",
            "438:\tlearn: 0.7868267\ttest: 0.7770069\tbest: 0.7770069 (438)\ttotal: 19.3s\tremaining: 24.7s\n",
            "439:\tlearn: 0.7868790\ttest: 0.7770512\tbest: 0.7770512 (439)\ttotal: 19.3s\tremaining: 24.6s\n",
            "440:\tlearn: 0.7869318\ttest: 0.7770815\tbest: 0.7770815 (440)\ttotal: 19.4s\tremaining: 24.6s\n",
            "441:\tlearn: 0.7869741\ttest: 0.7771142\tbest: 0.7771142 (441)\ttotal: 19.4s\tremaining: 24.5s\n",
            "442:\tlearn: 0.7870264\ttest: 0.7771528\tbest: 0.7771528 (442)\ttotal: 19.5s\tremaining: 24.5s\n",
            "443:\tlearn: 0.7870847\ttest: 0.7772013\tbest: 0.7772013 (443)\ttotal: 19.5s\tremaining: 24.4s\n",
            "444:\tlearn: 0.7871365\ttest: 0.7772350\tbest: 0.7772350 (444)\ttotal: 19.6s\tremaining: 24.4s\n",
            "445:\tlearn: 0.7871659\ttest: 0.7772453\tbest: 0.7772453 (445)\ttotal: 19.6s\tremaining: 24.3s\n",
            "446:\tlearn: 0.7872270\ttest: 0.7772693\tbest: 0.7772693 (446)\ttotal: 19.6s\tremaining: 24.3s\n",
            "447:\tlearn: 0.7872877\ttest: 0.7772918\tbest: 0.7772918 (447)\ttotal: 19.7s\tremaining: 24.3s\n",
            "448:\tlearn: 0.7873252\ttest: 0.7773141\tbest: 0.7773141 (448)\ttotal: 19.7s\tremaining: 24.2s\n",
            "449:\tlearn: 0.7873538\ttest: 0.7773358\tbest: 0.7773358 (449)\ttotal: 19.8s\tremaining: 24.2s\n",
            "450:\tlearn: 0.7873974\ttest: 0.7773685\tbest: 0.7773685 (450)\ttotal: 19.8s\tremaining: 24.1s\n",
            "451:\tlearn: 0.7874279\ttest: 0.7773847\tbest: 0.7773847 (451)\ttotal: 19.9s\tremaining: 24.1s\n",
            "452:\tlearn: 0.7874730\ttest: 0.7774068\tbest: 0.7774068 (452)\ttotal: 19.9s\tremaining: 24s\n",
            "453:\tlearn: 0.7875012\ttest: 0.7774259\tbest: 0.7774259 (453)\ttotal: 19.9s\tremaining: 24s\n",
            "454:\tlearn: 0.7875495\ttest: 0.7774568\tbest: 0.7774568 (454)\ttotal: 20s\tremaining: 23.9s\n",
            "455:\tlearn: 0.7876030\ttest: 0.7774979\tbest: 0.7774979 (455)\ttotal: 20s\tremaining: 23.9s\n",
            "456:\tlearn: 0.7876514\ttest: 0.7775251\tbest: 0.7775251 (456)\ttotal: 20.1s\tremaining: 23.8s\n",
            "457:\tlearn: 0.7877146\ttest: 0.7775607\tbest: 0.7775607 (457)\ttotal: 20.1s\tremaining: 23.8s\n",
            "458:\tlearn: 0.7877668\ttest: 0.7776048\tbest: 0.7776048 (458)\ttotal: 20.2s\tremaining: 23.8s\n",
            "459:\tlearn: 0.7878338\ttest: 0.7776392\tbest: 0.7776392 (459)\ttotal: 20.2s\tremaining: 23.7s\n",
            "460:\tlearn: 0.7878753\ttest: 0.7776850\tbest: 0.7776850 (460)\ttotal: 20.3s\tremaining: 23.7s\n",
            "461:\tlearn: 0.7879139\ttest: 0.7777240\tbest: 0.7777240 (461)\ttotal: 20.3s\tremaining: 23.6s\n",
            "462:\tlearn: 0.7879528\ttest: 0.7777478\tbest: 0.7777478 (462)\ttotal: 20.3s\tremaining: 23.6s\n",
            "463:\tlearn: 0.7879974\ttest: 0.7777765\tbest: 0.7777765 (463)\ttotal: 20.4s\tremaining: 23.5s\n",
            "464:\tlearn: 0.7880298\ttest: 0.7777986\tbest: 0.7777986 (464)\ttotal: 20.4s\tremaining: 23.5s\n",
            "465:\tlearn: 0.7880683\ttest: 0.7778239\tbest: 0.7778239 (465)\ttotal: 20.4s\tremaining: 23.4s\n",
            "466:\tlearn: 0.7881065\ttest: 0.7778435\tbest: 0.7778435 (466)\ttotal: 20.5s\tremaining: 23.4s\n",
            "467:\tlearn: 0.7881501\ttest: 0.7778646\tbest: 0.7778646 (467)\ttotal: 20.5s\tremaining: 23.3s\n",
            "468:\tlearn: 0.7881881\ttest: 0.7778863\tbest: 0.7778863 (468)\ttotal: 20.6s\tremaining: 23.3s\n",
            "469:\tlearn: 0.7882231\ttest: 0.7779043\tbest: 0.7779043 (469)\ttotal: 20.6s\tremaining: 23.3s\n",
            "470:\tlearn: 0.7882725\ttest: 0.7779294\tbest: 0.7779294 (470)\ttotal: 20.7s\tremaining: 23.2s\n",
            "471:\tlearn: 0.7883263\ttest: 0.7779648\tbest: 0.7779648 (471)\ttotal: 20.7s\tremaining: 23.2s\n",
            "472:\tlearn: 0.7883564\ttest: 0.7779752\tbest: 0.7779752 (472)\ttotal: 20.7s\tremaining: 23.1s\n",
            "473:\tlearn: 0.7883973\ttest: 0.7780069\tbest: 0.7780069 (473)\ttotal: 20.8s\tremaining: 23.1s\n",
            "474:\tlearn: 0.7884299\ttest: 0.7780266\tbest: 0.7780266 (474)\ttotal: 20.8s\tremaining: 23s\n",
            "475:\tlearn: 0.7884818\ttest: 0.7780568\tbest: 0.7780568 (475)\ttotal: 20.9s\tremaining: 23s\n",
            "476:\tlearn: 0.7885327\ttest: 0.7780944\tbest: 0.7780944 (476)\ttotal: 20.9s\tremaining: 22.9s\n",
            "477:\tlearn: 0.7885737\ttest: 0.7781199\tbest: 0.7781199 (477)\ttotal: 20.9s\tremaining: 22.9s\n",
            "478:\tlearn: 0.7886165\ttest: 0.7781476\tbest: 0.7781476 (478)\ttotal: 21s\tremaining: 22.8s\n",
            "479:\tlearn: 0.7886636\ttest: 0.7781835\tbest: 0.7781835 (479)\ttotal: 21s\tremaining: 22.8s\n",
            "480:\tlearn: 0.7886923\ttest: 0.7781930\tbest: 0.7781930 (480)\ttotal: 21.1s\tremaining: 22.7s\n",
            "481:\tlearn: 0.7887449\ttest: 0.7782343\tbest: 0.7782343 (481)\ttotal: 21.1s\tremaining: 22.7s\n",
            "482:\tlearn: 0.7888150\ttest: 0.7782905\tbest: 0.7782905 (482)\ttotal: 21.2s\tremaining: 22.6s\n",
            "483:\tlearn: 0.7888526\ttest: 0.7783164\tbest: 0.7783164 (483)\ttotal: 21.2s\tremaining: 22.6s\n",
            "484:\tlearn: 0.7888854\ttest: 0.7783300\tbest: 0.7783300 (484)\ttotal: 21.2s\tremaining: 22.5s\n",
            "485:\tlearn: 0.7889205\ttest: 0.7783438\tbest: 0.7783438 (485)\ttotal: 21.3s\tremaining: 22.5s\n",
            "486:\tlearn: 0.7889584\ttest: 0.7783735\tbest: 0.7783735 (486)\ttotal: 21.3s\tremaining: 22.5s\n",
            "487:\tlearn: 0.7890165\ttest: 0.7784157\tbest: 0.7784157 (487)\ttotal: 21.4s\tremaining: 22.4s\n",
            "488:\tlearn: 0.7890617\ttest: 0.7784328\tbest: 0.7784328 (488)\ttotal: 21.4s\tremaining: 22.4s\n",
            "489:\tlearn: 0.7890925\ttest: 0.7784504\tbest: 0.7784504 (489)\ttotal: 21.5s\tremaining: 22.3s\n",
            "490:\tlearn: 0.7891382\ttest: 0.7784763\tbest: 0.7784763 (490)\ttotal: 21.5s\tremaining: 22.3s\n",
            "491:\tlearn: 0.7891961\ttest: 0.7785028\tbest: 0.7785028 (491)\ttotal: 21.5s\tremaining: 22.2s\n",
            "492:\tlearn: 0.7892349\ttest: 0.7785213\tbest: 0.7785213 (492)\ttotal: 21.6s\tremaining: 22.2s\n",
            "493:\tlearn: 0.7892902\ttest: 0.7785668\tbest: 0.7785668 (493)\ttotal: 21.6s\tremaining: 22.2s\n",
            "494:\tlearn: 0.7893322\ttest: 0.7785958\tbest: 0.7785958 (494)\ttotal: 21.7s\tremaining: 22.1s\n",
            "495:\tlearn: 0.7893684\ttest: 0.7786201\tbest: 0.7786201 (495)\ttotal: 21.7s\tremaining: 22.1s\n",
            "496:\tlearn: 0.7894003\ttest: 0.7786445\tbest: 0.7786445 (496)\ttotal: 21.7s\tremaining: 22s\n",
            "497:\tlearn: 0.7894500\ttest: 0.7786713\tbest: 0.7786713 (497)\ttotal: 21.8s\tremaining: 22s\n",
            "498:\tlearn: 0.7894840\ttest: 0.7786929\tbest: 0.7786929 (498)\ttotal: 21.8s\tremaining: 21.9s\n",
            "499:\tlearn: 0.7895194\ttest: 0.7787212\tbest: 0.7787212 (499)\ttotal: 21.9s\tremaining: 21.9s\n",
            "500:\tlearn: 0.7895586\ttest: 0.7787424\tbest: 0.7787424 (500)\ttotal: 21.9s\tremaining: 21.8s\n",
            "501:\tlearn: 0.7896148\ttest: 0.7787701\tbest: 0.7787701 (501)\ttotal: 22s\tremaining: 21.8s\n",
            "502:\tlearn: 0.7896494\ttest: 0.7787963\tbest: 0.7787963 (502)\ttotal: 22s\tremaining: 21.7s\n",
            "503:\tlearn: 0.7896951\ttest: 0.7788315\tbest: 0.7788315 (503)\ttotal: 22s\tremaining: 21.7s\n",
            "504:\tlearn: 0.7897346\ttest: 0.7788486\tbest: 0.7788486 (504)\ttotal: 22.1s\tremaining: 21.6s\n",
            "505:\tlearn: 0.7897893\ttest: 0.7788855\tbest: 0.7788855 (505)\ttotal: 22.1s\tremaining: 21.6s\n",
            "506:\tlearn: 0.7898329\ttest: 0.7789049\tbest: 0.7789049 (506)\ttotal: 22.2s\tremaining: 21.6s\n",
            "507:\tlearn: 0.7898759\ttest: 0.7789335\tbest: 0.7789335 (507)\ttotal: 22.2s\tremaining: 21.5s\n",
            "508:\tlearn: 0.7899216\ttest: 0.7789683\tbest: 0.7789683 (508)\ttotal: 22.3s\tremaining: 21.5s\n",
            "509:\tlearn: 0.7899824\ttest: 0.7790081\tbest: 0.7790081 (509)\ttotal: 22.3s\tremaining: 21.4s\n",
            "510:\tlearn: 0.7900192\ttest: 0.7790193\tbest: 0.7790193 (510)\ttotal: 22.3s\tremaining: 21.4s\n",
            "511:\tlearn: 0.7900465\ttest: 0.7790374\tbest: 0.7790374 (511)\ttotal: 22.4s\tremaining: 21.3s\n",
            "512:\tlearn: 0.7900923\ttest: 0.7790655\tbest: 0.7790655 (512)\ttotal: 22.4s\tremaining: 21.3s\n",
            "513:\tlearn: 0.7901249\ttest: 0.7790930\tbest: 0.7790930 (513)\ttotal: 22.5s\tremaining: 21.2s\n",
            "514:\tlearn: 0.7901830\ttest: 0.7791183\tbest: 0.7791183 (514)\ttotal: 22.5s\tremaining: 21.2s\n",
            "515:\tlearn: 0.7902052\ttest: 0.7791331\tbest: 0.7791331 (515)\ttotal: 22.6s\tremaining: 21.2s\n",
            "516:\tlearn: 0.7902304\ttest: 0.7791609\tbest: 0.7791609 (516)\ttotal: 22.6s\tremaining: 21.1s\n",
            "517:\tlearn: 0.7902762\ttest: 0.7791871\tbest: 0.7791871 (517)\ttotal: 22.6s\tremaining: 21.1s\n",
            "518:\tlearn: 0.7903228\ttest: 0.7792080\tbest: 0.7792080 (518)\ttotal: 22.7s\tremaining: 21s\n",
            "519:\tlearn: 0.7903551\ttest: 0.7792287\tbest: 0.7792287 (519)\ttotal: 22.7s\tremaining: 21s\n",
            "520:\tlearn: 0.7903959\ttest: 0.7792565\tbest: 0.7792565 (520)\ttotal: 22.8s\tremaining: 20.9s\n",
            "521:\tlearn: 0.7904305\ttest: 0.7792705\tbest: 0.7792705 (521)\ttotal: 22.8s\tremaining: 20.9s\n",
            "522:\tlearn: 0.7904844\ttest: 0.7793067\tbest: 0.7793067 (522)\ttotal: 22.9s\tremaining: 20.9s\n",
            "523:\tlearn: 0.7905262\ttest: 0.7793450\tbest: 0.7793450 (523)\ttotal: 22.9s\tremaining: 20.8s\n",
            "524:\tlearn: 0.7905855\ttest: 0.7793814\tbest: 0.7793814 (524)\ttotal: 22.9s\tremaining: 20.8s\n",
            "525:\tlearn: 0.7906235\ttest: 0.7794154\tbest: 0.7794154 (525)\ttotal: 23s\tremaining: 20.7s\n",
            "526:\tlearn: 0.7906578\ttest: 0.7794445\tbest: 0.7794445 (526)\ttotal: 23s\tremaining: 20.7s\n",
            "527:\tlearn: 0.7907013\ttest: 0.7794727\tbest: 0.7794727 (527)\ttotal: 23.1s\tremaining: 20.6s\n",
            "528:\tlearn: 0.7907352\ttest: 0.7794871\tbest: 0.7794871 (528)\ttotal: 23.1s\tremaining: 20.6s\n",
            "529:\tlearn: 0.7907676\ttest: 0.7795183\tbest: 0.7795183 (529)\ttotal: 23.2s\tremaining: 20.5s\n",
            "530:\tlearn: 0.7907891\ttest: 0.7795329\tbest: 0.7795329 (530)\ttotal: 23.2s\tremaining: 20.5s\n",
            "531:\tlearn: 0.7908327\ttest: 0.7795627\tbest: 0.7795627 (531)\ttotal: 23.2s\tremaining: 20.4s\n",
            "532:\tlearn: 0.7908695\ttest: 0.7795804\tbest: 0.7795804 (532)\ttotal: 23.3s\tremaining: 20.4s\n",
            "533:\tlearn: 0.7909130\ttest: 0.7795992\tbest: 0.7795992 (533)\ttotal: 23.3s\tremaining: 20.4s\n",
            "534:\tlearn: 0.7909382\ttest: 0.7796150\tbest: 0.7796150 (534)\ttotal: 23.4s\tremaining: 20.3s\n",
            "535:\tlearn: 0.7909727\ttest: 0.7796361\tbest: 0.7796361 (535)\ttotal: 23.4s\tremaining: 20.3s\n",
            "536:\tlearn: 0.7910101\ttest: 0.7796638\tbest: 0.7796638 (536)\ttotal: 23.4s\tremaining: 20.2s\n",
            "537:\tlearn: 0.7910573\ttest: 0.7796825\tbest: 0.7796825 (537)\ttotal: 23.5s\tremaining: 20.2s\n",
            "538:\tlearn: 0.7910945\ttest: 0.7796935\tbest: 0.7796935 (538)\ttotal: 23.5s\tremaining: 20.1s\n",
            "539:\tlearn: 0.7911348\ttest: 0.7797163\tbest: 0.7797163 (539)\ttotal: 23.6s\tremaining: 20.1s\n",
            "540:\tlearn: 0.7911727\ttest: 0.7797291\tbest: 0.7797291 (540)\ttotal: 23.6s\tremaining: 20s\n",
            "541:\tlearn: 0.7912261\ttest: 0.7797593\tbest: 0.7797593 (541)\ttotal: 23.7s\tremaining: 20s\n",
            "542:\tlearn: 0.7912638\ttest: 0.7797969\tbest: 0.7797969 (542)\ttotal: 23.7s\tremaining: 20s\n",
            "543:\tlearn: 0.7913003\ttest: 0.7798081\tbest: 0.7798081 (543)\ttotal: 23.8s\tremaining: 19.9s\n",
            "544:\tlearn: 0.7913376\ttest: 0.7798330\tbest: 0.7798330 (544)\ttotal: 23.8s\tremaining: 19.9s\n",
            "545:\tlearn: 0.7913790\ttest: 0.7798566\tbest: 0.7798566 (545)\ttotal: 23.8s\tremaining: 19.8s\n",
            "546:\tlearn: 0.7914155\ttest: 0.7798741\tbest: 0.7798741 (546)\ttotal: 23.9s\tremaining: 19.8s\n",
            "547:\tlearn: 0.7914474\ttest: 0.7798915\tbest: 0.7798915 (547)\ttotal: 23.9s\tremaining: 19.7s\n",
            "548:\tlearn: 0.7914982\ttest: 0.7799079\tbest: 0.7799079 (548)\ttotal: 24s\tremaining: 19.7s\n",
            "549:\tlearn: 0.7915449\ttest: 0.7799273\tbest: 0.7799273 (549)\ttotal: 24s\tremaining: 19.6s\n",
            "550:\tlearn: 0.7915769\ttest: 0.7799468\tbest: 0.7799468 (550)\ttotal: 24s\tremaining: 19.6s\n",
            "551:\tlearn: 0.7916288\ttest: 0.7799719\tbest: 0.7799719 (551)\ttotal: 24.1s\tremaining: 19.5s\n",
            "552:\tlearn: 0.7916688\ttest: 0.7799940\tbest: 0.7799940 (552)\ttotal: 24.1s\tremaining: 19.5s\n",
            "553:\tlearn: 0.7917125\ttest: 0.7800211\tbest: 0.7800211 (553)\ttotal: 24.2s\tremaining: 19.5s\n",
            "554:\tlearn: 0.7917516\ttest: 0.7800477\tbest: 0.7800477 (554)\ttotal: 24.2s\tremaining: 19.4s\n",
            "555:\tlearn: 0.7917963\ttest: 0.7800795\tbest: 0.7800795 (555)\ttotal: 24.3s\tremaining: 19.4s\n",
            "556:\tlearn: 0.7918312\ttest: 0.7800990\tbest: 0.7800990 (556)\ttotal: 24.3s\tremaining: 19.3s\n",
            "557:\tlearn: 0.7918641\ttest: 0.7801174\tbest: 0.7801174 (557)\ttotal: 24.3s\tremaining: 19.3s\n",
            "558:\tlearn: 0.7919036\ttest: 0.7801482\tbest: 0.7801482 (558)\ttotal: 24.4s\tremaining: 19.2s\n",
            "559:\tlearn: 0.7919504\ttest: 0.7801709\tbest: 0.7801709 (559)\ttotal: 24.4s\tremaining: 19.2s\n",
            "560:\tlearn: 0.7919882\ttest: 0.7801875\tbest: 0.7801875 (560)\ttotal: 24.5s\tremaining: 19.2s\n",
            "561:\tlearn: 0.7920258\ttest: 0.7802112\tbest: 0.7802112 (561)\ttotal: 24.5s\tremaining: 19.1s\n",
            "562:\tlearn: 0.7920546\ttest: 0.7802272\tbest: 0.7802272 (562)\ttotal: 24.6s\tremaining: 19.1s\n",
            "563:\tlearn: 0.7920829\ttest: 0.7802570\tbest: 0.7802570 (563)\ttotal: 24.6s\tremaining: 19s\n",
            "564:\tlearn: 0.7921125\ttest: 0.7802591\tbest: 0.7802591 (564)\ttotal: 24.6s\tremaining: 19s\n",
            "565:\tlearn: 0.7921597\ttest: 0.7802752\tbest: 0.7802752 (565)\ttotal: 24.7s\tremaining: 18.9s\n",
            "566:\tlearn: 0.7922060\ttest: 0.7803062\tbest: 0.7803062 (566)\ttotal: 24.7s\tremaining: 18.9s\n",
            "567:\tlearn: 0.7922599\ttest: 0.7803332\tbest: 0.7803332 (567)\ttotal: 24.8s\tremaining: 18.8s\n",
            "568:\tlearn: 0.7922937\ttest: 0.7803536\tbest: 0.7803536 (568)\ttotal: 24.8s\tremaining: 18.8s\n",
            "569:\tlearn: 0.7923335\ttest: 0.7803704\tbest: 0.7803704 (569)\ttotal: 24.8s\tremaining: 18.7s\n",
            "570:\tlearn: 0.7923685\ttest: 0.7803996\tbest: 0.7803996 (570)\ttotal: 24.9s\tremaining: 18.7s\n",
            "571:\tlearn: 0.7924036\ttest: 0.7804120\tbest: 0.7804120 (571)\ttotal: 24.9s\tremaining: 18.7s\n",
            "572:\tlearn: 0.7924468\ttest: 0.7804381\tbest: 0.7804381 (572)\ttotal: 25s\tremaining: 18.6s\n",
            "573:\tlearn: 0.7924812\ttest: 0.7804544\tbest: 0.7804544 (573)\ttotal: 25s\tremaining: 18.6s\n",
            "574:\tlearn: 0.7925259\ttest: 0.7804694\tbest: 0.7804694 (574)\ttotal: 25.1s\tremaining: 18.5s\n",
            "575:\tlearn: 0.7925676\ttest: 0.7804848\tbest: 0.7804848 (575)\ttotal: 25.1s\tremaining: 18.5s\n",
            "576:\tlearn: 0.7926095\ttest: 0.7805082\tbest: 0.7805082 (576)\ttotal: 25.1s\tremaining: 18.4s\n",
            "577:\tlearn: 0.7926531\ttest: 0.7805356\tbest: 0.7805356 (577)\ttotal: 25.2s\tremaining: 18.4s\n",
            "578:\tlearn: 0.7926883\ttest: 0.7805628\tbest: 0.7805628 (578)\ttotal: 25.2s\tremaining: 18.3s\n",
            "579:\tlearn: 0.7927265\ttest: 0.7805663\tbest: 0.7805663 (579)\ttotal: 25.3s\tremaining: 18.3s\n",
            "580:\tlearn: 0.7927670\ttest: 0.7805936\tbest: 0.7805936 (580)\ttotal: 25.3s\tremaining: 18.3s\n",
            "581:\tlearn: 0.7928111\ttest: 0.7806210\tbest: 0.7806210 (581)\ttotal: 25.4s\tremaining: 18.2s\n",
            "582:\tlearn: 0.7928463\ttest: 0.7806379\tbest: 0.7806379 (582)\ttotal: 25.4s\tremaining: 18.2s\n",
            "583:\tlearn: 0.7929009\ttest: 0.7806665\tbest: 0.7806665 (583)\ttotal: 25.4s\tremaining: 18.1s\n",
            "584:\tlearn: 0.7929468\ttest: 0.7807034\tbest: 0.7807034 (584)\ttotal: 25.5s\tremaining: 18.1s\n",
            "585:\tlearn: 0.7929882\ttest: 0.7807296\tbest: 0.7807296 (585)\ttotal: 25.5s\tremaining: 18s\n",
            "586:\tlearn: 0.7930212\ttest: 0.7807509\tbest: 0.7807509 (586)\ttotal: 25.6s\tremaining: 18s\n",
            "587:\tlearn: 0.7930623\ttest: 0.7807766\tbest: 0.7807766 (587)\ttotal: 25.6s\tremaining: 17.9s\n",
            "588:\tlearn: 0.7931057\ttest: 0.7808013\tbest: 0.7808013 (588)\ttotal: 25.7s\tremaining: 17.9s\n",
            "589:\tlearn: 0.7931576\ttest: 0.7808428\tbest: 0.7808428 (589)\ttotal: 25.7s\tremaining: 17.9s\n",
            "590:\tlearn: 0.7931962\ttest: 0.7808779\tbest: 0.7808779 (590)\ttotal: 25.7s\tremaining: 17.8s\n",
            "591:\tlearn: 0.7932244\ttest: 0.7808805\tbest: 0.7808805 (591)\ttotal: 25.8s\tremaining: 17.8s\n",
            "592:\tlearn: 0.7932557\ttest: 0.7809030\tbest: 0.7809030 (592)\ttotal: 25.8s\tremaining: 17.7s\n",
            "593:\tlearn: 0.7932950\ttest: 0.7809352\tbest: 0.7809352 (593)\ttotal: 25.9s\tremaining: 17.7s\n",
            "594:\tlearn: 0.7933359\ttest: 0.7809602\tbest: 0.7809602 (594)\ttotal: 25.9s\tremaining: 17.6s\n",
            "595:\tlearn: 0.7933723\ttest: 0.7809767\tbest: 0.7809767 (595)\ttotal: 25.9s\tremaining: 17.6s\n",
            "596:\tlearn: 0.7934175\ttest: 0.7809970\tbest: 0.7809970 (596)\ttotal: 26s\tremaining: 17.5s\n",
            "597:\tlearn: 0.7934546\ttest: 0.7810147\tbest: 0.7810147 (597)\ttotal: 26s\tremaining: 17.5s\n",
            "598:\tlearn: 0.7934882\ttest: 0.7810295\tbest: 0.7810295 (598)\ttotal: 26.1s\tremaining: 17.5s\n",
            "599:\tlearn: 0.7935181\ttest: 0.7810463\tbest: 0.7810463 (599)\ttotal: 26.1s\tremaining: 17.4s\n",
            "600:\tlearn: 0.7935479\ttest: 0.7810751\tbest: 0.7810751 (600)\ttotal: 26.2s\tremaining: 17.4s\n",
            "601:\tlearn: 0.7935941\ttest: 0.7811029\tbest: 0.7811029 (601)\ttotal: 26.2s\tremaining: 17.3s\n",
            "602:\tlearn: 0.7936400\ttest: 0.7811314\tbest: 0.7811314 (602)\ttotal: 26.2s\tremaining: 17.3s\n",
            "603:\tlearn: 0.7936698\ttest: 0.7811487\tbest: 0.7811487 (603)\ttotal: 26.3s\tremaining: 17.2s\n",
            "604:\tlearn: 0.7937108\ttest: 0.7811803\tbest: 0.7811803 (604)\ttotal: 26.3s\tremaining: 17.2s\n",
            "605:\tlearn: 0.7937454\ttest: 0.7812063\tbest: 0.7812063 (605)\ttotal: 26.4s\tremaining: 17.1s\n",
            "606:\tlearn: 0.7937815\ttest: 0.7812348\tbest: 0.7812348 (606)\ttotal: 26.4s\tremaining: 17.1s\n",
            "607:\tlearn: 0.7938098\ttest: 0.7812483\tbest: 0.7812483 (607)\ttotal: 26.4s\tremaining: 17.1s\n",
            "608:\tlearn: 0.7938448\ttest: 0.7812560\tbest: 0.7812560 (608)\ttotal: 26.5s\tremaining: 17s\n",
            "609:\tlearn: 0.7938852\ttest: 0.7812788\tbest: 0.7812788 (609)\ttotal: 26.5s\tremaining: 17s\n",
            "610:\tlearn: 0.7939307\ttest: 0.7813100\tbest: 0.7813100 (610)\ttotal: 26.6s\tremaining: 16.9s\n",
            "611:\tlearn: 0.7939753\ttest: 0.7813309\tbest: 0.7813309 (611)\ttotal: 26.6s\tremaining: 16.9s\n",
            "612:\tlearn: 0.7940047\ttest: 0.7813479\tbest: 0.7813479 (612)\ttotal: 26.7s\tremaining: 16.8s\n",
            "613:\tlearn: 0.7940479\ttest: 0.7813565\tbest: 0.7813565 (613)\ttotal: 26.7s\tremaining: 16.8s\n",
            "614:\tlearn: 0.7940813\ttest: 0.7813744\tbest: 0.7813744 (614)\ttotal: 26.7s\tremaining: 16.7s\n",
            "615:\tlearn: 0.7941107\ttest: 0.7813908\tbest: 0.7813908 (615)\ttotal: 26.8s\tremaining: 16.7s\n",
            "616:\tlearn: 0.7941329\ttest: 0.7813939\tbest: 0.7813939 (616)\ttotal: 26.8s\tremaining: 16.6s\n",
            "617:\tlearn: 0.7941600\ttest: 0.7814003\tbest: 0.7814003 (617)\ttotal: 26.9s\tremaining: 16.6s\n",
            "618:\tlearn: 0.7941902\ttest: 0.7814356\tbest: 0.7814356 (618)\ttotal: 26.9s\tremaining: 16.6s\n",
            "619:\tlearn: 0.7942237\ttest: 0.7814523\tbest: 0.7814523 (619)\ttotal: 26.9s\tremaining: 16.5s\n",
            "620:\tlearn: 0.7942804\ttest: 0.7814763\tbest: 0.7814763 (620)\ttotal: 27s\tremaining: 16.5s\n",
            "621:\tlearn: 0.7943324\ttest: 0.7814869\tbest: 0.7814869 (621)\ttotal: 27s\tremaining: 16.4s\n",
            "622:\tlearn: 0.7943671\ttest: 0.7815046\tbest: 0.7815046 (622)\ttotal: 27.1s\tremaining: 16.4s\n",
            "623:\tlearn: 0.7943997\ttest: 0.7815247\tbest: 0.7815247 (623)\ttotal: 27.1s\tremaining: 16.3s\n",
            "624:\tlearn: 0.7944348\ttest: 0.7815498\tbest: 0.7815498 (624)\ttotal: 27.2s\tremaining: 16.3s\n",
            "625:\tlearn: 0.7944585\ttest: 0.7815645\tbest: 0.7815645 (625)\ttotal: 27.2s\tremaining: 16.2s\n",
            "626:\tlearn: 0.7944873\ttest: 0.7815738\tbest: 0.7815738 (626)\ttotal: 27.2s\tremaining: 16.2s\n",
            "627:\tlearn: 0.7945277\ttest: 0.7815977\tbest: 0.7815977 (627)\ttotal: 27.3s\tremaining: 16.2s\n",
            "628:\tlearn: 0.7945706\ttest: 0.7816252\tbest: 0.7816252 (628)\ttotal: 27.3s\tremaining: 16.1s\n",
            "629:\tlearn: 0.7946133\ttest: 0.7816416\tbest: 0.7816416 (629)\ttotal: 27.4s\tremaining: 16.1s\n",
            "630:\tlearn: 0.7946482\ttest: 0.7816524\tbest: 0.7816524 (630)\ttotal: 27.4s\tremaining: 16s\n",
            "631:\tlearn: 0.7946831\ttest: 0.7816691\tbest: 0.7816691 (631)\ttotal: 27.4s\tremaining: 16s\n",
            "632:\tlearn: 0.7947195\ttest: 0.7816921\tbest: 0.7816921 (632)\ttotal: 27.5s\tremaining: 15.9s\n",
            "633:\tlearn: 0.7947574\ttest: 0.7817138\tbest: 0.7817138 (633)\ttotal: 27.5s\tremaining: 15.9s\n",
            "634:\tlearn: 0.7947957\ttest: 0.7817311\tbest: 0.7817311 (634)\ttotal: 27.6s\tremaining: 15.8s\n",
            "635:\tlearn: 0.7948405\ttest: 0.7817644\tbest: 0.7817644 (635)\ttotal: 27.6s\tremaining: 15.8s\n",
            "636:\tlearn: 0.7948744\ttest: 0.7817821\tbest: 0.7817821 (636)\ttotal: 27.6s\tremaining: 15.8s\n",
            "637:\tlearn: 0.7949045\ttest: 0.7817970\tbest: 0.7817970 (637)\ttotal: 27.7s\tremaining: 15.7s\n",
            "638:\tlearn: 0.7949441\ttest: 0.7818239\tbest: 0.7818239 (638)\ttotal: 27.7s\tremaining: 15.7s\n",
            "639:\tlearn: 0.7950005\ttest: 0.7818503\tbest: 0.7818503 (639)\ttotal: 27.8s\tremaining: 15.6s\n",
            "640:\tlearn: 0.7950225\ttest: 0.7818639\tbest: 0.7818639 (640)\ttotal: 27.8s\tremaining: 15.6s\n",
            "641:\tlearn: 0.7950466\ttest: 0.7818771\tbest: 0.7818771 (641)\ttotal: 27.9s\tremaining: 15.5s\n",
            "642:\tlearn: 0.7950807\ttest: 0.7818859\tbest: 0.7818859 (642)\ttotal: 27.9s\tremaining: 15.5s\n",
            "643:\tlearn: 0.7951075\ttest: 0.7819061\tbest: 0.7819061 (643)\ttotal: 27.9s\tremaining: 15.4s\n",
            "644:\tlearn: 0.7951304\ttest: 0.7819296\tbest: 0.7819296 (644)\ttotal: 28s\tremaining: 15.4s\n",
            "645:\tlearn: 0.7951652\ttest: 0.7819330\tbest: 0.7819330 (645)\ttotal: 28s\tremaining: 15.4s\n",
            "646:\tlearn: 0.7952028\ttest: 0.7819427\tbest: 0.7819427 (646)\ttotal: 28.1s\tremaining: 15.3s\n",
            "647:\tlearn: 0.7952411\ttest: 0.7819593\tbest: 0.7819593 (647)\ttotal: 28.1s\tremaining: 15.3s\n",
            "648:\tlearn: 0.7952841\ttest: 0.7819816\tbest: 0.7819816 (648)\ttotal: 28.2s\tremaining: 15.2s\n",
            "649:\tlearn: 0.7953383\ttest: 0.7820050\tbest: 0.7820050 (649)\ttotal: 28.2s\tremaining: 15.2s\n",
            "650:\tlearn: 0.7953708\ttest: 0.7820210\tbest: 0.7820210 (650)\ttotal: 28.2s\tremaining: 15.1s\n",
            "651:\tlearn: 0.7954171\ttest: 0.7820436\tbest: 0.7820436 (651)\ttotal: 28.3s\tremaining: 15.1s\n",
            "652:\tlearn: 0.7954405\ttest: 0.7820596\tbest: 0.7820596 (652)\ttotal: 28.3s\tremaining: 15s\n",
            "653:\tlearn: 0.7954874\ttest: 0.7820878\tbest: 0.7820878 (653)\ttotal: 28.4s\tremaining: 15s\n",
            "654:\tlearn: 0.7955166\ttest: 0.7821117\tbest: 0.7821117 (654)\ttotal: 28.4s\tremaining: 15s\n",
            "655:\tlearn: 0.7955456\ttest: 0.7821260\tbest: 0.7821260 (655)\ttotal: 28.4s\tremaining: 14.9s\n",
            "656:\tlearn: 0.7955769\ttest: 0.7821483\tbest: 0.7821483 (656)\ttotal: 28.5s\tremaining: 14.9s\n",
            "657:\tlearn: 0.7956040\ttest: 0.7821688\tbest: 0.7821688 (657)\ttotal: 28.5s\tremaining: 14.8s\n",
            "658:\tlearn: 0.7956311\ttest: 0.7821795\tbest: 0.7821795 (658)\ttotal: 28.6s\tremaining: 14.8s\n",
            "659:\tlearn: 0.7956729\ttest: 0.7821924\tbest: 0.7821924 (659)\ttotal: 28.6s\tremaining: 14.7s\n",
            "660:\tlearn: 0.7957112\ttest: 0.7822105\tbest: 0.7822105 (660)\ttotal: 28.6s\tremaining: 14.7s\n",
            "661:\tlearn: 0.7957425\ttest: 0.7822261\tbest: 0.7822261 (661)\ttotal: 28.7s\tremaining: 14.6s\n",
            "662:\tlearn: 0.7957715\ttest: 0.7822449\tbest: 0.7822449 (662)\ttotal: 28.7s\tremaining: 14.6s\n",
            "663:\tlearn: 0.7958184\ttest: 0.7822667\tbest: 0.7822667 (663)\ttotal: 28.8s\tremaining: 14.6s\n",
            "664:\tlearn: 0.7958511\ttest: 0.7822888\tbest: 0.7822888 (664)\ttotal: 28.8s\tremaining: 14.5s\n",
            "665:\tlearn: 0.7958813\ttest: 0.7823018\tbest: 0.7823018 (665)\ttotal: 28.8s\tremaining: 14.5s\n",
            "666:\tlearn: 0.7959133\ttest: 0.7823178\tbest: 0.7823178 (666)\ttotal: 28.9s\tremaining: 14.4s\n",
            "667:\tlearn: 0.7959653\ttest: 0.7823371\tbest: 0.7823371 (667)\ttotal: 28.9s\tremaining: 14.4s\n",
            "668:\tlearn: 0.7960004\ttest: 0.7823488\tbest: 0.7823488 (668)\ttotal: 29s\tremaining: 14.3s\n",
            "669:\tlearn: 0.7960351\ttest: 0.7823757\tbest: 0.7823757 (669)\ttotal: 29s\tremaining: 14.3s\n",
            "670:\tlearn: 0.7960638\ttest: 0.7823908\tbest: 0.7823908 (670)\ttotal: 29.1s\tremaining: 14.3s\n",
            "671:\tlearn: 0.7961017\ttest: 0.7824178\tbest: 0.7824178 (671)\ttotal: 29.1s\tremaining: 14.2s\n",
            "672:\tlearn: 0.7961372\ttest: 0.7824313\tbest: 0.7824313 (672)\ttotal: 29.2s\tremaining: 14.2s\n",
            "673:\tlearn: 0.7961608\ttest: 0.7824396\tbest: 0.7824396 (673)\ttotal: 29.2s\tremaining: 14.1s\n",
            "674:\tlearn: 0.7961955\ttest: 0.7824674\tbest: 0.7824674 (674)\ttotal: 29.2s\tremaining: 14.1s\n",
            "675:\tlearn: 0.7962382\ttest: 0.7824860\tbest: 0.7824860 (675)\ttotal: 29.3s\tremaining: 14s\n",
            "676:\tlearn: 0.7962830\ttest: 0.7825136\tbest: 0.7825136 (676)\ttotal: 29.3s\tremaining: 14s\n",
            "677:\tlearn: 0.7963207\ttest: 0.7825425\tbest: 0.7825425 (677)\ttotal: 29.4s\tremaining: 13.9s\n",
            "678:\tlearn: 0.7963600\ttest: 0.7825530\tbest: 0.7825530 (678)\ttotal: 29.4s\tremaining: 13.9s\n",
            "679:\tlearn: 0.7963847\ttest: 0.7825652\tbest: 0.7825652 (679)\ttotal: 29.5s\tremaining: 13.9s\n",
            "680:\tlearn: 0.7964230\ttest: 0.7825736\tbest: 0.7825736 (680)\ttotal: 29.5s\tremaining: 13.8s\n",
            "681:\tlearn: 0.7964632\ttest: 0.7826027\tbest: 0.7826027 (681)\ttotal: 29.5s\tremaining: 13.8s\n",
            "682:\tlearn: 0.7965013\ttest: 0.7826179\tbest: 0.7826179 (682)\ttotal: 29.6s\tremaining: 13.7s\n",
            "683:\tlearn: 0.7965311\ttest: 0.7826320\tbest: 0.7826320 (683)\ttotal: 29.6s\tremaining: 13.7s\n",
            "684:\tlearn: 0.7965733\ttest: 0.7826512\tbest: 0.7826512 (684)\ttotal: 29.7s\tremaining: 13.6s\n",
            "685:\tlearn: 0.7966018\ttest: 0.7826786\tbest: 0.7826786 (685)\ttotal: 29.7s\tremaining: 13.6s\n",
            "686:\tlearn: 0.7966398\ttest: 0.7827097\tbest: 0.7827097 (686)\ttotal: 29.8s\tremaining: 13.6s\n",
            "687:\tlearn: 0.7966687\ttest: 0.7827240\tbest: 0.7827240 (687)\ttotal: 29.8s\tremaining: 13.5s\n",
            "688:\tlearn: 0.7966951\ttest: 0.7827272\tbest: 0.7827272 (688)\ttotal: 29.8s\tremaining: 13.5s\n",
            "689:\tlearn: 0.7967190\ttest: 0.7827415\tbest: 0.7827415 (689)\ttotal: 29.9s\tremaining: 13.4s\n",
            "690:\tlearn: 0.7967543\ttest: 0.7827534\tbest: 0.7827534 (690)\ttotal: 29.9s\tremaining: 13.4s\n",
            "691:\tlearn: 0.7967749\ttest: 0.7827765\tbest: 0.7827765 (691)\ttotal: 30s\tremaining: 13.3s\n",
            "692:\tlearn: 0.7968130\ttest: 0.7828025\tbest: 0.7828025 (692)\ttotal: 30s\tremaining: 13.3s\n",
            "693:\tlearn: 0.7968508\ttest: 0.7828260\tbest: 0.7828260 (693)\ttotal: 30s\tremaining: 13.2s\n",
            "694:\tlearn: 0.7968770\ttest: 0.7828409\tbest: 0.7828409 (694)\ttotal: 30.1s\tremaining: 13.2s\n",
            "695:\tlearn: 0.7969220\ttest: 0.7828610\tbest: 0.7828610 (695)\ttotal: 30.1s\tremaining: 13.2s\n",
            "696:\tlearn: 0.7969484\ttest: 0.7828798\tbest: 0.7828798 (696)\ttotal: 30.2s\tremaining: 13.1s\n",
            "697:\tlearn: 0.7969719\ttest: 0.7828858\tbest: 0.7828858 (697)\ttotal: 30.2s\tremaining: 13.1s\n",
            "698:\tlearn: 0.7969980\ttest: 0.7828961\tbest: 0.7828961 (698)\ttotal: 30.3s\tremaining: 13s\n",
            "699:\tlearn: 0.7970220\ttest: 0.7829024\tbest: 0.7829024 (699)\ttotal: 30.3s\tremaining: 13s\n",
            "700:\tlearn: 0.7970499\ttest: 0.7829104\tbest: 0.7829104 (700)\ttotal: 30.3s\tremaining: 12.9s\n",
            "701:\tlearn: 0.7970783\ttest: 0.7829257\tbest: 0.7829257 (701)\ttotal: 30.4s\tremaining: 12.9s\n",
            "702:\tlearn: 0.7971162\ttest: 0.7829438\tbest: 0.7829438 (702)\ttotal: 30.4s\tremaining: 12.9s\n",
            "703:\tlearn: 0.7971363\ttest: 0.7829555\tbest: 0.7829555 (703)\ttotal: 30.5s\tremaining: 12.8s\n",
            "704:\tlearn: 0.7971554\ttest: 0.7829614\tbest: 0.7829614 (704)\ttotal: 30.5s\tremaining: 12.8s\n",
            "705:\tlearn: 0.7971800\ttest: 0.7829759\tbest: 0.7829759 (705)\ttotal: 30.5s\tremaining: 12.7s\n",
            "706:\tlearn: 0.7971982\ttest: 0.7829864\tbest: 0.7829864 (706)\ttotal: 30.6s\tremaining: 12.7s\n",
            "707:\tlearn: 0.7972260\ttest: 0.7829987\tbest: 0.7829987 (707)\ttotal: 30.6s\tremaining: 12.6s\n",
            "708:\tlearn: 0.7972602\ttest: 0.7830172\tbest: 0.7830172 (708)\ttotal: 30.7s\tremaining: 12.6s\n",
            "709:\tlearn: 0.7972947\ttest: 0.7830357\tbest: 0.7830357 (709)\ttotal: 30.7s\tremaining: 12.5s\n",
            "710:\tlearn: 0.7973225\ttest: 0.7830501\tbest: 0.7830501 (710)\ttotal: 30.8s\tremaining: 12.5s\n",
            "711:\tlearn: 0.7973422\ttest: 0.7830569\tbest: 0.7830569 (711)\ttotal: 30.8s\tremaining: 12.5s\n",
            "712:\tlearn: 0.7973697\ttest: 0.7830657\tbest: 0.7830657 (712)\ttotal: 30.8s\tremaining: 12.4s\n",
            "713:\tlearn: 0.7974044\ttest: 0.7830948\tbest: 0.7830948 (713)\ttotal: 30.9s\tremaining: 12.4s\n",
            "714:\tlearn: 0.7974467\ttest: 0.7831117\tbest: 0.7831117 (714)\ttotal: 30.9s\tremaining: 12.3s\n",
            "715:\tlearn: 0.7974850\ttest: 0.7831277\tbest: 0.7831277 (715)\ttotal: 31s\tremaining: 12.3s\n",
            "716:\tlearn: 0.7975161\ttest: 0.7831365\tbest: 0.7831365 (716)\ttotal: 31s\tremaining: 12.2s\n",
            "717:\tlearn: 0.7975505\ttest: 0.7831580\tbest: 0.7831580 (717)\ttotal: 31s\tremaining: 12.2s\n",
            "718:\tlearn: 0.7975866\ttest: 0.7831700\tbest: 0.7831700 (718)\ttotal: 31.1s\tremaining: 12.2s\n",
            "719:\tlearn: 0.7976131\ttest: 0.7831799\tbest: 0.7831799 (719)\ttotal: 31.1s\tremaining: 12.1s\n",
            "720:\tlearn: 0.7976329\ttest: 0.7832038\tbest: 0.7832038 (720)\ttotal: 31.2s\tremaining: 12.1s\n",
            "721:\tlearn: 0.7976531\ttest: 0.7832195\tbest: 0.7832195 (721)\ttotal: 31.2s\tremaining: 12s\n",
            "722:\tlearn: 0.7976936\ttest: 0.7832345\tbest: 0.7832345 (722)\ttotal: 31.3s\tremaining: 12s\n",
            "723:\tlearn: 0.7977200\ttest: 0.7832505\tbest: 0.7832505 (723)\ttotal: 31.3s\tremaining: 11.9s\n",
            "724:\tlearn: 0.7977621\ttest: 0.7832648\tbest: 0.7832648 (724)\ttotal: 31.3s\tremaining: 11.9s\n",
            "725:\tlearn: 0.7977907\ttest: 0.7832741\tbest: 0.7832741 (725)\ttotal: 31.4s\tremaining: 11.8s\n",
            "726:\tlearn: 0.7978243\ttest: 0.7832883\tbest: 0.7832883 (726)\ttotal: 31.4s\tremaining: 11.8s\n",
            "727:\tlearn: 0.7978576\ttest: 0.7833008\tbest: 0.7833008 (727)\ttotal: 31.5s\tremaining: 11.8s\n",
            "728:\tlearn: 0.7978835\ttest: 0.7833160\tbest: 0.7833160 (728)\ttotal: 31.5s\tremaining: 11.7s\n",
            "729:\tlearn: 0.7979152\ttest: 0.7833245\tbest: 0.7833245 (729)\ttotal: 31.6s\tremaining: 11.7s\n",
            "730:\tlearn: 0.7979441\ttest: 0.7833454\tbest: 0.7833454 (730)\ttotal: 31.6s\tremaining: 11.6s\n",
            "731:\tlearn: 0.7979728\ttest: 0.7833500\tbest: 0.7833500 (731)\ttotal: 31.6s\tremaining: 11.6s\n",
            "732:\tlearn: 0.7979984\ttest: 0.7833614\tbest: 0.7833614 (732)\ttotal: 31.7s\tremaining: 11.5s\n",
            "733:\tlearn: 0.7980326\ttest: 0.7833778\tbest: 0.7833778 (733)\ttotal: 31.7s\tremaining: 11.5s\n",
            "734:\tlearn: 0.7980664\ttest: 0.7833976\tbest: 0.7833976 (734)\ttotal: 31.8s\tremaining: 11.5s\n",
            "735:\tlearn: 0.7980834\ttest: 0.7834098\tbest: 0.7834098 (735)\ttotal: 31.8s\tremaining: 11.4s\n",
            "736:\tlearn: 0.7981185\ttest: 0.7834275\tbest: 0.7834275 (736)\ttotal: 31.9s\tremaining: 11.4s\n",
            "737:\tlearn: 0.7981377\ttest: 0.7834312\tbest: 0.7834312 (737)\ttotal: 31.9s\tremaining: 11.3s\n",
            "738:\tlearn: 0.7981648\ttest: 0.7834480\tbest: 0.7834480 (738)\ttotal: 31.9s\tremaining: 11.3s\n",
            "739:\tlearn: 0.7982064\ttest: 0.7834657\tbest: 0.7834657 (739)\ttotal: 32s\tremaining: 11.2s\n",
            "740:\tlearn: 0.7982249\ttest: 0.7834721\tbest: 0.7834721 (740)\ttotal: 32s\tremaining: 11.2s\n",
            "741:\tlearn: 0.7982555\ttest: 0.7834931\tbest: 0.7834931 (741)\ttotal: 32.1s\tremaining: 11.1s\n",
            "742:\tlearn: 0.7982761\ttest: 0.7835057\tbest: 0.7835057 (742)\ttotal: 32.1s\tremaining: 11.1s\n",
            "743:\tlearn: 0.7983091\ttest: 0.7835103\tbest: 0.7835103 (743)\ttotal: 32.1s\tremaining: 11.1s\n",
            "744:\tlearn: 0.7983400\ttest: 0.7835324\tbest: 0.7835324 (744)\ttotal: 32.2s\tremaining: 11s\n",
            "745:\tlearn: 0.7983669\ttest: 0.7835521\tbest: 0.7835521 (745)\ttotal: 32.2s\tremaining: 11s\n",
            "746:\tlearn: 0.7983922\ttest: 0.7835698\tbest: 0.7835698 (746)\ttotal: 32.3s\tremaining: 10.9s\n",
            "747:\tlearn: 0.7984170\ttest: 0.7835785\tbest: 0.7835785 (747)\ttotal: 32.3s\tremaining: 10.9s\n",
            "748:\tlearn: 0.7984584\ttest: 0.7836107\tbest: 0.7836107 (748)\ttotal: 32.3s\tremaining: 10.8s\n",
            "749:\tlearn: 0.7985010\ttest: 0.7836321\tbest: 0.7836321 (749)\ttotal: 32.4s\tremaining: 10.8s\n",
            "750:\tlearn: 0.7985218\ttest: 0.7836448\tbest: 0.7836448 (750)\ttotal: 32.4s\tremaining: 10.8s\n",
            "751:\tlearn: 0.7985634\ttest: 0.7836641\tbest: 0.7836641 (751)\ttotal: 32.5s\tremaining: 10.7s\n",
            "752:\tlearn: 0.7985918\ttest: 0.7836761\tbest: 0.7836761 (752)\ttotal: 32.5s\tremaining: 10.7s\n",
            "753:\tlearn: 0.7986338\ttest: 0.7836948\tbest: 0.7836948 (753)\ttotal: 32.6s\tremaining: 10.6s\n",
            "754:\tlearn: 0.7986733\ttest: 0.7837092\tbest: 0.7837092 (754)\ttotal: 32.6s\tremaining: 10.6s\n",
            "755:\tlearn: 0.7986961\ttest: 0.7837185\tbest: 0.7837185 (755)\ttotal: 32.7s\tremaining: 10.5s\n",
            "756:\tlearn: 0.7987329\ttest: 0.7837280\tbest: 0.7837280 (756)\ttotal: 32.7s\tremaining: 10.5s\n",
            "757:\tlearn: 0.7987654\ttest: 0.7837448\tbest: 0.7837448 (757)\ttotal: 32.7s\tremaining: 10.5s\n",
            "758:\tlearn: 0.7987956\ttest: 0.7837648\tbest: 0.7837648 (758)\ttotal: 32.8s\tremaining: 10.4s\n",
            "759:\tlearn: 0.7988277\ttest: 0.7837818\tbest: 0.7837818 (759)\ttotal: 32.8s\tremaining: 10.4s\n",
            "760:\tlearn: 0.7988650\ttest: 0.7837967\tbest: 0.7837967 (760)\ttotal: 32.9s\tremaining: 10.3s\n",
            "761:\tlearn: 0.7988890\ttest: 0.7838130\tbest: 0.7838130 (761)\ttotal: 32.9s\tremaining: 10.3s\n",
            "762:\tlearn: 0.7989272\ttest: 0.7838341\tbest: 0.7838341 (762)\ttotal: 32.9s\tremaining: 10.2s\n",
            "763:\tlearn: 0.7989605\ttest: 0.7838491\tbest: 0.7838491 (763)\ttotal: 33s\tremaining: 10.2s\n",
            "764:\tlearn: 0.7989992\ttest: 0.7838632\tbest: 0.7838632 (764)\ttotal: 33s\tremaining: 10.1s\n",
            "765:\tlearn: 0.7990291\ttest: 0.7838776\tbest: 0.7838776 (765)\ttotal: 33.1s\tremaining: 10.1s\n",
            "766:\tlearn: 0.7990529\ttest: 0.7838857\tbest: 0.7838857 (766)\ttotal: 33.1s\tremaining: 10.1s\n",
            "767:\tlearn: 0.7990909\ttest: 0.7839000\tbest: 0.7839000 (767)\ttotal: 33.2s\tremaining: 10s\n",
            "768:\tlearn: 0.7991250\ttest: 0.7839192\tbest: 0.7839192 (768)\ttotal: 33.2s\tremaining: 9.97s\n",
            "769:\tlearn: 0.7991520\ttest: 0.7839290\tbest: 0.7839290 (769)\ttotal: 33.2s\tremaining: 9.93s\n",
            "770:\tlearn: 0.7991957\ttest: 0.7839549\tbest: 0.7839549 (770)\ttotal: 33.3s\tremaining: 9.89s\n",
            "771:\tlearn: 0.7992169\ttest: 0.7839675\tbest: 0.7839675 (771)\ttotal: 33.3s\tremaining: 9.84s\n",
            "772:\tlearn: 0.7992349\ttest: 0.7839779\tbest: 0.7839779 (772)\ttotal: 33.4s\tremaining: 9.8s\n",
            "773:\tlearn: 0.7992557\ttest: 0.7839943\tbest: 0.7839943 (773)\ttotal: 33.4s\tremaining: 9.75s\n",
            "774:\tlearn: 0.7992862\ttest: 0.7840166\tbest: 0.7840166 (774)\ttotal: 33.4s\tremaining: 9.71s\n",
            "775:\tlearn: 0.7993122\ttest: 0.7840471\tbest: 0.7840471 (775)\ttotal: 33.5s\tremaining: 9.66s\n",
            "776:\tlearn: 0.7993397\ttest: 0.7840533\tbest: 0.7840533 (776)\ttotal: 33.5s\tremaining: 9.62s\n",
            "777:\tlearn: 0.7993563\ttest: 0.7840577\tbest: 0.7840577 (777)\ttotal: 33.6s\tremaining: 9.58s\n",
            "778:\tlearn: 0.7993781\ttest: 0.7840674\tbest: 0.7840674 (778)\ttotal: 33.6s\tremaining: 9.53s\n",
            "779:\tlearn: 0.7994071\ttest: 0.7840839\tbest: 0.7840839 (779)\ttotal: 33.6s\tremaining: 9.49s\n",
            "780:\tlearn: 0.7994419\ttest: 0.7841014\tbest: 0.7841014 (780)\ttotal: 33.7s\tremaining: 9.45s\n",
            "781:\tlearn: 0.7994671\ttest: 0.7840998\tbest: 0.7841014 (780)\ttotal: 33.7s\tremaining: 9.4s\n",
            "782:\tlearn: 0.7994863\ttest: 0.7840963\tbest: 0.7841014 (780)\ttotal: 33.8s\tremaining: 9.36s\n",
            "783:\tlearn: 0.7995142\ttest: 0.7841117\tbest: 0.7841117 (783)\ttotal: 33.8s\tremaining: 9.31s\n",
            "784:\tlearn: 0.7995396\ttest: 0.7841260\tbest: 0.7841260 (784)\ttotal: 33.8s\tremaining: 9.27s\n",
            "785:\tlearn: 0.7995829\ttest: 0.7841375\tbest: 0.7841375 (785)\ttotal: 33.9s\tremaining: 9.23s\n",
            "786:\tlearn: 0.7996111\ttest: 0.7841423\tbest: 0.7841423 (786)\ttotal: 33.9s\tremaining: 9.18s\n",
            "787:\tlearn: 0.7996395\ttest: 0.7841457\tbest: 0.7841457 (787)\ttotal: 34s\tremaining: 9.14s\n",
            "788:\tlearn: 0.7996777\ttest: 0.7841598\tbest: 0.7841598 (788)\ttotal: 34s\tremaining: 9.1s\n",
            "789:\tlearn: 0.7997044\ttest: 0.7841704\tbest: 0.7841704 (789)\ttotal: 34.1s\tremaining: 9.05s\n",
            "790:\tlearn: 0.7997326\ttest: 0.7841708\tbest: 0.7841708 (790)\ttotal: 34.1s\tremaining: 9.01s\n",
            "791:\tlearn: 0.7997587\ttest: 0.7841847\tbest: 0.7841847 (791)\ttotal: 34.1s\tremaining: 8.97s\n",
            "792:\tlearn: 0.7997947\ttest: 0.7842055\tbest: 0.7842055 (792)\ttotal: 34.2s\tremaining: 8.93s\n",
            "793:\tlearn: 0.7998386\ttest: 0.7842317\tbest: 0.7842317 (793)\ttotal: 34.2s\tremaining: 8.88s\n",
            "794:\tlearn: 0.7998688\ttest: 0.7842464\tbest: 0.7842464 (794)\ttotal: 34.3s\tremaining: 8.84s\n",
            "795:\tlearn: 0.7999048\ttest: 0.7842697\tbest: 0.7842697 (795)\ttotal: 34.3s\tremaining: 8.8s\n",
            "796:\tlearn: 0.7999431\ttest: 0.7842847\tbest: 0.7842847 (796)\ttotal: 34.4s\tremaining: 8.75s\n",
            "797:\tlearn: 0.7999679\ttest: 0.7842963\tbest: 0.7842963 (797)\ttotal: 34.4s\tremaining: 8.71s\n",
            "798:\tlearn: 0.7999946\ttest: 0.7843181\tbest: 0.7843181 (798)\ttotal: 34.4s\tremaining: 8.66s\n",
            "799:\tlearn: 0.8000319\ttest: 0.7843279\tbest: 0.7843279 (799)\ttotal: 34.5s\tremaining: 8.62s\n",
            "800:\tlearn: 0.8000606\ttest: 0.7843411\tbest: 0.7843411 (800)\ttotal: 34.5s\tremaining: 8.58s\n",
            "801:\tlearn: 0.8000883\ttest: 0.7843564\tbest: 0.7843564 (801)\ttotal: 34.6s\tremaining: 8.54s\n",
            "802:\tlearn: 0.8001263\ttest: 0.7843651\tbest: 0.7843651 (802)\ttotal: 34.6s\tremaining: 8.49s\n",
            "803:\tlearn: 0.8001441\ttest: 0.7843763\tbest: 0.7843763 (803)\ttotal: 34.7s\tremaining: 8.45s\n",
            "804:\tlearn: 0.8001762\ttest: 0.7843840\tbest: 0.7843840 (804)\ttotal: 34.7s\tremaining: 8.4s\n",
            "805:\tlearn: 0.8002060\ttest: 0.7843922\tbest: 0.7843922 (805)\ttotal: 34.7s\tremaining: 8.36s\n",
            "806:\tlearn: 0.8002324\ttest: 0.7844006\tbest: 0.7844006 (806)\ttotal: 34.8s\tremaining: 8.32s\n",
            "807:\tlearn: 0.8002787\ttest: 0.7844167\tbest: 0.7844167 (807)\ttotal: 34.8s\tremaining: 8.27s\n",
            "808:\tlearn: 0.8003080\ttest: 0.7844278\tbest: 0.7844278 (808)\ttotal: 34.9s\tremaining: 8.23s\n",
            "809:\tlearn: 0.8003348\ttest: 0.7844362\tbest: 0.7844362 (809)\ttotal: 34.9s\tremaining: 8.19s\n",
            "810:\tlearn: 0.8003630\ttest: 0.7844522\tbest: 0.7844522 (810)\ttotal: 34.9s\tremaining: 8.14s\n",
            "811:\tlearn: 0.8003946\ttest: 0.7844642\tbest: 0.7844642 (811)\ttotal: 35s\tremaining: 8.1s\n",
            "812:\tlearn: 0.8004199\ttest: 0.7844743\tbest: 0.7844743 (812)\ttotal: 35s\tremaining: 8.06s\n",
            "813:\tlearn: 0.8004547\ttest: 0.7844871\tbest: 0.7844871 (813)\ttotal: 35.1s\tremaining: 8.01s\n",
            "814:\tlearn: 0.8004736\ttest: 0.7844941\tbest: 0.7844941 (814)\ttotal: 35.1s\tremaining: 7.97s\n",
            "815:\tlearn: 0.8004996\ttest: 0.7845075\tbest: 0.7845075 (815)\ttotal: 35.2s\tremaining: 7.93s\n",
            "816:\tlearn: 0.8005248\ttest: 0.7845159\tbest: 0.7845159 (816)\ttotal: 35.2s\tremaining: 7.88s\n",
            "817:\tlearn: 0.8005509\ttest: 0.7845303\tbest: 0.7845303 (817)\ttotal: 35.2s\tremaining: 7.84s\n",
            "818:\tlearn: 0.8005792\ttest: 0.7845387\tbest: 0.7845387 (818)\ttotal: 35.3s\tremaining: 7.8s\n",
            "819:\tlearn: 0.8006015\ttest: 0.7845490\tbest: 0.7845490 (819)\ttotal: 35.3s\tremaining: 7.75s\n",
            "820:\tlearn: 0.8006255\ttest: 0.7845615\tbest: 0.7845615 (820)\ttotal: 35.4s\tremaining: 7.71s\n",
            "821:\tlearn: 0.8006538\ttest: 0.7845731\tbest: 0.7845731 (821)\ttotal: 35.4s\tremaining: 7.66s\n",
            "822:\tlearn: 0.8006778\ttest: 0.7845815\tbest: 0.7845815 (822)\ttotal: 35.4s\tremaining: 7.62s\n",
            "823:\tlearn: 0.8007134\ttest: 0.7845857\tbest: 0.7845857 (823)\ttotal: 35.5s\tremaining: 7.58s\n",
            "824:\tlearn: 0.8007473\ttest: 0.7845871\tbest: 0.7845871 (824)\ttotal: 35.5s\tremaining: 7.54s\n",
            "825:\tlearn: 0.8007771\ttest: 0.7846033\tbest: 0.7846033 (825)\ttotal: 35.6s\tremaining: 7.49s\n",
            "826:\tlearn: 0.8008051\ttest: 0.7846194\tbest: 0.7846194 (826)\ttotal: 35.6s\tremaining: 7.45s\n",
            "827:\tlearn: 0.8008319\ttest: 0.7846286\tbest: 0.7846286 (827)\ttotal: 35.6s\tremaining: 7.41s\n",
            "828:\tlearn: 0.8008463\ttest: 0.7846336\tbest: 0.7846336 (828)\ttotal: 35.7s\tremaining: 7.36s\n",
            "829:\tlearn: 0.8008755\ttest: 0.7846452\tbest: 0.7846452 (829)\ttotal: 35.7s\tremaining: 7.32s\n",
            "830:\tlearn: 0.8008932\ttest: 0.7846512\tbest: 0.7846512 (830)\ttotal: 35.8s\tremaining: 7.27s\n",
            "831:\tlearn: 0.8009192\ttest: 0.7846518\tbest: 0.7846518 (831)\ttotal: 35.8s\tremaining: 7.23s\n",
            "832:\tlearn: 0.8009559\ttest: 0.7846582\tbest: 0.7846582 (832)\ttotal: 35.9s\tremaining: 7.19s\n",
            "833:\tlearn: 0.8009860\ttest: 0.7846719\tbest: 0.7846719 (833)\ttotal: 35.9s\tremaining: 7.14s\n",
            "834:\tlearn: 0.8010132\ttest: 0.7846844\tbest: 0.7846844 (834)\ttotal: 35.9s\tremaining: 7.1s\n",
            "835:\tlearn: 0.8010386\ttest: 0.7846953\tbest: 0.7846953 (835)\ttotal: 36s\tremaining: 7.06s\n",
            "836:\tlearn: 0.8010682\ttest: 0.7847085\tbest: 0.7847085 (836)\ttotal: 36s\tremaining: 7.01s\n",
            "837:\tlearn: 0.8010939\ttest: 0.7847229\tbest: 0.7847229 (837)\ttotal: 36.1s\tremaining: 6.97s\n",
            "838:\tlearn: 0.8011265\ttest: 0.7847327\tbest: 0.7847327 (838)\ttotal: 36.1s\tremaining: 6.93s\n",
            "839:\tlearn: 0.8011649\ttest: 0.7847393\tbest: 0.7847393 (839)\ttotal: 36.1s\tremaining: 6.88s\n",
            "840:\tlearn: 0.8011979\ttest: 0.7847596\tbest: 0.7847596 (840)\ttotal: 36.2s\tremaining: 6.84s\n",
            "841:\tlearn: 0.8012290\ttest: 0.7847722\tbest: 0.7847722 (841)\ttotal: 36.2s\tremaining: 6.8s\n",
            "842:\tlearn: 0.8012575\ttest: 0.7847908\tbest: 0.7847908 (842)\ttotal: 36.3s\tremaining: 6.76s\n",
            "843:\tlearn: 0.8012999\ttest: 0.7847998\tbest: 0.7847998 (843)\ttotal: 36.3s\tremaining: 6.71s\n",
            "844:\tlearn: 0.8013253\ttest: 0.7848088\tbest: 0.7848088 (844)\ttotal: 36.4s\tremaining: 6.67s\n",
            "845:\tlearn: 0.8013565\ttest: 0.7848176\tbest: 0.7848176 (845)\ttotal: 36.4s\tremaining: 6.63s\n",
            "846:\tlearn: 0.8013850\ttest: 0.7848322\tbest: 0.7848322 (846)\ttotal: 36.5s\tremaining: 6.58s\n",
            "847:\tlearn: 0.8014094\ttest: 0.7848389\tbest: 0.7848389 (847)\ttotal: 36.5s\tremaining: 6.54s\n",
            "848:\tlearn: 0.8014450\ttest: 0.7848582\tbest: 0.7848582 (848)\ttotal: 36.5s\tremaining: 6.5s\n",
            "849:\tlearn: 0.8014815\ttest: 0.7848754\tbest: 0.7848754 (849)\ttotal: 36.6s\tremaining: 6.45s\n",
            "850:\tlearn: 0.8015139\ttest: 0.7848886\tbest: 0.7848886 (850)\ttotal: 36.6s\tremaining: 6.41s\n",
            "851:\tlearn: 0.8015466\ttest: 0.7848936\tbest: 0.7848936 (851)\ttotal: 36.7s\tremaining: 6.37s\n",
            "852:\tlearn: 0.8015791\ttest: 0.7849053\tbest: 0.7849053 (852)\ttotal: 36.7s\tremaining: 6.33s\n",
            "853:\tlearn: 0.8016012\ttest: 0.7849066\tbest: 0.7849066 (853)\ttotal: 36.7s\tremaining: 6.28s\n",
            "854:\tlearn: 0.8016267\ttest: 0.7849250\tbest: 0.7849250 (854)\ttotal: 36.8s\tremaining: 6.24s\n",
            "855:\tlearn: 0.8016549\ttest: 0.7849387\tbest: 0.7849387 (855)\ttotal: 36.8s\tremaining: 6.2s\n",
            "856:\tlearn: 0.8016785\ttest: 0.7849468\tbest: 0.7849468 (856)\ttotal: 36.9s\tremaining: 6.15s\n",
            "857:\tlearn: 0.8017149\ttest: 0.7849575\tbest: 0.7849575 (857)\ttotal: 36.9s\tremaining: 6.11s\n",
            "858:\tlearn: 0.8017391\ttest: 0.7849662\tbest: 0.7849662 (858)\ttotal: 37s\tremaining: 6.07s\n",
            "859:\tlearn: 0.8017640\ttest: 0.7849732\tbest: 0.7849732 (859)\ttotal: 37s\tremaining: 6.02s\n",
            "860:\tlearn: 0.8017933\ttest: 0.7849853\tbest: 0.7849853 (860)\ttotal: 37s\tremaining: 5.98s\n",
            "861:\tlearn: 0.8018223\ttest: 0.7849954\tbest: 0.7849954 (861)\ttotal: 37.1s\tremaining: 5.93s\n",
            "862:\tlearn: 0.8018517\ttest: 0.7850082\tbest: 0.7850082 (862)\ttotal: 37.1s\tremaining: 5.89s\n",
            "863:\tlearn: 0.8018818\ttest: 0.7850336\tbest: 0.7850336 (863)\ttotal: 37.2s\tremaining: 5.85s\n",
            "864:\tlearn: 0.8019148\ttest: 0.7850510\tbest: 0.7850510 (864)\ttotal: 37.2s\tremaining: 5.81s\n",
            "865:\tlearn: 0.8019441\ttest: 0.7850612\tbest: 0.7850612 (865)\ttotal: 37.3s\tremaining: 5.76s\n",
            "866:\tlearn: 0.8019838\ttest: 0.7850708\tbest: 0.7850708 (866)\ttotal: 37.3s\tremaining: 5.72s\n",
            "867:\tlearn: 0.8020091\ttest: 0.7850797\tbest: 0.7850797 (867)\ttotal: 37.3s\tremaining: 5.68s\n",
            "868:\tlearn: 0.8020447\ttest: 0.7851063\tbest: 0.7851063 (868)\ttotal: 37.4s\tremaining: 5.63s\n",
            "869:\tlearn: 0.8020678\ttest: 0.7851182\tbest: 0.7851182 (869)\ttotal: 37.4s\tremaining: 5.59s\n",
            "870:\tlearn: 0.8021035\ttest: 0.7851388\tbest: 0.7851388 (870)\ttotal: 37.5s\tremaining: 5.55s\n",
            "871:\tlearn: 0.8021343\ttest: 0.7851481\tbest: 0.7851481 (871)\ttotal: 37.5s\tremaining: 5.5s\n",
            "872:\tlearn: 0.8021502\ttest: 0.7851498\tbest: 0.7851498 (872)\ttotal: 37.5s\tremaining: 5.46s\n",
            "873:\tlearn: 0.8021797\ttest: 0.7851627\tbest: 0.7851627 (873)\ttotal: 37.6s\tremaining: 5.42s\n",
            "874:\tlearn: 0.8022084\ttest: 0.7851661\tbest: 0.7851661 (874)\ttotal: 37.6s\tremaining: 5.37s\n",
            "875:\tlearn: 0.8022246\ttest: 0.7851724\tbest: 0.7851724 (875)\ttotal: 37.7s\tremaining: 5.33s\n",
            "876:\tlearn: 0.8022421\ttest: 0.7851848\tbest: 0.7851848 (876)\ttotal: 37.7s\tremaining: 5.29s\n",
            "877:\tlearn: 0.8022678\ttest: 0.7852070\tbest: 0.7852070 (877)\ttotal: 37.7s\tremaining: 5.25s\n",
            "878:\tlearn: 0.8022990\ttest: 0.7852106\tbest: 0.7852106 (878)\ttotal: 37.8s\tremaining: 5.2s\n",
            "879:\tlearn: 0.8023379\ttest: 0.7852166\tbest: 0.7852166 (879)\ttotal: 37.8s\tremaining: 5.16s\n",
            "880:\tlearn: 0.8023709\ttest: 0.7852387\tbest: 0.7852387 (880)\ttotal: 37.9s\tremaining: 5.12s\n",
            "881:\tlearn: 0.8024012\ttest: 0.7852495\tbest: 0.7852495 (881)\ttotal: 37.9s\tremaining: 5.07s\n",
            "882:\tlearn: 0.8024246\ttest: 0.7852585\tbest: 0.7852585 (882)\ttotal: 38s\tremaining: 5.03s\n",
            "883:\tlearn: 0.8024525\ttest: 0.7852665\tbest: 0.7852665 (883)\ttotal: 38s\tremaining: 4.99s\n",
            "884:\tlearn: 0.8024808\ttest: 0.7852838\tbest: 0.7852838 (884)\ttotal: 38s\tremaining: 4.94s\n",
            "885:\tlearn: 0.8025125\ttest: 0.7852904\tbest: 0.7852904 (885)\ttotal: 38.1s\tremaining: 4.9s\n",
            "886:\tlearn: 0.8025420\ttest: 0.7852963\tbest: 0.7852963 (886)\ttotal: 38.1s\tremaining: 4.86s\n",
            "887:\tlearn: 0.8025742\ttest: 0.7852985\tbest: 0.7852985 (887)\ttotal: 38.2s\tremaining: 4.81s\n",
            "888:\tlearn: 0.8025983\ttest: 0.7853137\tbest: 0.7853137 (888)\ttotal: 38.2s\tremaining: 4.77s\n",
            "889:\tlearn: 0.8026255\ttest: 0.7853281\tbest: 0.7853281 (889)\ttotal: 38.3s\tremaining: 4.73s\n",
            "890:\tlearn: 0.8026547\ttest: 0.7853414\tbest: 0.7853414 (890)\ttotal: 38.3s\tremaining: 4.68s\n",
            "891:\tlearn: 0.8026914\ttest: 0.7853577\tbest: 0.7853577 (891)\ttotal: 38.3s\tremaining: 4.64s\n",
            "892:\tlearn: 0.8027101\ttest: 0.7853624\tbest: 0.7853624 (892)\ttotal: 38.4s\tremaining: 4.6s\n",
            "893:\tlearn: 0.8027442\ttest: 0.7853855\tbest: 0.7853855 (893)\ttotal: 38.4s\tremaining: 4.55s\n",
            "894:\tlearn: 0.8027592\ttest: 0.7853873\tbest: 0.7853873 (894)\ttotal: 38.5s\tremaining: 4.51s\n",
            "895:\tlearn: 0.8027943\ttest: 0.7854055\tbest: 0.7854055 (895)\ttotal: 38.5s\tremaining: 4.47s\n",
            "896:\tlearn: 0.8028294\ttest: 0.7854359\tbest: 0.7854359 (896)\ttotal: 38.5s\tremaining: 4.43s\n",
            "897:\tlearn: 0.8028650\ttest: 0.7854534\tbest: 0.7854534 (897)\ttotal: 38.6s\tremaining: 4.38s\n",
            "898:\tlearn: 0.8028978\ttest: 0.7854676\tbest: 0.7854676 (898)\ttotal: 38.6s\tremaining: 4.34s\n",
            "899:\tlearn: 0.8029293\ttest: 0.7854770\tbest: 0.7854770 (899)\ttotal: 38.7s\tremaining: 4.3s\n",
            "900:\tlearn: 0.8029571\ttest: 0.7854861\tbest: 0.7854861 (900)\ttotal: 38.7s\tremaining: 4.25s\n",
            "901:\tlearn: 0.8029862\ttest: 0.7855015\tbest: 0.7855015 (901)\ttotal: 38.8s\tremaining: 4.21s\n",
            "902:\tlearn: 0.8030184\ttest: 0.7855158\tbest: 0.7855158 (902)\ttotal: 38.8s\tremaining: 4.17s\n",
            "903:\tlearn: 0.8030534\ttest: 0.7855313\tbest: 0.7855313 (903)\ttotal: 38.8s\tremaining: 4.12s\n",
            "904:\tlearn: 0.8030922\ttest: 0.7855492\tbest: 0.7855492 (904)\ttotal: 38.9s\tremaining: 4.08s\n",
            "905:\tlearn: 0.8031134\ttest: 0.7855568\tbest: 0.7855568 (905)\ttotal: 38.9s\tremaining: 4.04s\n",
            "906:\tlearn: 0.8031325\ttest: 0.7855593\tbest: 0.7855593 (906)\ttotal: 39s\tremaining: 4s\n",
            "907:\tlearn: 0.8031687\ttest: 0.7855753\tbest: 0.7855753 (907)\ttotal: 39s\tremaining: 3.95s\n",
            "908:\tlearn: 0.8031998\ttest: 0.7855839\tbest: 0.7855839 (908)\ttotal: 39s\tremaining: 3.91s\n",
            "909:\tlearn: 0.8032225\ttest: 0.7855904\tbest: 0.7855904 (909)\ttotal: 39.1s\tremaining: 3.87s\n",
            "910:\tlearn: 0.8032465\ttest: 0.7856027\tbest: 0.7856027 (910)\ttotal: 39.1s\tremaining: 3.82s\n",
            "911:\tlearn: 0.8032698\ttest: 0.7856054\tbest: 0.7856054 (911)\ttotal: 39.2s\tremaining: 3.78s\n",
            "912:\tlearn: 0.8033013\ttest: 0.7856225\tbest: 0.7856225 (912)\ttotal: 39.2s\tremaining: 3.74s\n",
            "913:\tlearn: 0.8033311\ttest: 0.7856311\tbest: 0.7856311 (913)\ttotal: 39.3s\tremaining: 3.69s\n",
            "914:\tlearn: 0.8033628\ttest: 0.7856481\tbest: 0.7856481 (914)\ttotal: 39.3s\tremaining: 3.65s\n",
            "915:\tlearn: 0.8034071\ttest: 0.7856662\tbest: 0.7856662 (915)\ttotal: 39.3s\tremaining: 3.61s\n",
            "916:\tlearn: 0.8034288\ttest: 0.7856752\tbest: 0.7856752 (916)\ttotal: 39.4s\tremaining: 3.56s\n",
            "917:\tlearn: 0.8034504\ttest: 0.7856800\tbest: 0.7856800 (917)\ttotal: 39.4s\tremaining: 3.52s\n",
            "918:\tlearn: 0.8034751\ttest: 0.7856822\tbest: 0.7856822 (918)\ttotal: 39.5s\tremaining: 3.48s\n",
            "919:\tlearn: 0.8035114\ttest: 0.7856819\tbest: 0.7856822 (918)\ttotal: 39.5s\tremaining: 3.44s\n",
            "920:\tlearn: 0.8035434\ttest: 0.7856838\tbest: 0.7856838 (920)\ttotal: 39.6s\tremaining: 3.39s\n",
            "921:\tlearn: 0.8035728\ttest: 0.7856988\tbest: 0.7856988 (921)\ttotal: 39.6s\tremaining: 3.35s\n",
            "922:\tlearn: 0.8036097\ttest: 0.7856978\tbest: 0.7856988 (921)\ttotal: 39.7s\tremaining: 3.31s\n",
            "923:\tlearn: 0.8036281\ttest: 0.7857068\tbest: 0.7857068 (923)\ttotal: 39.7s\tremaining: 3.26s\n",
            "924:\tlearn: 0.8036607\ttest: 0.7857117\tbest: 0.7857117 (924)\ttotal: 39.7s\tremaining: 3.22s\n",
            "925:\tlearn: 0.8036839\ttest: 0.7857226\tbest: 0.7857226 (925)\ttotal: 39.8s\tremaining: 3.18s\n",
            "926:\tlearn: 0.8037053\ttest: 0.7857310\tbest: 0.7857310 (926)\ttotal: 39.8s\tremaining: 3.13s\n",
            "927:\tlearn: 0.8037188\ttest: 0.7857459\tbest: 0.7857459 (927)\ttotal: 39.8s\tremaining: 3.09s\n",
            "928:\tlearn: 0.8037422\ttest: 0.7857647\tbest: 0.7857647 (928)\ttotal: 39.9s\tremaining: 3.05s\n",
            "929:\tlearn: 0.8037657\ttest: 0.7857686\tbest: 0.7857686 (929)\ttotal: 39.9s\tremaining: 3s\n",
            "930:\tlearn: 0.8038003\ttest: 0.7857811\tbest: 0.7857811 (930)\ttotal: 40s\tremaining: 2.96s\n",
            "931:\tlearn: 0.8038297\ttest: 0.7857920\tbest: 0.7857920 (931)\ttotal: 40s\tremaining: 2.92s\n",
            "932:\tlearn: 0.8038593\ttest: 0.7858012\tbest: 0.7858012 (932)\ttotal: 40.1s\tremaining: 2.88s\n",
            "933:\tlearn: 0.8038868\ttest: 0.7858129\tbest: 0.7858129 (933)\ttotal: 40.1s\tremaining: 2.83s\n",
            "934:\tlearn: 0.8039103\ttest: 0.7858237\tbest: 0.7858237 (934)\ttotal: 40.1s\tremaining: 2.79s\n",
            "935:\tlearn: 0.8039460\ttest: 0.7858319\tbest: 0.7858319 (935)\ttotal: 40.2s\tremaining: 2.75s\n",
            "936:\tlearn: 0.8039689\ttest: 0.7858443\tbest: 0.7858443 (936)\ttotal: 40.2s\tremaining: 2.7s\n",
            "937:\tlearn: 0.8039969\ttest: 0.7858491\tbest: 0.7858491 (937)\ttotal: 40.3s\tremaining: 2.66s\n",
            "938:\tlearn: 0.8040169\ttest: 0.7858572\tbest: 0.7858572 (938)\ttotal: 40.3s\tremaining: 2.62s\n",
            "939:\tlearn: 0.8040528\ttest: 0.7858657\tbest: 0.7858657 (939)\ttotal: 40.4s\tremaining: 2.58s\n",
            "940:\tlearn: 0.8040804\ttest: 0.7858757\tbest: 0.7858757 (940)\ttotal: 40.4s\tremaining: 2.53s\n",
            "941:\tlearn: 0.8040971\ttest: 0.7858865\tbest: 0.7858865 (941)\ttotal: 40.4s\tremaining: 2.49s\n",
            "942:\tlearn: 0.8041228\ttest: 0.7858942\tbest: 0.7858942 (942)\ttotal: 40.5s\tremaining: 2.45s\n",
            "943:\tlearn: 0.8041536\ttest: 0.7858981\tbest: 0.7858981 (943)\ttotal: 40.5s\tremaining: 2.4s\n",
            "944:\tlearn: 0.8041782\ttest: 0.7859050\tbest: 0.7859050 (944)\ttotal: 40.6s\tremaining: 2.36s\n",
            "945:\tlearn: 0.8042049\ttest: 0.7859237\tbest: 0.7859237 (945)\ttotal: 40.6s\tremaining: 2.32s\n",
            "946:\tlearn: 0.8042316\ttest: 0.7859325\tbest: 0.7859325 (946)\ttotal: 40.6s\tremaining: 2.27s\n",
            "947:\tlearn: 0.8042550\ttest: 0.7859428\tbest: 0.7859428 (947)\ttotal: 40.7s\tremaining: 2.23s\n",
            "948:\tlearn: 0.8042788\ttest: 0.7859535\tbest: 0.7859535 (948)\ttotal: 40.7s\tremaining: 2.19s\n",
            "949:\tlearn: 0.8043008\ttest: 0.7859618\tbest: 0.7859618 (949)\ttotal: 40.8s\tremaining: 2.15s\n",
            "950:\tlearn: 0.8043339\ttest: 0.7859812\tbest: 0.7859812 (950)\ttotal: 40.8s\tremaining: 2.1s\n",
            "951:\tlearn: 0.8043568\ttest: 0.7859774\tbest: 0.7859812 (950)\ttotal: 40.9s\tremaining: 2.06s\n",
            "952:\tlearn: 0.8043819\ttest: 0.7859854\tbest: 0.7859854 (952)\ttotal: 40.9s\tremaining: 2.02s\n",
            "953:\tlearn: 0.8044145\ttest: 0.7859899\tbest: 0.7859899 (953)\ttotal: 40.9s\tremaining: 1.97s\n",
            "954:\tlearn: 0.8044482\ttest: 0.7860023\tbest: 0.7860023 (954)\ttotal: 41s\tremaining: 1.93s\n",
            "955:\tlearn: 0.8044748\ttest: 0.7860108\tbest: 0.7860108 (955)\ttotal: 41s\tremaining: 1.89s\n",
            "956:\tlearn: 0.8044995\ttest: 0.7860157\tbest: 0.7860157 (956)\ttotal: 41.1s\tremaining: 1.84s\n",
            "957:\tlearn: 0.8045326\ttest: 0.7860234\tbest: 0.7860234 (957)\ttotal: 41.1s\tremaining: 1.8s\n",
            "958:\tlearn: 0.8045529\ttest: 0.7860271\tbest: 0.7860271 (958)\ttotal: 41.2s\tremaining: 1.76s\n",
            "959:\tlearn: 0.8045711\ttest: 0.7860342\tbest: 0.7860342 (959)\ttotal: 41.2s\tremaining: 1.72s\n",
            "960:\tlearn: 0.8046036\ttest: 0.7860472\tbest: 0.7860472 (960)\ttotal: 41.2s\tremaining: 1.67s\n",
            "961:\tlearn: 0.8046402\ttest: 0.7860659\tbest: 0.7860659 (961)\ttotal: 41.3s\tremaining: 1.63s\n",
            "962:\tlearn: 0.8046711\ttest: 0.7860836\tbest: 0.7860836 (962)\ttotal: 41.3s\tremaining: 1.59s\n",
            "963:\tlearn: 0.8047078\ttest: 0.7860999\tbest: 0.7860999 (963)\ttotal: 41.4s\tremaining: 1.54s\n",
            "964:\tlearn: 0.8047373\ttest: 0.7861203\tbest: 0.7861203 (964)\ttotal: 41.4s\tremaining: 1.5s\n",
            "965:\tlearn: 0.8047660\ttest: 0.7861346\tbest: 0.7861346 (965)\ttotal: 41.5s\tremaining: 1.46s\n",
            "966:\tlearn: 0.8047994\ttest: 0.7861528\tbest: 0.7861528 (966)\ttotal: 41.5s\tremaining: 1.42s\n",
            "967:\tlearn: 0.8048198\ttest: 0.7861602\tbest: 0.7861602 (967)\ttotal: 41.5s\tremaining: 1.37s\n",
            "968:\tlearn: 0.8048473\ttest: 0.7861707\tbest: 0.7861707 (968)\ttotal: 41.6s\tremaining: 1.33s\n",
            "969:\tlearn: 0.8048856\ttest: 0.7861943\tbest: 0.7861943 (969)\ttotal: 41.6s\tremaining: 1.29s\n",
            "970:\tlearn: 0.8049085\ttest: 0.7862056\tbest: 0.7862056 (970)\ttotal: 41.7s\tremaining: 1.24s\n",
            "971:\tlearn: 0.8049345\ttest: 0.7862182\tbest: 0.7862182 (971)\ttotal: 41.7s\tremaining: 1.2s\n",
            "972:\tlearn: 0.8049618\ttest: 0.7862312\tbest: 0.7862312 (972)\ttotal: 41.7s\tremaining: 1.16s\n",
            "973:\tlearn: 0.8049914\ttest: 0.7862458\tbest: 0.7862458 (973)\ttotal: 41.8s\tremaining: 1.11s\n",
            "974:\tlearn: 0.8050177\ttest: 0.7862621\tbest: 0.7862621 (974)\ttotal: 41.8s\tremaining: 1.07s\n",
            "975:\tlearn: 0.8050432\ttest: 0.7862696\tbest: 0.7862696 (975)\ttotal: 41.9s\tremaining: 1.03s\n",
            "976:\tlearn: 0.8050759\ttest: 0.7862856\tbest: 0.7862856 (976)\ttotal: 41.9s\tremaining: 987ms\n",
            "977:\tlearn: 0.8051039\ttest: 0.7863043\tbest: 0.7863043 (977)\ttotal: 42s\tremaining: 944ms\n",
            "978:\tlearn: 0.8051338\ttest: 0.7863157\tbest: 0.7863157 (978)\ttotal: 42s\tremaining: 901ms\n",
            "979:\tlearn: 0.8051611\ttest: 0.7863282\tbest: 0.7863282 (979)\ttotal: 42s\tremaining: 858ms\n",
            "980:\tlearn: 0.8051819\ttest: 0.7863329\tbest: 0.7863329 (980)\ttotal: 42.1s\tremaining: 815ms\n",
            "981:\tlearn: 0.8052012\ttest: 0.7863418\tbest: 0.7863418 (981)\ttotal: 42.1s\tremaining: 772ms\n",
            "982:\tlearn: 0.8052239\ttest: 0.7863511\tbest: 0.7863511 (982)\ttotal: 42.2s\tremaining: 729ms\n",
            "983:\tlearn: 0.8052530\ttest: 0.7863584\tbest: 0.7863584 (983)\ttotal: 42.2s\tremaining: 686ms\n",
            "984:\tlearn: 0.8052776\ttest: 0.7863615\tbest: 0.7863615 (984)\ttotal: 42.2s\tremaining: 643ms\n",
            "985:\tlearn: 0.8053105\ttest: 0.7863796\tbest: 0.7863796 (985)\ttotal: 42.3s\tremaining: 600ms\n",
            "986:\tlearn: 0.8053343\ttest: 0.7863955\tbest: 0.7863955 (986)\ttotal: 42.3s\tremaining: 558ms\n",
            "987:\tlearn: 0.8053628\ttest: 0.7863986\tbest: 0.7863986 (987)\ttotal: 42.4s\tremaining: 515ms\n",
            "988:\tlearn: 0.8053963\ttest: 0.7864117\tbest: 0.7864117 (988)\ttotal: 42.4s\tremaining: 472ms\n",
            "989:\tlearn: 0.8054296\ttest: 0.7864116\tbest: 0.7864117 (988)\ttotal: 42.5s\tremaining: 429ms\n",
            "990:\tlearn: 0.8054596\ttest: 0.7864241\tbest: 0.7864241 (990)\ttotal: 42.5s\tremaining: 386ms\n",
            "991:\tlearn: 0.8054898\ttest: 0.7864206\tbest: 0.7864241 (990)\ttotal: 42.5s\tremaining: 343ms\n",
            "992:\tlearn: 0.8055112\ttest: 0.7864267\tbest: 0.7864267 (992)\ttotal: 42.6s\tremaining: 300ms\n",
            "993:\tlearn: 0.8055359\ttest: 0.7864430\tbest: 0.7864430 (993)\ttotal: 42.6s\tremaining: 257ms\n",
            "994:\tlearn: 0.8055623\ttest: 0.7864471\tbest: 0.7864471 (994)\ttotal: 42.7s\tremaining: 214ms\n",
            "995:\tlearn: 0.8055915\ttest: 0.7864516\tbest: 0.7864516 (995)\ttotal: 42.7s\tremaining: 172ms\n",
            "996:\tlearn: 0.8056260\ttest: 0.7864628\tbest: 0.7864628 (996)\ttotal: 42.8s\tremaining: 129ms\n",
            "997:\tlearn: 0.8056489\ttest: 0.7864739\tbest: 0.7864739 (997)\ttotal: 42.8s\tremaining: 85.8ms\n",
            "998:\tlearn: 0.8056851\ttest: 0.7864816\tbest: 0.7864816 (998)\ttotal: 42.8s\tremaining: 42.9ms\n",
            "999:\tlearn: 0.8057036\ttest: 0.7864928\tbest: 0.7864928 (999)\ttotal: 42.9s\tremaining: 0us\n",
            "bestTest = 0.7864928246\n",
            "bestIteration = 999\n"
          ],
          "name": "stdout"
        },
        {
          "output_type": "execute_result",
          "data": {
            "text/plain": [
              "<catboost.core.CatBoostClassifier at 0x7f86ebfacb90>"
            ]
          },
          "metadata": {
            "tags": []
          },
          "execution_count": 65
        }
      ]
    },
    {
      "cell_type": "code",
      "metadata": {
        "id": "2UwgKm9ucP8v"
      },
      "source": [
        "# Creating a submission file for catboost\n",
        "y_pred_cb = model.predict_proba(test_df[features])[:, 1]\n",
        "submit_cb = pd.read_csv(directory + 'sample_submission.csv')\n",
        "submit_cb['TARGET'] = y_pred_cb\n",
        "submit_cb.to_csv('cb_submission.csv', index = False)"
      ],
      "execution_count": null,
      "outputs": []
    },
    {
      "cell_type": "markdown",
      "metadata": {
        "id": "2HaiLsaZdJkU"
      },
      "source": [
        "This is the leaderboard score for the catboost model:\n",
        "\n",
        "![image.png](data:image/png;base64,iVBORw0KGgoAAAANSUhEUgAABhoAAACZCAYAAADZ2+D7AAAgAElEQVR4Ae3dCbAd15nY96k4qVQlKSdxKkl5SeJMpjwzduyxYzuZxIkTT8VLxvIkNTWyTdNW2SxaDFMUi7RG4SKRHA7JkKIoLqDEBSQkEBTFBQJ3ApQEEDtIAMQOEjuJfd+IfSNP6t+X33vn9ut+d8HDfe++9++qO/e+292nz/n1uRDn+/qc8yvJTQEFFFBAAQUUUEABBRRQQAEFFFBAAQUUUEABBRToUuBXujzP0xRQQAEFFFBAAQUUUEABBRRQQAEFFFBAAQUUUECBZKLBTqCAAgoooIACCiiggAIKKKCAAgoooIACCiiggAJdCxSJhlOnTydfGtgH7AP2AfuAfcA+YB+wD9gH7AP2AfuAfcA+YB+wD9gH7AP2AfuAfcA+0GkfKBINR48dS740sA/YB+wD9gH7gH3APmAfsA/YB+wD9gH7gH3APmAfsA/YB+wD9gH7gH2g0z7g1EldDwbxRAUUUEABBRRQQAEFFFBAAQUUUEABBRRQQAEFFDDRYB9QQAEFFFBAAQUUUEABBRRQQAEFFFBAAQUUUECBrgVMNHRN54kKKKCAAgoooIACCiiggAIKKKCAAgoooIACCihgosE+oIACCiiggAIKKKCAAgoooIACCiiggAIKKKCAAl0LmGjoms4TFVBAAQUUUEABBRRQQAEFFFBAAQUUUEABBRRQwESDfUABBRRQQAEFFFBAAQUUUEABBRRQQAEFFFBAAQW6FjDR0DWdJyqggAIKKKCAAgoooIACCiiggAIKKKCAAgoooICJBvuAAgoooIACCiiggAIKKKCAAgoooIACCiiggAIKdC1goqFrOk9UQAEFFFBAAQUUUEABBRRQQAEFFFBAAQUUUEABEw32AQUUUEABBRRQQAEFFFBAAQUUUEABBRRQQAEFFOhawERD13SeqIACCiiggAIKKKCAAgoooIACCiiggAIKKKCAAiYa7AMKKKCAAgoooIACCiiggAIKKKCAAgoo0LXA3v0H09IVa9Kc+Uuu6ItrcC03BRQYewImGsbePbFGCiiggAIKKKCAAgoooIACCiiggAIK9IUAgf8rnWAol3/w8JG+sLGSCkwkARMNE+lu21YFFFBAAQUUUEABBRRQQAEFFFBAAQVGUGDph6t7nmhgZIObAgqMLQETDWPrflgbBRRQQAEFFFBAAQUUUEABBRRQQAEF+kYgH22wc/fedPTYZ1fkRdn5tfoGyIoqMEEETDRMkBttMxVQQAEFFFBAAQUUUEABBRRQQAEFFBhpgTz4T5LhSm2UnV/rSl3HchVQoDsBEw3duXmWAgoooIACCiiggAIKKKCAAgoooIACE14gD/6baJjw3UGACSxgomEC33ybroACCiiggAIKKKCAAgoooIACCiigwOUImGi4HD3PVWD8CJhoGD/30pYooIACCiiggAIKKKCAAgoooIACCijQUwETDT3l9mIKjFkBEw1j9tZYMQUUUEABBRRQQAEFFFBAAQUUUEABBca2gImGsX1/rJ0CvRIw0dAraa+jgAIKKKCAAgoooIACCiiggAIKKKDAOBMw0TDObqjNUaBLARMNXcJ5mgIKKKCAAgoooIACCiiggAIKKKCAAhNdwETDRO8Btl+BhoCJBnuCAgoooIACCiiggAIKKKCAAgoooIACCnQlYKKhKzZPUmDcCZhoGHe31AYpoIACCiiggAIKKKCAAgoooIACCijQGwETDb1x9ioKjHUBEw1j/Q6NwfqdupTSa/tTWnei95XjmlybOrgpoIACCiiggAIKKKCAAgoooIACCoyugImG0fX36gqMFYFxnWh4fX9Kf31RSv/LkpSWHhsr5N3Vg/rTDtpDu0ZrO/95SlevSunPv5fSby1Iafnx3tVkzuGUfmNe49o3rE/pi95d2ispoIACCiiggAIKKKBAFwIHDhxIzz//fLrxxhvTV77ylXTrrbemt956K5040flTSx988EG644472npxbNX2xRdfpJ07d6Znn312oE7f/OY300svvZQOHjxYdUrTd8ePH0+vvvpq0Q7aQ7vaPffChQtpyZIl6YEHHkhXXXVVuuaaa9Jjjz2WNmzYkKjXcBvnrlq1Kj3yyCPpuuuuS1/96lfTXXfdlX7xi1+ks2fPDneq+yagAP1p3bp1RX+hn9Hf6Hcffvhhoi91ur355ptt/e74fW7ZsqWyeK7L9alH1Onuu+9O8+bNa9mH43fLvyX8XuO3x9/8G1O1nTx5Mk2aNKmtenMcx1dtcW3+zfC3VyXU+M5EQ72NexSYSALjOtHw0t5GUPovzk9pwZH+vq3Un3YQ4Kddo7WdvpTSH6xo1IOgP8H/Xm3vHEjp1+Y2rk2yg6SHmwIKKKCAAgoooIACCow9AYJzBBUJKBIULL++9a1vpd27d3dU8blz5w4pp1xu/M2x5e3SpUtFkoMgfRyXv1PXxYsX1wb9CaBGkDM/j88EIAns1m0kVh5//PHK61KfGTNmJOpXtZHc+P73v195LtcmuLtnz56qU/1uAgqcP38+/fSnP63tL5MnT24Z2C+zvfjii7XllX8LH3/8cfn0dDl9uNvfLb+5O++8s616c1xV8pNrz549u0jUlNvpb6/5NptoaPbwLwUmqoCJhj6582Ml0QDX3nMpPbQtpfcO93ZUAc/4vH0gpYc/SelI5w9h9MmdtpoKKKCAAgoooIACCvS/wKeffpquv/76Isj34IMPJv4m2Lhs2bJ08803F9/fc8896dix9oee8+Ty2rVra1/vvfdeuvbaa4uyFyxYMASRUQ4E9XlNnTq1eBKa4CIJD+pI4JA6U9fydvjw4XT77bcXxxDYJ6nAubzzVDbnkoRgtER5I1g5bdq04hiSGYxCoN179+5NU6ZMGagTT3aToMk3gsZPPfVUcS7JjF/+8pfFuVguXbo0feMb3yj2MdLBkQ253MT8TP959913iz5BP58+fXo6dOhQ8SKZxcgG+irf1yW2quTo18P99hjxQLlcc+PGjU1FMJKBfs5++jC/U/ovvx+SkdGHH3744XT69Ommc/lj/vz5A78RyuF3w7n8TvPf7Y4dO5rO5brUZbh6M6KIevEbrhrRsHLlyoFr8zvctGlTYTlnzpyBejNCo+rcpspMgD9MNEyAm2wTFWhDwERDG0hj4ZCxlGgYCx7WQQEFFFBAAQUUUEABBcamAAG+p59+ugjgVSUTCFpGcPGNN94YElzvplV5gPU73/lOOnKkeUg7AfsnnniiqBN1o475dvTo0YGEweuvv57vKur32muvFedWJRPycwmElssmOPm1r32tCFiWkwkEe5l6iWAnozzK08AwioJzea1Zs6apXvxBoiP2101ZM+Qkvxi3Avv37x8YdVNOJvAbIchPXyPhtXnz5hFxyBNpVQkvEgM33XRTcV1GDJU3+nVdHz516lS6//77i3P5nZSTIyQs+DeGNpV/t+XrlP/Ok4ck/8obyYP77ruvKLtsybH89mLEVt1UbeUyx/PfJhrG8921bQq0L9B3iYbjF1Oauiul69Y1pvD5f9Y3Fgc+VzGNTnnqJJ6Cv3NTSv94ZUpXrUrp6R0pUd5IbFtOp/TtTY1yf+/DlG76qDFdU/PzKCkdOp/Sv/k4pWvXprT46NAr1+0vJxpYDPnRTxvXoz0PbE1p37nW5WHAsbT/mjUpvbw3pUtfVpIyJ+9M6WurU/q/PmwcVzVyYPq+Rv3v2ZISUynlG2X94lBK3BccuM59W1LafiY/qvkz9aZOXPf/WNY4l3Uool5xdJ1N7KcZaz5L6ZYNg/eYe8K9qdrw5z5wPyibOnJ89A8sul10mjY9/mnDmPLoD4wAKbcp6tWuGwthU2d811dPIZni/nxjfX3b47q+K6CAAgoooIACCigw0gKMEIhEQlVgkYBnBO4J5I3E08DtBA0jIMnTyOWNOr3wwgtFUJFpYvLts88+K9ZDIJhJvTm2vNFO9pOIINgbG8dGIqGurXlwuOzFU9sEOWfOnFk5YoFAK4kVrl01ZU3Uw/eJIRDTi5X7YbQ+D57X9eU4tt13+igjgRjNsHr16iGnkWhjJMUNN9yQdu3aNWT/cH2Y+r799tvFb6BqerDhfrdDLpR9wXkx8qMqMcmhtIU21e0noUjiht8nI7Um+maiYaL3ANuvQEOgrxINbx1oLEDMOgXl1/+8JKV1pfXE8kTDc7tS+u3FQ89jceWqgH+7HYQEx3c2pfSrX64dkNeL776+NqU8CUIw+28satSjaq2Fuv15ouGpHSn9w2VD28IaDiQO8i0vj+mO/vb7Q88jcP3xyZT+zgdD92G26VReYkp3b24cR1LgWPYg0I4z1fXC5NfnpTStNAUr/3n+5I7GvtwtPpOoOHx+8Np5W8p2JIz+5Zr6+8A9yu8DpUb/4H78ZHdK/+2Coe3HZFtNomKwZoOfWrXpHy1PaX8pIdSJG4tvRz2/t23wuvGJxA9JIgzL9yeO8V0BBRRQQAEFFFBAgSspwNO9BL6rntCP6xIUJ4j39a9/vXKqojiunfd2gob5iAYC/5yTb+z/wQ9+UNS7/GR0PqqgbtRAnlxh0ebY8ieyy+XGMfm1n3vuufT55xVP0cXBpfdIUlRNWVM61D/HucDFixfTM888U/Rh3vm7vNHvI/HFuh9nzgzzRGD55Iq/W41m4JQY0UAfrUqGxW+HUQ11v6+KSxdf5aOnXnnllbrDhnzfKjGZO5GALP97MaRAv0gmGuwECiiAQN8kGuYeHgyw/qX5Kd23NSWSB7dvHFwk+Xc+aH6qPwLJ/83cxjEElL+7rXEeT4QT/CYgWxVMb7d7PLuzEdwmqcACxbMPpbT2REr/74bGwsV8zxP9sQ0XLOeYuv15ouGvLEgJA4LnGPDO37SFIDRWseXlcV4YMBrif/gy8cICyxj8tYUNn8k7UiIgHsmT8sLLVYkGFmbmOOpAwoORIzjgEYFv6rYoG8XBQtIsKM05v7sspRn7GkkNAuix8DWJmlj0OW9LnmgggUCyhHKo879YndKUnSnl7eD7P97SvKZE9A/az/X+1/cboxAYicBnyuN1w/rm88K26v253YMLVuOLM/fo+nWD3//TlYNJj07d8kQCiZjyiIsVx1PiPlPvqkREVZ39TgEFFFBAAQUUUECBkRQgoE6iYbhAZgQfOS4PzHdTD6YbIqlBWVVToESZsUYDT3tv3749vi6CiDyRTKCzao2GSJzcdtttQ6ZkikJ48jrWapg1a1Z8XUyFFHUbrp0ESVuZDRT65QcSFLHor/PEl3Um3t95Uivvg2UJ1i+hrw3Xn8vn1P3N9EtMH0QSoWo0A+eRDIg1Gpi+LE9u0Ieff/75oj51azTUXZvgfyw438lUUJzHlG0Y1I1WOHfuXJo0aVJxDKNEaAOjje66666irTfeeGMxkoHRGG4NARMN9gQFFECgLxINBFN/f0UjeFqVFJh1sBGwJphM4D+2CCQTdK06Lw8K39q8XlEU0fKd6X4ovxz05fkYkiAErO/aPDjFUF2wPC5Utz9PNJSTCZybJ2LyxEBeXtlg46nBZMNvLUiJp+VjI3hPQJy2ETDfeTb2VI9oyK9TDnAzjRA+jMJgWp/YImHxPy1pLp/9z+xs3DOm/2FaI7b8GnmigemESBZUJRPyJES5jXn/YDREPuKBkRQxauRvLWksgN2oRf3/3XU2JUbWYMa5+WgMzmKqLupIcoUkC1vepnbdSKBwDRIKJBby7ZFP6vflx/lZAQUUUEABBRRQQIErJcDUQwTxGCFAILFqYzHXO++8cyCQV3VMO9+1EzSMcnj6+p133immcWEqFxIhL7/8crr33nuL4CEL1S5ZsmTI08sxHQ31pd5VWz4qIZ96KZ7WxqPqae4oq51rcCwJEaZqYXFppqKhXBIcVdPKRNm+TwyBdn9T9EP6DdOb0T+73fIEQtXaDHm5BORj4WV+Zz/60Y+KPkzSr5M+TD+n//O7jcRe3e82v37+uZ3EZG7Jvwn8W0E9yy/q3+kojLwu4+mziYbxdDdtiwLdC/RFoqHVU9okIv5oc+Op9jyQnQeSy0FcyPKnyZki52D1fwMPqxuJhvJoirqT8sByHiyP4+v254kGno5vHujbOJtkCQFoRiYwFRJbXh6jDPKNMv75l4kSRh2U11uIRACjICgntvg+n5onvw6jOarqF+fHe5RDfcvTXsUx+Xt+jdyO0Sm0uyphwfmMrCDJwDFcM7boH39hXkrvHoxvB9+HC+gPHjX4iXUlGD3Di9EZ5Y2Ey82l9TnyNrXrtuFkSv/dwkZ7SCzERn9mPQjayXuMBIn9viuggAIKKKCAAgoo0AuBXiYa2gka5m0+ePBgYnqiq6++uiloyBPRzFlflUhoJwnQq0RD2EbAkwAvc+Q7tUt+lyfm5zw4Tp+t20Yq0dDOaIaoA/2T68bCztF/eb/11lvT8uXLhyyiHufm71H3OJ9APyOO6hKa+bl8bjcxmVsyvRvJDNZjYOQSIzJWrlyZbr755oEkCQvCT/TNRMNE7wG2X4GGQF8kGiIgzPQ2BNzb3do5L54AJ3DbyVz8UYeYOongLsFsAsmMLigH7eP4PLCcB8tb7c8TDVXncX4Eun9zfkrzvnRqdb1IlPBe3iIR0E6iIU/a8NQ+IzmwZcHiugWQ86mTqPO/XttoQ77uQ16nqrZwLAkP/KvawPknLg6OTsiPif6RJ2by68X+dvtdnVdeZvlzN24kcRiBQZvzBBHJJdpSHtlTvqZ/K6CAAgoooIACCihwJQUiGH6lRzS0GzSMtq5bt64IGBKk5GnoRYsWpbVr1xajHCJoyDRH5ae8x1KiYefOnUWd582bV4wYYWQG7Zk8eXLlYtHRdt/Hv0AeHL/SiYZORjMwkmjGjBnFqCH6K32VacR4MTKnkz7Mwuz8ZhnZw9oJMaqn6ndbdcfbTUzmlkyptmbNmiHFxSLY/P6G8x5y4jj9wkTDOL2xNkuBDgX6ItEQyYBywLtVWyNQPFwSIY5pN5hcvibT7VQtBk2wl2l0WJw5f7q/Kliel1m3PxINeRIhP4/PcQwBaNrFVldeY28jOF8XpK8LnMf3+YgGyqtb1JhpjXjCnqRDvuFStxg09+yH25unM6pqy95zKTG1EW2gXnVbJFTyOse9r+tXsb/dvhEjK/Jr1NUn/75TN85lxAQjJ/Lpk2IEBnaMenBTQAEFFFBAAQUUUGA0BCLRwBznzHVeteUBP55I7mbLyxhubQbKPnLkSDEfO0FB1kMgUJpvPKUcc7KXEySRaGA+97o52fP58fNFn/Opk0h01G2xrgVPfFNWuxvTtsT0M8w778iGduXG33F5cHzOnDm1DYw1RwjO8xvqZutkNANrN7CGA6OGCNiX+ygBe6Zx6iZgT5sff/zx4txW65R0kpjMLcv/HoQXi7YzOop61y2+HcdOhHcTDRPhLttGBVoL9EWiYdruRiC57snzumZGoJiFkpfUjGSLsoc7pq78/HumxWER4T9YkdJf/nKaHoLfJBzyRYirguV5OXX7I4lAefn0UPm5jGIgEZEfU1denBcB+PxJ/9gXCYVyID6+rwqokzxY81lKt2xI6X//YHDBbSyq1pbgWscvpjR1V2MaJ4Lk1J/jebHIc6ydUNWWoxdS+ntLG8f+4cdR8+Z36lQ1RVT0j3L74uzY326igampqHM303B16saaGUwVxfVIxOXTJtVNrRXt8l0BBRRQQAEFFFBAgSsp0E5gngA5Twrz6maO8zxoeM8999QmAKKdEVwlKL9///74uumdaVkIiDJVCsHP2GK6Fp6e3rVrV3zd9J4nPfLESR6wrAv+Xrx4sQhUdhOwxIEpnzi30yRFUwP8o+8F8um7eNq/HNCPBnab1Irz89EMdUH4ODbv208//fSQBB/HUc+XXnqp6MPDLSAfZZbfN23a1Na/JflvtNUIBBKPsS4DidO6LZKqrRzqzh9P35toGE9307Yo0L1AXyQaYkognuDmc7tbBIqHO4/gNMHa8oLH7V6j7jieKP/7XwbA/+ailD453TgyD5YTIC5vJERIelAn6h9bJBoisBzf5+/xRHueNMmvl5cX5410oiHKjXemTSIxQpKBujPlD0H14TaSNpEYyIP8VW1hiiqmD6LsfBqhvHzW3iD4zzGMOogt+sdIJRpi5E0+yiCu1el7O24xgoJ2f3i8MW1S3foQnV7f4xVQQAEFFFBAAQUU6FYgTyIQBKzaGIFAcPy2224rRhtUHTPcd50EDSknkh/DLeicjz4guRBbfq3FixfH103v8dR2OUnRTqA1H20xa9asgXJ5Ynrbtm3FVDG883fV1k7bqs7zu/EnEEmE++67r1hPoNzCs2fPJtb14LfH0/h1fap8Xv53jGYgSTjcKB3OyZMfwwXs6/owvz2mSvroo4+KtRHyesTnut9t7Oe908RkO6MV2jkmr8N4/5wnGnbu3puOHf/sirwoO7/WeHe1fQr0m0BfJBryp7evWTN0kdt8/31bB29BBJIJMLc6r5vFcwkGkwBgJMOiihETP97VCG7ngX/qSlKDOl29qrktBODv2tzYx/48MZAnGqpGErAg9u99GXDPn6ivCs4PCo3c1EmMSnhtf0qPfpoSiYJ8w+mfrWq06x8ua6yZEE/wkxx5tWLh5Fi/oZ3RGSz0jRfJjOXH8ys3Psc0Q5T14p7B/dE/ukk0MMribOm/87l2JFSqpnGK/XmbOnUbrH1KYURi46aPGgZMI8V0Um4KKKCAAgoooIACCoyWAAumEugkmDllypQhTzGzcCprJLD/Jz/5yZBgJ0FBAvR1G/vjKf52RjNQToxoIBFA0L5qI4lAncqjLHiCm6ex2Vc1PQvB25i+hSAuf+dblMvUMQRp8422sMgsZV9//fVpx44d+e5imif23X777enw4cNN+/gjr1s3T4MPKdAv+lognu5nZE4+siYaxdRF9G/2kxwrb/RH1lSo2/L+1s5T/Hmi7aGHHqqcFiwvszwqZ+PGjUVdqS8LMFdt8fsqJ/nyYxnFFFOMtRrNEOdF8pBpnVgbpbzxXUz51GrqtvK54/HvpR+ubkoA5MmAK/WZa7opoMDYEuiLRANkMV0P8/0/sHVwgWEC7CQRCDT/xrxG8DWII5DMvvJ5Ry4MPjXPU+BModTpdvh8Y3ogyv/dZSntzwK8fOY79uXB33zxX+pEYoFyePH51+cNTh1Ul2ggUH3jRynRdjbemaqI77leHuTuVaIhgt7UgXaQXIht9qHBAHyMKMgdfntxSutOxNGN9sQ9zUcH1LVly+mUKIO2M4pk65ejRyjxg2ODiZ3f+aA5CRL9o9NEw/wjjYW/uVd5v6FNUW9GYpDUCIa8P+RrKHTqNqjU6DNMT0W741U3fVR+np8VUEABBRRQQAEFFLjSAgQ5CQ7yYu0AnmxmY42DCMoTWM+nKIr93/3ud4vzWPCYwGd56yZoSJCeYD1Be5Ice/bsGSiba6xfv34gaFiVLIinuDl/6tSpA0+Lk1Rgmhq+rwuGknghQcExd9xxRxG05Jq8WNSWBAT7WBi3HOTNr/vggw+mffv2DdQbSxI1XJfz2w2glj39e/wIELQnuUd/IAhOv46+Rl+KYPvDDz+cTp/O/h/nlNLevXsT6zbQH+tGKkQio53RDKFKgiD6KL+V/Lr8u8C/D7G/HLDPfzu0h7LiN8K5JBmuu+66or11iQ/a32likrpTT5zid7t169YBS/79iGTp5ax1EUbj4X3v/oM9TzQcPHxkPNDZBgXGlUDfJBoIxMcT+wRVCfISsCVYz98EuPO1ELhLeSD5hvWNYziPtR4iKM+5+ToAnd7d53YP1oGy//qi5npRP47Jt1kHG0mRCA7HO3WingS++a4q0UAAm2Ay5fLKDTiHEQNYxVYXnI/9IzV1Ek/44xhtYZ0KLH5rwaA1yYBN2bpmcw8PJiCiLZyDI+WU7+lwbSHgn5/HPc6vXbU+RN4/KLu8xf58+iaOiaQXdSyvbUH7WAQ8HDg372/l/tCNW17PvC7lRFt+nJ8VUEABBRRQQAEFFOilAMHA6dOnF0E6AnXlF4HFqkRCrIfA8YxWINCYb90GDSmD4GkEJSmfzyzwHIF+viNoyFQs5Y3rUt8IiJbbw9+0N4Kg5fN5+jmCvFXn0tZjx46VTyvKI/g63HUpjyRFeSTFkML8YkII0I/oT1X9jO/oh1VP6Mf0RRxTtZ5CPvKgLqhfBcxvYsaMGU19mDrccsstTd9Nnjy5sg/nC57XtYkEHsH/qq2bxGSUw78F/JsQ1+Xfimuvvbbp77qkTJQxkd5JNvRiZAPXMMkwkXqWbe0ngb5JNIDKk/v3bGkseByBXN4JKD+zs/kpeo6PQDGBewLAd2waTApwHoFpyovFhru5cTxf89aBwYV583qxWC/7hj6Dk9LMg4NP2nMOizgzBdC2060TDTxR/9SOZgeC8owWYCqefBsuOM9xI5VooKy6+0Pd/unK5pEGUUfWFuCpfI7J7aruaau2VJVFub+/IqWNWYIjrp33j04SDZEgKScNolxGy3Av2J+3qa4/dOMW14rpmLhO1ZRacZzvCiiggAIKKKCAAgr0WoDA5Pz58xOLKEegjncCjEzhQvC+vPGUfoxo4Cnk8hzylxM05FrM+U5A86qrrmqqEwHEV199NbF4c91GfVetWlXUP28P7aOddUmGKI9rP/roo03BVepBkqDVdXmamlER5YQDltSpyjKu6/vEE+B3RL/K+zl9h/536NChSpAY0cA5CxcuHHJMN6MZohD6J7/5GAWQ/37ow4zs4d+Lui3akycFKYO/WZeiLsnGdbsZzZDXI65dZclv2k0BBRRQYFCgrxINUW2m5dl1NiWCw6wHMPQ/T+PIoe8sHsx5rJVQlWCIwHseIK76XDXdzqHzjbIp/1j9/0Y2VYpzOm1DFED9aQfXo11jZcvvT51zua540Q5emFzOlpd1pVwot9U9zu9PO23qxu1ynDxXAQUUUEABBRRQQItcSroAACAASURBVIFeCBCAZ2QCwXTeWwXFOf7MmTMtj7ucundap/xa1D9vT6sEQ34unwmKYsErppQqH1P3N3Pex7l1wdW6c/1+4gnQvzrpL/SvK92vOq1TftfKv71W/5bk517u5/zfjE5/t5d7bc9XQAEF+kWgLxMNVxL3chINV7Jelq2AAgoooIACCiiggAIKKKCAAgoooIACCiigwFgUMNEwFu+KdVJAAQUUUEABBRRQQAEFFFBAAQUUUEABBRRQoE8ETDT0yY2ymgoooIACCiiggAIKKKCAAgoooIACCiiggAIKjEUBEw1j8a5YJwUUUEABBRRQQAEFFFBAAQUUUEABBRRQQAEF+kTAREOf3CirqYACCiiggAIKKKCAAgoooIACCiiggAIKKKDAWBQw0TAW74p1UkABBRRQQAEFFFBAAQUUUEABBRRQQAEFFFCgTwRMNPTJjbKaCiiggAIKKKCAAgoooIACCiiggAIKKKCAAgqMRQETDWPxrlgnBRRQQAEFFFBAAQUUUEABBRRQQAEFFFBAAQX6RMBEQ5/cKKupgAIKKKCAAgoooIACCiiggAIKKKCAAgoooMBYFDDRMBbvinVSQAEFFFBAAQUUUEABBRRQQAEFFFBAAQUUUKBPBEw09MmNspoKKKCAAgoooIACCiiggAIKKKCAAgoooIACCoxFARMNY/GuWCcFFFBAAQUUUEABBRRQQAEFFFBAAQUUUEABBfpEwERDn9woq6mAAgoooIACCiiggAIKKKCAAgoooIACCiigwFgUMNEwFu+KdVJAAQUUUEABBRRQQAEFFFBAAQUUUEABBRRQoE8ETDT0yY2ymgoooIACCiiggAIKKKCAAgoooIACCiiggAIKjEUBEw1j8a5YJwUUUEABBRRQQAEFFFBAAQUUUEABBRRQQAEF+kTAREOf3CirqYACCiiggAIKKKCAAgoooIACCiiggAIKKKDAWBToi0TDyZMn01tvvZWWLFmSLl68OBYd+65Ox48fT6tWrUq892I7c/HzdM+ST9LX3vmo6XXj7E3p9S0H07Fz1fd167Ez6bqfbyiOGel6zvzkcPoPHpmbrn3343Th8y9GuvjLLi/aXjb74yWfpNnbj6Tzlz6/7GvUFVBl88OVu9JNczalo2er71VeVifH5uf5WQEFFFBAAQUUUEABBRRQQAEFFFBAAQX6T6AvEg2HDx9OL7zwQpo1a1Y6d+7cFVfudRD+ijeo4gL79u1LTz/9dOK9F9tn5y+mv/XC8vQrD86ufP2J781JX//5hnTi/KWm6nyw97P0Hz42L929+JOm70fiD4Lh/9b35qS//dMP08nSdUei/MstI9peZ/arkxen5fs+u9zLVJ5fZfNP3lyX/sunFqXdJ1v/Bjs5trICfqmAAgoooIACCiiggAIKKKCAAgoooIACfSPQF4kGNC9cuNCz0Qy9DsKPRm/pdRsj0UCygc+x8VT+iv0n0j+Yvmog6J+Pbohg+5VINDCG4eDp84nRFmNxq2s79Z28ZneRgPnNKe+nfafOj3j1q2w6SR50cuyIV94CFVBAAQUUUEABBRRQQAEFFFBAAQUUUKCnAn2TaOilSq+D8L1sW1yr122sSzREfQhsMyUQIwz+cO7mFBMZ1QXb47zx/N6q7Q8t21GMDpmydk9PGDpJHnRybE8q70UUUEABBRRQQAEFFFBAAQUUUEABBRRQ4IoJ9EWi4ezZs+mdd95JK1asGIA4duxY+tnPfpa2bNky8F18qAuiHzlyJM2bNy9NnTq1mDbotddeS1u3bk2ff954oj2uw5RC+Su/blwjf6cO1IXyP/744/Tyyy8X50+fPr2p/PwcrrVs2bJiSiiuxTmsmZBPDRVtpMx8Y3THe++9V1yTY/Lt0KFD6fnnn0/bt2/Pvx7yOTf69NNPE3WlHkxRtXLlyqZ60H6sTpw4MaQc2jFz5sy0ePHidOlS87RH+cGtEg0cG8f8V08tSjtPnC1Oz4Ptv9x+JP2FZ5YUwXUSEn9z2rL00eFT+WWKz9s/O5v+xTvr07/3yNziWKZl4ti5O482HZuXHTsYOcFUTbM+OZz+4I21iXNjuqDpGw8UiRAC/OWNxMhVb61L/8nj89OqAw2n0xcupe8t25H+7BMLB6aL4jPnt7O+QlX98uvGfqacyrc1B0+mv/vKyvTvfv+94rq883fZKpIBS/YcT//jT5YXbYsRJ1F2PpIkjs+nTqLd09bvK671z99en2gzWxy74cip9H//YsNAXf7ko/PSfe9/2lb78zb5WQEFFFBAAQUUUEABBRRQQAEFFFBAAQXGrsCESTQcPHiwCKKTsNi2bVvavXt3Wr58efrRj36U1q1bV9whAvgfffRRWrRoURF0553g/44dQwPL+S0l0UCgfuHChcU6Eps3b068uBbB+w0bmgPBJAfeeOONgeTCzp07iyQKyYaf//zn6cyZMwP1IaGwYMGCpmmjIgFB2eWEwtq1a2uTAnmdI9GAweuvv55Wr16dqAfJDxIxv/zlLwfqceDAgSJ5UZXUwRHDcj3ya/E5kggRyC7vj78JwpNEYIFotgh4/71XVqY/9+TCYiHpp1fvTr/36uoiCUDiYcdnjaQEx287dib92jOLi30cw9P+316wNf2pSfOLJMCybE2DKDsPpvOZYPhfnbo0/ec/XFAEzGMB5L2nzhWJjqo2bDl6pqgfAX2mNiKRwCLOrK/A9EYPL9+RWPfgL//4g6J9BNtbbVX1y8+J/QT4Y1u8+3jRTpIsXP+59XuLtS/4u2xFMoDEyF+c8n5ivYer315fLNhN/aPs3CaSB5FoqEsyUBeOxe93Xlox0P47F20rkjbc33baH23yXQEFFFBAAQUUUEABBRRQQAEFFFBAAQXGtsCESTR8+OGH6a233kqnTg0+Ac9IBgLsS5cubXqCP4LwvLezEYAn6E+i4eLFwfUHGJ1AwD5fxJqn/t9///0iGVAejcCICEZGEPz/4ovG5EGMZiARcPLkyYGqENRn5AHHUvc4NkY6lBMTAydmH6KNjFQo12Pv3r1F+ZGAOX/+fNGOcrlcl7q+/fbb6fTp01npQz+2m2iY+cnh9O88NCf9f18G4iPgTUCcIHps6Ny1aFsRyH9sxc74Oj2xalf6M08sTD/9eP/Ad3xYtPtYMVIhf/o/ys6D6XwmOcAC0flaEVEY5zPigXPzbeq6venffmhO4p2NUQV/6Ufvp38586Omp/cpk9EDv/Hs++nA6eHXVqiqX37NZ9fuKZIW0f6Ln3+Rbp2/tUh45Facw6gDXONYviMZQFtJSJRHWFRdu5xowJjREvlIhqhfXdlbj51J//XTi9tqf5TluwIKKKCAAgoooIACCiiggAIKKKCAAgqMbYEJkWggobBkyZJiih+m+mm1RRC+k0QDT/VXHU+igIRABPOPHj1ajGRg5ETVtmbNmqbEQkyFtGvXruJwgvskF2gPiQASGSQC2GKkQ3kERdV1oo3laZk4lmQIUyHlZVMmIy6of2wkF0gy5ImR2Fd+bzfRUA5wx99MS9RIvQyWvPbgyfSf/mBB8cT+4LfVn3gKnymQmA4pyomyy4kGAvIkPKq2BbuOpX//kbnplvmDU3Zd+PyL9Puvry0C/IxsaLURhGd0Rj4So+qcqvpxHPVfuOtY+i+eXNT2NaOsOxZuG7gU9cAPx/IWx+c2eaJhuCQDZXFsVUKGfSRr6q5brod/K6CAAgoooIACCiiggAIKKKCAAgoooMDYF5gQiQZuA+sQkAxgOiM+EySPkQDl2xRB+KrEQflY/o41GiKZkB9T3kfCgHowHVHVxmgCRkfEtRkVwXRKsU5ErIlAuSQhYm0IymKkw0svvVSsFVFVdv5dqzZu2rSpMkGSJzFoC+tB1LUlv167iQbWC2DqoghwVwW8o9xIHhDULm+Xvvgisf/tbYeKKYt+92eriumU8mmPqsrmunUBcq7BiIS/MW1Z8YoRD5uPnk5/+ocL07XvfjyQxMjrc/TsxWI0BtMYXffzDcU0TsNdI86N+v1Hj80rkgqRWIi1Fyjj1c2NKabinHhnhMInx8+kn206UEzb9NtfrsGQW+WJgzgv3uPacR/4Po7/7tLtxUiGr8xYnU6cr16XI46NaZaiXN5bGefH+lkBBRRQQAEFFFBAAQUUUEABBRRQQAEFxr7AhEk0kFRgPQHWRiCQz4vph1jTIJ/uiFvWKghfvq3lZEK+v7yv/Hd+bN21STLE6II8uZAnHWKkQxxXLrf8N21kXYmq5AjHluuJEVMnzZ07t/CK65EEyRewLl8n/m430fDihv3FdD68s1UFvKPMqkQDge988WGmBiIw/+vPLilGIlxuooFrEyhnVAOjG9hYB4JREG9uPRRVKxIOTFfEOgXUgRdrE7DQNUmJThINrBfB9Eb5i/UeDp25MHC9+LDn5Ln0f766pkiqxHVZn4F1Iqjj5SYaoh1ME8UUSEyFVLWZaKhS8TsFFFBAAQUUUEABBRRQQAEFFFBAAQXGp8CESTTkt48APU/js9gzCx+X11a4kokGRh0wCoCEQdVWdW0SJExbxBoOTHWUJxNIQjCNEiM0Zs6cWSROqsotf1d1nfyY8ogG9n3yyScDIya4HmteVE29lJcTn9tJNDAlEFMksR7DqgMnilM7STQwhdG/mvVREdD/Z2+tL8rgumyRlBiJRAN1o47/5r3NiWv+oxmr01+bujQdOTsY+J++8UCR4GDxZxIQB0+fHxjtQBC+k0RDPqogPKveaev/9uKK4rp/OHdz+vjwqWJhao4Nx8tNNPyJ781Jf7zkk0QiiARO3VoWJhqq7pDfKaCAAgoooIACCiiggAIKKKCAAgooMD4F+j7RUBXoJomQTz803K1jrYRy4L9VEL5cXvnp/3x/eV+sucD3VRvtydd04JgI6rN+A6MKYhol9tFWAv5MB8UIDerezhZtzKdCivPq1rRgQWoWpqaOJEzKazbE+VXv7SQaYsHmvz99VTp9oTElTwTIq4LtkTyI4PneU+eKp+x/56UVA+dHXeLYkUg0nLn4efq7r6wskgvzdh4t1hvI12zgmiyQnCdMoh68X6lEw4f7T6T/eNK8yimcwjGsoh6sW4FNeYvjc/c8eUBSiIQDozSqFpPOjy2XTZntJFrK5/m3AgoooIACCiiggAIKKKCAAgoooIACCoxNgb5NNDBdz6xZs4r1C86cGZy+hdEKs2fPbko08N38+fPT6tWrh6zLQNC8vK5BBOFZL6GdrZxMyM8p72MKIqYfYsqhvN6cc+rUqSJpwELMLMgcWwT+SUCQTCC5EBvBf6aDeu2119pe7Jpzo40YksjIN0ZOkERYtWpVkxfTJbHwM+tcMKoiplHKz637PFyigaD1u58cLtYhIDi/ePfxgWKqAt6xM5IHETw/cPp8+o1n309ViYZn1+4pguIjkWjg+lPX7S2e6P87L61omkYp6saCx1WJho1HTqc/80RnUyflwf4ov+o9FscurxWBLyMcmPYorDh/uGRAlXv5eNaBIMlAsoGkA9eJrXxsfM+7iYZcw88KKKCAAgoooIACCiiggAIKKKCAAgr0v0DfJhqgX7duXZFQIPDNyATWWyDgzlP/+YgGAuQkGZgmieD5iRMnihdJBgL3TKGUr9Nw9OjRItDOSAGe+K+b5ihufzmZEN/zXrWPID+BfIL8O3fuLOrCiASuR/2r1k1gBAFtYkQByYXYYu0E9i1durQpMRDHVL1TBxIsJDXefffdoh5cd+PGjcWICpIXOJU3pnFiMWuux1RK7W6RaPjPfrCgmB4p1hsgIP1nn1hYBMHZR8Ih36oC3rG/nGgg0M36DAS+Y+okpjn61+9uKEYdMNXPSCUathw9k/7ck416VyU23tl2uGnqpG3HzqTHVuxMf/7pRcXT/O080T9c28Mgf2cUCKNBaGdMnTR/17H0+6+vLRagHok1GsojIFgQm+mTaA8jUmIz0RASviuggAIKKKCAAgoooIACCiiggAIKKDD+Bfo60UCQneQCCQQC3wTvCewzEoG/CabHVj6W/Zy3bNmyysWMGTXAYskc1yqAX5VMiOvW7Tt8+HAxqoHy48Uoh6okA2XxPSMaWI+BEQ75RsKEMvKRDvn+qs/YUB5JFZI0YUg5jFTIkxn5+YwkoZ4kRKoSEfmx+edINMQCxfHOnP+/Onlx8UT88XON9RTy84YLtpcTDZzHYtBMW0S5cQ3Kf3XzwUSQfKQSDSQ1GDnANR5atiOvcvGZ/c+s2ZP+5KPzBurBoswPL9+R/vEbV2aNBi7MYtCMsiDZEu3/759fll7euL9IBpAAiG24ZECVe93xy/Z9Voze+LVnFidGbLDVHcs+RzTEHfBdAQUUUEABBRRQQAEFFFBAAQUUUECB8SHQ14mGuAUE3s+fP9/W0/wcy1RKvMoB+ygv3hkJQbmtjovju3mnfOpy4cLgQsLdlHO555CIaacekWholXy53Ppc7vkkNkhE7Dt1Pl36Ip/U53JLbpwfiYY//cOFafPR5qmn8iswvRBrR1AX1nbo1Xb0bKP9+SLUvbq211FAAQUUUEABBRRQQAEFFFBAAQUUUECBiSXQF4mGWAyZaY/cRleAURPTpk1LTKE0kbdYa4FpiS58PvKJjIlsa9sVUEABBRRQQAEFFFBAAQUUUEABBRRQoL8E+iLRsHDhwmJdgIke3B6trsXIjj179gys38DUSozEmIgb6xB8f/mO9JtT3i8WgZ6z4+hEZLDNCiiggAIKKKCAAgoooIACCiiggAIKKKDAgEBfJBpYsJl1CK7kFEYDIn4YIsCUSjNnzizWgRhu/YYhJ46zLxi3cNVb64q1D/7UpPlp2vp9ybEM4+wm2xwFFFBAAQUUUEABBRRQQAEFFFBAAQUU6FigLxINHbfKExRQQAEFFFBAAQUUUEABBRRQQAEFFFBAAQUUUKAnAiYaesLsRRRQQAEFFFBAAQUUUEABBRRQQAEFFFBAAQUUGJ8CJhrG5321VQoooIACCiiggAIKKKCAAgoooIACCiiggAIK9ETARENPmL2IAgoooIACCiiggAIKKKCAAgoooIACCiiggALjU8BEw/i8r7ZKAQUUUEABBRRQQAEFFFBAAQUUUEABBRRQQIGeCJho6AmzF1FAAQUUUEABBRRQQAEFFFBAAQUUUEABBRRQYHwKmGgYn/fVVimggAIKKKCAAgoooIACCiiggAIKKKCAAgoo0BMBEw09YfYiCiiggAIKKKCAAgoooIACCiiggAIKKKCAAgqMTwETDePzvtoqBRRQQAEFFFBAAQUUUEABBRRQQAEFFFBAAQV6ImCioSfMXkQBBRRQQAEFFFBAAQUUUEABBRRQQAEFFFBAgfEpYKJhfN5XW6WAAgoooIACCiiggAIKKKCAAgoooIACCiigQE8ETDT0hNmLKKCAAgoooIACCiiggAIKKKCAAgoooIACCigwPgVMNIzP+2qrFFBAAQUUUEABBRRQQAEFFFBAAQUUUEABBRToiYCJhp4wexEFFFBAAQUUUEABBRRQQAEFFFBAAQUUUEABBcangImG8XlfbZUCCiiggAIKKKCAAgoooIACCiiggAIKKKCAAj0RMNHQE2YvooACCiiggAIKKKCAAgoooIACCiiggAIKKKDA+BQw0TA+76utUkABBRRQQAEFFFBAAQUUUEABBRRQQAEFFFCgJwImGnrC7EUUUEABBRRQQAEFFFBAAQUUUEABBRRQQAEFFBifAiYaxud9tVUKKKCAAgoooIACCiiggAIKKKCAAgoooIACCvREwERDT5i9iAIKKKCAAgoooIACCiiggAIKKKCAAgoooIAC41PARMP4vK+2SgEFFFBAAQUUUEABBRRQQAEFFFBAAQUUUECBngiYaOgJsxdRQAEFFFBAAQUUUEABBRRQQAEFFFBAAQUUUGB8CphoGJ/31VYpoIACCiiggAIKKKCAAgoooIACCiiggAIKKNATARMNPWH2Igoo0K7AxYsX06lTp9IXX3zR7ikjctz58+fT2bNnR6QsC1FAAQUUUEABBRRQQAEFFFBAAQUUUGAiCfRlouHChQtp1apV6ZFHHknXXXdd+upXv5puueWW9NJLL6UDBw70PEBZ12HefPPNdMcddwx53Xvvvenll19OH3/8cbp06VLd6ePy+5MnT6ZJkyYVJnPnzm27jceOHSvuN54ffPBB2+ddzoFbtmwp6sl9vNxt37596YEHHkidlkWwfevWrenpp59ON954Y/rKV75SvD/77LNp586dI9rXo7/S7tHa6B848Zvu1X2mrfy78a1vfStdc801afPmzaPV/JbXpT/w7wb/huBEv3JTQAEFFFBAAQUUUEABBRRQQAEFFFBgtAX6LtGwa9eudPfddxcBV4Ku5RcBSgKmJCNGYuPp6vnz56eZM2d2/LTziy++OKR+5foSLCSI3m/bnj170vTp09PGjRs7qvqJEyfSnXfeWbjcd999icByO9vixYsHLDtJULRTdt0xBHS5X9zHy912796dvvGNb3RUFk/XT5s2baDdJBpItJBco170dZJrPIk/Elv0V9o9WtuRI0fSd77znaJ9v/jFL3pWjR07dqTrr7++MF29enXPrtvJhc6cOVP0B+4795/+RL9yU0ABBRRQQAEFFFBAAQUUUEABBRRQYLQF+irRwBPc3/zmN4tg4JQpU4qneWN6FYKty5YtSzfffHMRhCMIPhKjBSj3Bz/4QREcJ0jeyVYXuKVeBw8eTLSBgCHvI5UY6aR+l3NsBOE7DfrniQYCpu0EdQm4M3oFK16dXrPbdkYbRyPRQL9+4403ivY+9thjRX+JdrBv+/btiUQNHu++++6IjGyo669x3V6900doX/y2e3Xdw4cPp7179/b8uq3ahwN9kX/b+M08+eSTRbLVREMrOfcroIACCiiggAIKKKCAAgoooIACCvRKoG8SDQSbH3/88SLQ9t5779UGAwkW3nPPPelrX/taWrdu3WU7XolEQ1Tq9OnT6eGHH+7LJ5MjCN9p0D9PNBAkZ0qgVkmWTZs2FfdzIiUaeLL/tttuKwLKR48ejS7T9L5///4i8XbXXXelzz77rGlfN3+MlURDN3Ufz+fEaBgSDUwZx7+FJD9NNIznu27bFFBAAQUUUEABBRRQQAEFFFBAgf4S6JtEA0++8zQvAbZWU8XEsc8991z6/PPPm+4ITwcfOnQoMS3LCy+8ULzeeeedIWs7xJRJTE3D3O1Mq8LxjJRg5EQ7WzuB21bHkIxYuHBhMWUKQfmqulbVpZvz4hzq9MwzzxTXIsiZP1keUyY99dRTxdP03//+9wuT119/PdUFxPP6RaIBT9bV4J1pa+o27t9PfvKTItFAUma4EQ30i5UrVxbTE9FPqFM7T8YfP348zZ49uziPtTMI5pL8iGQKHlVbfr3wqls3IYLFdWWVy4/j6XO5f34cNtu2bUsfffRRYlqd2OIe1U1rxfdV017lfZH248DUTfyO8OHeVW38HuL+cwzHcs6rr77atI4E+5iGjH2UG87lMvPyyvva6aP5Oe0eH7/3uinSuAf0JdpJ38KKvlb3b1HeBhID/Iaj3Xzmu3Y37if/DtFP2bimiYZ29TxOAQUUUEABBRRQQAEFFFBAAQUUUKAXAn2RaCCgSpCORAPB31YbAc233nqrmFImD+gRoCNgRznxdHy88x3nxHRLEcyL/fl7u8HiPHBbVWeClwSSGX1RXoCXfbSVp5bza/OZutbNzd/teRs2bKi9FkmZcInge7lO7T5dzb1hjQZeBHUpZ9asWVU8xXfx1D5TJ8XxVaMoWLuD9QvK9eLvJ554ojJIjhVrP7AAcPm8yZMnpxUrVhTfV91vgr911yOInvc7GhKJg6qyqhrPFD433XRTeuihh9KpU6eqDqn9Lu5RlRMn8T3tLe+P/kq7MSubsDbEkiVLhiQ+OI/7zz6mNsvPu+qqq4oge0x7lu/jM85lqygPs3xrt4/GOZ0cH793+iV9NN9I4kydOrWpXdEOkpAs1l3eog3Lly+v7CesM0PCs52Nfsortqhru7+5OM93BRRQQAEFFFBAAQUUUEABBRRQQAEFrpRAXyQaCLTef//9xVQyTCnTzUagjrnsCRASIN68eXMRvON7gsYE/gg4832+RVCvKgCZH1f1OQK3dcmRTz/9tAjQsiB0eVFk6kF9CCZ++OGHiSeuo64PPvhg0Y4ZM2YMGbHRzXmsF3HrrbcW1+Ip7Ugq8D11ox7lNrQKZld58F2eaOAJcRb+HW5RaJIc3DMSAnUB8gMHDhSjTqgn02oRuMaKabRiHQxGYHAv842ptcI42s153Bfq9Ed/9EfFtbmP+Ua5t99+e3Fu3fXKa4R0mmiIfkfbaUM8zZ7Xo+5zq3tT5xj9leA5fYzfBR70PfogfbGqL3AeyTKSDNwv6k4fWrp0aXE8CQqm/eH3F/eGfsrvkKRZeZ0OyisH0Tvto50eH97l3zkjO6IP8c69x4R2cO/xoN1Y5VuY0G5GdvD7jj7JFHDcV0bqlEdc5WXUfY66lo3qjvd7BRRQQAEFFFBAAQUUUEABBRRQQAEFrrRAXyQaYr76SZMmpXPnznVlQrB0zZo1RdCQwHR5YxoXgn9MjZJvEdQrByDzY+o+R+CW6Y7Wrl078CKwyj6ClCQ4ykHKuCb7q9aZIGhJAqA87VC350VgumpkAU+iY1KuY5xTfiq+ziK+zxMNrCvw2muvVQabOZ52EvAnGUEfqAqQE6h95ZVXijLmzZtXBHPjWrxHoLgc0CZQzCgJjMvJJc6L5AV9gnsVG8HiqDPJifJGuQSSy/em00QD5VKHWPCZkQFMU8WUPBhSj7qt1b2pcqSs6K8kUQiolzd+PyQUyutqxHksXp3XK6wwLJ9D2fGb4/7lG+WVg+jRpnb7aKfHx2+n/Dvn90ebGeHBvS1vH3zwQdH3ykmDMGHkUSTu4txIVLEGRzeJ06hrJngjNgAADr9JREFU2SjK910BBRRQQAEFFFBAAQUUUEABBRRQQIFeC/RFoiGCtO2sz9AtIFPv3HDDDU1BZcqKoF45ANnOdSLYSKC16kVAlyfFCYbnG2sWEKgerr084U+ZeWKk2/MiKMuUP+WgaF6v/HOcczmJBgLmUeeqQHSstUFgn6B1VYCcQC2JiOEWRI7FpFlHgYQTG6MWvv71r1cGwNmfB8m5j7GRHOFaJCmqAs8cFwH03Cb6cF5WlDncO32De816Fnkf4m8SK1V1aHVvqhypQ/TXqmA+++O3UA5wcx6WmJa3umtxXJ0J5ZWvEW1qt492eny0Lf+dk8QigUCSivKqtkiGMQokT2DSBhIU5SnRKINrkbgot7Gq/Krvoq7dnl9Vpt8poIACCiiggAIKKKCAAgoooIACCihwOQJ9kWiI+eqHC7x3ikCwjjnS169fXwRsGSFAIJcAYb5FUC8PQOb7h/tMWZRZHtHA6AamXaFM9peflo5AdV3Al2tGkJZzqSNbt+cxLc8999xT1IUpc6hfq3UBIpCbB9OHs4h9+YgGPhNIJ8lQHgFQ9X1V0DoSBqzhUTcNTVyT0SMEhtl4Eh37OXPmRNWGvIdn3ifiegS8KbfqRZ+69tprm/pS3K+8rCEXHOYLEh8stk1y4d577y2C39Sf6Yc6HW1S5cilo79WjaKJqpHY4rp54J3z6oLeddeivDqTqvI67aOdHl/1O2dtBkaRtBp5QH1JRuSLb1e1IQzDus4sP67qc9S12/OryvQ7BRRQQAEFFFBAAQUUUEABBRRQQAEFLkegLxINESjuJtif48TT4d/+9reLYCkB03gRGCZYSIAw3yKo1821KasclC2X/fzzzxfHMLd9bMMFZ+OYMMmTL92eR5kEq2OanjBh7nkWyOZa5W2kEg2UWx65wHdVIx2q2hf1KN+3vL5V97CqrPwcPleVHd+F0XDveZ3qgurla7b7N/cknrZ/+OGH0+nTpwdOjTrSxqqtru2t+itlxbkLFiwYKJrz6oLecXxVXepM6srrtI92cnxVH4nfWKvffrQR99jq2tDu/jiu6j3qWmdedY7fKaCAAgoooIACCiiggAIKKKCAAgoocCUF+iLRwHQ3THtTNz1LGYinv3lynRef2UgyTJ06tQjqM0XSz372syLAvX///mL6mbqgZwT1WgUby3Xg73YCt1yfgD5PTvMENVsELquCs3GdWLei00RD1XlRZjw1z9P+jJRgEV8C6UwLg0++tQpm58fmn6uCtzH9TKzFwPE8OV9eV6HKJeqBdd0WT6bn97CqrPL5VWXHd6zDkK+7UfWZ9S1iq+tfsb+b9xj1UZ6iJ+pY13/q2t5Of41z81EPwwXV4/iqutSZDFdeJ30U03aPr/qdV/XVqvvEyCN+J7jHNlwbOKbV/iin6j3qaqKhSsfvFFBAAQUUUEABBRRQQAEFFFBAAQVGQ6AvEg3AxJoELBxbN0VOAMac/Pm0QjHlDQH9qmmBruQaDXkAMuoY71XBTKZgIcjOQrKRKInj45253wkw51MGdXtelFl+J5AdQdTyYretgtnlsuLvqvayjxEdBGu5z5F4YIQFn2OrClq3M61WLOycJ3Oi/sMZM60SdSIoHFsEx3P32Dfce5yXlzXc8SQpSF4cO3ZsuMMqk1nRtqrgPoVFu8r7qRvtJdFUtfG7o93lxMZwQfOqexZl15kMV16cG+/D9dE4Jn+vOz6C93kyiu/4N2S4gH5dErRVG1rtz+tc/hx1Ha5e5XP8WwEFFFBAAQUUUEABBRRQQAEFFFBAgSsp0DeJhphz/Zprrkn509RlHBbHJThIoD4PmEbwlQBf1caizOWgMsdFUC8PQFadX/Ud16JMrl23VY1oiAWOWTeBdpc3kg8skFwOCnd7HsFSAtu0tbxFMDgfOcEx4VkOVpfPL/9dl2gIBxZZXrJkSXH/ymtUVAWtud+cM1zQNZJU+cLZkXyoM45yy30iRkewkPfhw4fLzSv+5p6xnkKeJArHuv5XLigSPKzvkZeTHxcjGsojfeLeVCVDoj/TrvK9i/5atTA316W9tDsfecL3nFfnX3XPog11JlXlddpHOz0+XMq/80iAla2iDdFv77///qYEZlUb4pxWZvlxVZ+jrnXmVef4nQIKKKCAAgoooIACCiiggAIKKKCAAldSoG8SDSCQYCDRwJQ+y5YtS5cuXWqyIdBOkoEgKu8Ei2OLoCZT3uTfs58AaiyGTIAw3yKoRzB327Zt+a6WnymLutQlGghIUx+OyddoILD8xhtvFN8zgoOAcr6FQzlI3s15nMNT/SRmWGg4D2rzmQQM++pGNPz4xz8ech/yupY/1yUaeFo+1hy4+uqrhywOTTl1QWsSStSRex7TT8V1SaAwNVU5KMv1sMV++vTpTW2g3VhQJvvLfWK463H9SZMmFeey9kRs0f/KZcX+8nusUUG96T/5feFY+sSbb75ZXIdES96nI4nCb2XNmjUD58Y5fE+7ysHz6K9VfYFzw4u+mdeH88q+0Z66e8b+OpNyeVyrkz7a6fHUJX7n5URDWNKHtm/fHs0q3jGPf2+qLOtMOLncxqaCW/wRdR2u/BZFuFsBBRRQQAEFFFBAAQUUUEABBRRQQIERFeirRAMBRJ5Oj0ApCQeCrNOmTUss8ByB4QceeGDIlDMESqdMmVIEWAkmvvfee2nVqlVFwI9yfvjDHybWbiAAWN7mz59flM11eZqbAG87G2UR0CVIeccddzS9+I59vBgtUJ7OKQ9iUl+ecOdJf4696qqrimRL1ciObs5j0Vzqgx8OJHF4Pfnkk8W12JevN0DbSZLE4tHsx3zfvn0tWeoSDZwYU15hUvVUfV3QmoQTyQLOu/nmm4v1HUgGsCYH9wwv7mEeHOd6TEsUCaa777676BMYP/jgg+mmm25KjCagzHKfINBLn2Nf9Bm8WPeD6/M916bPxVYXVI/95Xfqmic7qN/LL79ctJNrc12uU3VvSKLMmDGj2M89veWWW4q+Rz+nvWFVFxyfPXt2sR4KCRM86Hv0Qa7H+eXpnIYLmtfdM9pbZ1JVXqd9tNPjI3hfTjRQz0js0Y9IrNG3GB2DKyaTJ09uSvRwTlUb8nvcan9+bPlz1NVEQ1nGvxVQQAEFFFBAAQUUUEABBRRQQAEFRkugrxINgcRTxgT3CPwR6IsXgT8SEXmAN87hnafNCdJGQoLzKOPtt99OrOFA4I4AYHkjkE2wNRIcBGDPnTtXPmzI35QVdSu/UxbBeQK5dfUlaUBAM64bZRAIJ5Bat3VzHuVRblyDd5weffTRhHfVxjmRbOD4qsRH+bzhEg3Um8QR181HA0QZwwWtMSSZEAH4aAeBY9auKCcZokwSJiQF8j5BsoBRBDEFUVWfqLse16ce5XtaF1SPelS9U2dMSTJEe+Kdfktfpv5VG8FoRh5E36F9jJ5hSqc6xzz4zUgWEhPl63H/ylt+Xnlf3bU4rs6krrxO+2gnx0fwvirRwH3YunVrU1/HBR9GIpXvNW2ra0P4tNofx1W9R11NNFTp+J0CCiiggAIKKKCAAgoooIACCiigwGgI9GWiIaBIALBYMMFPgtTtbgTqOIcXn9vd4nrM/97LjetFfTtpZzfnUX5cq10bzmFERl0wv5dWcY9oQyd1ij5Bf6KMdjfaHH2Q9ytlkN8X2tZuHwyPdu9l3u44l+t1c35e1kh+zi3aqVenx9fVlXtLn8Kj035SV6bfK6CAAgoooIACCiiggAIKKKCAAgooMB4E+jrRMB5ugG1QQAEFFFBAAQUUUEABBRRQQAEFFFBAAQUUUKCfBUw09PPds+4KKKCAAgoooIACCiiggAIKKKCAAgoooIACCoyygImGUb4BXl4BBRRQQAEFFFBAAQUUUEABBRRQQAEFFFBAgX4WMNHQz3fPuiuggAIKKKCAAgoooIACCiiggAIKKKCAAgooMMoCJhpG+QZ4eQUUUEABBRRQQAEFFFBAAQUUUEABBRRQQAEF+lnAREM/3z3rroACCiiggAIKKKCAAgoooIACCiiggAIKKKDAKAuYaBjlG+DlFVBAAQUUUEABBRRQQAEFFFBAAQUUUEABBRToZwETDf1896y7AgoooIACCiiggAIKKKCAAgoooIACCiiggAKjLGCiYZRvgJdXQAEFFFBAAQUUUEABBRRQQAEFFFBAAQUUUKCfBUw09PPds+4KKKCAAgoooIACCiiggAIKKKCAAgoooIACCoyygImGUb4BXl4BBRRQQAEFFFBAAQUUUEABBRRQQAEFFFBAgX4WMNHQz3fPuiuggAIKKKCAAgoooIACCiiggAIKKKCAAgooMMoCJhpG+QZ4eQUUUEABBRRQQAEFFFBAAQUUUEABBRRQQAEF+lnAREM/3z3rroACCiiggAIKKKCAAgoooIACCiiggAIKKKDAKAuYaBjlG+DlFVBAAQUUUEABBRRQQAEFFFBAAQUUUEABBRToZwETDf1896y7AgoooIACCiiggAIKKKCAAgoooIACCiiggAKjLGCiYZRvgJdXQAEFFFBAAQUUUEABBRRQQAEFFFBAAQUUUKCfBUw09PPds+4KKKCAAgoooIACCiiggAIKKKCAAgoooIACCoyygImGUb4BXl4BBRRQQAEFFFBAAQUUUEABBRRQQAEFFFBAgX4WMNHQz3fPuiuggAIKKKCAAgoooIACCiiggAIKKKCAAgooMMoCJhpG+QZ4eQUUUEABBRRQQAEFFFBAAQUUUEABBRRQQAEF+lnAREM/3z3rroACCiiggAIKKKCAAgoooIACCiiggAIKKKDAKAuYaBjlG+DlFVBAAQUUUEABBRRQQAEFFFBAAQUUUEABBRToZwETDf1896y7AgoooIACCiiggAIKKKCAAgoooIACCiiggAKjLGCiYZRvgJdXQAEFFFBAAQUUUEABBRRQQAEFFFBAAQUUUKCfBUw09PPds+4KKKCAAgoooIACCiiggAIKKKCAAgoooIACCoyygImGUb4BXl4BBRRQQAEFFFBAAQUUUEABBRRQQAEFFFBAgX4W+P8BqYOQckekQeMAAAAASUVORK5CYII=)"
      ]
    },
    {
      "cell_type": "markdown",
      "metadata": {
        "id": "ZlKpcnwN_OcF"
      },
      "source": [
        "### 7. Stacking Classifier"
      ]
    },
    {
      "cell_type": "markdown",
      "metadata": {
        "id": "UxyDswZLHIrL"
      },
      "source": [
        "For stacking, we will be using the following models:\n",
        "\n",
        "1. The LightGBM Model we used in the previous Experiement.\n",
        "2. A tuned XGBoost Model.\n",
        "3. A Catboost model\n",
        "\n",
        "For the Classifier we build on top of these based models, we will use Logistic Regression. "
      ]
    },
    {
      "cell_type": "code",
      "metadata": {
        "id": "im5rvs2lNNcE"
      },
      "source": [
        "# Parameters for each base model\n",
        "from xgboost import XGBClassifier\n",
        "from catboost import CatBoostClassifier\n",
        "\n",
        "# 1. LGBM Model 1\n",
        "model_1_params = {\n",
        "            'nthread': 4,\n",
        "            'n_estimators': 10000,\n",
        "            'learning_rate': .02,\n",
        "            'num_leaves': 34,\n",
        "            'colsample_bytree': .9497036,\n",
        "            'subsample': .8715623,\n",
        "            'max_depth': 8,\n",
        "            'reg_alpha': .041545473,\n",
        "            'reg_lambda': .0735294,\n",
        "            'min_split_gain': .0222415,\n",
        "            'min_child_weight': 39.3259775,\n",
        "            'silent': -1,\n",
        "            'verbose': -1\n",
        "            }\n",
        "\n",
        "model_1 = LGBMClassifier(**model_1_params)\n",
        "\n",
        "#2.  XGBoost Model\n",
        "model_2 = XGBClassifier(learning_rate =0.01, n_estimators=10000, max_depth=4, min_child_weight=5, subsample=0.8, colsample_bytree=0.8, objective= 'binary:logistic', \n",
        "            nthread=4, scale_pos_weight=2.5, seed=27, reg_lambda = 1.2, verbose = 5, gpu_hist = 0, tree_method = 'gpu_hist')\n",
        "\n",
        "# Model 3 : Cat_Boost Model\n",
        "catboost_params = {\n",
        "    'iterations': 1000,\n",
        "    'learning_rate': 0.01,\n",
        "    'depth': 7,\n",
        "    'l2_leaf_reg': 40,\n",
        "    'bootstrap_type': 'Bernoulli',\n",
        "    'subsample': 0.8,\n",
        "    'scale_pos_weight': 5,\n",
        "    'eval_metric': 'AUC',\n",
        "    'od_type': 'Iter',\n",
        "    'allow_writing_files': False,\n",
        "    'task_type' : 'GPU',\n",
        "     'devices' : '0:1'\n",
        "}\n",
        "\n",
        "model_3 = CatBoostClassifier(**catboost_params)\n",
        "\n",
        "meta_model = LogisticRegression(C = 0.01)"
      ],
      "execution_count": null,
      "outputs": []
    },
    {
      "cell_type": "code",
      "metadata": {
        "id": "McWA01OmwthD"
      },
      "source": [
        "# Initializing the Stacking Classifier\n",
        "from mlxtend.classifier import StackingCVClassifier\n",
        "\n",
        "stacked_clf = StackingCVClassifier(classifiers=[model_1, model_2, model_3], \n",
        "                            use_probas=True,\n",
        "                            use_features_in_secondary=True,\n",
        "                            meta_classifier=meta_model,\n",
        "                            cv=3)"
      ],
      "execution_count": null,
      "outputs": []
    },
    {
      "cell_type": "code",
      "metadata": {
        "id": "DZxiahrOQMGj"
      },
      "source": [
        "# Testing the Stacking Classifier first\n",
        "features = [f for f in train_df.columns if f not in ['TARGET','SK_ID_CURR','SK_ID_BUREAU','SK_ID_PREV','index']]\n",
        "X = train_df[features]\n",
        "Y = train_df['TARGET']\n",
        "\n",
        "X_train, X_val, y_train, y_val = train_test_split(X, Y, test_size = 0.2, stratify = Y)\n",
        "\n",
        "stacked_clf.fit(X_train.values, y_train.values)\n",
        "\n",
        "prediction = stacked_clf.predict_proba(X_val)\n",
        "auc = roc_auc_score(y_val, prediction[:, 1])\n",
        "print(\"The val AUC Score is : \",auc)"
      ],
      "execution_count": null,
      "outputs": []
    },
    {
      "cell_type": "markdown",
      "metadata": {
        "id": "BbTJBd9c643H"
      },
      "source": [
        "Due to some reason, I could not run this code snippet on colab. I kept the code running for 1 full day and still it kept running out of RAM. \n",
        "\n",
        "But if you have a powerful PC, please do test it. "
      ]
    },
    {
      "cell_type": "code",
      "metadata": {
        "id": "4gJtNj38TgD4"
      },
      "source": [
        "# Seperating all the categorical columns\n",
        "ss_fea = [f for f in df.columns if f.startswith('school_state')]\n",
        "data_ss = df[ss_fea]\n",
        "\n",
        "cc_fea = [f for f in df.columns if f.startswith('clean_categories')]\n",
        "data_cc = df[cc_fea]\n",
        "\n",
        "csc_fea = [f for f in df.columns if f.startswith('clean_subcategories')]\n",
        "data_csc = df[csc_fea]\n",
        "\n",
        "tp_fea = [f for f in df.columns if f.startswith('teacher_prefix')]\n",
        "data_tp = df[tp_fea]\n",
        "\n",
        "# Test data\n",
        "pgc_fea = [f for f in df.columns if f.startswith('project_grade_category')]\n",
        "data_pgc = df[pgc_fea]\n",
        "\n",
        "# Test data\n",
        "pgc_fea_test = [f for f in df_test.columns if f.startswith('project_grade_category')]\n",
        "data_pgc_test = df_test[pgc_fea_test]\n",
        "\n",
        "ss_fea_test = [f for f in df_test.columns if f.startswith('school_state')]\n",
        "data_ss_test = df_test[ss_fea_test]\n",
        "\n",
        "cc_fea_test = [f for f in df_test.columns if f.startswith('clean_categories')]\n",
        "data_cc_test = df_test[cc_fea_test]\n",
        "\n",
        "csc_fea_test = [f for f in df_test.columns if f.startswith('clean_subcategories')]\n",
        "data_csc_test = df_test[csc_fea_test]\n",
        "\n",
        "tp_fea_test = [f for f in df_test.columns if f.startswith('teacher_prefix')]\n",
        "data_tp_test = df_test[tp_fea_test]\n",
        "\n",
        "pgc_fea_test = [f for f in df_test.columns if f.startswith('project_grade_category')]\n",
        "data_pgc_test = df_test[pgc_fea_test]\n"
      ],
      "execution_count": null,
      "outputs": []
    },
    {
      "cell_type": "markdown",
      "source": [
        "# This marks the end of this project."
      ],
      "metadata": {
        "id": "viUyemV9KirJ"
      }
    }
  ]
}